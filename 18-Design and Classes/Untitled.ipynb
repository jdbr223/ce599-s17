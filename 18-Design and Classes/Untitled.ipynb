{
 "cells": [
  {
   "cell_type": "code",
   "execution_count": 1,
   "metadata": {
    "collapsed": false
   },
   "outputs": [
    {
     "name": "stdout",
     "output_type": "stream",
     "text": [
      "<class '__main__.point'>\n"
     ]
    }
   ],
   "source": [
    "class point(object):\n",
    "    \"\"\"Represents a 2D point in space\"\"\"\n",
    "print(point)"
   ]
  },
  {
   "cell_type": "code",
   "execution_count": 2,
   "metadata": {
    "collapsed": true
   },
   "outputs": [],
   "source": [
    "blank = point()"
   ]
  },
  {
   "cell_type": "code",
   "execution_count": 8,
   "metadata": {
    "collapsed": false
   },
   "outputs": [
    {
     "data": {
      "text/plain": [
       "<__main__.point at 0x48015d0>"
      ]
     },
     "execution_count": 8,
     "metadata": {},
     "output_type": "execute_result"
    }
   ],
   "source": [
    "blank "
   ]
  },
  {
   "cell_type": "code",
   "execution_count": 9,
   "metadata": {
    "collapsed": false
   },
   "outputs": [
    {
     "data": {
      "text/plain": [
       "'Blank is an instance'"
      ]
     },
     "execution_count": 9,
     "metadata": {},
     "output_type": "execute_result"
    }
   ],
   "source": [
    "\"\"\"Blank is an instance\"\"\""
   ]
  },
  {
   "cell_type": "code",
   "execution_count": 11,
   "metadata": {
    "collapsed": false
   },
   "outputs": [],
   "source": [
    "blank.x=3.0\n",
    "blank.y=4.0"
   ]
  },
  {
   "cell_type": "code",
   "execution_count": 13,
   "metadata": {
    "collapsed": false
   },
   "outputs": [
    {
     "name": "stdout",
     "output_type": "stream",
     "text": [
      "4.0\n"
     ]
    }
   ],
   "source": [
    "print(blank.y)"
   ]
  },
  {
   "cell_type": "code",
   "execution_count": 14,
   "metadata": {
    "collapsed": false
   },
   "outputs": [
    {
     "name": "stdout",
     "output_type": "stream",
     "text": [
      "3.0\n"
     ]
    }
   ],
   "source": [
    "x = blank.x\n",
    "print(x)"
   ]
  },
  {
   "cell_type": "code",
   "execution_count": 19,
   "metadata": {
    "collapsed": false
   },
   "outputs": [],
   "source": [
    "def print_point(p):\n",
    "    print ('(%g, %g)' % (p.x,p.y))"
   ]
  },
  {
   "cell_type": "code",
   "execution_count": 20,
   "metadata": {
    "collapsed": false
   },
   "outputs": [
    {
     "name": "stdout",
     "output_type": "stream",
     "text": [
      "(3, 4)\n"
     ]
    }
   ],
   "source": [
    "print_point(blank)"
   ]
  },
  {
   "cell_type": "code",
   "execution_count": 23,
   "metadata": {
    "collapsed": false
   },
   "outputs": [
    {
     "name": "stdout",
     "output_type": "stream",
     "text": [
      "<class '__main__.car'>\n"
     ]
    }
   ],
   "source": [
    "#This will be the class for the car\n",
    "class car(object):\n",
    "    \"\"\"\n",
    "    Shows the color, location, and direction of the vehicle in Azimuth\n",
    "    \"\"\""
   ]
  },
  {
   "cell_type": "code",
   "execution_count": 166,
   "metadata": {
    "collapsed": true
   },
   "outputs": [],
   "source": [
    "cary = car()\n",
    "carg = car()"
   ]
  },
  {
   "cell_type": "code",
   "execution_count": 167,
   "metadata": {
    "collapsed": false
   },
   "outputs": [],
   "source": [
    "#Yellow Car Base Stats\n",
    "cary.color = \"Yellow\"\n",
    "cary.location = point() #This is an embedded object\n",
    "cary.location.x = 0.0\n",
    "cary.location.y = 0.0\n",
    "cary.direction = 0"
   ]
  },
  {
   "cell_type": "code",
   "execution_count": 172,
   "metadata": {
    "collapsed": false
   },
   "outputs": [],
   "source": [
    "#Green Car Base Stats\n",
    "carg.color = \"Green\"\n",
    "carg.location = point() #This is an embedded object\n",
    "carg.location.x = 0.0\n",
    "carg.location.y = 0.0\n",
    "carg.direction = 0"
   ]
  },
  {
   "cell_type": "code",
   "execution_count": 169,
   "metadata": {
    "collapsed": false
   },
   "outputs": [],
   "source": [
    "def go(auto,p):\n",
    "    azimuth(auto)\n",
    "    if auto.direction == 0:\n",
    "        auto.location.y = auto.location.y+p\n",
    "        return print_car(auto)\n",
    "    elif auto.direction == 90:\n",
    "        auto.location.x = auto.location.x+p\n",
    "        return print_car(auto)\n",
    "    elif auto.direction == 180:\n",
    "        auto.location.y = auto.location.y-p\n",
    "        return print_car(auto)\n",
    "    elif auto.direction == 270:\n",
    "        auto.location.x = auto.location.x-p\n",
    "        return print_car(auto)\n",
    "    else:\n",
    "        return \"You just killed people.  Shame on you.  Enter a direction that is north = 0, east = 90, south = 180, or west = 270!\""
   ]
  },
  {
   "cell_type": "code",
   "execution_count": 173,
   "metadata": {
    "collapsed": false
   },
   "outputs": [
    {
     "name": "stdout",
     "output_type": "stream",
     "text": [
      "Color is  Green\n",
      "x =  0.0\n",
      "y =  3.0\n"
     ]
    }
   ],
   "source": [
    "go(carg,3)"
   ]
  },
  {
   "cell_type": "code",
   "execution_count": 177,
   "metadata": {
    "collapsed": false
   },
   "outputs": [],
   "source": [
    "turn_left(carg)"
   ]
  },
  {
   "cell_type": "code",
   "execution_count": 178,
   "metadata": {
    "collapsed": false
   },
   "outputs": [
    {
     "name": "stdout",
     "output_type": "stream",
     "text": [
      "Color is  Green\n",
      "x =  -3.0\n",
      "y =  6.0\n"
     ]
    }
   ],
   "source": [
    "go(carg,3)"
   ]
  },
  {
   "cell_type": "code",
   "execution_count": 179,
   "metadata": {
    "collapsed": true
   },
   "outputs": [],
   "source": [
    "turn_left(carg)"
   ]
  },
  {
   "cell_type": "code",
   "execution_count": 182,
   "metadata": {
    "collapsed": false
   },
   "outputs": [
    {
     "name": "stdout",
     "output_type": "stream",
     "text": [
      "Color is  Green\n",
      "x =  -3.0\n",
      "y =  -3.0\n"
     ]
    }
   ],
   "source": [
    "go(carg,3)"
   ]
  },
  {
   "cell_type": "code",
   "execution_count": 187,
   "metadata": {
    "collapsed": true
   },
   "outputs": [],
   "source": [
    "turn_right(carg)"
   ]
  },
  {
   "cell_type": "code",
   "execution_count": 190,
   "metadata": {
    "collapsed": false
   },
   "outputs": [
    {
     "name": "stdout",
     "output_type": "stream",
     "text": [
      "Color is  Green\n",
      "x =  -12.0\n",
      "y =  -3.0\n"
     ]
    }
   ],
   "source": [
    "go(carg,3)"
   ]
  },
  {
   "cell_type": "code",
   "execution_count": null,
   "metadata": {
    "collapsed": false
   },
   "outputs": [],
   "source": []
  },
  {
   "cell_type": "code",
   "execution_count": 52,
   "metadata": {
    "collapsed": true
   },
   "outputs": [],
   "source": [
    "def turn_left(auto):\n",
    "    auto.direction = auto.direction-90"
   ]
  },
  {
   "cell_type": "code",
   "execution_count": 53,
   "metadata": {
    "collapsed": false
   },
   "outputs": [],
   "source": [
    "def turn_right(auto):\n",
    "    auto.direction = auto.direction+90"
   ]
  },
  {
   "cell_type": "code",
   "execution_count": 128,
   "metadata": {
    "collapsed": true
   },
   "outputs": [],
   "source": [
    "def azimuth(auto):\n",
    "    if auto.direction >= 360:\n",
    "        while (auto.direction >= 360):\n",
    "            auto.direction = auto.direction-360\n",
    "    elif auto.direction < 0:\n",
    "        auto.direction = auto.direction + 360\n",
    "    else:\n",
    "        auto.direction = auto.direction\n",
    "    return auto"
   ]
  },
  {
   "cell_type": "code",
   "execution_count": 139,
   "metadata": {
    "collapsed": false
   },
   "outputs": [],
   "source": [
    "def print_car(auto):\n",
    "    print(\"Color is \" , auto.color)\n",
    "    print(\"x = \" , auto.location.x)\n",
    "    print(\"y = \" , auto.location.y)"
   ]
  },
  {
   "cell_type": "code",
   "execution_count": null,
   "metadata": {
    "collapsed": true
   },
   "outputs": [],
   "source": []
  }
 ],
 "metadata": {
  "anaconda-cloud": {},
  "kernelspec": {
   "display_name": "Python [conda root]",
   "language": "python",
   "name": "conda-root-py"
  },
  "language_info": {
   "codemirror_mode": {
    "name": "ipython",
    "version": 3
   },
   "file_extension": ".py",
   "mimetype": "text/x-python",
   "name": "python",
   "nbconvert_exporter": "python",
   "pygments_lexer": "ipython3",
   "version": "3.5.2"
  }
 },
 "nbformat": 4,
 "nbformat_minor": 1
}
