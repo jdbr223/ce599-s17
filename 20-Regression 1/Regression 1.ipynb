{
 "cells": [
  {
   "cell_type": "markdown",
   "metadata": {
    "collapsed": true
   },
   "source": [
    "# Regression Modeling, Part 1\n",
    "\n",
    "This lesson is adapted from a few sources: \n",
    "\n",
    "- The statsmodels tutorials: http://statsmodels.sourceforge.net/\n",
    "- General Assembly's Data Science Course: https://github.com/justmarkham/DAT4 \n",
    "- Urban Informatics and Visualization Course: https://github.com/waddell/urban-informatics-and-visualization\n",
    "\n",
    "\n",
    "### Motivation\n",
    "\n",
    "Why are we learning linear regression? \n",
    "\n",
    "It gives us a way to more formally understand the relationships between variables.  There are a few things in particular we may want to do: \n",
    "\n",
    "- inference: Identify whether the correlations are statistically significant. Of particular interest is the ability to control for confounding factors. \n",
    "- prediction: Change variables and predict the outcomes. \n",
    "\n",
    "\n",
    "### Structure and Assumptions\n",
    "\n",
    "The statistical model is assumed to be $Y = X\\beta + \\epsilon$, where $\\epsilon\\sim N\\left(0,\\sigma^{2}\\right)$\n",
    "\n",
    "We focus here on the simple Ordinary Least Squares (OLS) model that is the most widely used, but makes strong assumptions about the errors being indepentently and identically distributed (i.i.d.).  We won't get much into the theory/mathematics of these models.  There is plenty written about that, and it should have been covered in your stats classes.  Here, we will focus more on how to specify a good model.  \n",
    "\n",
    "For now, there are a few things to keep in mind: \n",
    "\n",
    "1. The response variable should be continuous. \n",
    "2. The terms should be linear, but they can include non-linear transformations. \n",
    "3. The residuals (or errors) should be random. \n",
    "\n",
    "\n",
    "### Libraries\n",
    "\n",
    "Will be using [Statsmodels](http://statsmodels.sourceforge.net/).  Start with: \n",
    "\n",
    "    conda install statsmodels\n",
    "    \n",
    "    "
   ]
  },
  {
   "cell_type": "markdown",
   "metadata": {},
   "source": [
    "### Today's objective\n",
    "\n",
    "Today, we will be looking at wage and salary data to understand the factors that increase or decrease wages.  In particular, we are interested in knowing the effect of getting a degree in civil engineering!  \n",
    "\n",
    "We'll be using the PUMS data.  The PUMS (Public-Use Microdata Sample) comes from the Census Bureau's American Community Survey (ACS).  Each record represents an individual person, rather than being aggregate tabulations as most Census tables are.  To protect the privacy of respondents, home locations are only known at very aggregate geographies (known as PUMAs).  You can find the data here: \n",
    "\n",
    "https://www.census.gov/programs-surveys/acs/data/pums.html\n",
    "\n",
    "I've downloaded the relevant table and documentation for you already. "
   ]
  },
  {
   "cell_type": "code",
   "execution_count": 1,
   "metadata": {
    "collapsed": true
   },
   "outputs": [],
   "source": [
    "import pandas as pd\n",
    "import seaborn as sns\n",
    "import numpy as np\n",
    "import statsmodels.formula.api as smf\n",
    "\n",
    "# this allows plots to appear directly in the notebook\n",
    "%matplotlib inline"
   ]
  },
  {
   "cell_type": "code",
   "execution_count": 2,
   "metadata": {
    "collapsed": false
   },
   "outputs": [
    {
     "data": {
      "text/html": [
       "<div>\n",
       "<table border=\"1\" class=\"dataframe\">\n",
       "  <thead>\n",
       "    <tr style=\"text-align: right;\">\n",
       "      <th></th>\n",
       "      <th>RT</th>\n",
       "      <th>SERIALNO</th>\n",
       "      <th>SPORDER</th>\n",
       "      <th>PUMA</th>\n",
       "      <th>ST</th>\n",
       "      <th>ADJINC</th>\n",
       "      <th>PWGTP</th>\n",
       "      <th>AGEP</th>\n",
       "      <th>CIT</th>\n",
       "      <th>CITWP</th>\n",
       "      <th>...</th>\n",
       "      <th>pwgtp71</th>\n",
       "      <th>pwgtp72</th>\n",
       "      <th>pwgtp73</th>\n",
       "      <th>pwgtp74</th>\n",
       "      <th>pwgtp75</th>\n",
       "      <th>pwgtp76</th>\n",
       "      <th>pwgtp77</th>\n",
       "      <th>pwgtp78</th>\n",
       "      <th>pwgtp79</th>\n",
       "      <th>pwgtp80</th>\n",
       "    </tr>\n",
       "  </thead>\n",
       "  <tbody>\n",
       "    <tr>\n",
       "      <th>0</th>\n",
       "      <td>P</td>\n",
       "      <td>4</td>\n",
       "      <td>1</td>\n",
       "      <td>100</td>\n",
       "      <td>21</td>\n",
       "      <td>1001264</td>\n",
       "      <td>112</td>\n",
       "      <td>56</td>\n",
       "      <td>1</td>\n",
       "      <td>NaN</td>\n",
       "      <td>...</td>\n",
       "      <td>84</td>\n",
       "      <td>112</td>\n",
       "      <td>43</td>\n",
       "      <td>155</td>\n",
       "      <td>158</td>\n",
       "      <td>165</td>\n",
       "      <td>161</td>\n",
       "      <td>23</td>\n",
       "      <td>118</td>\n",
       "      <td>88</td>\n",
       "    </tr>\n",
       "    <tr>\n",
       "      <th>1</th>\n",
       "      <td>P</td>\n",
       "      <td>4</td>\n",
       "      <td>2</td>\n",
       "      <td>100</td>\n",
       "      <td>21</td>\n",
       "      <td>1001264</td>\n",
       "      <td>108</td>\n",
       "      <td>57</td>\n",
       "      <td>1</td>\n",
       "      <td>NaN</td>\n",
       "      <td>...</td>\n",
       "      <td>92</td>\n",
       "      <td>86</td>\n",
       "      <td>37</td>\n",
       "      <td>163</td>\n",
       "      <td>156</td>\n",
       "      <td>171</td>\n",
       "      <td>170</td>\n",
       "      <td>22</td>\n",
       "      <td>124</td>\n",
       "      <td>83</td>\n",
       "    </tr>\n",
       "    <tr>\n",
       "      <th>2</th>\n",
       "      <td>P</td>\n",
       "      <td>39</td>\n",
       "      <td>1</td>\n",
       "      <td>1706</td>\n",
       "      <td>21</td>\n",
       "      <td>1001264</td>\n",
       "      <td>58</td>\n",
       "      <td>66</td>\n",
       "      <td>1</td>\n",
       "      <td>NaN</td>\n",
       "      <td>...</td>\n",
       "      <td>57</td>\n",
       "      <td>94</td>\n",
       "      <td>16</td>\n",
       "      <td>17</td>\n",
       "      <td>17</td>\n",
       "      <td>17</td>\n",
       "      <td>93</td>\n",
       "      <td>58</td>\n",
       "      <td>60</td>\n",
       "      <td>61</td>\n",
       "    </tr>\n",
       "    <tr>\n",
       "      <th>3</th>\n",
       "      <td>P</td>\n",
       "      <td>39</td>\n",
       "      <td>2</td>\n",
       "      <td>1706</td>\n",
       "      <td>21</td>\n",
       "      <td>1001264</td>\n",
       "      <td>85</td>\n",
       "      <td>28</td>\n",
       "      <td>1</td>\n",
       "      <td>NaN</td>\n",
       "      <td>...</td>\n",
       "      <td>100</td>\n",
       "      <td>134</td>\n",
       "      <td>23</td>\n",
       "      <td>24</td>\n",
       "      <td>23</td>\n",
       "      <td>22</td>\n",
       "      <td>141</td>\n",
       "      <td>80</td>\n",
       "      <td>92</td>\n",
       "      <td>79</td>\n",
       "    </tr>\n",
       "    <tr>\n",
       "      <th>4</th>\n",
       "      <td>P</td>\n",
       "      <td>39</td>\n",
       "      <td>3</td>\n",
       "      <td>1706</td>\n",
       "      <td>21</td>\n",
       "      <td>1001264</td>\n",
       "      <td>78</td>\n",
       "      <td>10</td>\n",
       "      <td>1</td>\n",
       "      <td>NaN</td>\n",
       "      <td>...</td>\n",
       "      <td>72</td>\n",
       "      <td>118</td>\n",
       "      <td>24</td>\n",
       "      <td>23</td>\n",
       "      <td>27</td>\n",
       "      <td>20</td>\n",
       "      <td>109</td>\n",
       "      <td>100</td>\n",
       "      <td>77</td>\n",
       "      <td>77</td>\n",
       "    </tr>\n",
       "  </tbody>\n",
       "</table>\n",
       "<p>5 rows × 284 columns</p>\n",
       "</div>"
      ],
      "text/plain": [
       "  RT  SERIALNO  SPORDER  PUMA  ST   ADJINC  PWGTP  AGEP  CIT  CITWP   ...     \\\n",
       "0  P         4        1   100  21  1001264    112    56    1    NaN   ...      \n",
       "1  P         4        2   100  21  1001264    108    57    1    NaN   ...      \n",
       "2  P        39        1  1706  21  1001264     58    66    1    NaN   ...      \n",
       "3  P        39        2  1706  21  1001264     85    28    1    NaN   ...      \n",
       "4  P        39        3  1706  21  1001264     78    10    1    NaN   ...      \n",
       "\n",
       "   pwgtp71  pwgtp72  pwgtp73  pwgtp74  pwgtp75  pwgtp76  pwgtp77  pwgtp78  \\\n",
       "0       84      112       43      155      158      165      161       23   \n",
       "1       92       86       37      163      156      171      170       22   \n",
       "2       57       94       16       17       17       17       93       58   \n",
       "3      100      134       23       24       23       22      141       80   \n",
       "4       72      118       24       23       27       20      109      100   \n",
       "\n",
       "   pwgtp79  pwgtp80  \n",
       "0      118       88  \n",
       "1      124       83  \n",
       "2       60       61  \n",
       "3       92       79  \n",
       "4       77       77  \n",
       "\n",
       "[5 rows x 284 columns]"
      ]
     },
     "execution_count": 2,
     "metadata": {},
     "output_type": "execute_result"
    }
   ],
   "source": [
    "# get the data\n",
    "df = pd.read_csv('data/ss15pky.csv')\n",
    "df.head()"
   ]
  },
  {
   "cell_type": "code",
   "execution_count": 3,
   "metadata": {
    "collapsed": false
   },
   "outputs": [
    {
     "data": {
      "text/plain": [
       "21558"
      ]
     },
     "execution_count": 3,
     "metadata": {},
     "output_type": "execute_result"
    }
   ],
   "source": [
    "# keep only the people who have worked within the last 12 months\n",
    "'''\n",
    "WKL 1\n",
    "When last worked\n",
    "b .N/A (less than 16 years old)\n",
    "1 .Within the past 12 months\n",
    "2 .1-5 years ago\n",
    "3 .Over 5 years ago or never worked\n",
    "'''\n",
    "\n",
    "df = df[df['WKL']==1]\n",
    "len(df)"
   ]
  },
  {
   "cell_type": "markdown",
   "metadata": {},
   "source": [
    "### Look at the data\n",
    "\n",
    "It is often a good idea to look at the data we want to model, and see how it relates to some variables we expect to be important.  We can do this using seaborn, which we learned about a few weeks ago.  "
   ]
  },
  {
   "cell_type": "code",
   "execution_count": 5,
   "metadata": {
    "collapsed": false
   },
   "outputs": [
    {
     "ename": "TypeError",
     "evalue": "slice indices must be integers or None or have an __index__ method",
     "output_type": "error",
     "traceback": [
      "\u001b[0;31m---------------------------------------------------------------------------\u001b[0m",
      "\u001b[0;31mTypeError\u001b[0m                                 Traceback (most recent call last)",
      "\u001b[0;32m<ipython-input-5-cf4e61aa87da>\u001b[0m in \u001b[0;36m<module>\u001b[0;34m()\u001b[0m\n\u001b[1;32m      7\u001b[0m '''\n\u001b[1;32m      8\u001b[0m \u001b[1;33m\u001b[0m\u001b[0m\n\u001b[0;32m----> 9\u001b[0;31m \u001b[0msns\u001b[0m\u001b[1;33m.\u001b[0m\u001b[0mdistplot\u001b[0m\u001b[1;33m(\u001b[0m\u001b[0mdf\u001b[0m\u001b[1;33m[\u001b[0m\u001b[1;34m'WAGP'\u001b[0m\u001b[1;33m]\u001b[0m\u001b[1;33m)\u001b[0m\u001b[1;33m\u001b[0m\u001b[0m\n\u001b[0m",
      "\u001b[0;32mC:\\Users\\jdbr223\\AppData\\Local\\Continuum\\Anaconda3\\lib\\site-packages\\seaborn\\distributions.py\u001b[0m in \u001b[0;36mdistplot\u001b[0;34m(a, bins, hist, kde, rug, fit, hist_kws, kde_kws, rug_kws, fit_kws, color, vertical, norm_hist, axlabel, label, ax)\u001b[0m\n\u001b[1;32m    219\u001b[0m     \u001b[1;32mif\u001b[0m \u001b[0mkde\u001b[0m\u001b[1;33m:\u001b[0m\u001b[1;33m\u001b[0m\u001b[0m\n\u001b[1;32m    220\u001b[0m         \u001b[0mkde_color\u001b[0m \u001b[1;33m=\u001b[0m \u001b[0mkde_kws\u001b[0m\u001b[1;33m.\u001b[0m\u001b[0mpop\u001b[0m\u001b[1;33m(\u001b[0m\u001b[1;34m\"color\"\u001b[0m\u001b[1;33m,\u001b[0m \u001b[0mcolor\u001b[0m\u001b[1;33m)\u001b[0m\u001b[1;33m\u001b[0m\u001b[0m\n\u001b[0;32m--> 221\u001b[0;31m         \u001b[0mkdeplot\u001b[0m\u001b[1;33m(\u001b[0m\u001b[0ma\u001b[0m\u001b[1;33m,\u001b[0m \u001b[0mvertical\u001b[0m\u001b[1;33m=\u001b[0m\u001b[0mvertical\u001b[0m\u001b[1;33m,\u001b[0m \u001b[0max\u001b[0m\u001b[1;33m=\u001b[0m\u001b[0max\u001b[0m\u001b[1;33m,\u001b[0m \u001b[0mcolor\u001b[0m\u001b[1;33m=\u001b[0m\u001b[0mkde_color\u001b[0m\u001b[1;33m,\u001b[0m \u001b[1;33m**\u001b[0m\u001b[0mkde_kws\u001b[0m\u001b[1;33m)\u001b[0m\u001b[1;33m\u001b[0m\u001b[0m\n\u001b[0m\u001b[1;32m    222\u001b[0m         \u001b[1;32mif\u001b[0m \u001b[0mkde_color\u001b[0m \u001b[1;33m!=\u001b[0m \u001b[0mcolor\u001b[0m\u001b[1;33m:\u001b[0m\u001b[1;33m\u001b[0m\u001b[0m\n\u001b[1;32m    223\u001b[0m             \u001b[0mkde_kws\u001b[0m\u001b[1;33m[\u001b[0m\u001b[1;34m\"color\"\u001b[0m\u001b[1;33m]\u001b[0m \u001b[1;33m=\u001b[0m \u001b[0mkde_color\u001b[0m\u001b[1;33m\u001b[0m\u001b[0m\n",
      "\u001b[0;32mC:\\Users\\jdbr223\\AppData\\Local\\Continuum\\Anaconda3\\lib\\site-packages\\seaborn\\distributions.py\u001b[0m in \u001b[0;36mkdeplot\u001b[0;34m(data, data2, shade, vertical, kernel, bw, gridsize, cut, clip, legend, cumulative, shade_lowest, ax, **kwargs)\u001b[0m\n\u001b[1;32m    602\u001b[0m         ax = _univariate_kdeplot(data, shade, vertical, kernel, bw,\n\u001b[1;32m    603\u001b[0m                                  \u001b[0mgridsize\u001b[0m\u001b[1;33m,\u001b[0m \u001b[0mcut\u001b[0m\u001b[1;33m,\u001b[0m \u001b[0mclip\u001b[0m\u001b[1;33m,\u001b[0m \u001b[0mlegend\u001b[0m\u001b[1;33m,\u001b[0m \u001b[0max\u001b[0m\u001b[1;33m,\u001b[0m\u001b[1;33m\u001b[0m\u001b[0m\n\u001b[0;32m--> 604\u001b[0;31m                                  cumulative=cumulative, **kwargs)\n\u001b[0m\u001b[1;32m    605\u001b[0m \u001b[1;33m\u001b[0m\u001b[0m\n\u001b[1;32m    606\u001b[0m     \u001b[1;32mreturn\u001b[0m \u001b[0max\u001b[0m\u001b[1;33m\u001b[0m\u001b[0m\n",
      "\u001b[0;32mC:\\Users\\jdbr223\\AppData\\Local\\Continuum\\Anaconda3\\lib\\site-packages\\seaborn\\distributions.py\u001b[0m in \u001b[0;36m_univariate_kdeplot\u001b[0;34m(data, shade, vertical, kernel, bw, gridsize, cut, clip, legend, ax, cumulative, **kwargs)\u001b[0m\n\u001b[1;32m    268\u001b[0m         x, y = _statsmodels_univariate_kde(data, kernel, bw,\n\u001b[1;32m    269\u001b[0m                                            \u001b[0mgridsize\u001b[0m\u001b[1;33m,\u001b[0m \u001b[0mcut\u001b[0m\u001b[1;33m,\u001b[0m \u001b[0mclip\u001b[0m\u001b[1;33m,\u001b[0m\u001b[1;33m\u001b[0m\u001b[0m\n\u001b[0;32m--> 270\u001b[0;31m                                            cumulative=cumulative)\n\u001b[0m\u001b[1;32m    271\u001b[0m     \u001b[1;32melse\u001b[0m\u001b[1;33m:\u001b[0m\u001b[1;33m\u001b[0m\u001b[0m\n\u001b[1;32m    272\u001b[0m         \u001b[1;31m# Fall back to scipy if missing statsmodels\u001b[0m\u001b[1;33m\u001b[0m\u001b[1;33m\u001b[0m\u001b[0m\n",
      "\u001b[0;32mC:\\Users\\jdbr223\\AppData\\Local\\Continuum\\Anaconda3\\lib\\site-packages\\seaborn\\distributions.py\u001b[0m in \u001b[0;36m_statsmodels_univariate_kde\u001b[0;34m(data, kernel, bw, gridsize, cut, clip, cumulative)\u001b[0m\n\u001b[1;32m    326\u001b[0m     \u001b[0mfft\u001b[0m \u001b[1;33m=\u001b[0m \u001b[0mkernel\u001b[0m \u001b[1;33m==\u001b[0m \u001b[1;34m\"gau\"\u001b[0m\u001b[1;33m\u001b[0m\u001b[0m\n\u001b[1;32m    327\u001b[0m     \u001b[0mkde\u001b[0m \u001b[1;33m=\u001b[0m \u001b[0msmnp\u001b[0m\u001b[1;33m.\u001b[0m\u001b[0mKDEUnivariate\u001b[0m\u001b[1;33m(\u001b[0m\u001b[0mdata\u001b[0m\u001b[1;33m)\u001b[0m\u001b[1;33m\u001b[0m\u001b[0m\n\u001b[0;32m--> 328\u001b[0;31m     \u001b[0mkde\u001b[0m\u001b[1;33m.\u001b[0m\u001b[0mfit\u001b[0m\u001b[1;33m(\u001b[0m\u001b[0mkernel\u001b[0m\u001b[1;33m,\u001b[0m \u001b[0mbw\u001b[0m\u001b[1;33m,\u001b[0m \u001b[0mfft\u001b[0m\u001b[1;33m,\u001b[0m \u001b[0mgridsize\u001b[0m\u001b[1;33m=\u001b[0m\u001b[0mgridsize\u001b[0m\u001b[1;33m,\u001b[0m \u001b[0mcut\u001b[0m\u001b[1;33m=\u001b[0m\u001b[0mcut\u001b[0m\u001b[1;33m,\u001b[0m \u001b[0mclip\u001b[0m\u001b[1;33m=\u001b[0m\u001b[0mclip\u001b[0m\u001b[1;33m)\u001b[0m\u001b[1;33m\u001b[0m\u001b[0m\n\u001b[0m\u001b[1;32m    329\u001b[0m     \u001b[1;32mif\u001b[0m \u001b[0mcumulative\u001b[0m\u001b[1;33m:\u001b[0m\u001b[1;33m\u001b[0m\u001b[0m\n\u001b[1;32m    330\u001b[0m         \u001b[0mgrid\u001b[0m\u001b[1;33m,\u001b[0m \u001b[0my\u001b[0m \u001b[1;33m=\u001b[0m \u001b[0mkde\u001b[0m\u001b[1;33m.\u001b[0m\u001b[0msupport\u001b[0m\u001b[1;33m,\u001b[0m \u001b[0mkde\u001b[0m\u001b[1;33m.\u001b[0m\u001b[0mcdf\u001b[0m\u001b[1;33m\u001b[0m\u001b[0m\n",
      "\u001b[0;32mC:\\Users\\jdbr223\\AppData\\Local\\Continuum\\Anaconda3\\lib\\site-packages\\statsmodels\\nonparametric\\kde.py\u001b[0m in \u001b[0;36mfit\u001b[0;34m(self, kernel, bw, fft, weights, gridsize, adjust, cut, clip)\u001b[0m\n\u001b[1;32m    144\u001b[0m             density, grid, bw = kdensityfft(endog, kernel=kernel, bw=bw,\n\u001b[1;32m    145\u001b[0m                     \u001b[0madjust\u001b[0m\u001b[1;33m=\u001b[0m\u001b[0madjust\u001b[0m\u001b[1;33m,\u001b[0m \u001b[0mweights\u001b[0m\u001b[1;33m=\u001b[0m\u001b[0mweights\u001b[0m\u001b[1;33m,\u001b[0m \u001b[0mgridsize\u001b[0m\u001b[1;33m=\u001b[0m\u001b[0mgridsize\u001b[0m\u001b[1;33m,\u001b[0m\u001b[1;33m\u001b[0m\u001b[0m\n\u001b[0;32m--> 146\u001b[0;31m                     clip=clip, cut=cut)\n\u001b[0m\u001b[1;32m    147\u001b[0m         \u001b[1;32melse\u001b[0m\u001b[1;33m:\u001b[0m\u001b[1;33m\u001b[0m\u001b[0m\n\u001b[1;32m    148\u001b[0m             density, grid, bw = kdensity(endog, kernel=kernel, bw=bw,\n",
      "\u001b[0;32mC:\\Users\\jdbr223\\AppData\\Local\\Continuum\\Anaconda3\\lib\\site-packages\\statsmodels\\nonparametric\\kde.py\u001b[0m in \u001b[0;36mkdensityfft\u001b[0;34m(X, kernel, bw, weights, gridsize, adjust, clip, cut, retgrid)\u001b[0m\n\u001b[1;32m    504\u001b[0m     \u001b[0mzstar\u001b[0m \u001b[1;33m=\u001b[0m \u001b[0msilverman_transform\u001b[0m\u001b[1;33m(\u001b[0m\u001b[0mbw\u001b[0m\u001b[1;33m,\u001b[0m \u001b[0mgridsize\u001b[0m\u001b[1;33m,\u001b[0m \u001b[0mRANGE\u001b[0m\u001b[1;33m)\u001b[0m\u001b[1;33m*\u001b[0m\u001b[0my\u001b[0m \u001b[1;31m# 3.49 in Silverman\u001b[0m\u001b[1;33m\u001b[0m\u001b[0m\n\u001b[1;32m    505\u001b[0m                                                    \u001b[1;31m# 3.50 w Gaussian kernel\u001b[0m\u001b[1;33m\u001b[0m\u001b[1;33m\u001b[0m\u001b[0m\n\u001b[0;32m--> 506\u001b[0;31m     \u001b[0mf\u001b[0m \u001b[1;33m=\u001b[0m \u001b[0mrevrt\u001b[0m\u001b[1;33m(\u001b[0m\u001b[0mzstar\u001b[0m\u001b[1;33m)\u001b[0m\u001b[1;33m\u001b[0m\u001b[0m\n\u001b[0m\u001b[1;32m    507\u001b[0m     \u001b[1;32mif\u001b[0m \u001b[0mretgrid\u001b[0m\u001b[1;33m:\u001b[0m\u001b[1;33m\u001b[0m\u001b[0m\n\u001b[1;32m    508\u001b[0m         \u001b[1;32mreturn\u001b[0m \u001b[0mf\u001b[0m\u001b[1;33m,\u001b[0m \u001b[0mgrid\u001b[0m\u001b[1;33m,\u001b[0m \u001b[0mbw\u001b[0m\u001b[1;33m\u001b[0m\u001b[0m\n",
      "\u001b[0;32mC:\\Users\\jdbr223\\AppData\\Local\\Continuum\\Anaconda3\\lib\\site-packages\\statsmodels\\nonparametric\\kdetools.py\u001b[0m in \u001b[0;36mrevrt\u001b[0;34m(X, m)\u001b[0m\n\u001b[1;32m     18\u001b[0m     \u001b[1;32mif\u001b[0m \u001b[0mm\u001b[0m \u001b[1;32mis\u001b[0m \u001b[1;32mNone\u001b[0m\u001b[1;33m:\u001b[0m\u001b[1;33m\u001b[0m\u001b[0m\n\u001b[1;32m     19\u001b[0m         \u001b[0mm\u001b[0m \u001b[1;33m=\u001b[0m \u001b[0mlen\u001b[0m\u001b[1;33m(\u001b[0m\u001b[0mX\u001b[0m\u001b[1;33m)\u001b[0m\u001b[1;33m\u001b[0m\u001b[0m\n\u001b[0;32m---> 20\u001b[0;31m     \u001b[0my\u001b[0m \u001b[1;33m=\u001b[0m \u001b[0mX\u001b[0m\u001b[1;33m[\u001b[0m\u001b[1;33m:\u001b[0m\u001b[0mm\u001b[0m\u001b[1;33m/\u001b[0m\u001b[1;36m2\u001b[0m\u001b[1;33m+\u001b[0m\u001b[1;36m1\u001b[0m\u001b[1;33m]\u001b[0m \u001b[1;33m+\u001b[0m \u001b[0mnp\u001b[0m\u001b[1;33m.\u001b[0m\u001b[0mr_\u001b[0m\u001b[1;33m[\u001b[0m\u001b[1;36m0\u001b[0m\u001b[1;33m,\u001b[0m\u001b[0mX\u001b[0m\u001b[1;33m[\u001b[0m\u001b[0mm\u001b[0m\u001b[1;33m/\u001b[0m\u001b[1;36m2\u001b[0m\u001b[1;33m+\u001b[0m\u001b[1;36m1\u001b[0m\u001b[1;33m:\u001b[0m\u001b[1;33m]\u001b[0m\u001b[1;33m,\u001b[0m\u001b[1;36m0\u001b[0m\u001b[1;33m]\u001b[0m\u001b[1;33m*\u001b[0m\u001b[1;36m1j\u001b[0m\u001b[1;33m\u001b[0m\u001b[0m\n\u001b[0m\u001b[1;32m     21\u001b[0m     \u001b[1;32mreturn\u001b[0m \u001b[0mnp\u001b[0m\u001b[1;33m.\u001b[0m\u001b[0mfft\u001b[0m\u001b[1;33m.\u001b[0m\u001b[0mirfft\u001b[0m\u001b[1;33m(\u001b[0m\u001b[0my\u001b[0m\u001b[1;33m)\u001b[0m\u001b[1;33m*\u001b[0m\u001b[0mm\u001b[0m\u001b[1;33m\u001b[0m\u001b[0m\n\u001b[1;32m     22\u001b[0m \u001b[1;33m\u001b[0m\u001b[0m\n",
      "\u001b[0;31mTypeError\u001b[0m: slice indices must be integers or None or have an __index__ method"
     ]
    },
    {
     "data": {
      "image/png": "[encoded data removed]",
      "text/plain": [
       "<matplotlib.figure.Figure at 0xd56a1f0>"
      ]
     },
     "metadata": {},
     "output_type": "display_data"
    }
   ],
   "source": [
    "'''\n",
    "WAGP 6\n",
    "Wages or salary income past 12 months\n",
    "bbbbbb .N/A (less than 15 years old)\n",
    "000000 .None\n",
    "000001..999999 .$1 to 999999 (Rounded and top-coded)\n",
    "'''\n",
    "\n",
    "sns.distplot(df['WAGP'])"
   ]
  },
  {
   "cell_type": "code",
   "execution_count": 6,
   "metadata": {
    "collapsed": false
   },
   "outputs": [
    {
     "data": {
      "text/plain": [
       "<seaborn.axisgrid.JointGrid at 0xd7f5970>"
      ]
     },
     "execution_count": 6,
     "metadata": {},
     "output_type": "execute_result"
    },
    {
     "data": {
      "image/png": "[encoded data removed]",
      "text/plain": [
       "<matplotlib.figure.Figure at 0xd7f51d0>"
      ]
     },
     "metadata": {},
     "output_type": "display_data"
    }
   ],
   "source": [
    "# we may think that wages relate to hours worked, so let's look at that relationship\n",
    "'''\n",
    "WKHP 2\n",
    "Usual hours worked per week past 12 months\n",
    "bb .N/A (less than 16 years old/did not work during the past 12\n",
    ".months)\n",
    "01..98 .1 to 98 usual hours\n",
    "99 .99 or more usual hours\n",
    "'''\n",
    "\n",
    "sns.jointplot(x=\"WKHP\", y=\"WAGP\", data=df, size=8)"
   ]
  },
  {
   "cell_type": "markdown",
   "metadata": {},
   "source": [
    "Notice how the data are lumpy.  It looks like people round when they report their values. "
   ]
  },
  {
   "cell_type": "code",
   "execution_count": 7,
   "metadata": {
    "collapsed": false
   },
   "outputs": [
    {
     "data": {
      "text/plain": [
       "<matplotlib.axes._subplots.AxesSubplot at 0xdad8ff0>"
      ]
     },
     "execution_count": 7,
     "metadata": {},
     "output_type": "execute_result"
    },
    {
     "data": {
      "image/png": "[encoded data removed]",
      "text/plain": [
       "<matplotlib.figure.Figure at 0xdac87b0>"
      ]
     },
     "metadata": {},
     "output_type": "display_data"
    }
   ],
   "source": [
    "# we can also look at a regression plot, like we did before\n",
    "sns.regplot(x=\"WKHP\", y=\"WAGP\", data=df)"
   ]
  },
  {
   "cell_type": "markdown",
   "metadata": {},
   "source": [
    "### Estimating a model\n",
    "\n",
    "OK, that's fine, we can do plots, but we want some actual numbers.  For this, we want to estimate what the model coefficients are. "
   ]
  },
  {
   "cell_type": "code",
   "execution_count": 8,
   "metadata": {
    "collapsed": false
   },
   "outputs": [
    {
     "name": "stdout",
     "output_type": "stream",
     "text": [
      "                            OLS Regression Results                            \n",
      "==============================================================================\n",
      "Dep. Variable:                   WAGP   R-squared:                       0.132\n",
      "Model:                            OLS   Adj. R-squared:                  0.132\n",
      "Method:                 Least Squares   F-statistic:                     3273.\n",
      "Date:                Thu, 30 Mar 2017   Prob (F-statistic):               0.00\n",
      "Time:                        13:10:07   Log-Likelihood:            -2.6179e+05\n",
      "No. Observations:               21558   AIC:                         5.236e+05\n",
      "Df Residuals:                   21556   BIC:                         5.236e+05\n",
      "Df Model:                           1                                         \n",
      "Covariance Type:            nonrobust                                         \n",
      "==============================================================================\n",
      "                 coef    std err          t      P>|t|      [95.0% Conf. Int.]\n",
      "------------------------------------------------------------------------------\n",
      "Intercept  -1.366e+04    959.204    -14.238      0.000     -1.55e+04 -1.18e+04\n",
      "WKHP        1354.9091     23.684     57.207      0.000      1308.486  1401.332\n",
      "==============================================================================\n",
      "Omnibus:                    19198.297   Durbin-Watson:                   1.917\n",
      "Prob(Omnibus):                  0.000   Jarque-Bera (JB):           665915.053\n",
      "Skew:                           4.303   Prob(JB):                         0.00\n",
      "Kurtosis:                      28.832   Cond. No.                         126.\n",
      "==============================================================================\n",
      "\n",
      "Warnings:\n",
      "[1] Standard Errors assume that the covariance matrix of the errors is correctly specified.\n"
     ]
    }
   ],
   "source": [
    "# This is a basic model estimation in statsmodels\n",
    "# the dependent variable is on the left side of the ~\n",
    "mod = smf.ols(formula='WAGP ~ WKHP', data=df)\n",
    "res = mod.fit()\n",
    "print(res.summary())"
   ]
  },
  {
   "cell_type": "code",
   "execution_count": 23,
   "metadata": {
    "collapsed": false
   },
   "outputs": [
    {
     "data": {
      "text/html": [
       "<table class=\"simpletable\">\n",
       "<caption>OLS Regression Results</caption>\n",
       "<tr>\n",
       "  <th>Dep. Variable:</th>          <td>WAGP</td>       <th>  R-squared:         </th>  <td>   0.273</td>  \n",
       "</tr>\n",
       "<tr>\n",
       "  <th>Model:</th>                   <td>OLS</td>       <th>  Adj. R-squared:    </th>  <td>   0.273</td>  \n",
       "</tr>\n",
       "<tr>\n",
       "  <th>Method:</th>             <td>Least Squares</td>  <th>  F-statistic:       </th>  <td>   810.1</td>  \n",
       "</tr>\n",
       "<tr>\n",
       "  <th>Date:</th>             <td>Thu, 30 Mar 2017</td> <th>  Prob (F-statistic):</th>   <td>  0.00</td>   \n",
       "</tr>\n",
       "<tr>\n",
       "  <th>Time:</th>                 <td>13:29:49</td>     <th>  Log-Likelihood:    </th> <td>-2.5987e+05</td>\n",
       "</tr>\n",
       "<tr>\n",
       "  <th>No. Observations:</th>      <td> 21558</td>      <th>  AIC:               </th>  <td>5.198e+05</td> \n",
       "</tr>\n",
       "<tr>\n",
       "  <th>Df Residuals:</th>          <td> 21547</td>      <th>  BIC:               </th>  <td>5.199e+05</td> \n",
       "</tr>\n",
       "<tr>\n",
       "  <th>Df Model:</th>              <td>    10</td>      <th>                     </th>      <td> </td>     \n",
       "</tr>\n",
       "<tr>\n",
       "  <th>Covariance Type:</th>      <td>nonrobust</td>    <th>                     </th>      <td> </td>     \n",
       "</tr>\n",
       "</table>\n",
       "<table class=\"simpletable\">\n",
       "<tr>\n",
       "                  <td></td>                    <th>coef</th>     <th>std err</th>      <th>t</th>      <th>P>|t|</th> <th>[95.0% Conf. Int.]</th> \n",
       "</tr>\n",
       "<tr>\n",
       "  <th>Intercept</th>                        <td>-2.959e+04</td> <td> 1429.396</td> <td>  -20.698</td> <td> 0.000</td> <td>-3.24e+04 -2.68e+04</td>\n",
       "</tr>\n",
       "<tr>\n",
       "  <th>C(SCHL2)[T.16-HS or GED]</th>         <td> 3712.1820</td> <td> 1107.699</td> <td>    3.351</td> <td> 0.001</td> <td> 1541.009  5883.355</td>\n",
       "</tr>\n",
       "<tr>\n",
       "  <th>C(SCHL2)[T.18-Some college]</th>      <td> 7907.1553</td> <td> 1131.780</td> <td>    6.986</td> <td> 0.000</td> <td> 5688.782  1.01e+04</td>\n",
       "</tr>\n",
       "<tr>\n",
       "  <th>C(SCHL2)[T.20-Associates degree]</th> <td> 1.403e+04</td> <td> 1383.540</td> <td>   10.141</td> <td> 0.000</td> <td> 1.13e+04  1.67e+04</td>\n",
       "</tr>\n",
       "<tr>\n",
       "  <th>C(SCHL2)[T.21-Bachelors degree]</th>  <td> 2.981e+04</td> <td> 1209.643</td> <td>   24.644</td> <td> 0.000</td> <td> 2.74e+04  3.22e+04</td>\n",
       "</tr>\n",
       "<tr>\n",
       "  <th>C(SCHL2)[T.22-Masters degree]</th>    <td> 3.485e+04</td> <td> 1409.061</td> <td>   24.731</td> <td> 0.000</td> <td> 3.21e+04  3.76e+04</td>\n",
       "</tr>\n",
       "<tr>\n",
       "  <th>C(SCHL2)[T.23-Prof grad degree]</th>  <td>  8.04e+04</td> <td> 2072.092</td> <td>   38.802</td> <td> 0.000</td> <td> 7.63e+04  8.45e+04</td>\n",
       "</tr>\n",
       "<tr>\n",
       "  <th>C(SCHL2)[T.24-Doctorate degree]</th>  <td>  5.84e+04</td> <td> 2749.448</td> <td>   21.239</td> <td> 0.000</td> <td>  5.3e+04  6.38e+04</td>\n",
       "</tr>\n",
       "<tr>\n",
       "  <th>C(SEX)[T.2]</th>                      <td>-1.127e+04</td> <td>  586.648</td> <td>  -19.205</td> <td> 0.000</td> <td>-1.24e+04 -1.01e+04</td>\n",
       "</tr>\n",
       "<tr>\n",
       "  <th>WKHP</th>                             <td> 1071.7205</td> <td>   22.573</td> <td>   47.477</td> <td> 0.000</td> <td> 1027.475  1115.966</td>\n",
       "</tr>\n",
       "<tr>\n",
       "  <th>AGEP</th>                             <td>  408.0290</td> <td>   18.889</td> <td>   21.601</td> <td> 0.000</td> <td>  371.005   445.053</td>\n",
       "</tr>\n",
       "</table>\n",
       "<table class=\"simpletable\">\n",
       "<tr>\n",
       "  <th>Omnibus:</th>       <td>18164.313</td> <th>  Durbin-Watson:     </th>  <td>   1.962</td> \n",
       "</tr>\n",
       "<tr>\n",
       "  <th>Prob(Omnibus):</th>  <td> 0.000</td>   <th>  Jarque-Bera (JB):  </th> <td>616759.434</td>\n",
       "</tr>\n",
       "<tr>\n",
       "  <th>Skew:</th>           <td> 3.939</td>   <th>  Prob(JB):          </th>  <td>    0.00</td> \n",
       "</tr>\n",
       "<tr>\n",
       "  <th>Kurtosis:</th>       <td>27.991</td>   <th>  Cond. No.          </th>  <td>    664.</td> \n",
       "</tr>\n",
       "</table>"
      ],
      "text/plain": [
       "<class 'statsmodels.iolib.summary.Summary'>\n",
       "\"\"\"\n",
       "                            OLS Regression Results                            \n",
       "==============================================================================\n",
       "Dep. Variable:                   WAGP   R-squared:                       0.273\n",
       "Model:                            OLS   Adj. R-squared:                  0.273\n",
       "Method:                 Least Squares   F-statistic:                     810.1\n",
       "Date:                Thu, 30 Mar 2017   Prob (F-statistic):               0.00\n",
       "Time:                        13:29:49   Log-Likelihood:            -2.5987e+05\n",
       "No. Observations:               21558   AIC:                         5.198e+05\n",
       "Df Residuals:                   21547   BIC:                         5.199e+05\n",
       "Df Model:                          10                                         \n",
       "Covariance Type:            nonrobust                                         \n",
       "====================================================================================================\n",
       "                                       coef    std err          t      P>|t|      [95.0% Conf. Int.]\n",
       "----------------------------------------------------------------------------------------------------\n",
       "Intercept                        -2.959e+04   1429.396    -20.698      0.000     -3.24e+04 -2.68e+04\n",
       "C(SCHL2)[T.16-HS or GED]          3712.1820   1107.699      3.351      0.001      1541.009  5883.355\n",
       "C(SCHL2)[T.18-Some college]       7907.1553   1131.780      6.986      0.000      5688.782  1.01e+04\n",
       "C(SCHL2)[T.20-Associates degree]  1.403e+04   1383.540     10.141      0.000      1.13e+04  1.67e+04\n",
       "C(SCHL2)[T.21-Bachelors degree]   2.981e+04   1209.643     24.644      0.000      2.74e+04  3.22e+04\n",
       "C(SCHL2)[T.22-Masters degree]     3.485e+04   1409.061     24.731      0.000      3.21e+04  3.76e+04\n",
       "C(SCHL2)[T.23-Prof grad degree]    8.04e+04   2072.092     38.802      0.000      7.63e+04  8.45e+04\n",
       "C(SCHL2)[T.24-Doctorate degree]    5.84e+04   2749.448     21.239      0.000       5.3e+04  6.38e+04\n",
       "C(SEX)[T.2]                      -1.127e+04    586.648    -19.205      0.000     -1.24e+04 -1.01e+04\n",
       "WKHP                              1071.7205     22.573     47.477      0.000      1027.475  1115.966\n",
       "AGEP                               408.0290     18.889     21.601      0.000       371.005   445.053\n",
       "==============================================================================\n",
       "Omnibus:                    18164.313   Durbin-Watson:                   1.962\n",
       "Prob(Omnibus):                  0.000   Jarque-Bera (JB):           616759.434\n",
       "Skew:                           3.939   Prob(JB):                         0.00\n",
       "Kurtosis:                      27.991   Cond. No.                         664.\n",
       "==============================================================================\n",
       "\n",
       "Warnings:\n",
       "[1] Standard Errors assume that the covariance matrix of the errors is correctly specified.\n",
       "\"\"\""
      ]
     },
     "execution_count": 23,
     "metadata": {},
     "output_type": "execute_result"
    }
   ],
   "source": []
  },
  {
   "cell_type": "markdown",
   "metadata": {},
   "source": [
    "Notice a few things: \n",
    "\n",
    "1. Goodness of fit measures\n",
    "2. Model coefficients and t-statistics\n",
    "3. The model and results objects"
   ]
  },
  {
   "cell_type": "code",
   "execution_count": 9,
   "metadata": {
    "collapsed": false
   },
   "outputs": [
    {
     "name": "stdout",
     "output_type": "stream",
     "text": [
      "                            OLS Regression Results                            \n",
      "==============================================================================\n",
      "Dep. Variable:                   WAGP   R-squared:                       0.158\n",
      "Model:                            OLS   Adj. R-squared:                  0.158\n",
      "Method:                 Least Squares   F-statistic:                     2017.\n",
      "Date:                Thu, 30 Mar 2017   Prob (F-statistic):               0.00\n",
      "Time:                        13:22:13   Log-Likelihood:            -2.6147e+05\n",
      "No. Observations:               21558   AIC:                         5.229e+05\n",
      "Df Residuals:                   21555   BIC:                         5.230e+05\n",
      "Df Model:                           2                                         \n",
      "Covariance Type:            nonrobust                                         \n",
      "==============================================================================\n",
      "                 coef    std err          t      P>|t|      [95.0% Conf. Int.]\n",
      "------------------------------------------------------------------------------\n",
      "Intercept   -3.38e+04   1227.379    -27.535      0.000     -3.62e+04 -3.14e+04\n",
      "WKHP        1307.6304     23.402     55.876      0.000      1261.760  1353.501\n",
      "AGEP         515.0042     20.034     25.706      0.000       475.736   554.272\n",
      "==============================================================================\n",
      "Omnibus:                    19215.119   Durbin-Watson:                   1.919\n",
      "Prob(Omnibus):                  0.000   Jarque-Bera (JB):           676892.402\n",
      "Skew:                           4.302   Prob(JB):                         0.00\n",
      "Kurtosis:                      29.068   Cond. No.                         238.\n",
      "==============================================================================\n",
      "\n",
      "Warnings:\n",
      "[1] Standard Errors assume that the covariance matrix of the errors is correctly specified.\n"
     ]
    }
   ],
   "source": [
    "# That's fine, but we may try some more things.  Perhaps age matters. \n",
    "# More experience -> higher wages? \n",
    "\n",
    "mod = smf.ols(formula='WAGP ~ WKHP + AGEP', data=df)\n",
    "res = mod.fit()\n",
    "print(res.summary())"
   ]
  },
  {
   "cell_type": "markdown",
   "metadata": {},
   "source": [
    "### Categorical variables\n",
    "\n",
    "We may also want to include categorical variables.  We can include them by calculating a 'dummy' variable, which is 1 if the value is in a category, and zero otherwise.  "
   ]
  },
  {
   "cell_type": "code",
   "execution_count": 10,
   "metadata": {
    "collapsed": false
   },
   "outputs": [],
   "source": [
    "'''\n",
    "SCHL 2\n",
    "Educational attainment\n",
    "bb .N/A (less than 3 years old)\n",
    "01 .No schooling completed\n",
    "02 .Nursery school, preschool 03 .Kindergarten\n",
    "04 .Grade 1\n",
    "05 .Grade 2\n",
    "06 .Grade 3\n",
    "07 .Grade 4\n",
    "08 .Grade 5\n",
    "09 .Grade 6\n",
    "10 .Grade 7\n",
    "11 .Grade 8\n",
    "12 .Grade 9\n",
    "13 .Grade 10\n",
    "14 .Grade 11 15 .12th grade - no diploma\n",
    "16 .Regular high school diploma\n",
    "17 .GED or alternative credential\n",
    "18 .Some college, but less than 1 year\n",
    "19 .1 or more years of college credit, no degree\n",
    "20 .Associate's degree\n",
    "21 .Bachelor's degree\n",
    "22 .Master's degree\n",
    "23 .Professional degree beyond a bachelor's degree\n",
    "24 .Doctorate degree\n",
    "'''\n",
    "\n",
    "# Is someone a college grad\n",
    "df['college_grad'] = df['SCHL'].apply(lambda x : x>=20)"
   ]
  },
  {
   "cell_type": "code",
   "execution_count": 11,
   "metadata": {
    "collapsed": false
   },
   "outputs": [
    {
     "name": "stdout",
     "output_type": "stream",
     "text": [
      "                            OLS Regression Results                            \n",
      "==============================================================================\n",
      "Dep. Variable:                   WAGP   R-squared:                       0.218\n",
      "Model:                            OLS   Adj. R-squared:                  0.218\n",
      "Method:                 Least Squares   F-statistic:                     2001.\n",
      "Date:                Thu, 30 Mar 2017   Prob (F-statistic):               0.00\n",
      "Time:                        13:22:33   Log-Likelihood:            -2.6067e+05\n",
      "No. Observations:               21558   AIC:                         5.213e+05\n",
      "Df Residuals:                   21554   BIC:                         5.214e+05\n",
      "Df Model:                           3                                         \n",
      "Covariance Type:            nonrobust                                         \n",
      "========================================================================================\n",
      "                           coef    std err          t      P>|t|      [95.0% Conf. Int.]\n",
      "----------------------------------------------------------------------------------------\n",
      "Intercept            -3.617e+04   1184.183    -30.548      0.000     -3.85e+04 -3.39e+04\n",
      "college_grad[T.True]  2.505e+04    615.046     40.727      0.000      2.38e+04  2.63e+04\n",
      "WKHP                  1210.1474     22.678     53.362      0.000      1165.697  1254.598\n",
      "AGEP                   440.3588     19.392     22.708      0.000       402.349   478.369\n",
      "==============================================================================\n",
      "Omnibus:                    19171.719   Durbin-Watson:                   1.965\n",
      "Prob(Omnibus):                  0.000   Jarque-Bera (JB):           692164.891\n",
      "Skew:                           4.274   Prob(JB):                         0.00\n",
      "Kurtosis:                      29.410   Cond. No.                         239.\n",
      "==============================================================================\n",
      "\n",
      "Warnings:\n",
      "[1] Standard Errors assume that the covariance matrix of the errors is correctly specified.\n"
     ]
    }
   ],
   "source": [
    "# note that I can wrap long strings with a \\ character\n",
    "mod = smf.ols(formula=\"WAGP \\\n",
    "                       ~ WKHP \\\n",
    "                       + AGEP \\\n",
    "                       + college_grad\", \n",
    "              data=df)\n",
    "res = mod.fit()\n",
    "print(res.summary())"
   ]
  },
  {
   "cell_type": "markdown",
   "metadata": {},
   "source": [
    "Looks like a college degree is worth $23,000 per year...\n",
    "\n",
    "What happens if we include both college and non-college in the same model? "
   ]
  },
  {
   "cell_type": "code",
   "execution_count": 26,
   "metadata": {
    "collapsed": false
   },
   "outputs": [
    {
     "name": "stdout",
     "output_type": "stream",
     "text": [
      "                            OLS Regression Results                            \n",
      "==============================================================================\n",
      "Dep. Variable:                   WAGP   R-squared:                       0.218\n",
      "Model:                            OLS   Adj. R-squared:                  0.218\n",
      "Method:                 Least Squares   F-statistic:                     1500.\n",
      "Date:                Thu, 30 Mar 2017   Prob (F-statistic):               0.00\n",
      "Time:                        13:41:31   Log-Likelihood:            -2.6067e+05\n",
      "No. Observations:               21558   AIC:                         5.213e+05\n",
      "Df Residuals:                   21553   BIC:                         5.214e+05\n",
      "Df Model:                           4                                         \n",
      "Covariance Type:            nonrobust                                         \n",
      "============================================================================================\n",
      "                               coef    std err          t      P>|t|      [95.0% Conf. Int.]\n",
      "--------------------------------------------------------------------------------------------\n",
      "Intercept                 1.071e+15   2.24e+15      0.478      0.633     -3.32e+15  5.46e+15\n",
      "college_grad[T.True]     -1.071e+15   2.24e+15     -0.478      0.633     -5.46e+15  3.32e+15\n",
      "not_college_grad[T.True] -1.071e+15   2.24e+15     -0.478      0.633     -5.46e+15  3.32e+15\n",
      "WKHP                      1209.9415     22.683     53.342      0.000      1165.482  1254.401\n",
      "AGEP                       440.2559     19.394     22.701      0.000       402.242   478.269\n",
      "==============================================================================\n",
      "Omnibus:                    19150.126   Durbin-Watson:                   1.965\n",
      "Prob(Omnibus):                  0.000   Jarque-Bera (JB):           689721.935\n",
      "Skew:                           4.267   Prob(JB):                         0.00\n",
      "Kurtosis:                      29.363   Cond. No.                     7.82e+14\n",
      "==============================================================================\n",
      "\n",
      "Warnings:\n",
      "[1] Standard Errors assume that the covariance matrix of the errors is correctly specified.\n",
      "[2] The smallest eigenvalue is 1.24e-22. This might indicate that there are\n",
      "strong multicollinearity problems or that the design matrix is singular.\n"
     ]
    }
   ],
   "source": [
    "# not a college grad\n",
    "df['not_college_grad'] = df['SCHL'].apply(lambda x : x<20)\n",
    "\n",
    "mod = smf.ols(formula=\"WAGP \\\n",
    "                       ~ WKHP \\\n",
    "                       + AGEP \\\n",
    "                       + college_grad \\\n",
    "                       + not_college_grad\", \n",
    "              data=df)\n",
    "res = mod.fit()\n",
    "print(res.summary())"
   ]
  },
  {
   "cell_type": "markdown",
   "metadata": {},
   "source": [
    "We get a warning, and very different results for that term.  This is an over-specified model, and the method cannot estimate the correct coefficients.  To avoid this, we always need to make sure that categorical variables leave one out.  This one that gets left out is known as the reference variable. "
   ]
  },
  {
   "cell_type": "code",
   "execution_count": 13,
   "metadata": {
    "collapsed": false
   },
   "outputs": [
    {
     "name": "stdout",
     "output_type": "stream",
     "text": [
      "                            OLS Regression Results                            \n",
      "==============================================================================\n",
      "Dep. Variable:                   WAGP   R-squared:                       0.261\n",
      "Model:                            OLS   Adj. R-squared:                  0.261\n",
      "Method:                 Least Squares   F-statistic:                     317.6\n",
      "Date:                Thu, 30 Mar 2017   Prob (F-statistic):               0.00\n",
      "Time:                        13:24:13   Log-Likelihood:            -2.6005e+05\n",
      "No. Observations:               21558   AIC:                         5.201e+05\n",
      "Df Residuals:                   21533   BIC:                         5.203e+05\n",
      "Df Model:                          24                                         \n",
      "Covariance Type:            nonrobust                                         \n",
      "===================================================================================\n",
      "                      coef    std err          t      P>|t|      [95.0% Conf. Int.]\n",
      "-----------------------------------------------------------------------------------\n",
      "Intercept       -3.412e+04   4422.340     -7.716      0.000     -4.28e+04 -2.55e+04\n",
      "C(SCHL)[T.2.0]  -1.395e+04   1.92e+04     -0.725      0.468     -5.17e+04  2.38e+04\n",
      "C(SCHL)[T.3.0]  -2136.3928   4.22e+04     -0.051      0.960     -8.48e+04  8.05e+04\n",
      "C(SCHL)[T.5.0]  -5634.2534   1.92e+04     -0.293      0.770     -4.34e+04  3.21e+04\n",
      "C(SCHL)[T.6.0]  -9623.7140   1.39e+04     -0.691      0.490     -3.69e+04  1.77e+04\n",
      "C(SCHL)[T.7.0]  -3141.7194   1.64e+04     -0.191      0.848     -3.53e+04   2.9e+04\n",
      "C(SCHL)[T.8.0]  -3254.8087   1.46e+04     -0.223      0.824     -3.19e+04  2.54e+04\n",
      "C(SCHL)[T.9.0]  -1.164e+04   8553.213     -1.361      0.173     -2.84e+04  5121.160\n",
      "C(SCHL)[T.10.0] -8405.6576   7955.144     -1.057      0.291      -2.4e+04  7187.015\n",
      "C(SCHL)[T.11.0] -7862.6243   5110.154     -1.539      0.124     -1.79e+04  2153.657\n",
      "C(SCHL)[T.12.0] -7746.2960   5058.027     -1.531      0.126     -1.77e+04  2167.812\n",
      "C(SCHL)[T.13.0] -3281.9972   4762.944     -0.689      0.491     -1.26e+04  6053.727\n",
      "C(SCHL)[T.14.0]  1058.7427   4622.765      0.229      0.819     -8002.219  1.01e+04\n",
      "C(SCHL)[T.15.0]  -523.6052   5042.729     -0.104      0.917     -1.04e+04  9360.517\n",
      "C(SCHL)[T.16.0]  -106.3049   4298.904     -0.025      0.980     -8532.476  8319.866\n",
      "C(SCHL)[T.17.0] -1482.5548   4438.209     -0.334      0.738     -1.02e+04  7216.664\n",
      "C(SCHL)[T.18.0]  1654.2712   4381.801      0.378      0.706     -6934.383  1.02e+04\n",
      "C(SCHL)[T.19.0]  3808.8320   4320.141      0.882      0.378     -4658.965  1.23e+04\n",
      "C(SCHL)[T.20.0]  7724.1017   4369.250      1.768      0.077      -839.952  1.63e+04\n",
      "C(SCHL)[T.21.0]  2.458e+04   4318.358      5.691      0.000      1.61e+04   3.3e+04\n",
      "C(SCHL)[T.22.0]  2.872e+04   4375.677      6.564      0.000      2.01e+04  3.73e+04\n",
      "C(SCHL)[T.23.0]  7.545e+04   4634.591     16.281      0.000      6.64e+04  8.45e+04\n",
      "C(SCHL)[T.24.0]  5.399e+04   4980.960     10.840      0.000      4.42e+04  6.38e+04\n",
      "WKHP             1168.4638     22.314     52.364      0.000      1124.726  1212.201\n",
      "AGEP              412.7527     19.203     21.495      0.000       375.114   450.391\n",
      "==============================================================================\n",
      "Omnibus:                    18313.688   Durbin-Watson:                   1.975\n",
      "Prob(Omnibus):                  0.000   Jarque-Bera (JB):           627602.877\n",
      "Skew:                           3.988   Prob(JB):                         0.00\n",
      "Kurtosis:                      28.201   Cond. No.                     8.76e+03\n",
      "==============================================================================\n",
      "\n",
      "Warnings:\n",
      "[1] Standard Errors assume that the covariance matrix of the errors is correctly specified.\n",
      "[2] The condition number is large, 8.76e+03. This might indicate that there are\n",
      "strong multicollinearity or other numerical problems.\n"
     ]
    }
   ],
   "source": [
    "# We can do all categories, minus one, for a variable by including it in a C() command\n",
    "\n",
    "mod = smf.ols(formula=\"WAGP \\\n",
    "                       ~ WKHP \\\n",
    "                       + AGEP \\\n",
    "                       + C(SCHL)\", \n",
    "              data=df)\n",
    "res = mod.fit()\n",
    "print(res.summary())"
   ]
  },
  {
   "cell_type": "code",
   "execution_count": 14,
   "metadata": {
    "collapsed": false
   },
   "outputs": [
    {
     "data": {
      "text/plain": [
       "16-HS or GED            6466\n",
       "18-Some college         5226\n",
       "21-Bachelors degree     3564\n",
       "20-Associates degree    1872\n",
       "15-No HS diploma        1865\n",
       "22-Masters degree       1768\n",
       "23-Prof grad degree      532\n",
       "24-Doctorate degree      265\n",
       "Name: SCHL2, dtype: int64"
      ]
     },
     "execution_count": 14,
     "metadata": {},
     "output_type": "execute_result"
    }
   ],
   "source": [
    "# many of these are not significant, so let's drop some\n",
    "def recode_school(schl): \n",
    "    if schl<=15: \n",
    "        return '15-No HS diploma'\n",
    "    elif schl==16 or schl==17: \n",
    "        return '16-HS or GED'\n",
    "    elif schl==18 or schl==19: \n",
    "        return '18-Some college'\n",
    "    elif schl==20: \n",
    "        return '20-Associates degree'\n",
    "    elif schl==21: \n",
    "        return '21-Bachelors degree'\n",
    "    elif schl==22: \n",
    "        return '22-Masters degree'\n",
    "    elif schl==23: \n",
    "        return '23-Prof grad degree'\n",
    "    elif schl==24: \n",
    "        return '24-Doctorate degree'\n",
    "    else: \n",
    "        return str(schl)\n",
    "\n",
    "df['SCHL2'] = df['SCHL'].apply(recode_school)\n",
    "df['SCHL2'].value_counts()"
   ]
  },
  {
   "cell_type": "code",
   "execution_count": 15,
   "metadata": {
    "collapsed": false
   },
   "outputs": [
    {
     "name": "stdout",
     "output_type": "stream",
     "text": [
      "                            OLS Regression Results                            \n",
      "==============================================================================\n",
      "Dep. Variable:                   WAGP   R-squared:                       0.261\n",
      "Model:                            OLS   Adj. R-squared:                  0.260\n",
      "Method:                 Least Squares   F-statistic:                     844.7\n",
      "Date:                Thu, 30 Mar 2017   Prob (F-statistic):               0.00\n",
      "Time:                        13:25:08   Log-Likelihood:            -2.6006e+05\n",
      "No. Observations:               21558   AIC:                         5.201e+05\n",
      "Df Residuals:                   21548   BIC:                         5.202e+05\n",
      "Df Model:                           9                                         \n",
      "Covariance Type:            nonrobust                                         \n",
      "====================================================================================================\n",
      "                                       coef    std err          t      P>|t|      [95.0% Conf. Int.]\n",
      "----------------------------------------------------------------------------------------------------\n",
      "Intercept                        -3.653e+04   1394.660    -26.193      0.000     -3.93e+04 -3.38e+04\n",
      "C(SCHL2)[T.16-HS or GED]          2581.6556   1115.536      2.314      0.021       395.123  4768.188\n",
      "C(SCHL2)[T.18-Some college]       6001.6366   1137.005      5.278      0.000      3773.022  8230.251\n",
      "C(SCHL2)[T.20-Associates degree]  1.066e+04   1384.003      7.699      0.000      7943.304  1.34e+04\n",
      "C(SCHL2)[T.21-Bachelors degree]   2.751e+04   1213.904     22.659      0.000      2.51e+04  2.99e+04\n",
      "C(SCHL2)[T.22-Masters degree]     3.168e+04   1411.278     22.448      0.000      2.89e+04  3.44e+04\n",
      "C(SCHL2)[T.23-Prof grad degree]   7.845e+04   2087.200     37.588      0.000      7.44e+04  8.25e+04\n",
      "C(SCHL2)[T.24-Doctorate degree]   5.698e+04   2771.826     20.559      0.000      5.16e+04  6.24e+04\n",
      "WKHP                              1163.7479     22.247     52.311      0.000      1120.143  1207.353\n",
      "AGEP                               405.0270     19.049     21.263      0.000       367.690   442.364\n",
      "==============================================================================\n",
      "Omnibus:                    18314.015   Durbin-Watson:                   1.974\n",
      "Prob(Omnibus):                  0.000   Jarque-Bera (JB):           627218.446\n",
      "Skew:                           3.988   Prob(JB):                         0.00\n",
      "Kurtosis:                      28.192   Cond. No.                         663.\n",
      "==============================================================================\n",
      "\n",
      "Warnings:\n",
      "[1] Standard Errors assume that the covariance matrix of the errors is correctly specified.\n"
     ]
    }
   ],
   "source": [
    "# We can do all categories, minus one, for a variable by including it in a C() command\n",
    "\n",
    "mod = smf.ols(formula=\"WAGP \\\n",
    "                       ~ WKHP \\\n",
    "                       + AGEP \\\n",
    "                       + C(SCHL2)\", \n",
    "              data=df)\n",
    "res = mod.fit()\n",
    "print(res.summary())"
   ]
  },
  {
   "cell_type": "code",
   "execution_count": 16,
   "metadata": {
    "collapsed": false
   },
   "outputs": [
    {
     "name": "stdout",
     "output_type": "stream",
     "text": [
      "                            OLS Regression Results                            \n",
      "==============================================================================\n",
      "Dep. Variable:                   WAGP   R-squared:                       0.273\n",
      "Model:                            OLS   Adj. R-squared:                  0.273\n",
      "Method:                 Least Squares   F-statistic:                     810.1\n",
      "Date:                Thu, 30 Mar 2017   Prob (F-statistic):               0.00\n",
      "Time:                        13:25:17   Log-Likelihood:            -2.5987e+05\n",
      "No. Observations:               21558   AIC:                         5.198e+05\n",
      "Df Residuals:                   21547   BIC:                         5.199e+05\n",
      "Df Model:                          10                                         \n",
      "Covariance Type:            nonrobust                                         \n",
      "====================================================================================================\n",
      "                                       coef    std err          t      P>|t|      [95.0% Conf. Int.]\n",
      "----------------------------------------------------------------------------------------------------\n",
      "Intercept                        -2.959e+04   1429.396    -20.698      0.000     -3.24e+04 -2.68e+04\n",
      "C(SCHL2)[T.16-HS or GED]          3712.1820   1107.699      3.351      0.001      1541.009  5883.355\n",
      "C(SCHL2)[T.18-Some college]       7907.1553   1131.780      6.986      0.000      5688.782  1.01e+04\n",
      "C(SCHL2)[T.20-Associates degree]  1.403e+04   1383.540     10.141      0.000      1.13e+04  1.67e+04\n",
      "C(SCHL2)[T.21-Bachelors degree]   2.981e+04   1209.643     24.644      0.000      2.74e+04  3.22e+04\n",
      "C(SCHL2)[T.22-Masters degree]     3.485e+04   1409.061     24.731      0.000      3.21e+04  3.76e+04\n",
      "C(SCHL2)[T.23-Prof grad degree]    8.04e+04   2072.092     38.802      0.000      7.63e+04  8.45e+04\n",
      "C(SCHL2)[T.24-Doctorate degree]    5.84e+04   2749.448     21.239      0.000       5.3e+04  6.38e+04\n",
      "C(SEX)[T.2]                      -1.127e+04    586.648    -19.205      0.000     -1.24e+04 -1.01e+04\n",
      "WKHP                              1071.7205     22.573     47.477      0.000      1027.475  1115.966\n",
      "AGEP                               408.0290     18.889     21.601      0.000       371.005   445.053\n",
      "==============================================================================\n",
      "Omnibus:                    18164.313   Durbin-Watson:                   1.962\n",
      "Prob(Omnibus):                  0.000   Jarque-Bera (JB):           616759.434\n",
      "Skew:                           3.939   Prob(JB):                         0.00\n",
      "Kurtosis:                      27.991   Cond. No.                         664.\n",
      "==============================================================================\n",
      "\n",
      "Warnings:\n",
      "[1] Standard Errors assume that the covariance matrix of the errors is correctly specified.\n"
     ]
    }
   ],
   "source": [
    "df['PUMA'].head()"
   ]
  },
  {
   "cell_type": "code",
   "execution_count": null,
   "metadata": {
    "collapsed": false
   },
   "outputs": [],
   "source": [
    "# add sex \n",
    "'''\n",
    "SEX 1\n",
    "Sex\n",
    "1 .Male\n",
    "2 .Female\n",
    "'''\n",
    "\n",
    "mod = smf.ols(formula=\"WAGP \\\n",
    "                       ~ WKHP \\\n",
    "                       + AGEP \\\n",
    "                       + C(SCHL2) \\\n",
    "                       + C(SEX)\", \n",
    "              data=df)\n",
    "res = mod.fit()\n",
    "print(res.summary())"
   ]
  },
  {
   "cell_type": "markdown",
   "metadata": {},
   "source": [
    "### Confounding factors\n",
    "\n",
    "It looks like there is a $11,000 penalty for being a woman.  Why is that?  \n",
    "\n",
    "First, we want to make sure that we are measuring the effect of sex, and not the effect of something else that sex is correlated with.  For example, maybe we suspect that women earn less because they tend to work fewer hours or are younger.  Let's start by looking at the data categorically..."
   ]
  },
  {
   "cell_type": "code",
   "execution_count": 17,
   "metadata": {
    "collapsed": false
   },
   "outputs": [
    {
     "data": {
      "text/html": [
       "<div>\n",
       "<table border=\"1\" class=\"dataframe\">\n",
       "  <thead>\n",
       "    <tr style=\"text-align: right;\">\n",
       "      <th></th>\n",
       "      <th>WAGP</th>\n",
       "      <th>WKHP</th>\n",
       "      <th>AGEP</th>\n",
       "    </tr>\n",
       "    <tr>\n",
       "      <th>SEX</th>\n",
       "      <th></th>\n",
       "      <th></th>\n",
       "      <th></th>\n",
       "    </tr>\n",
       "  </thead>\n",
       "  <tbody>\n",
       "    <tr>\n",
       "      <th>1</th>\n",
       "      <td>45310.825876</td>\n",
       "      <td>40.757832</td>\n",
       "      <td>42.588562</td>\n",
       "    </tr>\n",
       "    <tr>\n",
       "      <th>2</th>\n",
       "      <td>30485.573482</td>\n",
       "      <td>35.642613</td>\n",
       "      <td>42.659724</td>\n",
       "    </tr>\n",
       "  </tbody>\n",
       "</table>\n",
       "</div>"
      ],
      "text/plain": [
       "             WAGP       WKHP       AGEP\n",
       "SEX                                    \n",
       "1    45310.825876  40.757832  42.588562\n",
       "2    30485.573482  35.642613  42.659724"
      ]
     },
     "execution_count": 17,
     "metadata": {},
     "output_type": "execute_result"
    }
   ],
   "source": [
    "# look at the average values\n",
    "df[['SEX', 'WAGP', 'WKHP', 'AGEP']].groupby('SEX').mean()"
   ]
  },
  {
   "cell_type": "markdown",
   "metadata": {},
   "source": [
    "Yes, this is true for hours worked at least, but it is not the whole story.  The total wage gap is $15,000.  That is made up of several components. \n",
    "\n",
    "Sometimes it is useful to look at pair-plots to see the relationships. "
   ]
  },
  {
   "cell_type": "code",
   "execution_count": 18,
   "metadata": {
    "collapsed": false
   },
   "outputs": [
    {
     "name": "stdout",
     "output_type": "stream",
     "text": [
      "                            OLS Regression Results                            \n",
      "==============================================================================\n",
      "Dep. Variable:                   WAGP   R-squared:                       0.197\n",
      "Model:                            OLS   Adj. R-squared:                  0.197\n",
      "Method:                 Least Squares   F-statistic:                     588.1\n",
      "Date:                Thu, 30 Mar 2017   Prob (F-statistic):               0.00\n",
      "Time:                        13:26:34   Log-Likelihood:            -2.6095e+05\n",
      "No. Observations:               21558   AIC:                         5.219e+05\n",
      "Df Residuals:                   21548   BIC:                         5.220e+05\n",
      "Df Model:                           9                                         \n",
      "Covariance Type:            nonrobust                                         \n",
      "====================================================================================================\n",
      "                                       coef    std err          t      P>|t|      [95.0% Conf. Int.]\n",
      "----------------------------------------------------------------------------------------------------\n",
      "Intercept                         5263.2396   1289.069      4.083      0.000      2736.570  7789.909\n",
      "C(SCHL2)[T.16-HS or GED]          1.057e+04   1154.231      9.157      0.000      8307.456  1.28e+04\n",
      "C(SCHL2)[T.18-Some college]       1.388e+04   1182.104     11.743      0.000      1.16e+04  1.62e+04\n",
      "C(SCHL2)[T.20-Associates degree]   2.25e+04   1441.934     15.604      0.000      1.97e+04  2.53e+04\n",
      "C(SCHL2)[T.21-Bachelors degree]   3.883e+04   1255.529     30.928      0.000      3.64e+04  4.13e+04\n",
      "C(SCHL2)[T.22-Masters degree]     4.431e+04   1466.016     30.222      0.000      4.14e+04  4.72e+04\n",
      "C(SCHL2)[T.23-Prof grad degree]   9.259e+04   2160.955     42.846      0.000      8.84e+04  9.68e+04\n",
      "C(SCHL2)[T.24-Doctorate degree]   7.004e+04   2878.088     24.337      0.000      6.44e+04  7.57e+04\n",
      "C(SEX)[T.2]                      -1.718e+04    602.504    -28.513      0.000     -1.84e+04  -1.6e+04\n",
      "AGEP                               456.9412     19.822     23.052      0.000       418.088   495.795\n",
      "==============================================================================\n",
      "Omnibus:                    17225.592   Durbin-Watson:                   1.977\n",
      "Prob(Omnibus):                  0.000   Jarque-Bera (JB):           495893.348\n",
      "Skew:                           3.687   Prob(JB):                         0.00\n",
      "Kurtosis:                      25.309   Cond. No.                         505.\n",
      "==============================================================================\n",
      "\n",
      "Warnings:\n",
      "[1] Standard Errors assume that the covariance matrix of the errors is correctly specified.\n"
     ]
    }
   ],
   "source": [
    "# for a select set of variables\n",
    "sns.pairplot(df[['SEX', 'WAGP', 'WKHP', 'AGEP']])"
   ]
  },
  {
   "cell_type": "code",
   "execution_count": null,
   "metadata": {
    "collapsed": false
   },
   "outputs": [],
   "source": [
    "# if we were to leave out the hours worked, we would get a different coefficient on sex\n",
    "\n",
    "mod = smf.ols(formula=\"WAGP \\\n",
    "                       ~ AGEP \\\n",
    "                       + C(SCHL2) \\\n",
    "                       + C(SEX)\", \n",
    "              data=df)\n",
    "res = mod.fit()\n",
    "print(res.summary())"
   ]
  },
  {
   "cell_type": "markdown",
   "metadata": {},
   "source": [
    "For this reason, regression provides an important tool to test the net effects of different factors.  If we wanted, we could also interact sex with the type of degree.  "
   ]
  },
  {
   "cell_type": "code",
   "execution_count": 19,
   "metadata": {
    "collapsed": false
   },
   "outputs": [
    {
     "name": "stdout",
     "output_type": "stream",
     "text": [
      "                            OLS Regression Results                            \n",
      "==============================================================================\n",
      "Dep. Variable:                   WAGP   R-squared:                       0.273\n",
      "Model:                            OLS   Adj. R-squared:                  0.273\n",
      "Method:                 Least Squares   F-statistic:                     810.1\n",
      "Date:                Thu, 30 Mar 2017   Prob (F-statistic):               0.00\n",
      "Time:                        13:26:43   Log-Likelihood:            -2.5987e+05\n",
      "No. Observations:               21558   AIC:                         5.198e+05\n",
      "Df Residuals:                   21547   BIC:                         5.199e+05\n",
      "Df Model:                          10                                         \n",
      "Covariance Type:            nonrobust                                         \n",
      "====================================================================================================\n",
      "                                       coef    std err          t      P>|t|      [95.0% Conf. Int.]\n",
      "----------------------------------------------------------------------------------------------------\n",
      "Intercept                        -2.959e+04   1429.396    -20.698      0.000     -3.24e+04 -2.68e+04\n",
      "C(SCHL2)[T.16-HS or GED]          3712.1820   1107.699      3.351      0.001      1541.009  5883.355\n",
      "C(SCHL2)[T.18-Some college]       7907.1553   1131.780      6.986      0.000      5688.782  1.01e+04\n",
      "C(SCHL2)[T.20-Associates degree]  1.403e+04   1383.540     10.141      0.000      1.13e+04  1.67e+04\n",
      "C(SCHL2)[T.21-Bachelors degree]   2.981e+04   1209.643     24.644      0.000      2.74e+04  3.22e+04\n",
      "C(SCHL2)[T.22-Masters degree]     3.485e+04   1409.061     24.731      0.000      3.21e+04  3.76e+04\n",
      "C(SCHL2)[T.23-Prof grad degree]    8.04e+04   2072.092     38.802      0.000      7.63e+04  8.45e+04\n",
      "C(SCHL2)[T.24-Doctorate degree]    5.84e+04   2749.448     21.239      0.000       5.3e+04  6.38e+04\n",
      "C(SEX)[T.2]                      -1.127e+04    586.648    -19.205      0.000     -1.24e+04 -1.01e+04\n",
      "WKHP                              1071.7205     22.573     47.477      0.000      1027.475  1115.966\n",
      "AGEP                               408.0290     18.889     21.601      0.000       371.005   445.053\n",
      "==============================================================================\n",
      "Omnibus:                    18164.313   Durbin-Watson:                   1.962\n",
      "Prob(Omnibus):                  0.000   Jarque-Bera (JB):           616759.434\n",
      "Skew:                           3.939   Prob(JB):                         0.00\n",
      "Kurtosis:                      27.991   Cond. No.                         664.\n",
      "==============================================================================\n",
      "\n",
      "Warnings:\n",
      "[1] Standard Errors assume that the covariance matrix of the errors is correctly specified.\n"
     ]
    }
   ],
   "source": [
    "# we can also interact terms\n",
    "\n",
    "df['AGE_WOMEN'] = df['AGEP'] * (df['SEX'] - 1)\n",
    "df['AGE_MEN']   = df['AGEP'] * (2-df['SEX'])\n",
    "\n",
    "mod = smf.ols(formula=\"WAGP \\\n",
    "                       ~ WKHP \\\n",
    "                       + AGE_MEN \\\n",
    "                       + AGE_WOMEN \\\n",
    "                       + C(SCHL2) \\\n",
    "                       + C(SEX)\", \n",
    "              data=df)\n",
    "res = mod.fit()\n",
    "print(res.summary())"
   ]
  },
  {
   "cell_type": "code",
   "execution_count": null,
   "metadata": {
    "collapsed": false
   },
   "outputs": [],
   "source": [
    "# we can get the same thing, with a slightly different specification\n",
    "# this tells us whether the AGEP and AGE_WOMEN coefficients are significantly different from each other\n",
    "\n",
    "mod = smf.ols(formula=\"WAGP \\\n",
    "                       ~ WKHP \\\n",
    "                       + AGEP \\\n",
    "                       + AGE_WOMEN \\\n",
    "                       + C(SCHL2) \\\n",
    "                       + C(SEX)\", \n",
    "              data=df)\n",
    "res = mod.fit()\n",
    "print(res.summary())"
   ]
  },
  {
   "cell_type": "markdown",
   "metadata": {},
   "source": [
    "### Homework\n",
    "\n",
    "1. Calculate the value of a Civil Engineering degree and a degree in Transportation Sciences And Technologies, relative to a college degree in general. \n",
    "\n",
    "2. Calculate the value of working in Architectural, Engineering, And Related Services versus wroking in transportation (anything starting in TRN).  \n",
    "\n",
    "3. Calculate the wage difference between male and female civil engineers\n",
    "\n",
    "4. Use these data to determine what you should expect your starting salary to be for a full-time job in your career of choice after you graduate.  These may be a useful observation point for negotiations.  Who can come up with the highest (defensible) value?  What other data could you use to make your case? "
   ]
  },
  {
   "cell_type": "code",
   "execution_count": null,
   "metadata": {
    "collapsed": true
   },
   "outputs": [],
   "source": []
  },
  {
   "cell_type": "markdown",
   "metadata": {},
   "source": [
    "### Bonus\n",
    "\n",
    "Win your bracket next year with a data-driven March Madness!\n",
    "\n",
    "https://canvas.harvard.edu/courses/12656/files/2822157/download?verifier...1"
   ]
  },
  {
   "cell_type": "code",
   "execution_count": 25,
   "metadata": {
    "collapsed": false
   },
   "outputs": [
    {
     "name": "stdout",
     "output_type": "stream",
     "text": [
      "1           NaN\n",
      "3           NaN\n",
      "8           NaN\n",
      "9           NaN\n",
      "10          NaN\n",
      "11          NaN\n",
      "13          NaN\n",
      "20       4901.0\n",
      "21          NaN\n",
      "23          NaN\n",
      "24          NaN\n",
      "27          NaN\n",
      "28          NaN\n",
      "30          NaN\n",
      "31       5003.0\n",
      "32       6402.0\n",
      "34          NaN\n",
      "36       2602.0\n",
      "37          NaN\n",
      "38          NaN\n",
      "40          NaN\n",
      "44       6206.0\n",
      "45       3301.0\n",
      "46          NaN\n",
      "48          NaN\n",
      "49          NaN\n",
      "53          NaN\n",
      "54          NaN\n",
      "55          NaN\n",
      "61          NaN\n",
      "          ...  \n",
      "44682       NaN\n",
      "44687       NaN\n",
      "44688       NaN\n",
      "44689       NaN\n",
      "44692       NaN\n",
      "44696       NaN\n",
      "44700    6108.0\n",
      "44703       NaN\n",
      "44704    5301.0\n",
      "44705    2500.0\n",
      "44710       NaN\n",
      "44711       NaN\n",
      "44712       NaN\n",
      "44713       NaN\n",
      "44716       NaN\n",
      "44717       NaN\n",
      "44718       NaN\n",
      "44721    6402.0\n",
      "44722    6207.0\n",
      "44723       NaN\n",
      "44724       NaN\n",
      "44728       NaN\n",
      "44729    6203.0\n",
      "44731       NaN\n",
      "44732       NaN\n",
      "44736       NaN\n",
      "44737       NaN\n",
      "44744       NaN\n",
      "44745    5200.0\n",
      "44747       NaN\n",
      "Name: FOD1P, dtype: float64\n"
     ]
    }
   ],
   "source": []
  },
  {
   "cell_type": "code",
   "execution_count": null,
   "metadata": {
    "collapsed": true
   },
   "outputs": [],
   "source": []
  }
 ],
 "metadata": {
  "anaconda-cloud": {},
  "kernelspec": {
   "display_name": "Python [conda root]",
   "language": "python",
   "name": "conda-root-py"
  },
  "language_info": {
   "codemirror_mode": {
    "name": "ipython",
    "version": 3
   },
   "file_extension": ".py",
   "mimetype": "text/x-python",
   "name": "python",
   "nbconvert_exporter": "python",
   "pygments_lexer": "ipython3",
   "version": "3.5.2"
  }
 },
 "nbformat": 4,
 "nbformat_minor": 1
}
