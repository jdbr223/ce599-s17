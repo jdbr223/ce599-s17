{
 "cells": [
  {
   "cell_type": "markdown",
   "metadata": {},
   "source": [
    "## Matrices\n",
    "\n",
    "Matrices are very common in transportation.  Two commont types of matrix data are: \n",
    "\n",
    "trip tables - matrices showing the number of trips between each zone pair\n",
    "\n",
    "skims - matrices showing the travel time and cost between each zone pair\n"
   ]
  },
  {
   "cell_type": "code",
   "execution_count": 1,
   "metadata": {
    "collapsed": false
   },
   "outputs": [
    {
     "data": {
      "text/plain": [
       "[[1, 2, 3], [4, 5, 6], [7, 8, 9]]"
      ]
     },
     "execution_count": 1,
     "metadata": {},
     "output_type": "execute_result"
    }
   ],
   "source": [
    "# you can represent matrices in python as two dimensional lists\n",
    "m = [[1,2,3],[4,5,6],[7,8,9]]\n",
    "m"
   ]
  },
  {
   "cell_type": "code",
   "execution_count": 2,
   "metadata": {
    "collapsed": false
   },
   "outputs": [
    {
     "data": {
      "text/plain": [
       "[[-1, 2, 3], [4, 5, 999], [7, 8, 9]]"
      ]
     },
     "execution_count": 2,
     "metadata": {},
     "output_type": "execute_result"
    }
   ],
   "source": [
    "# change the values by referring to the appropriate indices\n",
    "m[0][0] = -1\n",
    "m[1][2] = 999\n",
    "m"
   ]
  },
  {
   "cell_type": "markdown",
   "metadata": {},
   "source": [
    "### Numpy matrices\n",
    "\n",
    "This is fine, but can be slow if you're working with big matrices.  For those, it is nice to use numpy, which operates way faster.  Their quickstart tutorial offers a good intro: \n",
    "\n",
    "https://docs.scipy.org/doc/numpy-dev/user/quickstart.html"
   ]
  },
  {
   "cell_type": "code",
   "execution_count": 3,
   "metadata": {
    "collapsed": false
   },
   "outputs": [
    {
     "data": {
      "text/plain": [
       "array([[1, 2, 3],\n",
       "       [4, 5, 6],\n",
       "       [7, 8, 9]])"
      ]
     },
     "execution_count": 3,
     "metadata": {},
     "output_type": "execute_result"
    }
   ],
   "source": [
    "import numpy as np\n",
    "m = np.array([[1,2,3],[4,5,6],[7,8,9]])\n",
    "m"
   ]
  },
  {
   "cell_type": "code",
   "execution_count": 4,
   "metadata": {
    "collapsed": false
   },
   "outputs": [
    {
     "data": {
      "text/plain": [
       "array([[ -1,   2,   3],\n",
       "       [  4,   5, 999],\n",
       "       [  7,   8,   9]])"
      ]
     },
     "execution_count": 4,
     "metadata": {},
     "output_type": "execute_result"
    }
   ],
   "source": [
    "# change the values by referring to the appropriate indices\n",
    "m[0][0] = -1\n",
    "m[1][2] = 999\n",
    "m"
   ]
  },
  {
   "cell_type": "code",
   "execution_count": 5,
   "metadata": {
    "collapsed": false
   },
   "outputs": [
    {
     "data": {
      "text/plain": [
       "(3, 3)"
      ]
     },
     "execution_count": 5,
     "metadata": {},
     "output_type": "execute_result"
    }
   ],
   "source": [
    "# Since an array is an object, it comes with some extra data \n",
    "m.shape"
   ]
  },
  {
   "cell_type": "code",
   "execution_count": 6,
   "metadata": {
    "collapsed": false
   },
   "outputs": [
    {
     "data": {
      "text/plain": [
       "999"
      ]
     },
     "execution_count": 6,
     "metadata": {},
     "output_type": "execute_result"
    }
   ],
   "source": [
    "# and some methods\n",
    "m.max()"
   ]
  },
  {
   "cell_type": "markdown",
   "metadata": {},
   "source": [
    "### OMX for matrix i/o\n",
    "\n",
    "For saving groups of matrices to disk, OMX is a useful package.  Intro is here: \n",
    "\n",
    "https://github.com/osPlanning/omx/wiki\n",
    "\n",
    "Python API is here: \n",
    "\n",
    "https://github.com/osPlanning/omx-python\n",
    "\n",
    "Note that we sometimes want row and column indices that are non-sequential integers--the label of the TAZ rather than just a number 1 through N.  I've put an example matrix in the data folder for this lesson.  If you want to look at the contents, you can install the viewer, available on the wiki.  \n"
   ]
  },
  {
   "cell_type": "markdown",
   "metadata": {},
   "source": [
    "### Homework\n",
    "\n",
    "The example is a skim matrix showing different components of travel time between each TAZ pair.  The IVT matrix is for in-vehicle time (as opposed to walking and waiting time which are out-of-vehicle).  Notice that the values on the diagonal are all zeros.  This is the sort of thing that can cause divide by zero errors later on.  Your job is to read the matrix in, replace the zeros on the diagonals with ones, and save the matrix again.  \n",
    "\n",
    "To do this, you will need to install the OMX package and review their quick start sample code to see what to do.  This is good practice in figuring stuff out from the types of resources that may be avaiable, and you should have the skills at this point in the course to do so.\n"
   ]
  },
  {
   "cell_type": "code",
   "execution_count": null,
   "metadata": {
    "collapsed": true
   },
   "outputs": [],
   "source": [
    "#OMX Sample Code\n",
    "\n",
    "from __future__ import print_function\n",
    "import openmatrix as omx\n",
    "import numpy as np\n",
    "\n",
    "# Create some data\n",
    "ones = np.ones((100,100))\n",
    "twos = 2.0*ones\n",
    "\n",
    "# Create an OMX file (will overwrite existing file!)\n",
    "print('Creating myfile.omx')\n",
    "myfile = omx.open_file('data/example.omx','w')   # use 'a' to append/edit an existing file\n",
    "\n",
    "# Write to the file.\n",
    "myfile['m1'] = ones\n",
    "myfile['m2'] = twos\n",
    "myfile['m3'] = ones + twos           # numpy array math is fast\n",
    "myfile.close()\n",
    "\n",
    "# Open an OMX file for reading only\n",
    "print('Reading myfile.omx')\n",
    "myfile = omx.open_file('myfile.omx')\n",
    "\n",
    "print ('Shape:', myfile.shape())                 # (100,100)\n",
    "print ('Number of tables:', len(myfile))         # 3\n",
    "print ('Table names:', myfile.list_matrices())   # ['m1','m2',',m3']\n",
    "\n",
    "# Work with data. Pass a string to select matrix by name:\n",
    "# -------------------------------------------------------\n",
    "m1 = myfile['m1']\n",
    "m2 = myfile['m2']\n",
    "m3 = myfile['m3']\n",
    "\n",
    "# halves = m1 * 0.5  # CRASH!  Don't modify an OMX object directly.\n",
    "#                    # Create a new numpy array, and then edit it.\n",
    "halves = np.array(m1) * 0.5\n",
    "\n",
    "first_row = m2[0]\n",
    "first_row[:] = 0.5 * first_row[:]\n",
    "\n",
    "my_very_special_zone_value = m2[10][25]\n",
    "\n",
    "# FANCY: Use attributes to find matrices\n",
    "# --------------------------------------\n",
    "myfile.close()                            # was opened read-only, so let's reopen.\n",
    "myfile = omx.open_file('myfile.omx','a')  # append mode: read/write existing file\n",
    "\n",
    "myfile['m1'].attrs.timeperiod = 'am'\n",
    "myfile['m1'].attrs.mode = 'hwy'\n",
    "\n",
    "myfile['m2'].attrs.timeperiod = 'md'\n",
    "\n",
    "myfile['m3'].attrs.timeperiod = 'am'\n",
    "myfile['m3'].attrs.mode = 'trn'\n",
    "\n",
    "print('attributes:', myfile.list_all_attributes())       # ['mode','timeperiod']\n",
    "\n",
    "# Use a DICT to select matrices via attributes:\n",
    "\n",
    "all_am_trips = myfile[ {'timeperiod':'am'} ]                    # [m1,m3]\n",
    "all_hwy_trips = myfile[ {'mode':'hwy'} ]                        # [m1]\n",
    "all_am_trn_trips = myfile[ {'mode':'trn','timeperiod':'am'} ]   # [m3]\n",
    "\n",
    "print('sum of some tables:', np.sum(all_am_trips))\n",
    "\n",
    "# SUPER FANCY: Create a mapping to use TAZ numbers instead of matrix offsets\n",
    "# --------------------------------------------------------------------------\n",
    "# (any mapping would work, such as a mapping with large gaps between zone\n",
    "#  numbers. For this simple case we'll just assume TAZ numbers are 1-100.)\n",
    "\n",
    "taz_equivs = np.arange(1,101)                  # 1-100 inclusive\n",
    "\n",
    "myfile.create_mapping('taz', taz_equivs)\n",
    "print('mappings:', myfile.list_mappings()) # ['taz']\n",
    "\n",
    "tazs = myfile.mapping('taz') # Returns a dict:  {1:0, 2:1, 3:2, ..., 100:99}\n",
    "m3 = myfile['m3']\n",
    "print('cell value:', m3[tazs[100]][tazs[100]]) # 3.0  (taz (100,100) is cell [99][99])\n",
    "\n",
    "myfile.close()"
   ]
  },
  {
   "cell_type": "code",
   "execution_count": 4,
   "metadata": {
    "collapsed": true
   },
   "outputs": [],
   "source": [
    "from __future__ import print_function\n",
    "import openmatrix as omx\n",
    "import numpy as np"
   ]
  },
  {
   "cell_type": "code",
   "execution_count": null,
   "metadata": {
    "collapsed": false
   },
   "outputs": [],
   "source": [
    "# Create some data\n",
    "ones = np.ones((100,100))\n",
    "twos = 2.0*ones\n",
    "\n",
    "# Create an OMX file (will overwrite existing file!)\n",
    "print('Creating myfile.omx')\n",
    "myfile = omx.open_file('data/example.omx','w')   # use 'a' to append/edit an existing file"
   ]
  },
  {
   "cell_type": "code",
   "execution_count": 3,
   "metadata": {
    "collapsed": false
   },
   "outputs": [],
   "source": []
  },
  {
   "cell_type": "code",
   "execution_count": null,
   "metadata": {
    "collapsed": true
   },
   "outputs": [],
   "source": []
  }
 ],
 "metadata": {
  "anaconda-cloud": {},
  "kernelspec": {
   "display_name": "Python [default]",
   "language": "python",
   "name": "python3"
  },
  "language_info": {
   "codemirror_mode": {
    "name": "ipython",
    "version": 3
   },
   "file_extension": ".py",
   "mimetype": "text/x-python",
   "name": "python",
   "nbconvert_exporter": "python",
   "pygments_lexer": "ipython3",
   "version": "3.5.2"
  }
 },
 "nbformat": 4,
 "nbformat_minor": 1
}
