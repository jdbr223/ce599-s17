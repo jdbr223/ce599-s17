{
 "cells": [
  {
   "cell_type": "code",
   "execution_count": 1,
   "metadata": {
    "collapsed": true
   },
   "outputs": [],
   "source": [
    "# magic command to display matplotlib plots inline within the ipython notebook webpage\n",
    "%matplotlib inline\n",
    "\n",
    "# import necessary modules\n",
    "import pandas as pd, numpy as np, matplotlib.pyplot as plt\n",
    "import matplotlib.cm as cm, matplotlib.font_manager as fm\n",
    "import datetime\n",
    "import arrow"
   ]
  },
  {
   "cell_type": "code",
   "execution_count": 2,
   "metadata": {
    "collapsed": false
   },
   "outputs": [
    {
     "data": {
      "text/html": [
       "<div>\n",
       "<table border=\"1\" class=\"dataframe\">\n",
       "  <thead>\n",
       "    <tr style=\"text-align: right;\">\n",
       "      <th></th>\n",
       "      <th>Unnamed: 0</th>\n",
       "      <th>LINK_DIR</th>\n",
       "      <th>DATE_TIME</th>\n",
       "      <th>EPOCH_5MIN</th>\n",
       "      <th>LENGTH</th>\n",
       "      <th>MEAN</th>\n",
       "      <th>STDDEV</th>\n",
       "      <th>CONFIDENCE</th>\n",
       "      <th>DOW</th>\n",
       "    </tr>\n",
       "  </thead>\n",
       "  <tbody>\n",
       "    <tr>\n",
       "      <th>0</th>\n",
       "      <td>0</td>\n",
       "      <td>998969850F</td>\n",
       "      <td>2014-01-01 13:55</td>\n",
       "      <td>167</td>\n",
       "      <td>186</td>\n",
       "      <td>61.0</td>\n",
       "      <td>0.0</td>\n",
       "      <td>10</td>\n",
       "      <td>Wednesday</td>\n",
       "    </tr>\n",
       "    <tr>\n",
       "      <th>1</th>\n",
       "      <td>1</td>\n",
       "      <td>998969850F</td>\n",
       "      <td>2014-01-02 11:05</td>\n",
       "      <td>133</td>\n",
       "      <td>186</td>\n",
       "      <td>60.0</td>\n",
       "      <td>0.0</td>\n",
       "      <td>10</td>\n",
       "      <td>Thursday</td>\n",
       "    </tr>\n",
       "    <tr>\n",
       "      <th>2</th>\n",
       "      <td>2</td>\n",
       "      <td>998969850F</td>\n",
       "      <td>2014-01-02 13:20</td>\n",
       "      <td>160</td>\n",
       "      <td>186</td>\n",
       "      <td>61.0</td>\n",
       "      <td>0.0</td>\n",
       "      <td>10</td>\n",
       "      <td>Thursday</td>\n",
       "    </tr>\n",
       "    <tr>\n",
       "      <th>3</th>\n",
       "      <td>3</td>\n",
       "      <td>998969850F</td>\n",
       "      <td>2014-01-02 14:30</td>\n",
       "      <td>174</td>\n",
       "      <td>186</td>\n",
       "      <td>52.0</td>\n",
       "      <td>0.0</td>\n",
       "      <td>10</td>\n",
       "      <td>Thursday</td>\n",
       "    </tr>\n",
       "    <tr>\n",
       "      <th>4</th>\n",
       "      <td>4</td>\n",
       "      <td>998969850F</td>\n",
       "      <td>2014-01-03 09:05</td>\n",
       "      <td>109</td>\n",
       "      <td>186</td>\n",
       "      <td>57.0</td>\n",
       "      <td>0.0</td>\n",
       "      <td>10</td>\n",
       "      <td>Friday</td>\n",
       "    </tr>\n",
       "  </tbody>\n",
       "</table>\n",
       "</div>"
      ],
      "text/plain": [
       "   Unnamed: 0    LINK_DIR         DATE_TIME  EPOCH_5MIN  LENGTH  MEAN  STDDEV  \\\n",
       "0           0  998969850F  2014-01-01 13:55         167     186  61.0     0.0   \n",
       "1           1  998969850F  2014-01-02 11:05         133     186  60.0     0.0   \n",
       "2           2  998969850F  2014-01-02 13:20         160     186  61.0     0.0   \n",
       "3           3  998969850F  2014-01-02 14:30         174     186  52.0     0.0   \n",
       "4           4  998969850F  2014-01-03 09:05         109     186  57.0     0.0   \n",
       "\n",
       "   CONFIDENCE        DOW  \n",
       "0          10  Wednesday  \n",
       "1          10   Thursday  \n",
       "2          10   Thursday  \n",
       "3          10   Thursday  \n",
       "4          10     Friday  "
      ]
     },
     "execution_count": 2,
     "metadata": {},
     "output_type": "execute_result"
    }
   ],
   "source": [
    "herepath = pd.read_csv('data/MOW_Path_Speed_5Min_2014_DOWavailable.csv', encoding='utf-8')\n",
    "herepath.head()"
   ]
  },
  {
   "cell_type": "code",
   "execution_count": 62,
   "metadata": {
    "collapsed": false
   },
   "outputs": [
    {
     "data": {
      "text/html": [
       "<div>\n",
       "<table border=\"1\" class=\"dataframe\">\n",
       "  <thead>\n",
       "    <tr style=\"text-align: right;\">\n",
       "      <th></th>\n",
       "      <th>Unnamed: 0</th>\n",
       "      <th>LINK_DIR</th>\n",
       "      <th>DATE_TIME</th>\n",
       "      <th>EPOCH_5MIN</th>\n",
       "      <th>LENGTH</th>\n",
       "      <th>MEAN</th>\n",
       "      <th>STDDEV</th>\n",
       "      <th>CONFIDENCE</th>\n",
       "      <th>DOW</th>\n",
       "    </tr>\n",
       "  </thead>\n",
       "  <tbody>\n",
       "    <tr>\n",
       "      <th>0</th>\n",
       "      <td>0</td>\n",
       "      <td>998969850F</td>\n",
       "      <td>2014-01-01 13:55</td>\n",
       "      <td>167</td>\n",
       "      <td>186</td>\n",
       "      <td>61.0</td>\n",
       "      <td>0.0</td>\n",
       "      <td>10</td>\n",
       "      <td>Wednesday</td>\n",
       "    </tr>\n",
       "    <tr>\n",
       "      <th>1</th>\n",
       "      <td>1</td>\n",
       "      <td>998969850F</td>\n",
       "      <td>2014-01-02 11:05</td>\n",
       "      <td>133</td>\n",
       "      <td>186</td>\n",
       "      <td>60.0</td>\n",
       "      <td>0.0</td>\n",
       "      <td>10</td>\n",
       "      <td>Thursday</td>\n",
       "    </tr>\n",
       "    <tr>\n",
       "      <th>2</th>\n",
       "      <td>2</td>\n",
       "      <td>998969850F</td>\n",
       "      <td>2014-01-02 13:20</td>\n",
       "      <td>160</td>\n",
       "      <td>186</td>\n",
       "      <td>61.0</td>\n",
       "      <td>0.0</td>\n",
       "      <td>10</td>\n",
       "      <td>Thursday</td>\n",
       "    </tr>\n",
       "    <tr>\n",
       "      <th>3</th>\n",
       "      <td>3</td>\n",
       "      <td>998969850F</td>\n",
       "      <td>2014-01-02 14:30</td>\n",
       "      <td>174</td>\n",
       "      <td>186</td>\n",
       "      <td>52.0</td>\n",
       "      <td>0.0</td>\n",
       "      <td>10</td>\n",
       "      <td>Thursday</td>\n",
       "    </tr>\n",
       "    <tr>\n",
       "      <th>4</th>\n",
       "      <td>4</td>\n",
       "      <td>998969850F</td>\n",
       "      <td>2014-01-03 09:05</td>\n",
       "      <td>109</td>\n",
       "      <td>186</td>\n",
       "      <td>57.0</td>\n",
       "      <td>0.0</td>\n",
       "      <td>10</td>\n",
       "      <td>Friday</td>\n",
       "    </tr>\n",
       "  </tbody>\n",
       "</table>\n",
       "</div>"
      ],
      "text/plain": [
       "   Unnamed: 0    LINK_DIR         DATE_TIME  EPOCH_5MIN  LENGTH  MEAN  STDDEV  \\\n",
       "0           0  998969850F  2014-01-01 13:55         167     186  61.0     0.0   \n",
       "1           1  998969850F  2014-01-02 11:05         133     186  60.0     0.0   \n",
       "2           2  998969850F  2014-01-02 13:20         160     186  61.0     0.0   \n",
       "3           3  998969850F  2014-01-02 14:30         174     186  52.0     0.0   \n",
       "4           4  998969850F  2014-01-03 09:05         109     186  57.0     0.0   \n",
       "\n",
       "   CONFIDENCE        DOW  \n",
       "0          10  Wednesday  \n",
       "1          10   Thursday  \n",
       "2          10   Thursday  \n",
       "3          10   Thursday  \n",
       "4          10     Friday  "
      ]
     },
     "execution_count": 62,
     "metadata": {},
     "output_type": "execute_result"
    }
   ],
   "source": [
    "single_link = herepath[herepath['LINK_DIR']=='998969850F']\n",
    "single_link.head()"
   ]
  },
  {
   "cell_type": "code",
   "execution_count": 63,
   "metadata": {
    "collapsed": false
   },
   "outputs": [
    {
     "data": {
      "text/html": [
       "<div>\n",
       "<table border=\"1\" class=\"dataframe\">\n",
       "  <thead>\n",
       "    <tr style=\"text-align: right;\">\n",
       "      <th></th>\n",
       "      <th>Unnamed: 0</th>\n",
       "      <th>LINK_DIR</th>\n",
       "      <th>DATE_TIME</th>\n",
       "      <th>EPOCH_5MIN</th>\n",
       "      <th>LENGTH</th>\n",
       "      <th>MEAN</th>\n",
       "      <th>STDDEV</th>\n",
       "      <th>CONFIDENCE</th>\n",
       "      <th>DOW</th>\n",
       "    </tr>\n",
       "  </thead>\n",
       "  <tbody>\n",
       "    <tr>\n",
       "      <th>14</th>\n",
       "      <td>14</td>\n",
       "      <td>998969850F</td>\n",
       "      <td>2014-01-06 08:55</td>\n",
       "      <td>107</td>\n",
       "      <td>186</td>\n",
       "      <td>53.0</td>\n",
       "      <td>0.0</td>\n",
       "      <td>10</td>\n",
       "      <td>Monday</td>\n",
       "    </tr>\n",
       "    <tr>\n",
       "      <th>17</th>\n",
       "      <td>17</td>\n",
       "      <td>998969850F</td>\n",
       "      <td>2014-01-07 07:50</td>\n",
       "      <td>94</td>\n",
       "      <td>186</td>\n",
       "      <td>54.0</td>\n",
       "      <td>0.0</td>\n",
       "      <td>10</td>\n",
       "      <td>Tuesday</td>\n",
       "    </tr>\n",
       "    <tr>\n",
       "      <th>18</th>\n",
       "      <td>18</td>\n",
       "      <td>998969850F</td>\n",
       "      <td>2014-01-07 08:50</td>\n",
       "      <td>106</td>\n",
       "      <td>186</td>\n",
       "      <td>63.0</td>\n",
       "      <td>0.0</td>\n",
       "      <td>10</td>\n",
       "      <td>Tuesday</td>\n",
       "    </tr>\n",
       "    <tr>\n",
       "      <th>22</th>\n",
       "      <td>22</td>\n",
       "      <td>998969850F</td>\n",
       "      <td>2014-01-08 08:00</td>\n",
       "      <td>96</td>\n",
       "      <td>186</td>\n",
       "      <td>52.0</td>\n",
       "      <td>0.0</td>\n",
       "      <td>10</td>\n",
       "      <td>Wednesday</td>\n",
       "    </tr>\n",
       "    <tr>\n",
       "      <th>23</th>\n",
       "      <td>23</td>\n",
       "      <td>998969850F</td>\n",
       "      <td>2014-01-08 08:30</td>\n",
       "      <td>102</td>\n",
       "      <td>186</td>\n",
       "      <td>54.0</td>\n",
       "      <td>0.0</td>\n",
       "      <td>10</td>\n",
       "      <td>Wednesday</td>\n",
       "    </tr>\n",
       "  </tbody>\n",
       "</table>\n",
       "</div>"
      ],
      "text/plain": [
       "    Unnamed: 0    LINK_DIR         DATE_TIME  EPOCH_5MIN  LENGTH  MEAN  \\\n",
       "14          14  998969850F  2014-01-06 08:55         107     186  53.0   \n",
       "17          17  998969850F  2014-01-07 07:50          94     186  54.0   \n",
       "18          18  998969850F  2014-01-07 08:50         106     186  63.0   \n",
       "22          22  998969850F  2014-01-08 08:00          96     186  52.0   \n",
       "23          23  998969850F  2014-01-08 08:30         102     186  54.0   \n",
       "\n",
       "    STDDEV  CONFIDENCE        DOW  \n",
       "14     0.0          10     Monday  \n",
       "17     0.0          10    Tuesday  \n",
       "18     0.0          10    Tuesday  \n",
       "22     0.0          10  Wednesday  \n",
       "23     0.0          10  Wednesday  "
      ]
     },
     "execution_count": 63,
     "metadata": {},
     "output_type": "execute_result"
    }
   ],
   "source": [
    "#Range between 6AM-9AM\n",
    "Morning = single_link[(single_link['EPOCH_5MIN'] >= 72) & (single_link['EPOCH_5MIN'] <= 108)]\n",
    "Morning.head()"
   ]
  },
  {
   "cell_type": "code",
   "execution_count": 143,
   "metadata": {
    "collapsed": false
   },
   "outputs": [
    {
     "data": {
      "text/plain": [
       "['Monday', 'Tuesday', 'Wednesday', 'Thursday', 'Friday']"
      ]
     },
     "execution_count": 143,
     "metadata": {},
     "output_type": "execute_result"
    }
   ],
   "source": [
    "#For now, enter the weekdays desire here in full\n",
    "Weekdays = ['Monday','Tuesday','Wednesday','Thursday','Friday']\n",
    "Weekdays"
   ]
  },
  {
   "cell_type": "code",
   "execution_count": 144,
   "metadata": {
    "collapsed": true
   },
   "outputs": [],
   "source": [
    "#w = Link, x = input dataframe, y = beginning timeframe (in epoch), z = ending timeframe (in epoch).\n",
    "#Note the dataframe has to have an EPOCH_5MIN row to work.\n",
    "def timeframe3(w,x,y,z):\n",
    "    link = x[x['LINK_DIR']== w]\n",
    "    days = link[link['DOW'].isin(Weekdays)]\n",
    "    Timeframe = days[(days['EPOCH_5MIN'] >= y) & (days['EPOCH_5MIN'] <= z)]\n",
    "    return Timeframe"
   ]
  },
  {
   "cell_type": "code",
   "execution_count": 145,
   "metadata": {
    "collapsed": false
   },
   "outputs": [],
   "source": [
    "herefinal = timeframe3('998969850F',herepath,150,222)"
   ]
  },
  {
   "cell_type": "code",
   "execution_count": 139,
   "metadata": {
    "collapsed": false
   },
   "outputs": [
    {
     "data": {
      "text/html": [
       "<div>\n",
       "<table border=\"1\" class=\"dataframe\">\n",
       "  <thead>\n",
       "    <tr style=\"text-align: right;\">\n",
       "      <th></th>\n",
       "      <th>Unnamed: 0</th>\n",
       "      <th>LINK_DIR</th>\n",
       "      <th>DATE_TIME</th>\n",
       "      <th>EPOCH_5MIN</th>\n",
       "      <th>LENGTH</th>\n",
       "      <th>MEAN</th>\n",
       "      <th>STDDEV</th>\n",
       "      <th>CONFIDENCE</th>\n",
       "      <th>DOW</th>\n",
       "    </tr>\n",
       "  </thead>\n",
       "  <tbody>\n",
       "    <tr>\n",
       "      <th>0</th>\n",
       "      <td>0</td>\n",
       "      <td>998969850F</td>\n",
       "      <td>2014-01-01 13:55</td>\n",
       "      <td>167</td>\n",
       "      <td>186</td>\n",
       "      <td>61.0</td>\n",
       "      <td>0.0</td>\n",
       "      <td>10</td>\n",
       "      <td>Wednesday</td>\n",
       "    </tr>\n",
       "    <tr>\n",
       "      <th>25</th>\n",
       "      <td>25</td>\n",
       "      <td>998969850F</td>\n",
       "      <td>2014-01-08 13:25</td>\n",
       "      <td>161</td>\n",
       "      <td>186</td>\n",
       "      <td>53.0</td>\n",
       "      <td>0.0</td>\n",
       "      <td>10</td>\n",
       "      <td>Wednesday</td>\n",
       "    </tr>\n",
       "    <tr>\n",
       "      <th>26</th>\n",
       "      <td>26</td>\n",
       "      <td>998969850F</td>\n",
       "      <td>2014-01-08 14:00</td>\n",
       "      <td>168</td>\n",
       "      <td>186</td>\n",
       "      <td>62.0</td>\n",
       "      <td>0.0</td>\n",
       "      <td>10</td>\n",
       "      <td>Wednesday</td>\n",
       "    </tr>\n",
       "    <tr>\n",
       "      <th>27</th>\n",
       "      <td>27</td>\n",
       "      <td>998969850F</td>\n",
       "      <td>2014-01-08 15:35</td>\n",
       "      <td>187</td>\n",
       "      <td>186</td>\n",
       "      <td>52.0</td>\n",
       "      <td>0.0</td>\n",
       "      <td>10</td>\n",
       "      <td>Wednesday</td>\n",
       "    </tr>\n",
       "    <tr>\n",
       "      <th>28</th>\n",
       "      <td>28</td>\n",
       "      <td>998969850F</td>\n",
       "      <td>2014-01-08 16:45</td>\n",
       "      <td>201</td>\n",
       "      <td>186</td>\n",
       "      <td>52.0</td>\n",
       "      <td>0.0</td>\n",
       "      <td>10</td>\n",
       "      <td>Wednesday</td>\n",
       "    </tr>\n",
       "  </tbody>\n",
       "</table>\n",
       "</div>"
      ],
      "text/plain": [
       "    Unnamed: 0    LINK_DIR         DATE_TIME  EPOCH_5MIN  LENGTH  MEAN  \\\n",
       "0            0  998969850F  2014-01-01 13:55         167     186  61.0   \n",
       "25          25  998969850F  2014-01-08 13:25         161     186  53.0   \n",
       "26          26  998969850F  2014-01-08 14:00         168     186  62.0   \n",
       "27          27  998969850F  2014-01-08 15:35         187     186  52.0   \n",
       "28          28  998969850F  2014-01-08 16:45         201     186  52.0   \n",
       "\n",
       "    STDDEV  CONFIDENCE        DOW  \n",
       "0      0.0          10  Wednesday  \n",
       "25     0.0          10  Wednesday  \n",
       "26     0.0          10  Wednesday  \n",
       "27     0.0          10  Wednesday  \n",
       "28     0.0          10  Wednesday  "
      ]
     },
     "execution_count": 139,
     "metadata": {},
     "output_type": "execute_result"
    }
   ],
   "source": [
    "#Confirmed with herepoint dataset and pivot table.  The function works\n",
    "herefinal.head()"
   ]
  },
  {
   "cell_type": "code",
   "execution_count": 68,
   "metadata": {
    "collapsed": false
   },
   "outputs": [
    {
     "name": "stdout",
     "output_type": "stream",
     "text": [
      "52.61036204744071\n",
      "14.841661968720276\n"
     ]
    }
   ],
   "source": [
    "#Computes the mean and standard deviation of the specified data\n",
    "print(herefinal['MEAN'].mean())\n",
    "print(herefinal['MEAN'].std())"
   ]
  },
  {
   "cell_type": "code",
   "execution_count": 69,
   "metadata": {
    "collapsed": false
   },
   "outputs": [
    {
     "name": "stdout",
     "output_type": "stream",
     "text": [
      "{}\n"
     ]
    }
   ],
   "source": [
    "#holidays\n",
    "from datetime import date\n",
    "import holidays\n",
    "US_holidays = holidays.US()\n",
    "print(US_holidays)"
   ]
  },
  {
   "cell_type": "code",
   "execution_count": 140,
   "metadata": {
    "collapsed": false
   },
   "outputs": [
    {
     "data": {
      "text/plain": [
       "['2014-01-01',\n",
       " '2014-05-26',\n",
       " '2014-07-04',\n",
       " '2014-09-01',\n",
       " '2014-11-27',\n",
       " '2014-11-28',\n",
       " '2014-12-25']"
      ]
     },
     "execution_count": 140,
     "metadata": {},
     "output_type": "execute_result"
    }
   ],
   "source": [
    "#Also a datetime function available, but for the 2014 holidays list this will be what I use for the time being.\n",
    "#Cannot confirm or deny that the US holidays in datetime's holidays class is consistent with the HERE list\n",
    "us_holidays = ['2014-01-01', '2014-05-26', \n",
    "               '2014-07-04', '2014-09-01', '2014-11-27', \n",
    "               '2014-11-28', '2014-12-25']\n",
    "us_holidays"
   ]
  },
  {
   "cell_type": "code",
   "execution_count": 96,
   "metadata": {
    "collapsed": false
   },
   "outputs": [
    {
     "data": {
      "text/html": [
       "<div>\n",
       "<table border=\"1\" class=\"dataframe\">\n",
       "  <thead>\n",
       "    <tr style=\"text-align: right;\">\n",
       "      <th></th>\n",
       "      <th>Unnamed: 0</th>\n",
       "      <th>LINK_DIR</th>\n",
       "      <th>DATE_TIME</th>\n",
       "      <th>EPOCH_5MIN</th>\n",
       "      <th>LENGTH</th>\n",
       "      <th>MEAN</th>\n",
       "      <th>STDDEV</th>\n",
       "      <th>CONFIDENCE</th>\n",
       "      <th>DOW</th>\n",
       "      <th>DATE</th>\n",
       "    </tr>\n",
       "  </thead>\n",
       "  <tbody>\n",
       "    <tr>\n",
       "      <th>0</th>\n",
       "      <td>0</td>\n",
       "      <td>998969850F</td>\n",
       "      <td>2014-01-01 13:55</td>\n",
       "      <td>167</td>\n",
       "      <td>186</td>\n",
       "      <td>61.0</td>\n",
       "      <td>0.0</td>\n",
       "      <td>10</td>\n",
       "      <td>Wednesday</td>\n",
       "      <td>2014-01-01</td>\n",
       "    </tr>\n",
       "    <tr>\n",
       "      <th>25</th>\n",
       "      <td>25</td>\n",
       "      <td>998969850F</td>\n",
       "      <td>2014-01-08 13:25</td>\n",
       "      <td>161</td>\n",
       "      <td>186</td>\n",
       "      <td>53.0</td>\n",
       "      <td>0.0</td>\n",
       "      <td>10</td>\n",
       "      <td>Wednesday</td>\n",
       "      <td>2014-01-08</td>\n",
       "    </tr>\n",
       "    <tr>\n",
       "      <th>26</th>\n",
       "      <td>26</td>\n",
       "      <td>998969850F</td>\n",
       "      <td>2014-01-08 14:00</td>\n",
       "      <td>168</td>\n",
       "      <td>186</td>\n",
       "      <td>62.0</td>\n",
       "      <td>0.0</td>\n",
       "      <td>10</td>\n",
       "      <td>Wednesday</td>\n",
       "      <td>2014-01-08</td>\n",
       "    </tr>\n",
       "    <tr>\n",
       "      <th>27</th>\n",
       "      <td>27</td>\n",
       "      <td>998969850F</td>\n",
       "      <td>2014-01-08 15:35</td>\n",
       "      <td>187</td>\n",
       "      <td>186</td>\n",
       "      <td>52.0</td>\n",
       "      <td>0.0</td>\n",
       "      <td>10</td>\n",
       "      <td>Wednesday</td>\n",
       "      <td>2014-01-08</td>\n",
       "    </tr>\n",
       "    <tr>\n",
       "      <th>28</th>\n",
       "      <td>28</td>\n",
       "      <td>998969850F</td>\n",
       "      <td>2014-01-08 16:45</td>\n",
       "      <td>201</td>\n",
       "      <td>186</td>\n",
       "      <td>52.0</td>\n",
       "      <td>0.0</td>\n",
       "      <td>10</td>\n",
       "      <td>Wednesday</td>\n",
       "      <td>2014-01-08</td>\n",
       "    </tr>\n",
       "  </tbody>\n",
       "</table>\n",
       "</div>"
      ],
      "text/plain": [
       "    Unnamed: 0    LINK_DIR         DATE_TIME  EPOCH_5MIN  LENGTH  MEAN  \\\n",
       "0            0  998969850F  2014-01-01 13:55         167     186  61.0   \n",
       "25          25  998969850F  2014-01-08 13:25         161     186  53.0   \n",
       "26          26  998969850F  2014-01-08 14:00         168     186  62.0   \n",
       "27          27  998969850F  2014-01-08 15:35         187     186  52.0   \n",
       "28          28  998969850F  2014-01-08 16:45         201     186  52.0   \n",
       "\n",
       "    STDDEV  CONFIDENCE        DOW        DATE  \n",
       "0      0.0          10  Wednesday  2014-01-01  \n",
       "25     0.0          10  Wednesday  2014-01-08  \n",
       "26     0.0          10  Wednesday  2014-01-08  \n",
       "27     0.0          10  Wednesday  2014-01-08  \n",
       "28     0.0          10  Wednesday  2014-01-08  "
      ]
     },
     "execution_count": 96,
     "metadata": {},
     "output_type": "execute_result"
    }
   ],
   "source": [
    "herefinal['DATE'] = herefinal['DATE_TIME'].str.split(' ').str[0]\n",
    "herefinal.head()"
   ]
  },
  {
   "cell_type": "code",
   "execution_count": 110,
   "metadata": {
    "collapsed": false
   },
   "outputs": [],
   "source": [
    "hday = herefinal[herefinal['DATE'].isin(us_holidays)]"
   ]
  },
  {
   "cell_type": "code",
   "execution_count": 111,
   "metadata": {
    "collapsed": false
   },
   "outputs": [
    {
     "data": {
      "text/html": [
       "<div>\n",
       "<table border=\"1\" class=\"dataframe\">\n",
       "  <thead>\n",
       "    <tr style=\"text-align: right;\">\n",
       "      <th></th>\n",
       "      <th>Unnamed: 0</th>\n",
       "      <th>LINK_DIR</th>\n",
       "      <th>DATE_TIME</th>\n",
       "      <th>EPOCH_5MIN</th>\n",
       "      <th>LENGTH</th>\n",
       "      <th>MEAN</th>\n",
       "      <th>STDDEV</th>\n",
       "      <th>CONFIDENCE</th>\n",
       "      <th>DOW</th>\n",
       "      <th>DATE</th>\n",
       "    </tr>\n",
       "  </thead>\n",
       "  <tbody>\n",
       "    <tr>\n",
       "      <th>0</th>\n",
       "      <td>0</td>\n",
       "      <td>998969850F</td>\n",
       "      <td>2014-01-01 13:55</td>\n",
       "      <td>167</td>\n",
       "      <td>186</td>\n",
       "      <td>61.0</td>\n",
       "      <td>0.0</td>\n",
       "      <td>10</td>\n",
       "      <td>Wednesday</td>\n",
       "      <td>2014-01-01</td>\n",
       "    </tr>\n",
       "    <tr>\n",
       "      <th>1100</th>\n",
       "      <td>1100</td>\n",
       "      <td>998969850F</td>\n",
       "      <td>2014-05-26 14:15</td>\n",
       "      <td>171</td>\n",
       "      <td>186</td>\n",
       "      <td>76.0</td>\n",
       "      <td>0.0</td>\n",
       "      <td>10</td>\n",
       "      <td>Monday</td>\n",
       "      <td>2014-05-26</td>\n",
       "    </tr>\n",
       "    <tr>\n",
       "      <th>1101</th>\n",
       "      <td>1101</td>\n",
       "      <td>998969850F</td>\n",
       "      <td>2014-05-26 15:05</td>\n",
       "      <td>181</td>\n",
       "      <td>186</td>\n",
       "      <td>65.0</td>\n",
       "      <td>0.0</td>\n",
       "      <td>10</td>\n",
       "      <td>Monday</td>\n",
       "      <td>2014-05-26</td>\n",
       "    </tr>\n",
       "    <tr>\n",
       "      <th>1102</th>\n",
       "      <td>1102</td>\n",
       "      <td>998969850F</td>\n",
       "      <td>2014-05-26 17:25</td>\n",
       "      <td>209</td>\n",
       "      <td>186</td>\n",
       "      <td>31.0</td>\n",
       "      <td>0.0</td>\n",
       "      <td>10</td>\n",
       "      <td>Monday</td>\n",
       "      <td>2014-05-26</td>\n",
       "    </tr>\n",
       "    <tr>\n",
       "      <th>1103</th>\n",
       "      <td>1103</td>\n",
       "      <td>998969850F</td>\n",
       "      <td>2014-05-26 17:30</td>\n",
       "      <td>210</td>\n",
       "      <td>186</td>\n",
       "      <td>52.0</td>\n",
       "      <td>0.0</td>\n",
       "      <td>10</td>\n",
       "      <td>Monday</td>\n",
       "      <td>2014-05-26</td>\n",
       "    </tr>\n",
       "    <tr>\n",
       "      <th>1968</th>\n",
       "      <td>1968</td>\n",
       "      <td>998969850F</td>\n",
       "      <td>2014-09-01 12:35</td>\n",
       "      <td>151</td>\n",
       "      <td>186</td>\n",
       "      <td>79.0</td>\n",
       "      <td>0.0</td>\n",
       "      <td>10</td>\n",
       "      <td>Monday</td>\n",
       "      <td>2014-09-01</td>\n",
       "    </tr>\n",
       "    <tr>\n",
       "      <th>1969</th>\n",
       "      <td>1969</td>\n",
       "      <td>998969850F</td>\n",
       "      <td>2014-09-01 17:35</td>\n",
       "      <td>211</td>\n",
       "      <td>186</td>\n",
       "      <td>63.0</td>\n",
       "      <td>0.0</td>\n",
       "      <td>10</td>\n",
       "      <td>Monday</td>\n",
       "      <td>2014-09-01</td>\n",
       "    </tr>\n",
       "  </tbody>\n",
       "</table>\n",
       "</div>"
      ],
      "text/plain": [
       "      Unnamed: 0    LINK_DIR         DATE_TIME  EPOCH_5MIN  LENGTH  MEAN  \\\n",
       "0              0  998969850F  2014-01-01 13:55         167     186  61.0   \n",
       "1100        1100  998969850F  2014-05-26 14:15         171     186  76.0   \n",
       "1101        1101  998969850F  2014-05-26 15:05         181     186  65.0   \n",
       "1102        1102  998969850F  2014-05-26 17:25         209     186  31.0   \n",
       "1103        1103  998969850F  2014-05-26 17:30         210     186  52.0   \n",
       "1968        1968  998969850F  2014-09-01 12:35         151     186  79.0   \n",
       "1969        1969  998969850F  2014-09-01 17:35         211     186  63.0   \n",
       "\n",
       "      STDDEV  CONFIDENCE        DOW        DATE  \n",
       "0        0.0          10  Wednesday  2014-01-01  \n",
       "1100     0.0          10     Monday  2014-05-26  \n",
       "1101     0.0          10     Monday  2014-05-26  \n",
       "1102     0.0          10     Monday  2014-05-26  \n",
       "1103     0.0          10     Monday  2014-05-26  \n",
       "1968     0.0          10     Monday  2014-09-01  \n",
       "1969     0.0          10     Monday  2014-09-01  "
      ]
     },
     "execution_count": 111,
     "metadata": {},
     "output_type": "execute_result"
    }
   ],
   "source": [
    "hday"
   ]
  },
  {
   "cell_type": "code",
   "execution_count": 108,
   "metadata": {
    "collapsed": false
   },
   "outputs": [],
   "source": [
    "df = herefinal[~herefinal.isin(hday)].dropna()"
   ]
  },
  {
   "cell_type": "code",
   "execution_count": 114,
   "metadata": {
    "collapsed": false
   },
   "outputs": [
    {
     "data": {
      "text/html": [
       "<div>\n",
       "<table border=\"1\" class=\"dataframe\">\n",
       "  <thead>\n",
       "    <tr style=\"text-align: right;\">\n",
       "      <th></th>\n",
       "      <th>Unnamed: 0</th>\n",
       "      <th>LINK_DIR</th>\n",
       "      <th>DATE_TIME</th>\n",
       "      <th>EPOCH_5MIN</th>\n",
       "      <th>LENGTH</th>\n",
       "      <th>MEAN</th>\n",
       "      <th>STDDEV</th>\n",
       "      <th>CONFIDENCE</th>\n",
       "      <th>DOW</th>\n",
       "      <th>DATE</th>\n",
       "    </tr>\n",
       "  </thead>\n",
       "  <tbody>\n",
       "    <tr>\n",
       "      <th>25</th>\n",
       "      <td>25.0</td>\n",
       "      <td>998969850F</td>\n",
       "      <td>2014-01-08 13:25</td>\n",
       "      <td>161.0</td>\n",
       "      <td>186.0</td>\n",
       "      <td>53.0</td>\n",
       "      <td>0.0</td>\n",
       "      <td>10.0</td>\n",
       "      <td>Wednesday</td>\n",
       "      <td>2014-01-08</td>\n",
       "    </tr>\n",
       "    <tr>\n",
       "      <th>26</th>\n",
       "      <td>26.0</td>\n",
       "      <td>998969850F</td>\n",
       "      <td>2014-01-08 14:00</td>\n",
       "      <td>168.0</td>\n",
       "      <td>186.0</td>\n",
       "      <td>62.0</td>\n",
       "      <td>0.0</td>\n",
       "      <td>10.0</td>\n",
       "      <td>Wednesday</td>\n",
       "      <td>2014-01-08</td>\n",
       "    </tr>\n",
       "    <tr>\n",
       "      <th>27</th>\n",
       "      <td>27.0</td>\n",
       "      <td>998969850F</td>\n",
       "      <td>2014-01-08 15:35</td>\n",
       "      <td>187.0</td>\n",
       "      <td>186.0</td>\n",
       "      <td>52.0</td>\n",
       "      <td>0.0</td>\n",
       "      <td>10.0</td>\n",
       "      <td>Wednesday</td>\n",
       "      <td>2014-01-08</td>\n",
       "    </tr>\n",
       "    <tr>\n",
       "      <th>28</th>\n",
       "      <td>28.0</td>\n",
       "      <td>998969850F</td>\n",
       "      <td>2014-01-08 16:45</td>\n",
       "      <td>201.0</td>\n",
       "      <td>186.0</td>\n",
       "      <td>52.0</td>\n",
       "      <td>0.0</td>\n",
       "      <td>10.0</td>\n",
       "      <td>Wednesday</td>\n",
       "      <td>2014-01-08</td>\n",
       "    </tr>\n",
       "    <tr>\n",
       "      <th>29</th>\n",
       "      <td>29.0</td>\n",
       "      <td>998969850F</td>\n",
       "      <td>2014-01-08 17:05</td>\n",
       "      <td>205.0</td>\n",
       "      <td>186.0</td>\n",
       "      <td>53.0</td>\n",
       "      <td>0.0</td>\n",
       "      <td>10.0</td>\n",
       "      <td>Wednesday</td>\n",
       "      <td>2014-01-08</td>\n",
       "    </tr>\n",
       "  </tbody>\n",
       "</table>\n",
       "</div>"
      ],
      "text/plain": [
       "    Unnamed: 0    LINK_DIR         DATE_TIME  EPOCH_5MIN  LENGTH  MEAN  \\\n",
       "25        25.0  998969850F  2014-01-08 13:25       161.0   186.0  53.0   \n",
       "26        26.0  998969850F  2014-01-08 14:00       168.0   186.0  62.0   \n",
       "27        27.0  998969850F  2014-01-08 15:35       187.0   186.0  52.0   \n",
       "28        28.0  998969850F  2014-01-08 16:45       201.0   186.0  52.0   \n",
       "29        29.0  998969850F  2014-01-08 17:05       205.0   186.0  53.0   \n",
       "\n",
       "    STDDEV  CONFIDENCE        DOW        DATE  \n",
       "25     0.0        10.0  Wednesday  2014-01-08  \n",
       "26     0.0        10.0  Wednesday  2014-01-08  \n",
       "27     0.0        10.0  Wednesday  2014-01-08  \n",
       "28     0.0        10.0  Wednesday  2014-01-08  \n",
       "29     0.0        10.0  Wednesday  2014-01-08  "
      ]
     },
     "execution_count": 114,
     "metadata": {},
     "output_type": "execute_result"
    }
   ],
   "source": [
    "df.head()"
   ]
  },
  {
   "cell_type": "code",
   "execution_count": 141,
   "metadata": {
    "collapsed": true
   },
   "outputs": [],
   "source": [
    "#function to filter holidays from any dataframe\n",
    "def hday(y): \n",
    "    us_holidays = ['2014-01-01', '2014-05-26', \n",
    "                   '2014-07-04', '2014-09-01', '2014-11-27', \n",
    "                   '2014-11-28', '2014-12-25']\n",
    "    y['DATE'] = y['DATE_TIME'].str.split(' ').str[0]\n",
    "    x = y[y['DATE'].isin(us_holidays)]\n",
    "    z = y[~y.isin(x)].dropna()\n",
    "    return z"
   ]
  },
  {
   "cell_type": "code",
   "execution_count": 146,
   "metadata": {
    "collapsed": false
   },
   "outputs": [
    {
     "data": {
      "text/plain": [
       "1313"
      ]
     },
     "execution_count": 146,
     "metadata": {},
     "output_type": "execute_result"
    }
   ],
   "source": [
    "hday2 = hday(herefinal)\n",
    "len(hday2)"
   ]
  },
  {
   "cell_type": "code",
   "execution_count": 133,
   "metadata": {
    "collapsed": false
   },
   "outputs": [
    {
     "data": {
      "text/html": [
       "<div>\n",
       "<table border=\"1\" class=\"dataframe\">\n",
       "  <thead>\n",
       "    <tr style=\"text-align: right;\">\n",
       "      <th></th>\n",
       "      <th>Unnamed: 0</th>\n",
       "      <th>LINK_DIR</th>\n",
       "      <th>DATE_TIME</th>\n",
       "      <th>EPOCH_5MIN</th>\n",
       "      <th>LENGTH</th>\n",
       "      <th>MEAN</th>\n",
       "      <th>STDDEV</th>\n",
       "      <th>CONFIDENCE</th>\n",
       "      <th>DOW</th>\n",
       "      <th>DATE</th>\n",
       "    </tr>\n",
       "  </thead>\n",
       "  <tbody>\n",
       "  </tbody>\n",
       "</table>\n",
       "</div>"
      ],
      "text/plain": [
       "Empty DataFrame\n",
       "Columns: [Unnamed: 0, LINK_DIR, DATE_TIME, EPOCH_5MIN, LENGTH, MEAN, STDDEV, CONFIDENCE, DOW, DATE]\n",
       "Index: []"
      ]
     },
     "execution_count": 133,
     "metadata": {},
     "output_type": "execute_result"
    }
   ],
   "source": [
    "#Checker to see if it works\n",
    "hday2 = hday2[hday2['DATE'].isin(us_holidays)]\n",
    "hday2"
   ]
  },
  {
   "cell_type": "code",
   "execution_count": null,
   "metadata": {
    "collapsed": true
   },
   "outputs": [],
   "source": []
  }
 ],
 "metadata": {
  "anaconda-cloud": {},
  "kernelspec": {
   "display_name": "Python [default]",
   "language": "python",
   "name": "python3"
  },
  "language_info": {
   "codemirror_mode": {
    "name": "ipython",
    "version": 3
   },
   "file_extension": ".py",
   "mimetype": "text/x-python",
   "name": "python",
   "nbconvert_exporter": "python",
   "pygments_lexer": "ipython3",
   "version": "3.5.2"
  }
 },
 "nbformat": 4,
 "nbformat_minor": 1
}
