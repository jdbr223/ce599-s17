{
 "cells": [
  {
   "cell_type": "code",
   "execution_count": 1,
   "metadata": {
    "collapsed": false
   },
   "outputs": [],
   "source": [
    "# magic command to display matplotlib plots inline within the ipython notebook webpage\n",
    "%matplotlib inline\n",
    "\n",
    "# import necessary modules\n",
    "import pandas as pd, numpy as np, matplotlib.pyplot as plt\n",
    "import matplotlib.cm as cm, matplotlib.font_manager as fm\n",
    "import datetime\n",
    "import seaborn as sns\n",
    "sns.set(color_codes=True)\n",
    "import geopandas as gp\n",
    "from scipy import stats, integrate"
   ]
  },
  {
   "cell_type": "code",
   "execution_count": 2,
   "metadata": {
    "collapsed": false
   },
   "outputs": [
    {
     "data": {
      "text/html": [
       "<div>\n",
       "<table border=\"1\" class=\"dataframe\">\n",
       "  <thead>\n",
       "    <tr style=\"text-align: right;\">\n",
       "      <th></th>\n",
       "      <th>LINK_DIR</th>\n",
       "      <th>DATE_TIME</th>\n",
       "      <th>EPOCH_5MIN</th>\n",
       "      <th>LENGTH</th>\n",
       "      <th>SPDLIMIT</th>\n",
       "      <th>MEAN</th>\n",
       "      <th>STDDEV</th>\n",
       "      <th>MIN</th>\n",
       "      <th>MAX</th>\n",
       "      <th>CONFIDENCE</th>\n",
       "      <th>PCT_5</th>\n",
       "      <th>PCT_50</th>\n",
       "      <th>PCT_85</th>\n",
       "      <th>DOW</th>\n",
       "    </tr>\n",
       "  </thead>\n",
       "  <tbody>\n",
       "    <tr>\n",
       "      <th>0</th>\n",
       "      <td>998969850F</td>\n",
       "      <td>2014-01-01 13:55</td>\n",
       "      <td>167</td>\n",
       "      <td>186</td>\n",
       "      <td>72</td>\n",
       "      <td>61.0</td>\n",
       "      <td>0.0</td>\n",
       "      <td>61</td>\n",
       "      <td>61</td>\n",
       "      <td>10</td>\n",
       "      <td>61</td>\n",
       "      <td>61</td>\n",
       "      <td>61</td>\n",
       "      <td>Wednesday</td>\n",
       "    </tr>\n",
       "    <tr>\n",
       "      <th>1</th>\n",
       "      <td>998969850F</td>\n",
       "      <td>2014-01-02 11:05</td>\n",
       "      <td>133</td>\n",
       "      <td>186</td>\n",
       "      <td>72</td>\n",
       "      <td>60.0</td>\n",
       "      <td>0.0</td>\n",
       "      <td>60</td>\n",
       "      <td>60</td>\n",
       "      <td>10</td>\n",
       "      <td>60</td>\n",
       "      <td>60</td>\n",
       "      <td>60</td>\n",
       "      <td>Thursday</td>\n",
       "    </tr>\n",
       "    <tr>\n",
       "      <th>2</th>\n",
       "      <td>998969850F</td>\n",
       "      <td>2014-01-02 13:20</td>\n",
       "      <td>160</td>\n",
       "      <td>186</td>\n",
       "      <td>72</td>\n",
       "      <td>61.0</td>\n",
       "      <td>0.0</td>\n",
       "      <td>61</td>\n",
       "      <td>61</td>\n",
       "      <td>10</td>\n",
       "      <td>61</td>\n",
       "      <td>61</td>\n",
       "      <td>61</td>\n",
       "      <td>Thursday</td>\n",
       "    </tr>\n",
       "    <tr>\n",
       "      <th>3</th>\n",
       "      <td>998969850F</td>\n",
       "      <td>2014-01-02 14:30</td>\n",
       "      <td>174</td>\n",
       "      <td>186</td>\n",
       "      <td>72</td>\n",
       "      <td>52.0</td>\n",
       "      <td>0.0</td>\n",
       "      <td>52</td>\n",
       "      <td>52</td>\n",
       "      <td>10</td>\n",
       "      <td>52</td>\n",
       "      <td>52</td>\n",
       "      <td>52</td>\n",
       "      <td>Thursday</td>\n",
       "    </tr>\n",
       "    <tr>\n",
       "      <th>4</th>\n",
       "      <td>998969850F</td>\n",
       "      <td>2014-01-03 09:05</td>\n",
       "      <td>109</td>\n",
       "      <td>186</td>\n",
       "      <td>72</td>\n",
       "      <td>57.0</td>\n",
       "      <td>0.0</td>\n",
       "      <td>57</td>\n",
       "      <td>57</td>\n",
       "      <td>10</td>\n",
       "      <td>57</td>\n",
       "      <td>57</td>\n",
       "      <td>57</td>\n",
       "      <td>Friday</td>\n",
       "    </tr>\n",
       "  </tbody>\n",
       "</table>\n",
       "</div>"
      ],
      "text/plain": [
       "     LINK_DIR         DATE_TIME  EPOCH_5MIN  LENGTH  SPDLIMIT  MEAN  STDDEV  \\\n",
       "0  998969850F  2014-01-01 13:55         167     186        72  61.0     0.0   \n",
       "1  998969850F  2014-01-02 11:05         133     186        72  60.0     0.0   \n",
       "2  998969850F  2014-01-02 13:20         160     186        72  61.0     0.0   \n",
       "3  998969850F  2014-01-02 14:30         174     186        72  52.0     0.0   \n",
       "4  998969850F  2014-01-03 09:05         109     186        72  57.0     0.0   \n",
       "\n",
       "   MIN  MAX  CONFIDENCE  PCT_5  PCT_50  PCT_85        DOW  \n",
       "0   61   61          10     61      61      61  Wednesday  \n",
       "1   60   60          10     60      60      60   Thursday  \n",
       "2   61   61          10     61      61      61   Thursday  \n",
       "3   52   52          10     52      52      52   Thursday  \n",
       "4   57   57          10     57      57      57     Friday  "
      ]
     },
     "execution_count": 2,
     "metadata": {},
     "output_type": "execute_result"
    }
   ],
   "source": [
    "herepath = pd.read_csv('data/MOW_Path_Speed_5Min_2014_DOW_SpeedLimit.csv', encoding='utf-8')\n",
    "herepath.head()"
   ]
  },
  {
   "cell_type": "code",
   "execution_count": 6,
   "metadata": {
    "collapsed": false
   },
   "outputs": [
    {
     "data": {
      "text/plain": [
       "['Monday', 'Tuesday', 'Wednesday', 'Thursday', 'Friday']"
      ]
     },
     "execution_count": 6,
     "metadata": {},
     "output_type": "execute_result"
    }
   ],
   "source": [
    "#For now, enter the weekdays desire here in full\n",
    "Weekday = ['Monday','Tuesday','Wednesday','Thursday','Friday']\n",
    "Weekday"
   ]
  },
  {
   "cell_type": "code",
   "execution_count": 7,
   "metadata": {
    "collapsed": false
   },
   "outputs": [
    {
     "data": {
      "text/plain": [
       "['Saturday', 'Sunday']"
      ]
     },
     "execution_count": 7,
     "metadata": {},
     "output_type": "execute_result"
    }
   ],
   "source": [
    "Weekend = ['Saturday','Sunday']\n",
    "Weekend"
   ]
  },
  {
   "cell_type": "code",
   "execution_count": 8,
   "metadata": {
    "collapsed": false
   },
   "outputs": [
    {
     "data": {
      "text/plain": [
       "['Monday', 'Tuesday', 'Wednesday', 'Thursday', 'Friday', 'Saturday', 'Sunday']"
      ]
     },
     "execution_count": 8,
     "metadata": {},
     "output_type": "execute_result"
    }
   ],
   "source": [
    "Both = ['Monday','Tuesday','Wednesday','Thursday','Friday','Saturday','Sunday']\n",
    "Both"
   ]
  },
  {
   "cell_type": "code",
   "execution_count": 9,
   "metadata": {
    "collapsed": true
   },
   "outputs": [],
   "source": [
    "#w = Link, x = input dataframe, y = beginning timeframe (in epoch), z = ending timeframe (in epoch), \n",
    "#h = holiday (y or n), d = weekend or weekday\n",
    "#Note the dataframe has to have an EPOCH_5MIN row to work.\n",
    "#Also, this is ONLY for a single-link dataframe\n",
    "def timeframe(w,x,y,z,h,d):\n",
    "    us_holidays = ['2014-01-01', '2014-05-26', \n",
    "                   '2014-07-04', '2014-09-01', '2014-11-27', \n",
    "                   '2014-11-28', '2014-12-25']\n",
    "    if h == True:\n",
    "        x['DATE'] = x['DATE_TIME'].str.split(' ').str[0]\n",
    "        r = x[x['DATE'].isin(us_holidays)]\n",
    "        v = x[~x.isin(r)].dropna()\n",
    "        link = v[v['LINK_DIR']== w]\n",
    "        days = link[link['DOW'].isin(d)]\n",
    "        Timeframe = days[(days['EPOCH_5MIN'] >= y) & (days['EPOCH_5MIN'] <= z)]\n",
    "        return Timeframe\n",
    "    else:\n",
    "        link = x[x['LINK_DIR']== w]\n",
    "        days = link[link['DOW'].isin(d)]\n",
    "        Timeframe = days[(days['EPOCH_5MIN'] >= y) & (days['EPOCH_5MIN'] <= z)]\n",
    "        return Timeframe"
   ]
  },
  {
   "cell_type": "code",
   "execution_count": 10,
   "metadata": {
    "collapsed": true
   },
   "outputs": [],
   "source": [
    "#w = Link, x = input dataframe, y = beginning timeframe (in epoch), z = ending timeframe (in epoch), \n",
    "#h = holiday (y or n), d = weekend or weekday\n",
    "#Note the dataframe has to have an EPOCH_5MIN row to work.\n",
    "#Also, this is ONLY for a single-link dataframe\n",
    "def timeframe2(x,y,z,h,d):\n",
    "    us_holidays = ['2014-01-01', '2014-05-26', \n",
    "                   '2014-07-04', '2014-09-01', '2014-11-27', \n",
    "                   '2014-11-28', '2014-12-25']\n",
    "    if h == True:\n",
    "        x['DATE'] = x['DATE_TIME'].str.split(' ').str[0]\n",
    "        r = x[x['DATE'].isin(us_holidays)]\n",
    "        v = x[~x.isin(r)].dropna()\n",
    "        days = x[x['DOW'].isin(d)]\n",
    "        Timeframe = days[(days['EPOCH_5MIN'] >= y) & (days['EPOCH_5MIN'] <= z)]\n",
    "        return Timeframe\n",
    "    else:\n",
    "        days = x[x['DOW'].isin(d)]\n",
    "        Timeframe = days[(days['EPOCH_5MIN'] >= y) & (days['EPOCH_5MIN'] <= z)]\n",
    "        return Timeframe"
   ]
  },
  {
   "cell_type": "code",
   "execution_count": 8,
   "metadata": {
    "collapsed": false
   },
   "outputs": [
    {
     "data": {
      "text/html": [
       "<div>\n",
       "<table border=\"1\" class=\"dataframe\">\n",
       "  <thead>\n",
       "    <tr style=\"text-align: right;\">\n",
       "      <th></th>\n",
       "      <th>Unnamed: 0</th>\n",
       "      <th>LINK_DIR</th>\n",
       "      <th>DATE_TIME</th>\n",
       "      <th>EPOCH_5MIN</th>\n",
       "      <th>LENGTH</th>\n",
       "      <th>MEAN</th>\n",
       "      <th>STDDEV</th>\n",
       "      <th>CONFIDENCE</th>\n",
       "      <th>DOW</th>\n",
       "      <th>DATE</th>\n",
       "    </tr>\n",
       "  </thead>\n",
       "  <tbody>\n",
       "    <tr>\n",
       "      <th>0</th>\n",
       "      <td>0</td>\n",
       "      <td>998969850F</td>\n",
       "      <td>2014-01-01 13:55</td>\n",
       "      <td>167</td>\n",
       "      <td>186</td>\n",
       "      <td>61.0</td>\n",
       "      <td>0.0</td>\n",
       "      <td>10</td>\n",
       "      <td>Wednesday</td>\n",
       "      <td>2014-01-01</td>\n",
       "    </tr>\n",
       "    <tr>\n",
       "      <th>1099</th>\n",
       "      <td>1099</td>\n",
       "      <td>998969850F</td>\n",
       "      <td>2014-05-26 11:25</td>\n",
       "      <td>137</td>\n",
       "      <td>186</td>\n",
       "      <td>64.5</td>\n",
       "      <td>3.5</td>\n",
       "      <td>30</td>\n",
       "      <td>Monday</td>\n",
       "      <td>2014-05-26</td>\n",
       "    </tr>\n",
       "    <tr>\n",
       "      <th>1100</th>\n",
       "      <td>1100</td>\n",
       "      <td>998969850F</td>\n",
       "      <td>2014-05-26 14:15</td>\n",
       "      <td>171</td>\n",
       "      <td>186</td>\n",
       "      <td>76.0</td>\n",
       "      <td>0.0</td>\n",
       "      <td>10</td>\n",
       "      <td>Monday</td>\n",
       "      <td>2014-05-26</td>\n",
       "    </tr>\n",
       "    <tr>\n",
       "      <th>1101</th>\n",
       "      <td>1101</td>\n",
       "      <td>998969850F</td>\n",
       "      <td>2014-05-26 15:05</td>\n",
       "      <td>181</td>\n",
       "      <td>186</td>\n",
       "      <td>65.0</td>\n",
       "      <td>0.0</td>\n",
       "      <td>10</td>\n",
       "      <td>Monday</td>\n",
       "      <td>2014-05-26</td>\n",
       "    </tr>\n",
       "    <tr>\n",
       "      <th>1102</th>\n",
       "      <td>1102</td>\n",
       "      <td>998969850F</td>\n",
       "      <td>2014-05-26 17:25</td>\n",
       "      <td>209</td>\n",
       "      <td>186</td>\n",
       "      <td>31.0</td>\n",
       "      <td>0.0</td>\n",
       "      <td>10</td>\n",
       "      <td>Monday</td>\n",
       "      <td>2014-05-26</td>\n",
       "    </tr>\n",
       "  </tbody>\n",
       "</table>\n",
       "</div>"
      ],
      "text/plain": [
       "      Unnamed: 0    LINK_DIR         DATE_TIME  EPOCH_5MIN  LENGTH  MEAN  \\\n",
       "0              0  998969850F  2014-01-01 13:55         167     186  61.0   \n",
       "1099        1099  998969850F  2014-05-26 11:25         137     186  64.5   \n",
       "1100        1100  998969850F  2014-05-26 14:15         171     186  76.0   \n",
       "1101        1101  998969850F  2014-05-26 15:05         181     186  65.0   \n",
       "1102        1102  998969850F  2014-05-26 17:25         209     186  31.0   \n",
       "\n",
       "      STDDEV  CONFIDENCE        DOW        DATE  \n",
       "0        0.0          10  Wednesday  2014-01-01  \n",
       "1099     3.5          30     Monday  2014-05-26  \n",
       "1100     0.0          10     Monday  2014-05-26  \n",
       "1101     0.0          10     Monday  2014-05-26  \n",
       "1102     0.0          10     Monday  2014-05-26  "
      ]
     },
     "execution_count": 8,
     "metadata": {},
     "output_type": "execute_result"
    }
   ],
   "source": [
    "#Visualization on how the function works\n",
    "us_holidays = ['2014-01-01', '2014-05-26', \n",
    "                   '2014-07-04', '2014-09-01', '2014-11-27', \n",
    "                   '2014-11-28', '2014-12-25']\n",
    "\n",
    "herepath['DATE'] = herepath['DATE_TIME'].str.split(' ').str[0]\n",
    "r = herepath[herepath['DATE'].isin(us_holidays)]\n",
    "v = herepath[~herepath.isin(r)]\n",
    "w = v.dropna()\n",
    "r.head()"
   ]
  },
  {
   "cell_type": "code",
   "execution_count": 9,
   "metadata": {
    "collapsed": false
   },
   "outputs": [
    {
     "data": {
      "text/html": [
       "<div>\n",
       "<table border=\"1\" class=\"dataframe\">\n",
       "  <thead>\n",
       "    <tr style=\"text-align: right;\">\n",
       "      <th></th>\n",
       "      <th>Unnamed: 0</th>\n",
       "      <th>LINK_DIR</th>\n",
       "      <th>DATE_TIME</th>\n",
       "      <th>EPOCH_5MIN</th>\n",
       "      <th>LENGTH</th>\n",
       "      <th>MEAN</th>\n",
       "      <th>STDDEV</th>\n",
       "      <th>CONFIDENCE</th>\n",
       "      <th>DOW</th>\n",
       "      <th>DATE</th>\n",
       "    </tr>\n",
       "  </thead>\n",
       "  <tbody>\n",
       "    <tr>\n",
       "      <th>0</th>\n",
       "      <td>NaN</td>\n",
       "      <td>NaN</td>\n",
       "      <td>NaN</td>\n",
       "      <td>NaN</td>\n",
       "      <td>NaN</td>\n",
       "      <td>NaN</td>\n",
       "      <td>NaN</td>\n",
       "      <td>NaN</td>\n",
       "      <td>NaN</td>\n",
       "      <td>NaN</td>\n",
       "    </tr>\n",
       "    <tr>\n",
       "      <th>1</th>\n",
       "      <td>1.0</td>\n",
       "      <td>998969850F</td>\n",
       "      <td>2014-01-02 11:05</td>\n",
       "      <td>133.0</td>\n",
       "      <td>186.0</td>\n",
       "      <td>60.0</td>\n",
       "      <td>0.0</td>\n",
       "      <td>10.0</td>\n",
       "      <td>Thursday</td>\n",
       "      <td>2014-01-02</td>\n",
       "    </tr>\n",
       "    <tr>\n",
       "      <th>2</th>\n",
       "      <td>2.0</td>\n",
       "      <td>998969850F</td>\n",
       "      <td>2014-01-02 13:20</td>\n",
       "      <td>160.0</td>\n",
       "      <td>186.0</td>\n",
       "      <td>61.0</td>\n",
       "      <td>0.0</td>\n",
       "      <td>10.0</td>\n",
       "      <td>Thursday</td>\n",
       "      <td>2014-01-02</td>\n",
       "    </tr>\n",
       "    <tr>\n",
       "      <th>3</th>\n",
       "      <td>3.0</td>\n",
       "      <td>998969850F</td>\n",
       "      <td>2014-01-02 14:30</td>\n",
       "      <td>174.0</td>\n",
       "      <td>186.0</td>\n",
       "      <td>52.0</td>\n",
       "      <td>0.0</td>\n",
       "      <td>10.0</td>\n",
       "      <td>Thursday</td>\n",
       "      <td>2014-01-02</td>\n",
       "    </tr>\n",
       "    <tr>\n",
       "      <th>4</th>\n",
       "      <td>4.0</td>\n",
       "      <td>998969850F</td>\n",
       "      <td>2014-01-03 09:05</td>\n",
       "      <td>109.0</td>\n",
       "      <td>186.0</td>\n",
       "      <td>57.0</td>\n",
       "      <td>0.0</td>\n",
       "      <td>10.0</td>\n",
       "      <td>Friday</td>\n",
       "      <td>2014-01-03</td>\n",
       "    </tr>\n",
       "  </tbody>\n",
       "</table>\n",
       "</div>"
      ],
      "text/plain": [
       "   Unnamed: 0    LINK_DIR         DATE_TIME  EPOCH_5MIN  LENGTH  MEAN  STDDEV  \\\n",
       "0         NaN         NaN               NaN         NaN     NaN   NaN     NaN   \n",
       "1         1.0  998969850F  2014-01-02 11:05       133.0   186.0  60.0     0.0   \n",
       "2         2.0  998969850F  2014-01-02 13:20       160.0   186.0  61.0     0.0   \n",
       "3         3.0  998969850F  2014-01-02 14:30       174.0   186.0  52.0     0.0   \n",
       "4         4.0  998969850F  2014-01-03 09:05       109.0   186.0  57.0     0.0   \n",
       "\n",
       "   CONFIDENCE       DOW        DATE  \n",
       "0         NaN       NaN         NaN  \n",
       "1        10.0  Thursday  2014-01-02  \n",
       "2        10.0  Thursday  2014-01-02  \n",
       "3        10.0  Thursday  2014-01-02  \n",
       "4        10.0    Friday  2014-01-03  "
      ]
     },
     "execution_count": 9,
     "metadata": {},
     "output_type": "execute_result"
    }
   ],
   "source": [
    "v.head()"
   ]
  },
  {
   "cell_type": "code",
   "execution_count": 10,
   "metadata": {
    "collapsed": false
   },
   "outputs": [
    {
     "data": {
      "text/plain": [
       "array([False], dtype=object)"
      ]
     },
     "execution_count": 10,
     "metadata": {},
     "output_type": "execute_result"
    }
   ],
   "source": [
    "#Proves the data doesn't have any NaN's other than what I specify to drop holidays\n",
    "np.isnan(herepath.MEAN).unique()"
   ]
  },
  {
   "cell_type": "code",
   "execution_count": 34,
   "metadata": {
    "collapsed": false
   },
   "outputs": [
    {
     "data": {
      "text/plain": [
       "261"
      ]
     },
     "execution_count": 34,
     "metadata": {},
     "output_type": "execute_result"
    }
   ],
   "source": [
    "numberdays = data['DATE'].unique()\n",
    "len(numberdays)"
   ]
  },
  {
   "cell_type": "code",
   "execution_count": 37,
   "metadata": {
    "collapsed": false
   },
   "outputs": [
    {
     "data": {
      "text/plain": [
       "107030477T    0.221610\n",
       "111990719T    0.213136\n",
       "111990715T    0.212298\n",
       "111999151F    0.208440\n",
       "111990720F    0.200378\n",
       "111990717F    0.197571\n",
       "107030487T    0.195855\n",
       "107034547T    0.193660\n",
       "107030561T    0.192436\n",
       "107373569T    0.192396\n",
       "23320565T     0.188524\n",
       "111996193T    0.182325\n",
       "775719632T    0.182099\n",
       "107030485T    0.181753\n",
       "107373570F    0.181380\n",
       "775719631T    0.180423\n",
       "107030486T    0.179199\n",
       "107030488F    0.178054\n",
       "107030468T    0.177482\n",
       "27593407F     0.177137\n",
       "111986960F    0.173066\n",
       "111999150F    0.170644\n",
       "107030568T    0.170378\n",
       "111989989T    0.168636\n",
       "107030483F    0.168409\n",
       "111990748T    0.167372\n",
       "111990747T    0.165682\n",
       "107030484F    0.165509\n",
       "107030465T    0.161478\n",
       "107030466T    0.161438\n",
       "                ...   \n",
       "111981912T    0.070855\n",
       "997244941T    0.069444\n",
       "23320410T     0.069325\n",
       "107034534T    0.068952\n",
       "997244940T    0.068034\n",
       "27616976T     0.067688\n",
       "27616977T     0.067436\n",
       "107030432T    0.066824\n",
       "111986235T    0.066544\n",
       "111938004T    0.064083\n",
       "23320387F     0.063471\n",
       "111987140F    0.055901\n",
       "107410437F    0.055263\n",
       "107410440T    0.054984\n",
       "107410438F    0.054771\n",
       "111987140T    0.054531\n",
       "23320380F     0.053986\n",
       "107410441T    0.052895\n",
       "111987141T    0.046855\n",
       "737718830F    0.043197\n",
       "111938038F    0.042691\n",
       "737718830T    0.040656\n",
       "111987141F    0.040203\n",
       "111938038T    0.039179\n",
       "998969851F    0.038381\n",
       "737718829F    0.037795\n",
       "998969850F    0.037582\n",
       "998969850T    0.036518\n",
       "998969851T    0.036425\n",
       "737718829T    0.035733\n",
       "Name: LINK_DIR, dtype: float64"
      ]
     },
     "execution_count": 37,
     "metadata": {},
     "output_type": "execute_result"
    }
   ],
   "source": [
    "data = timeframe2(herepath,0,288,True,Weekday)\n",
    "epoct = data['LINK_DIR'].value_counts()\n",
    "epoct\n",
    "epoct/(288*len(numberdays))"
   ]
  },
  {
   "cell_type": "code",
   "execution_count": null,
   "metadata": {
    "collapsed": true
   },
   "outputs": [],
   "source": [
    "#ddof represents degrees of freedom which, according to the documentation for HERE, is 1\n",
    "#85th percentile speed uses a linear interpolation.  The lowest, highest, or nearest can also be selected\n",
    "def HEREstatsBase(x):\n",
    "    y = pd.DataFrame(columns=[])\n",
    "    y['MEAN'] = ((x['MEAN']).groupby(x['LINK_DIR']).mean())*(0.6213)\n",
    "    y['SPDLIMIT'] = (x['SPDLIMIT'].groupby(x['LINK_DIR']).mean())*(0.6213)\n",
    "    \n",
    "    z = pd.DataFrame(columns=[])\n",
    "    \n",
    "    z['PcntSpeed_85thAll'] = (x['MEAN'].groupby(x['LINK_DIR']).quantile(0.85,interpolation = 'lower'))*(0.6213)\n",
    "    \n",
    "    numberdays = x['DATE'].unique()\n",
    "    epoct = x['LINK_DIR'].value_counts()\n",
    "    z['TotalIntervals_85thAll'] = epoct\n",
    "    z['PcntInterval_85thAll'] = ((epoct/(288*len(numberdays))*100))\n",
    "    \n",
    "    Var1 = (x['MEAN']).groupby(x['LINK_DIR'])\n",
    "    Var2 = (x['STDDEV']).groupby(x['LINK_DIR'])\n",
    "    Var = (Var1.var(ddof=1))+(Var2.sum()/len(x))\n",
    "    z['StdDev_85thAll'] = (np.sqrt(Var))*(0.6213)\n",
    "    \n",
    "   \n",
    "    \n",
    "    z['60spd'] = (x['MEAN'].groupby(x['LINK_DIR']).quantile(0.60,interpolation = 'lower'))*(0.6213)\n",
    "    \n",
    "    z['5spd'] = (x['MEAN'].groupby(x['LINK_DIR']).quantile(0.05,interpolation = 'lower'))*(0.6213)\n",
    "      \n",
    "\n",
    "    \n",
    "    z = np.round(z,3)\n",
    "    return z"
   ]
  },
  {
   "cell_type": "code",
   "execution_count": 15,
   "metadata": {
    "collapsed": true
   },
   "outputs": [],
   "source": [
    "#ddof represents degrees of freedom which, according to the documentation for HERE, is 1\n",
    "#85th percentile speed uses a linear interpolation.  The lowest, highest, or nearest can also be selected\n",
    "def HEREstatsALL(x):\n",
    "    y = pd.DataFrame(columns=[])\n",
    "    y['MEAN'] = ((x['MEAN']).groupby(x['LINK_DIR']).mean())*(0.6213)\n",
    "    y['SPDLIMIT'] = (x['SPDLIMIT'].groupby(x['LINK_DIR']).mean())*(0.6213)\n",
    "    \n",
    "    z = pd.DataFrame(columns=[])\n",
    "    \n",
    "    z['PcntSpeed_85thAll'] = (x['MEAN'].groupby(x['LINK_DIR']).quantile(0.85,interpolation = 'lower'))*(0.6213)\n",
    "    \n",
    "    numberdays = x['DATE'].unique()\n",
    "    epoct = x['LINK_DIR'].value_counts()\n",
    "    z['TotalIntervals_85thAll'] = epoct\n",
    "    z['PcntInterval_85thAll'] = ((epoct/(288*len(numberdays))*100))\n",
    "    \n",
    "    Var1 = (x['MEAN']).groupby(x['LINK_DIR'])\n",
    "    Var2 = (x['STDDEV']).groupby(x['LINK_DIR'])\n",
    "    Var = (Var1.var(ddof=1))+(Var2.sum()/len(x))\n",
    "    z['StdDev_85thAll'] = (np.sqrt(Var))*(0.6213)\n",
    "    \n",
    "    z = np.round(z,3)\n",
    "    return z"
   ]
  },
  {
   "cell_type": "code",
   "execution_count": 16,
   "metadata": {
    "collapsed": true
   },
   "outputs": [],
   "source": [
    "#ddof represents degrees of freedom which, according to the documentation for HERE, is 1\n",
    "#85th percentile speed uses a linear interpolation.  The lowest, highest, or nearest can also be selected\n",
    "def HEREstatsWd(x):\n",
    "    y = pd.DataFrame(columns=[])\n",
    "    y['MEAN'] = ((x['MEAN']).groupby(x['LINK_DIR']).mean())*(0.6213)\n",
    "    y['SPDLIMIT'] = (x['SPDLIMIT'].groupby(x['LINK_DIR']).mean())*(0.6213)\n",
    "    \n",
    "    z = pd.DataFrame(columns=[])\n",
    "    \n",
    "    z['PcntSpeed_85thWd'] = (x['MEAN'].groupby(x['LINK_DIR']).quantile(0.85,interpolation = 'lower'))*(0.6213)\n",
    "    \n",
    "    numberdays = x['DATE'].unique()\n",
    "    epoct = x['LINK_DIR'].value_counts()\n",
    "    z['TotalIntervals_85thWd'] = epoct\n",
    "    z['PcntInterval_85thWd'] = ((epoct/(288*len(numberdays))*100))\n",
    "    \n",
    "    Var1 = (x['MEAN']).groupby(x['LINK_DIR'])\n",
    "    Var2 = (x['STDDEV']).groupby(x['LINK_DIR'])\n",
    "    Var = (Var1.var(ddof=1))+(Var2.sum()/len(x))\n",
    "    z['StdDev_85thWd'] = (np.sqrt(Var))*(0.6213)\n",
    "     \n",
    "    z = np.round(z,3)\n",
    "    return z"
   ]
  },
  {
   "cell_type": "code",
   "execution_count": 17,
   "metadata": {
    "collapsed": true
   },
   "outputs": [],
   "source": [
    "#ddof represents degrees of freedom which, according to the documentation for HERE, is 1\n",
    "#85th percentile speed uses a linear interpolation.  The lowest, highest, or nearest can also be selected\n",
    "def HEREstatsWend(x):\n",
    "    y = pd.DataFrame(columns=[])\n",
    "    y['MEAN'] = ((x['MEAN']).groupby(x['LINK_DIR']).mean())*(0.6213)\n",
    "    y['SPDLIMIT'] = (x['SPDLIMIT'].groupby(x['LINK_DIR']).mean())*(0.6213)\n",
    "    \n",
    "    z = pd.DataFrame(columns=[])\n",
    "    \n",
    "    z['PcntSpeed_85thWend'] = (x['MEAN'].groupby(x['LINK_DIR']).quantile(0.85,interpolation = 'lower'))*(0.6213)\n",
    "    \n",
    "    numberdays = x['DATE'].unique()\n",
    "    epoct = x['LINK_DIR'].value_counts()\n",
    "    z['TotalIntervals_85thWend'] = epoct\n",
    "    z['PcntInterval_85thWend'] = ((epoct/(288*len(numberdays))*100))\n",
    "    \n",
    "    Var1 = (x['MEAN']).groupby(x['LINK_DIR'])\n",
    "    Var2 = (x['STDDEV']).groupby(x['LINK_DIR'])\n",
    "    Var = (Var1.var(ddof=1))+(Var2.sum()/len(x))\n",
    "    z['StdDev_85thWend'] = (np.sqrt(Var))*(0.6213)\n",
    "     \n",
    "    z = np.round(z,3)\n",
    "    return z"
   ]
  },
  {
   "cell_type": "code",
   "execution_count": 18,
   "metadata": {
    "collapsed": true
   },
   "outputs": [],
   "source": [
    "#ddof represents degrees of freedom which, according to the documentation for HERE, is 1\n",
    "#85th percentile speed uses a linear interpolation.  The lowest, highest, or nearest can also be selected\n",
    "def HEREstatsWdtime(x):\n",
    "    y = pd.DataFrame(columns=[])\n",
    "    y['MEAN'] = ((x['MEAN']).groupby(x['LINK_DIR']).mean())*(0.6213)\n",
    "    y['SPDLIMIT'] = (x['SPDLIMIT'].groupby(x['LINK_DIR']).mean())*(0.6213)\n",
    "    \n",
    "    z = pd.DataFrame(columns=[])\n",
    "    \n",
    "    z['PcntSpeed_60thWdtime'] = (x['MEAN'].groupby(x['LINK_DIR']).quantile(0.60,interpolation = 'lower'))*(0.6213)\n",
    "    z['PcntSpeed_85thWdtime'] = (x['MEAN'].groupby(x['LINK_DIR']).quantile(0.85,interpolation = 'lower'))*(0.6213)\n",
    "    \n",
    "    numberdays = x['DATE'].unique()\n",
    "    epoct = x['LINK_DIR'].value_counts()\n",
    "    z['TotalIntervals_Wdtime'] = epoct\n",
    "    z['PcntInterval_Wdtime'] = ((epoct/(288*len(numberdays))*100))\n",
    "    \n",
    "    Var1 = (x['MEAN']).groupby(x['LINK_DIR'])\n",
    "    Var2 = (x['STDDEV']).groupby(x['LINK_DIR'])\n",
    "    Var = (Var1.var(ddof=1))+(Var2.sum()/len(x))\n",
    "    z['StdDev_Wdtime'] = (np.sqrt(Var))*(0.6213)\n",
    "     \n",
    "    z = np.round(z,3)\n",
    "    return z"
   ]
  },
  {
   "cell_type": "code",
   "execution_count": 19,
   "metadata": {
    "collapsed": true
   },
   "outputs": [],
   "source": [
    "#ddof represents degrees of freedom which, according to the documentation for HERE, is 1\n",
    "#85th percentile speed uses a linear interpolation.  The lowest, highest, or nearest can also be selected\n",
    "def HEREstatsWdayAM(x):\n",
    "    y = pd.DataFrame(columns=[])\n",
    "    y['MEAN'] = ((x['MEAN']).groupby(x['LINK_DIR']).mean())*(0.6213)\n",
    "    y['SPDLIMIT'] = (x['SPDLIMIT'].groupby(x['LINK_DIR']).mean())*(0.6213)\n",
    "    \n",
    "    z = pd.DataFrame(columns=[])\n",
    "    \n",
    "    z['PcntSpeed_5thWdayAM'] = (x['MEAN'].groupby(x['LINK_DIR']).quantile(0.05,interpolation = 'lower'))*(0.6213)\n",
    "    z['AvgSpeed_WdayAM'] = y['MEAN']\n",
    "    \n",
    "    numberdays = x['DATE'].unique()\n",
    "    epoct = x['LINK_DIR'].value_counts()\n",
    "    z['TotalIntervals_WdayAM'] = epoct\n",
    "    z['PcntInterval_WdayAM'] = ((epoct/(288*len(numberdays))*100))\n",
    "    \n",
    "    Var1 = (x['MEAN']).groupby(x['LINK_DIR'])\n",
    "    Var2 = (x['STDDEV']).groupby(x['LINK_DIR'])\n",
    "    Var = (Var1.var(ddof=1))+(Var2.sum()/len(x))\n",
    "    z['StdDev_WdayAM'] = (np.sqrt(Var))*(0.6213)\n",
    "     \n",
    "    z = np.round(z,3)\n",
    "    return z"
   ]
  },
  {
   "cell_type": "code",
   "execution_count": 20,
   "metadata": {
    "collapsed": true
   },
   "outputs": [],
   "source": [
    "#ddof represents degrees of freedom which, according to the documentation for HERE, is 1\n",
    "#85th percentile speed uses a linear interpolation.  The lowest, highest, or nearest can also be selected\n",
    "def HEREstatsWdayMD(x):\n",
    "    y = pd.DataFrame(columns=[])\n",
    "    y['MEAN'] = ((x['MEAN']).groupby(x['LINK_DIR']).mean())*(0.6213)\n",
    "    y['SPDLIMIT'] = (x['SPDLIMIT'].groupby(x['LINK_DIR']).mean())*(0.6213)\n",
    "    \n",
    "    z = pd.DataFrame(columns=[])\n",
    "    \n",
    "    z['PcntSpeed_5thWdayMD'] = (x['MEAN'].groupby(x['LINK_DIR']).quantile(0.05,interpolation = 'lower'))*(0.6213)\n",
    "    z['AvgSpeed_WdayMD'] = y['MEAN']\n",
    "    \n",
    "    numberdays = x['DATE'].unique()\n",
    "    epoct = x['LINK_DIR'].value_counts()\n",
    "    z['TotalIntervals_WdayMD'] = epoct\n",
    "    z['PcntInterval_WdayMD'] = ((epoct/(288*len(numberdays))*100))\n",
    "    \n",
    "    Var1 = (x['MEAN']).groupby(x['LINK_DIR'])\n",
    "    Var2 = (x['STDDEV']).groupby(x['LINK_DIR'])\n",
    "    Var = (Var1.var(ddof=1))+(Var2.sum()/len(x))\n",
    "    z['StdDev_WdayMD'] = (np.sqrt(Var))*(0.6213)\n",
    "     \n",
    "    z = np.round(z,3)\n",
    "    return z"
   ]
  },
  {
   "cell_type": "code",
   "execution_count": 21,
   "metadata": {
    "collapsed": true
   },
   "outputs": [],
   "source": [
    "#ddof represents degrees of freedom which, according to the documentation for HERE, is 1\n",
    "#85th percentile speed uses a linear interpolation.  The lowest, highest, or nearest can also be selected\n",
    "def HEREstatsWdayPM(x):\n",
    "    y = pd.DataFrame(columns=[])\n",
    "    y['MEAN'] = ((x['MEAN']).groupby(x['LINK_DIR']).mean())*(0.6213)\n",
    "    y['SPDLIMIT'] = (x['SPDLIMIT'].groupby(x['LINK_DIR']).mean())*(0.6213)\n",
    "    \n",
    "    z = pd.DataFrame(columns=[])\n",
    "    \n",
    "    z['PcntSpeed_5thWdayPM'] = (x['MEAN'].groupby(x['LINK_DIR']).quantile(0.05,interpolation = 'lower'))*(0.6213)\n",
    "    z['AvgSpeed_WdayPM'] = y['MEAN']\n",
    "    \n",
    "    numberdays = x['DATE'].unique()\n",
    "    epoct = x['LINK_DIR'].value_counts()\n",
    "    z['TotalIntervals_WdayPM'] = epoct\n",
    "    z['PcntInterval_WdayPM'] = ((epoct/(288*len(numberdays))*100))\n",
    "    \n",
    "    Var1 = (x['MEAN']).groupby(x['LINK_DIR'])\n",
    "    Var2 = (x['STDDEV']).groupby(x['LINK_DIR'])\n",
    "    Var = (Var1.var(ddof=1))+(Var2.sum()/len(x))\n",
    "    z['StdDev_WdayPM'] = (np.sqrt(Var))*(0.6213)\n",
    "     \n",
    "    z = np.round(z,3)\n",
    "    return z"
   ]
  },
  {
   "cell_type": "code",
   "execution_count": 10,
   "metadata": {
    "collapsed": true
   },
   "outputs": [],
   "source": [
    "def Indeces(y):\n",
    "    y['TTI_SL'] = y['SPDLIMIT'].div(y['MEAN'])\n",
    "    y['PTI_SL'] = y['SPDLIMIT'].div(y['5spd'])\n",
    "    y['TTI_85th'] = y['85spd'].div(y['MEAN'])\n",
    "    y['PTI_85th'] = y['85spd'].div(y['5spd'])\n",
    "    y['TTI_60th'] = y['60spd'].div(y['MEAN'])\n",
    "    y['PTI_60th'] = y['60spd'].div(y['5spd'])\n",
    "    y['BTI'] = (y['MEAN'].div(y['5spd']))-1\n",
    "    y = np.round(y,3)\n",
    "    return y"
   ]
  },
  {
   "cell_type": "code",
   "execution_count": 98,
   "metadata": {
    "collapsed": false
   },
   "outputs": [
    {
     "name": "stdout",
     "output_type": "stream",
     "text": [
      "365\n"
     ]
    },
    {
     "data": {
      "text/html": [
       "<div>\n",
       "<table border=\"1\" class=\"dataframe\">\n",
       "  <thead>\n",
       "    <tr style=\"text-align: right;\">\n",
       "      <th></th>\n",
       "      <th>MEAN</th>\n",
       "      <th>StDev</th>\n",
       "      <th>85spd</th>\n",
       "      <th>60spd</th>\n",
       "      <th>5spd</th>\n",
       "      <th>SPDLIMIT</th>\n",
       "      <th>TTI_SL</th>\n",
       "      <th>PTI_SL</th>\n",
       "      <th>TTI_85th</th>\n",
       "      <th>PTI_85th</th>\n",
       "      <th>TTI_60th</th>\n",
       "      <th>PTI_60th</th>\n",
       "      <th>BTI</th>\n",
       "      <th>TotalInterval</th>\n",
       "      <th>PcntInterval</th>\n",
       "    </tr>\n",
       "    <tr>\n",
       "      <th>LINK_DIR</th>\n",
       "      <th></th>\n",
       "      <th></th>\n",
       "      <th></th>\n",
       "      <th></th>\n",
       "      <th></th>\n",
       "      <th></th>\n",
       "      <th></th>\n",
       "      <th></th>\n",
       "      <th></th>\n",
       "      <th></th>\n",
       "      <th></th>\n",
       "      <th></th>\n",
       "      <th></th>\n",
       "      <th></th>\n",
       "      <th></th>\n",
       "    </tr>\n",
       "  </thead>\n",
       "  <tbody>\n",
       "    <tr>\n",
       "      <th>107030432T</th>\n",
       "      <td>38.553</td>\n",
       "      <td>10.444</td>\n",
       "      <td>48.461</td>\n",
       "      <td>42.248</td>\n",
       "      <td>19.260</td>\n",
       "      <td>49.704</td>\n",
       "      <td>1.289</td>\n",
       "      <td>2.581</td>\n",
       "      <td>1.257</td>\n",
       "      <td>2.516</td>\n",
       "      <td>1.096</td>\n",
       "      <td>2.194</td>\n",
       "      <td>1.002</td>\n",
       "      <td>5746</td>\n",
       "      <td>5.466</td>\n",
       "    </tr>\n",
       "    <tr>\n",
       "      <th>107030439T</th>\n",
       "      <td>35.148</td>\n",
       "      <td>9.929</td>\n",
       "      <td>44.734</td>\n",
       "      <td>38.521</td>\n",
       "      <td>17.396</td>\n",
       "      <td>44.734</td>\n",
       "      <td>1.273</td>\n",
       "      <td>2.571</td>\n",
       "      <td>1.273</td>\n",
       "      <td>2.571</td>\n",
       "      <td>1.096</td>\n",
       "      <td>2.214</td>\n",
       "      <td>1.020</td>\n",
       "      <td>7857</td>\n",
       "      <td>7.474</td>\n",
       "    </tr>\n",
       "    <tr>\n",
       "      <th>107030440T</th>\n",
       "      <td>34.863</td>\n",
       "      <td>10.303</td>\n",
       "      <td>45.355</td>\n",
       "      <td>38.521</td>\n",
       "      <td>17.086</td>\n",
       "      <td>44.734</td>\n",
       "      <td>1.283</td>\n",
       "      <td>2.618</td>\n",
       "      <td>1.301</td>\n",
       "      <td>2.655</td>\n",
       "      <td>1.105</td>\n",
       "      <td>2.255</td>\n",
       "      <td>1.040</td>\n",
       "      <td>7325</td>\n",
       "      <td>6.968</td>\n",
       "    </tr>\n",
       "    <tr>\n",
       "      <th>107030444F</th>\n",
       "      <td>36.180</td>\n",
       "      <td>11.209</td>\n",
       "      <td>47.219</td>\n",
       "      <td>40.695</td>\n",
       "      <td>16.154</td>\n",
       "      <td>44.734</td>\n",
       "      <td>1.236</td>\n",
       "      <td>2.769</td>\n",
       "      <td>1.305</td>\n",
       "      <td>2.923</td>\n",
       "      <td>1.125</td>\n",
       "      <td>2.519</td>\n",
       "      <td>1.240</td>\n",
       "      <td>9311</td>\n",
       "      <td>8.857</td>\n",
       "    </tr>\n",
       "    <tr>\n",
       "      <th>107030445F</th>\n",
       "      <td>36.602</td>\n",
       "      <td>11.250</td>\n",
       "      <td>47.840</td>\n",
       "      <td>41.627</td>\n",
       "      <td>16.775</td>\n",
       "      <td>44.734</td>\n",
       "      <td>1.222</td>\n",
       "      <td>2.667</td>\n",
       "      <td>1.307</td>\n",
       "      <td>2.852</td>\n",
       "      <td>1.137</td>\n",
       "      <td>2.481</td>\n",
       "      <td>1.182</td>\n",
       "      <td>9256</td>\n",
       "      <td>8.805</td>\n",
       "    </tr>\n",
       "  </tbody>\n",
       "</table>\n",
       "</div>"
      ],
      "text/plain": [
       "              MEAN   StDev   85spd   60spd    5spd  SPDLIMIT  TTI_SL  PTI_SL  \\\n",
       "LINK_DIR                                                                       \n",
       "107030432T  38.553  10.444  48.461  42.248  19.260    49.704   1.289   2.581   \n",
       "107030439T  35.148   9.929  44.734  38.521  17.396    44.734   1.273   2.571   \n",
       "107030440T  34.863  10.303  45.355  38.521  17.086    44.734   1.283   2.618   \n",
       "107030444F  36.180  11.209  47.219  40.695  16.154    44.734   1.236   2.769   \n",
       "107030445F  36.602  11.250  47.840  41.627  16.775    44.734   1.222   2.667   \n",
       "\n",
       "            TTI_85th  PTI_85th  TTI_60th  PTI_60th    BTI  TotalInterval  \\\n",
       "LINK_DIR                                                                   \n",
       "107030432T     1.257     2.516     1.096     2.194  1.002           5746   \n",
       "107030439T     1.273     2.571     1.096     2.214  1.020           7857   \n",
       "107030440T     1.301     2.655     1.105     2.255  1.040           7325   \n",
       "107030444F     1.305     2.923     1.125     2.519  1.240           9311   \n",
       "107030445F     1.307     2.852     1.137     2.481  1.182           9256   \n",
       "\n",
       "            PcntInterval  \n",
       "LINK_DIR                  \n",
       "107030432T         5.466  \n",
       "107030439T         7.474  \n",
       "107030440T         6.968  \n",
       "107030444F         8.857  \n",
       "107030445F         8.805  "
      ]
     },
     "execution_count": 98,
     "metadata": {},
     "output_type": "execute_result"
    }
   ],
   "source": [
    "#For all days and all time periods\n",
    "bylink = HEREstatsALL(herepath)\n",
    "\n",
    "bylink.head()"
   ]
  },
  {
   "cell_type": "code",
   "execution_count": 23,
   "metadata": {
    "collapsed": false
   },
   "outputs": [
    {
     "data": {
      "text/html": [
       "<div>\n",
       "<table border=\"1\" class=\"dataframe\">\n",
       "  <thead>\n",
       "    <tr style=\"text-align: right;\">\n",
       "      <th></th>\n",
       "      <th>PcntSpeed_85thWd</th>\n",
       "      <th>TotalIntervals_85thWd</th>\n",
       "      <th>PcntInterval_85thWd</th>\n",
       "      <th>StdDev_85thWd</th>\n",
       "    </tr>\n",
       "    <tr>\n",
       "      <th>LINK_DIR</th>\n",
       "      <th></th>\n",
       "      <th></th>\n",
       "      <th></th>\n",
       "      <th></th>\n",
       "    </tr>\n",
       "  </thead>\n",
       "  <tbody>\n",
       "    <tr>\n",
       "      <th>998969850F</th>\n",
       "      <td>42.87</td>\n",
       "      <td>2799</td>\n",
       "      <td>3.826</td>\n",
       "      <td>9.22</td>\n",
       "    </tr>\n",
       "  </tbody>\n",
       "</table>\n",
       "</div>"
      ],
      "text/plain": [
       "            PcntSpeed_85thWd  TotalIntervals_85thWd  PcntInterval_85thWd  \\\n",
       "LINK_DIR                                                                   \n",
       "998969850F             42.87                   2799                3.826   \n",
       "\n",
       "            StdDev_85thWd  \n",
       "LINK_DIR                   \n",
       "998969850F           9.22  "
      ]
     },
     "execution_count": 23,
     "metadata": {},
     "output_type": "execute_result"
    }
   ],
   "source": [
    "#for weekdays\n",
    "Wkd = timeframe('998969850F',herepath,0,288,True,Weekday)\n",
    "SpeedWd = HEREstatsWd(Wkd)\n",
    "SpeedWd.head()"
   ]
  },
  {
   "cell_type": "code",
   "execution_count": 29,
   "metadata": {
    "collapsed": false
   },
   "outputs": [
    {
     "data": {
      "text/html": [
       "<div>\n",
       "<table border=\"1\" class=\"dataframe\">\n",
       "  <thead>\n",
       "    <tr style=\"text-align: right;\">\n",
       "      <th></th>\n",
       "      <th>PcntSpeed_85thWd</th>\n",
       "      <th>TotalIntervals_85thWd</th>\n",
       "      <th>PcntInterval_85thWd</th>\n",
       "      <th>StdDev_85thWd</th>\n",
       "    </tr>\n",
       "    <tr>\n",
       "      <th>LINK_DIR</th>\n",
       "      <th></th>\n",
       "      <th></th>\n",
       "      <th></th>\n",
       "      <th></th>\n",
       "    </tr>\n",
       "  </thead>\n",
       "  <tbody>\n",
       "    <tr>\n",
       "      <th>107030432T</th>\n",
       "      <td>47.840</td>\n",
       "      <td>5023</td>\n",
       "      <td>6.682</td>\n",
       "      <td>10.344</td>\n",
       "    </tr>\n",
       "    <tr>\n",
       "      <th>107030439T</th>\n",
       "      <td>44.734</td>\n",
       "      <td>6775</td>\n",
       "      <td>9.013</td>\n",
       "      <td>9.937</td>\n",
       "    </tr>\n",
       "    <tr>\n",
       "      <th>107030440T</th>\n",
       "      <td>45.355</td>\n",
       "      <td>6339</td>\n",
       "      <td>8.433</td>\n",
       "      <td>10.262</td>\n",
       "    </tr>\n",
       "    <tr>\n",
       "      <th>107030444F</th>\n",
       "      <td>47.219</td>\n",
       "      <td>8045</td>\n",
       "      <td>10.703</td>\n",
       "      <td>11.301</td>\n",
       "    </tr>\n",
       "    <tr>\n",
       "      <th>107030445F</th>\n",
       "      <td>47.840</td>\n",
       "      <td>8008</td>\n",
       "      <td>10.653</td>\n",
       "      <td>11.282</td>\n",
       "    </tr>\n",
       "  </tbody>\n",
       "</table>\n",
       "</div>"
      ],
      "text/plain": [
       "            PcntSpeed_85thWd  TotalIntervals_85thWd  PcntInterval_85thWd  \\\n",
       "LINK_DIR                                                                   \n",
       "107030432T            47.840                   5023                6.682   \n",
       "107030439T            44.734                   6775                9.013   \n",
       "107030440T            45.355                   6339                8.433   \n",
       "107030444F            47.219                   8045               10.703   \n",
       "107030445F            47.840                   8008               10.653   \n",
       "\n",
       "            StdDev_85thWd  \n",
       "LINK_DIR                   \n",
       "107030432T         10.344  \n",
       "107030439T          9.937  \n",
       "107030440T         10.262  \n",
       "107030444F         11.301  \n",
       "107030445F         11.282  "
      ]
     },
     "execution_count": 29,
     "metadata": {},
     "output_type": "execute_result"
    }
   ],
   "source": [
    "#for weekdays all links\n",
    "Wkd = timeframe2(herepath,0,288,True,Weekday)\n",
    "SpeedWd = HEREstatsWd(Wkd)\n",
    "SpeedWd.head()"
   ]
  },
  {
   "cell_type": "code",
   "execution_count": 24,
   "metadata": {
    "collapsed": false
   },
   "outputs": [
    {
     "data": {
      "text/html": [
       "<div>\n",
       "<table border=\"1\" class=\"dataframe\">\n",
       "  <thead>\n",
       "    <tr style=\"text-align: right;\">\n",
       "      <th></th>\n",
       "      <th>PcntSpeed_85thAll</th>\n",
       "      <th>TotalIntervals_85thAll</th>\n",
       "      <th>PcntInterval_85thAll</th>\n",
       "      <th>StdDev_85thAll</th>\n",
       "    </tr>\n",
       "    <tr>\n",
       "      <th>LINK_DIR</th>\n",
       "      <th></th>\n",
       "      <th></th>\n",
       "      <th></th>\n",
       "      <th></th>\n",
       "    </tr>\n",
       "  </thead>\n",
       "  <tbody>\n",
       "    <tr>\n",
       "      <th>998969850F</th>\n",
       "      <td>46.598</td>\n",
       "      <td>330</td>\n",
       "      <td>1.157</td>\n",
       "      <td>10.751</td>\n",
       "    </tr>\n",
       "  </tbody>\n",
       "</table>\n",
       "</div>"
      ],
      "text/plain": [
       "            PcntSpeed_85thAll  TotalIntervals_85thAll  PcntInterval_85thAll  \\\n",
       "LINK_DIR                                                                      \n",
       "998969850F             46.598                     330                 1.157   \n",
       "\n",
       "            StdDev_85thAll  \n",
       "LINK_DIR                    \n",
       "998969850F          10.751  "
      ]
     },
     "execution_count": 24,
     "metadata": {},
     "output_type": "execute_result"
    }
   ],
   "source": [
    "#for weekends\n",
    "Wend = timeframe('998969850F',herepath,0,288,True,Weekend)\n",
    "SpeedWend = HEREstatsWend(Wend)\n",
    "SpeedWend.head()"
   ]
  },
  {
   "cell_type": "code",
   "execution_count": null,
   "metadata": {
    "collapsed": true
   },
   "outputs": [],
   "source": [
    "#for weekends all links\n",
    "Wend = timeframe2(herepath,0,288,True,Weekend)\n",
    "SpeedWend = HEREstatsWend(Wend)\n",
    "SpeedWend.head()"
   ]
  },
  {
   "cell_type": "code",
   "execution_count": 25,
   "metadata": {
    "collapsed": false
   },
   "outputs": [
    {
     "data": {
      "text/html": [
       "<div>\n",
       "<table border=\"1\" class=\"dataframe\">\n",
       "  <thead>\n",
       "    <tr style=\"text-align: right;\">\n",
       "      <th></th>\n",
       "      <th>PcntSpeed_60thWdtime</th>\n",
       "      <th>PcntSpeed_85thWdtime</th>\n",
       "      <th>TotalIntervals_Wdtime</th>\n",
       "      <th>PcntInterval_Wdtime</th>\n",
       "      <th>StdDev_Wdtime</th>\n",
       "    </tr>\n",
       "    <tr>\n",
       "      <th>LINK_DIR</th>\n",
       "      <th></th>\n",
       "      <th></th>\n",
       "      <th></th>\n",
       "      <th></th>\n",
       "      <th></th>\n",
       "    </tr>\n",
       "  </thead>\n",
       "  <tbody>\n",
       "    <tr>\n",
       "      <th>998969850F</th>\n",
       "      <td>36.035</td>\n",
       "      <td>41.627</td>\n",
       "      <td>2587</td>\n",
       "      <td>3.536</td>\n",
       "      <td>8.938</td>\n",
       "    </tr>\n",
       "  </tbody>\n",
       "</table>\n",
       "</div>"
      ],
      "text/plain": [
       "            PcntSpeed_60thWdtime  PcntSpeed_85thWdtime  TotalIntervals_Wdtime  \\\n",
       "LINK_DIR                                                                        \n",
       "998969850F                36.035                41.627                   2587   \n",
       "\n",
       "            PcntInterval_Wdtime  StdDev_Wdtime  \n",
       "LINK_DIR                                        \n",
       "998969850F                3.536          8.938  "
      ]
     },
     "execution_count": 25,
     "metadata": {},
     "output_type": "execute_result"
    }
   ],
   "source": [
    "#Weekday Between 6AM and 8PM\n",
    "Wdtime = timeframe('998969850F',herepath,72,240,True,Weekday)\n",
    "SpeedWdtime = HEREstatsWdtime(Wdtime)\n",
    "SpeedWdtime.head()"
   ]
  },
  {
   "cell_type": "code",
   "execution_count": 17,
   "metadata": {
    "collapsed": false
   },
   "outputs": [
    {
     "ename": "MemoryError",
     "evalue": "",
     "output_type": "error",
     "traceback": [
      "\u001b[0;31m---------------------------------------------------------------------------\u001b[0m",
      "\u001b[0;31mMemoryError\u001b[0m                               Traceback (most recent call last)",
      "\u001b[0;32m<ipython-input-17-60b1e660e995>\u001b[0m in \u001b[0;36m<module>\u001b[0;34m()\u001b[0m\n\u001b[1;32m      1\u001b[0m \u001b[1;31m#Weekday Between 6AM and 8PM all links\u001b[0m\u001b[1;33m\u001b[0m\u001b[1;33m\u001b[0m\u001b[0m\n\u001b[0;32m----> 2\u001b[0;31m \u001b[0mWdtime\u001b[0m \u001b[1;33m=\u001b[0m \u001b[0mtimeframe2\u001b[0m\u001b[1;33m(\u001b[0m\u001b[0mherepath\u001b[0m\u001b[1;33m,\u001b[0m\u001b[1;36m72\u001b[0m\u001b[1;33m,\u001b[0m\u001b[1;36m240\u001b[0m\u001b[1;33m,\u001b[0m\u001b[1;32mTrue\u001b[0m\u001b[1;33m,\u001b[0m\u001b[0mWeekday\u001b[0m\u001b[1;33m)\u001b[0m\u001b[1;33m\u001b[0m\u001b[0m\n\u001b[0m\u001b[1;32m      3\u001b[0m \u001b[0mlen\u001b[0m\u001b[1;33m(\u001b[0m\u001b[0mHEREstatsALL\u001b[0m\u001b[1;33m(\u001b[0m\u001b[0mWdtime\u001b[0m\u001b[1;33m)\u001b[0m\u001b[1;33m)\u001b[0m\u001b[1;33m\u001b[0m\u001b[0m\n",
      "\u001b[0;32m<ipython-input-12-115954e7f22b>\u001b[0m in \u001b[0;36mtimeframe2\u001b[0;34m(x, y, z, h, d)\u001b[0m\n\u001b[1;32m     10\u001b[0m         \u001b[0mx\u001b[0m\u001b[1;33m[\u001b[0m\u001b[1;34m'DATE'\u001b[0m\u001b[1;33m]\u001b[0m \u001b[1;33m=\u001b[0m \u001b[0mx\u001b[0m\u001b[1;33m[\u001b[0m\u001b[1;34m'DATE_TIME'\u001b[0m\u001b[1;33m]\u001b[0m\u001b[1;33m.\u001b[0m\u001b[0mstr\u001b[0m\u001b[1;33m.\u001b[0m\u001b[0msplit\u001b[0m\u001b[1;33m(\u001b[0m\u001b[1;34m' '\u001b[0m\u001b[1;33m)\u001b[0m\u001b[1;33m.\u001b[0m\u001b[0mstr\u001b[0m\u001b[1;33m[\u001b[0m\u001b[1;36m0\u001b[0m\u001b[1;33m]\u001b[0m\u001b[1;33m\u001b[0m\u001b[0m\n\u001b[1;32m     11\u001b[0m         \u001b[0mr\u001b[0m \u001b[1;33m=\u001b[0m \u001b[0mx\u001b[0m\u001b[1;33m[\u001b[0m\u001b[0mx\u001b[0m\u001b[1;33m[\u001b[0m\u001b[1;34m'DATE'\u001b[0m\u001b[1;33m]\u001b[0m\u001b[1;33m.\u001b[0m\u001b[0misin\u001b[0m\u001b[1;33m(\u001b[0m\u001b[0mus_holidays\u001b[0m\u001b[1;33m)\u001b[0m\u001b[1;33m]\u001b[0m\u001b[1;33m\u001b[0m\u001b[0m\n\u001b[0;32m---> 12\u001b[0;31m         \u001b[0mv\u001b[0m \u001b[1;33m=\u001b[0m \u001b[0mx\u001b[0m\u001b[1;33m[\u001b[0m\u001b[1;33m~\u001b[0m\u001b[0mx\u001b[0m\u001b[1;33m.\u001b[0m\u001b[0misin\u001b[0m\u001b[1;33m(\u001b[0m\u001b[0mr\u001b[0m\u001b[1;33m)\u001b[0m\u001b[1;33m]\u001b[0m\u001b[1;33m.\u001b[0m\u001b[0mdropna\u001b[0m\u001b[1;33m(\u001b[0m\u001b[1;33m)\u001b[0m\u001b[1;33m\u001b[0m\u001b[0m\n\u001b[0m\u001b[1;32m     13\u001b[0m         \u001b[0mdays\u001b[0m \u001b[1;33m=\u001b[0m \u001b[0mx\u001b[0m\u001b[1;33m[\u001b[0m\u001b[0mx\u001b[0m\u001b[1;33m[\u001b[0m\u001b[1;34m'DOW'\u001b[0m\u001b[1;33m]\u001b[0m\u001b[1;33m.\u001b[0m\u001b[0misin\u001b[0m\u001b[1;33m(\u001b[0m\u001b[0md\u001b[0m\u001b[1;33m)\u001b[0m\u001b[1;33m]\u001b[0m\u001b[1;33m\u001b[0m\u001b[0m\n\u001b[1;32m     14\u001b[0m         \u001b[0mTimeframe\u001b[0m \u001b[1;33m=\u001b[0m \u001b[0mdays\u001b[0m\u001b[1;33m[\u001b[0m\u001b[1;33m(\u001b[0m\u001b[0mdays\u001b[0m\u001b[1;33m[\u001b[0m\u001b[1;34m'EPOCH_5MIN'\u001b[0m\u001b[1;33m]\u001b[0m \u001b[1;33m>=\u001b[0m \u001b[0my\u001b[0m\u001b[1;33m)\u001b[0m \u001b[1;33m&\u001b[0m \u001b[1;33m(\u001b[0m\u001b[0mdays\u001b[0m\u001b[1;33m[\u001b[0m\u001b[1;34m'EPOCH_5MIN'\u001b[0m\u001b[1;33m]\u001b[0m \u001b[1;33m<=\u001b[0m \u001b[0mz\u001b[0m\u001b[1;33m)\u001b[0m\u001b[1;33m]\u001b[0m\u001b[1;33m\u001b[0m\u001b[0m\n",
      "\u001b[0;32mC:\\Users\\jdbr223\\AppData\\Local\\Continuum\\Anaconda3\\lib\\site-packages\\pandas\\core\\frame.py\u001b[0m in \u001b[0;36m__getitem__\u001b[0;34m(self, key)\u001b[0m\n\u001b[1;32m   2053\u001b[0m             \u001b[1;32mreturn\u001b[0m \u001b[0mself\u001b[0m\u001b[1;33m.\u001b[0m\u001b[0m_getitem_array\u001b[0m\u001b[1;33m(\u001b[0m\u001b[0mkey\u001b[0m\u001b[1;33m)\u001b[0m\u001b[1;33m\u001b[0m\u001b[0m\n\u001b[1;32m   2054\u001b[0m         \u001b[1;32melif\u001b[0m \u001b[0misinstance\u001b[0m\u001b[1;33m(\u001b[0m\u001b[0mkey\u001b[0m\u001b[1;33m,\u001b[0m \u001b[0mDataFrame\u001b[0m\u001b[1;33m)\u001b[0m\u001b[1;33m:\u001b[0m\u001b[1;33m\u001b[0m\u001b[0m\n\u001b[0;32m-> 2055\u001b[0;31m             \u001b[1;32mreturn\u001b[0m \u001b[0mself\u001b[0m\u001b[1;33m.\u001b[0m\u001b[0m_getitem_frame\u001b[0m\u001b[1;33m(\u001b[0m\u001b[0mkey\u001b[0m\u001b[1;33m)\u001b[0m\u001b[1;33m\u001b[0m\u001b[0m\n\u001b[0m\u001b[1;32m   2056\u001b[0m         \u001b[1;32melif\u001b[0m \u001b[0mis_mi_columns\u001b[0m\u001b[1;33m:\u001b[0m\u001b[1;33m\u001b[0m\u001b[0m\n\u001b[1;32m   2057\u001b[0m             \u001b[1;32mreturn\u001b[0m \u001b[0mself\u001b[0m\u001b[1;33m.\u001b[0m\u001b[0m_getitem_multilevel\u001b[0m\u001b[1;33m(\u001b[0m\u001b[0mkey\u001b[0m\u001b[1;33m)\u001b[0m\u001b[1;33m\u001b[0m\u001b[0m\n",
      "\u001b[0;32mC:\\Users\\jdbr223\\AppData\\Local\\Continuum\\Anaconda3\\lib\\site-packages\\pandas\\core\\frame.py\u001b[0m in \u001b[0;36m_getitem_frame\u001b[0;34m(self, key)\u001b[0m\n\u001b[1;32m   2129\u001b[0m         \u001b[1;32mif\u001b[0m \u001b[0mkey\u001b[0m\u001b[1;33m.\u001b[0m\u001b[0mvalues\u001b[0m\u001b[1;33m.\u001b[0m\u001b[0msize\u001b[0m \u001b[1;32mand\u001b[0m \u001b[1;32mnot\u001b[0m \u001b[0mis_bool_dtype\u001b[0m\u001b[1;33m(\u001b[0m\u001b[0mkey\u001b[0m\u001b[1;33m.\u001b[0m\u001b[0mvalues\u001b[0m\u001b[1;33m)\u001b[0m\u001b[1;33m:\u001b[0m\u001b[1;33m\u001b[0m\u001b[0m\n\u001b[1;32m   2130\u001b[0m             \u001b[1;32mraise\u001b[0m \u001b[0mValueError\u001b[0m\u001b[1;33m(\u001b[0m\u001b[1;34m'Must pass DataFrame with boolean values only'\u001b[0m\u001b[1;33m)\u001b[0m\u001b[1;33m\u001b[0m\u001b[0m\n\u001b[0;32m-> 2131\u001b[0;31m         \u001b[1;32mreturn\u001b[0m \u001b[0mself\u001b[0m\u001b[1;33m.\u001b[0m\u001b[0mwhere\u001b[0m\u001b[1;33m(\u001b[0m\u001b[0mkey\u001b[0m\u001b[1;33m)\u001b[0m\u001b[1;33m\u001b[0m\u001b[0m\n\u001b[0m\u001b[1;32m   2132\u001b[0m \u001b[1;33m\u001b[0m\u001b[0m\n\u001b[1;32m   2133\u001b[0m     \u001b[1;32mdef\u001b[0m \u001b[0mquery\u001b[0m\u001b[1;33m(\u001b[0m\u001b[0mself\u001b[0m\u001b[1;33m,\u001b[0m \u001b[0mexpr\u001b[0m\u001b[1;33m,\u001b[0m \u001b[0minplace\u001b[0m\u001b[1;33m=\u001b[0m\u001b[1;32mFalse\u001b[0m\u001b[1;33m,\u001b[0m \u001b[1;33m**\u001b[0m\u001b[0mkwargs\u001b[0m\u001b[1;33m)\u001b[0m\u001b[1;33m:\u001b[0m\u001b[1;33m\u001b[0m\u001b[0m\n",
      "\u001b[0;32mC:\\Users\\jdbr223\\AppData\\Local\\Continuum\\Anaconda3\\lib\\site-packages\\pandas\\core\\generic.py\u001b[0m in \u001b[0;36mwhere\u001b[0;34m(self, cond, other, inplace, axis, level, try_cast, raise_on_error)\u001b[0m\n\u001b[1;32m   4811\u001b[0m         \u001b[0mother\u001b[0m \u001b[1;33m=\u001b[0m \u001b[0mcom\u001b[0m\u001b[1;33m.\u001b[0m\u001b[0m_apply_if_callable\u001b[0m\u001b[1;33m(\u001b[0m\u001b[0mother\u001b[0m\u001b[1;33m,\u001b[0m \u001b[0mself\u001b[0m\u001b[1;33m)\u001b[0m\u001b[1;33m\u001b[0m\u001b[0m\n\u001b[1;32m   4812\u001b[0m         return self._where(cond, other, inplace, axis, level, try_cast,\n\u001b[0;32m-> 4813\u001b[0;31m                            raise_on_error)\n\u001b[0m\u001b[1;32m   4814\u001b[0m \u001b[1;33m\u001b[0m\u001b[0m\n\u001b[1;32m   4815\u001b[0m     @Appender(_shared_docs['where'] % dict(_shared_doc_kwargs, cond=\"False\",\n",
      "\u001b[0;32mC:\\Users\\jdbr223\\AppData\\Local\\Continuum\\Anaconda3\\lib\\site-packages\\pandas\\core\\generic.py\u001b[0m in \u001b[0;36m_where\u001b[0;34m(self, cond, other, inplace, axis, level, try_cast, raise_on_error)\u001b[0m\n\u001b[1;32m   4706\u001b[0m                                         \u001b[0mraise_on_error\u001b[0m\u001b[1;33m=\u001b[0m\u001b[0mraise_on_error\u001b[0m\u001b[1;33m,\u001b[0m\u001b[1;33m\u001b[0m\u001b[0m\n\u001b[1;32m   4707\u001b[0m                                         \u001b[0mtry_cast\u001b[0m\u001b[1;33m=\u001b[0m\u001b[0mtry_cast\u001b[0m\u001b[1;33m,\u001b[0m \u001b[0maxis\u001b[0m\u001b[1;33m=\u001b[0m\u001b[0mblock_axis\u001b[0m\u001b[1;33m,\u001b[0m\u001b[1;33m\u001b[0m\u001b[0m\n\u001b[0;32m-> 4708\u001b[0;31m                                         transpose=self._AXIS_REVERSED)\n\u001b[0m\u001b[1;32m   4709\u001b[0m \u001b[1;33m\u001b[0m\u001b[0m\n\u001b[1;32m   4710\u001b[0m             \u001b[1;32mreturn\u001b[0m \u001b[0mself\u001b[0m\u001b[1;33m.\u001b[0m\u001b[0m_constructor\u001b[0m\u001b[1;33m(\u001b[0m\u001b[0mnew_data\u001b[0m\u001b[1;33m)\u001b[0m\u001b[1;33m.\u001b[0m\u001b[0m__finalize__\u001b[0m\u001b[1;33m(\u001b[0m\u001b[0mself\u001b[0m\u001b[1;33m)\u001b[0m\u001b[1;33m\u001b[0m\u001b[0m\n",
      "\u001b[0;32mC:\\Users\\jdbr223\\AppData\\Local\\Continuum\\Anaconda3\\lib\\site-packages\\pandas\\core\\internals.py\u001b[0m in \u001b[0;36mwhere\u001b[0;34m(self, **kwargs)\u001b[0m\n\u001b[1;32m   3157\u001b[0m \u001b[1;33m\u001b[0m\u001b[0m\n\u001b[1;32m   3158\u001b[0m     \u001b[1;32mdef\u001b[0m \u001b[0mwhere\u001b[0m\u001b[1;33m(\u001b[0m\u001b[0mself\u001b[0m\u001b[1;33m,\u001b[0m \u001b[1;33m**\u001b[0m\u001b[0mkwargs\u001b[0m\u001b[1;33m)\u001b[0m\u001b[1;33m:\u001b[0m\u001b[1;33m\u001b[0m\u001b[0m\n\u001b[0;32m-> 3159\u001b[0;31m         \u001b[1;32mreturn\u001b[0m \u001b[0mself\u001b[0m\u001b[1;33m.\u001b[0m\u001b[0mapply\u001b[0m\u001b[1;33m(\u001b[0m\u001b[1;34m'where'\u001b[0m\u001b[1;33m,\u001b[0m \u001b[1;33m**\u001b[0m\u001b[0mkwargs\u001b[0m\u001b[1;33m)\u001b[0m\u001b[1;33m\u001b[0m\u001b[0m\n\u001b[0m\u001b[1;32m   3160\u001b[0m \u001b[1;33m\u001b[0m\u001b[0m\n\u001b[1;32m   3161\u001b[0m     \u001b[1;32mdef\u001b[0m \u001b[0meval\u001b[0m\u001b[1;33m(\u001b[0m\u001b[0mself\u001b[0m\u001b[1;33m,\u001b[0m \u001b[1;33m**\u001b[0m\u001b[0mkwargs\u001b[0m\u001b[1;33m)\u001b[0m\u001b[1;33m:\u001b[0m\u001b[1;33m\u001b[0m\u001b[0m\n",
      "\u001b[0;32mC:\\Users\\jdbr223\\AppData\\Local\\Continuum\\Anaconda3\\lib\\site-packages\\pandas\\core\\internals.py\u001b[0m in \u001b[0;36mapply\u001b[0;34m(self, f, axes, filter, do_integrity_check, consolidate, **kwargs)\u001b[0m\n\u001b[1;32m   3061\u001b[0m         bm = self.__class__(result_blocks, axes or self.axes,\n\u001b[1;32m   3062\u001b[0m                             do_integrity_check=do_integrity_check)\n\u001b[0;32m-> 3063\u001b[0;31m         \u001b[0mbm\u001b[0m\u001b[1;33m.\u001b[0m\u001b[0m_consolidate_inplace\u001b[0m\u001b[1;33m(\u001b[0m\u001b[1;33m)\u001b[0m\u001b[1;33m\u001b[0m\u001b[0m\n\u001b[0m\u001b[1;32m   3064\u001b[0m         \u001b[1;32mreturn\u001b[0m \u001b[0mbm\u001b[0m\u001b[1;33m\u001b[0m\u001b[0m\n\u001b[1;32m   3065\u001b[0m \u001b[1;33m\u001b[0m\u001b[0m\n",
      "\u001b[0;32mC:\\Users\\jdbr223\\AppData\\Local\\Continuum\\Anaconda3\\lib\\site-packages\\pandas\\core\\internals.py\u001b[0m in \u001b[0;36m_consolidate_inplace\u001b[0;34m(self)\u001b[0m\n\u001b[1;32m   3529\u001b[0m     \u001b[1;32mdef\u001b[0m \u001b[0m_consolidate_inplace\u001b[0m\u001b[1;33m(\u001b[0m\u001b[0mself\u001b[0m\u001b[1;33m)\u001b[0m\u001b[1;33m:\u001b[0m\u001b[1;33m\u001b[0m\u001b[0m\n\u001b[1;32m   3530\u001b[0m         \u001b[1;32mif\u001b[0m \u001b[1;32mnot\u001b[0m \u001b[0mself\u001b[0m\u001b[1;33m.\u001b[0m\u001b[0mis_consolidated\u001b[0m\u001b[1;33m(\u001b[0m\u001b[1;33m)\u001b[0m\u001b[1;33m:\u001b[0m\u001b[1;33m\u001b[0m\u001b[0m\n\u001b[0;32m-> 3531\u001b[0;31m             \u001b[0mself\u001b[0m\u001b[1;33m.\u001b[0m\u001b[0mblocks\u001b[0m \u001b[1;33m=\u001b[0m \u001b[0mtuple\u001b[0m\u001b[1;33m(\u001b[0m\u001b[0m_consolidate\u001b[0m\u001b[1;33m(\u001b[0m\u001b[0mself\u001b[0m\u001b[1;33m.\u001b[0m\u001b[0mblocks\u001b[0m\u001b[1;33m)\u001b[0m\u001b[1;33m)\u001b[0m\u001b[1;33m\u001b[0m\u001b[0m\n\u001b[0m\u001b[1;32m   3532\u001b[0m             \u001b[0mself\u001b[0m\u001b[1;33m.\u001b[0m\u001b[0m_is_consolidated\u001b[0m \u001b[1;33m=\u001b[0m \u001b[1;32mTrue\u001b[0m\u001b[1;33m\u001b[0m\u001b[0m\n\u001b[1;32m   3533\u001b[0m             \u001b[0mself\u001b[0m\u001b[1;33m.\u001b[0m\u001b[0m_known_consolidated\u001b[0m \u001b[1;33m=\u001b[0m \u001b[1;32mTrue\u001b[0m\u001b[1;33m\u001b[0m\u001b[0m\n",
      "\u001b[0;32mC:\\Users\\jdbr223\\AppData\\Local\\Continuum\\Anaconda3\\lib\\site-packages\\pandas\\core\\internals.py\u001b[0m in \u001b[0;36m_consolidate\u001b[0;34m(blocks)\u001b[0m\n\u001b[1;32m   4521\u001b[0m     \u001b[1;32mfor\u001b[0m \u001b[1;33m(\u001b[0m\u001b[0m_can_consolidate\u001b[0m\u001b[1;33m,\u001b[0m \u001b[0mdtype\u001b[0m\u001b[1;33m)\u001b[0m\u001b[1;33m,\u001b[0m \u001b[0mgroup_blocks\u001b[0m \u001b[1;32min\u001b[0m \u001b[0mgrouper\u001b[0m\u001b[1;33m:\u001b[0m\u001b[1;33m\u001b[0m\u001b[0m\n\u001b[1;32m   4522\u001b[0m         merged_blocks = _merge_blocks(list(group_blocks), dtype=dtype,\n\u001b[0;32m-> 4523\u001b[0;31m                                       _can_consolidate=_can_consolidate)\n\u001b[0m\u001b[1;32m   4524\u001b[0m         \u001b[0mnew_blocks\u001b[0m \u001b[1;33m=\u001b[0m \u001b[0m_extend_blocks\u001b[0m\u001b[1;33m(\u001b[0m\u001b[0mmerged_blocks\u001b[0m\u001b[1;33m,\u001b[0m \u001b[0mnew_blocks\u001b[0m\u001b[1;33m)\u001b[0m\u001b[1;33m\u001b[0m\u001b[0m\n\u001b[1;32m   4525\u001b[0m     \u001b[1;32mreturn\u001b[0m \u001b[0mnew_blocks\u001b[0m\u001b[1;33m\u001b[0m\u001b[0m\n",
      "\u001b[0;32mC:\\Users\\jdbr223\\AppData\\Local\\Continuum\\Anaconda3\\lib\\site-packages\\pandas\\core\\internals.py\u001b[0m in \u001b[0;36m_merge_blocks\u001b[0;34m(blocks, dtype, _can_consolidate)\u001b[0m\n\u001b[1;32m   4544\u001b[0m \u001b[1;33m\u001b[0m\u001b[0m\n\u001b[1;32m   4545\u001b[0m         \u001b[0margsort\u001b[0m \u001b[1;33m=\u001b[0m \u001b[0mnp\u001b[0m\u001b[1;33m.\u001b[0m\u001b[0margsort\u001b[0m\u001b[1;33m(\u001b[0m\u001b[0mnew_mgr_locs\u001b[0m\u001b[1;33m)\u001b[0m\u001b[1;33m\u001b[0m\u001b[0m\n\u001b[0;32m-> 4546\u001b[0;31m         \u001b[0mnew_values\u001b[0m \u001b[1;33m=\u001b[0m \u001b[0mnew_values\u001b[0m\u001b[1;33m[\u001b[0m\u001b[0margsort\u001b[0m\u001b[1;33m]\u001b[0m\u001b[1;33m\u001b[0m\u001b[0m\n\u001b[0m\u001b[1;32m   4547\u001b[0m         \u001b[0mnew_mgr_locs\u001b[0m \u001b[1;33m=\u001b[0m \u001b[0mnew_mgr_locs\u001b[0m\u001b[1;33m[\u001b[0m\u001b[0margsort\u001b[0m\u001b[1;33m]\u001b[0m\u001b[1;33m\u001b[0m\u001b[0m\n\u001b[1;32m   4548\u001b[0m \u001b[1;33m\u001b[0m\u001b[0m\n",
      "\u001b[0;31mMemoryError\u001b[0m: "
     ]
    }
   ],
   "source": [
    "#Weekday Between 6AM and 8PM all links\n",
    "Wdtime = timeframe2(herepath,72,240,True,Weekday)\n",
    "SpeedWdtime = HEREstatsWdtime(Wdtime)\n",
    "SpeedWdtime.head()"
   ]
  },
  {
   "cell_type": "code",
   "execution_count": 26,
   "metadata": {
    "collapsed": false
   },
   "outputs": [
    {
     "data": {
      "text/html": [
       "<div>\n",
       "<table border=\"1\" class=\"dataframe\">\n",
       "  <thead>\n",
       "    <tr style=\"text-align: right;\">\n",
       "      <th></th>\n",
       "      <th>PcntSpeed_5thWdayAM</th>\n",
       "      <th>AvgSpeed_WdayAM</th>\n",
       "      <th>TotalIntervals_WdayAM</th>\n",
       "      <th>PcntInterval_WdayAM</th>\n",
       "      <th>StdDev_WdayAM</th>\n",
       "    </tr>\n",
       "    <tr>\n",
       "      <th>LINK_DIR</th>\n",
       "      <th></th>\n",
       "      <th></th>\n",
       "      <th></th>\n",
       "      <th></th>\n",
       "      <th></th>\n",
       "    </tr>\n",
       "  </thead>\n",
       "  <tbody>\n",
       "    <tr>\n",
       "      <th>998969850F</th>\n",
       "      <td>18.018</td>\n",
       "      <td>33.838</td>\n",
       "      <td>440</td>\n",
       "      <td>0.728</td>\n",
       "      <td>8.698</td>\n",
       "    </tr>\n",
       "  </tbody>\n",
       "</table>\n",
       "</div>"
      ],
      "text/plain": [
       "            PcntSpeed_5thWdayAM  AvgSpeed_WdayAM  TotalIntervals_WdayAM  \\\n",
       "LINK_DIR                                                                  \n",
       "998969850F               18.018           33.838                    440   \n",
       "\n",
       "            PcntInterval_WdayAM  StdDev_WdayAM  \n",
       "LINK_DIR                                        \n",
       "998969850F                0.728          8.698  "
      ]
     },
     "execution_count": 26,
     "metadata": {},
     "output_type": "execute_result"
    }
   ],
   "source": [
    "#Stats between 6AM and 9AM\n",
    "WdtimeAM = timeframe('998969850F',herepath,72,108,True,Weekday)\n",
    "SpeedWdayAM = HEREstatsWdayAM(WdtimeAM)\n",
    "SpeedWdayAM.head()"
   ]
  },
  {
   "cell_type": "code",
   "execution_count": 16,
   "metadata": {
    "collapsed": false
   },
   "outputs": [
    {
     "name": "stdout",
     "output_type": "stream",
     "text": [
      "261\n"
     ]
    },
    {
     "data": {
      "text/plain": [
       "134"
      ]
     },
     "execution_count": 16,
     "metadata": {},
     "output_type": "execute_result"
    }
   ],
   "source": [
    "#Stats between 6AM and 9AM all links\n",
    "WdtimeAM = timeframe2(herepath,72,108,True,Weekday)\n",
    "SpeedWdayAM = HEREstatsWdayAM(WdtimeAM)\n",
    "SpeedWdayAM.head()"
   ]
  },
  {
   "cell_type": "code",
   "execution_count": 27,
   "metadata": {
    "collapsed": false
   },
   "outputs": [
    {
     "data": {
      "text/html": [
       "<div>\n",
       "<table border=\"1\" class=\"dataframe\">\n",
       "  <thead>\n",
       "    <tr style=\"text-align: right;\">\n",
       "      <th></th>\n",
       "      <th>PcntSpeed_5thWdayMD</th>\n",
       "      <th>AvgSpeed_WdayMD</th>\n",
       "      <th>TotalIntervals_WdayMD</th>\n",
       "      <th>PcntInterval_WdayMD</th>\n",
       "      <th>StdDev_WdayMD</th>\n",
       "    </tr>\n",
       "    <tr>\n",
       "      <th>LINK_DIR</th>\n",
       "      <th></th>\n",
       "      <th></th>\n",
       "      <th></th>\n",
       "      <th></th>\n",
       "      <th></th>\n",
       "    </tr>\n",
       "  </thead>\n",
       "  <tbody>\n",
       "    <tr>\n",
       "      <th>998969850F</th>\n",
       "      <td>18.639</td>\n",
       "      <td>34.014</td>\n",
       "      <td>1367</td>\n",
       "      <td>1.899</td>\n",
       "      <td>8.661</td>\n",
       "    </tr>\n",
       "  </tbody>\n",
       "</table>\n",
       "</div>"
      ],
      "text/plain": [
       "            PcntSpeed_5thWdayMD  AvgSpeed_WdayMD  TotalIntervals_WdayMD  \\\n",
       "LINK_DIR                                                                  \n",
       "998969850F               18.639           34.014                   1367   \n",
       "\n",
       "            PcntInterval_WdayMD  StdDev_WdayMD  \n",
       "LINK_DIR                                        \n",
       "998969850F                1.899          8.661  "
      ]
     },
     "execution_count": 27,
     "metadata": {},
     "output_type": "execute_result"
    }
   ],
   "source": [
    "#Stats between 9AM and 3PM\n",
    "WdtimeMD = timeframe('998969850F',herepath,108,180,True,Weekday)\n",
    "SpeedWdayMD = HEREstatsWdayMD(WdtimeMD)\n",
    "SpeedWdayMD.head()"
   ]
  },
  {
   "cell_type": "code",
   "execution_count": 15,
   "metadata": {
    "collapsed": false
   },
   "outputs": [
    {
     "name": "stdout",
     "output_type": "stream",
     "text": [
      "261\n"
     ]
    },
    {
     "data": {
      "text/plain": [
       "134"
      ]
     },
     "execution_count": 15,
     "metadata": {},
     "output_type": "execute_result"
    }
   ],
   "source": [
    "#Stats between 9AM and 3PM all links\n",
    "WdtimeMD = timeframe2(herepath,108,180,True,Weekday)\n",
    "SpeedWdayMD = HEREstatsWdayMD(WdtimeMD)\n",
    "SpeedWdayMD.head()"
   ]
  },
  {
   "cell_type": "code",
   "execution_count": 28,
   "metadata": {
    "collapsed": false
   },
   "outputs": [
    {
     "data": {
      "text/html": [
       "<div>\n",
       "<table border=\"1\" class=\"dataframe\">\n",
       "  <thead>\n",
       "    <tr style=\"text-align: right;\">\n",
       "      <th></th>\n",
       "      <th>PcntSpeed_5thWdayPM</th>\n",
       "      <th>AvgSpeed_WdayPM</th>\n",
       "      <th>TotalIntervals_WdayPM</th>\n",
       "      <th>PcntInterval_WdayPM</th>\n",
       "      <th>StdDev_WdayPM</th>\n",
       "    </tr>\n",
       "    <tr>\n",
       "      <th>LINK_DIR</th>\n",
       "      <th></th>\n",
       "      <th></th>\n",
       "      <th></th>\n",
       "      <th></th>\n",
       "      <th></th>\n",
       "    </tr>\n",
       "  </thead>\n",
       "  <tbody>\n",
       "    <tr>\n",
       "      <th>998969850F</th>\n",
       "      <td>18.639</td>\n",
       "      <td>34.014</td>\n",
       "      <td>1367</td>\n",
       "      <td>1.899</td>\n",
       "      <td>8.661</td>\n",
       "    </tr>\n",
       "  </tbody>\n",
       "</table>\n",
       "</div>"
      ],
      "text/plain": [
       "            PcntSpeed_5thWdayPM  AvgSpeed_WdayPM  TotalIntervals_WdayPM  \\\n",
       "LINK_DIR                                                                  \n",
       "998969850F               18.639           34.014                   1367   \n",
       "\n",
       "            PcntInterval_WdayPM  StdDev_WdayPM  \n",
       "LINK_DIR                                        \n",
       "998969850F                1.899          8.661  "
      ]
     },
     "execution_count": 28,
     "metadata": {},
     "output_type": "execute_result"
    }
   ],
   "source": [
    "#Stats between 3PM and 6PM\n",
    "WdtimePM = timeframe('998969850F',herepath,180,216,True,Weekday)\n",
    "SpeedWdayPM = HEREstatsWdayPM(WdtimeMD)\n",
    "SpeedWdayPM.head()"
   ]
  },
  {
   "cell_type": "code",
   "execution_count": 14,
   "metadata": {
    "collapsed": false
   },
   "outputs": [
    {
     "name": "stdout",
     "output_type": "stream",
     "text": [
      "261\n"
     ]
    },
    {
     "data": {
      "text/plain": [
       "134"
      ]
     },
     "execution_count": 14,
     "metadata": {},
     "output_type": "execute_result"
    }
   ],
   "source": [
    "#Stats between 3PM and 6PM all links\n",
    "WdtimePM = timeframe2(herepath,180,216,True,Weekday)\n",
    "SpeedWdayPM = HEREstatsWdayPM(WdtimeMD)\n",
    "SpeedWdayPM.head()"
   ]
  },
  {
   "cell_type": "code",
   "execution_count": null,
   "metadata": {
    "collapsed": true
   },
   "outputs": [],
   "source": []
  }
 ],
 "metadata": {
  "anaconda-cloud": {},
  "kernelspec": {
   "display_name": "Python [default]",
   "language": "python",
   "name": "python3"
  },
  "language_info": {
   "codemirror_mode": {
    "name": "ipython",
    "version": 3
   },
   "file_extension": ".py",
   "mimetype": "text/x-python",
   "name": "python",
   "nbconvert_exporter": "python",
   "pygments_lexer": "ipython3",
   "version": "3.5.2"
  }
 },
 "nbformat": 4,
 "nbformat_minor": 1
}
