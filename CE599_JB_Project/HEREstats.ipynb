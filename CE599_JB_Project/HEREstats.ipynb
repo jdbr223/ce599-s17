{
 "cells": [
  {
   "cell_type": "code",
   "execution_count": 2,
   "metadata": {
    "collapsed": true
   },
   "outputs": [],
   "source": [
    "# magic command to display matplotlib plots inline within the ipython notebook webpage\n",
    "%matplotlib inline\n",
    "\n",
    "# import necessary modules\n",
    "import pandas as pd, numpy as np, matplotlib.pyplot as plt\n",
    "import matplotlib.cm as cm, matplotlib.font_manager as fm\n",
    "import datetime\n",
    "import seaborn as sns\n",
    "sns.set(color_codes=True)\n",
    "import geopandas as gp\n",
    "from scipy import stats, integrate"
   ]
  },
  {
   "cell_type": "code",
   "execution_count": 14,
   "metadata": {
    "collapsed": false
   },
   "outputs": [
    {
     "data": {
      "text/html": [
       "<div>\n",
       "<table border=\"1\" class=\"dataframe\">\n",
       "  <thead>\n",
       "    <tr style=\"text-align: right;\">\n",
       "      <th></th>\n",
       "      <th>Unnamed: 0</th>\n",
       "      <th>LINK_DIR</th>\n",
       "      <th>DATE_TIME</th>\n",
       "      <th>EPOCH_5MIN</th>\n",
       "      <th>LENGTH</th>\n",
       "      <th>MEAN</th>\n",
       "      <th>STDDEV</th>\n",
       "      <th>CONFIDENCE</th>\n",
       "      <th>DOW</th>\n",
       "    </tr>\n",
       "  </thead>\n",
       "  <tbody>\n",
       "    <tr>\n",
       "      <th>0</th>\n",
       "      <td>0</td>\n",
       "      <td>998969850F</td>\n",
       "      <td>2014-01-01 13:55</td>\n",
       "      <td>167</td>\n",
       "      <td>186</td>\n",
       "      <td>61.0</td>\n",
       "      <td>0.0</td>\n",
       "      <td>10</td>\n",
       "      <td>Wednesday</td>\n",
       "    </tr>\n",
       "    <tr>\n",
       "      <th>1</th>\n",
       "      <td>1</td>\n",
       "      <td>998969850F</td>\n",
       "      <td>2014-01-02 11:05</td>\n",
       "      <td>133</td>\n",
       "      <td>186</td>\n",
       "      <td>60.0</td>\n",
       "      <td>0.0</td>\n",
       "      <td>10</td>\n",
       "      <td>Thursday</td>\n",
       "    </tr>\n",
       "    <tr>\n",
       "      <th>2</th>\n",
       "      <td>2</td>\n",
       "      <td>998969850F</td>\n",
       "      <td>2014-01-02 13:20</td>\n",
       "      <td>160</td>\n",
       "      <td>186</td>\n",
       "      <td>61.0</td>\n",
       "      <td>0.0</td>\n",
       "      <td>10</td>\n",
       "      <td>Thursday</td>\n",
       "    </tr>\n",
       "    <tr>\n",
       "      <th>3</th>\n",
       "      <td>3</td>\n",
       "      <td>998969850F</td>\n",
       "      <td>2014-01-02 14:30</td>\n",
       "      <td>174</td>\n",
       "      <td>186</td>\n",
       "      <td>52.0</td>\n",
       "      <td>0.0</td>\n",
       "      <td>10</td>\n",
       "      <td>Thursday</td>\n",
       "    </tr>\n",
       "    <tr>\n",
       "      <th>4</th>\n",
       "      <td>4</td>\n",
       "      <td>998969850F</td>\n",
       "      <td>2014-01-03 09:05</td>\n",
       "      <td>109</td>\n",
       "      <td>186</td>\n",
       "      <td>57.0</td>\n",
       "      <td>0.0</td>\n",
       "      <td>10</td>\n",
       "      <td>Friday</td>\n",
       "    </tr>\n",
       "  </tbody>\n",
       "</table>\n",
       "</div>"
      ],
      "text/plain": [
       "   Unnamed: 0    LINK_DIR         DATE_TIME  EPOCH_5MIN  LENGTH  MEAN  STDDEV  \\\n",
       "0           0  998969850F  2014-01-01 13:55         167     186  61.0     0.0   \n",
       "1           1  998969850F  2014-01-02 11:05         133     186  60.0     0.0   \n",
       "2           2  998969850F  2014-01-02 13:20         160     186  61.0     0.0   \n",
       "3           3  998969850F  2014-01-02 14:30         174     186  52.0     0.0   \n",
       "4           4  998969850F  2014-01-03 09:05         109     186  57.0     0.0   \n",
       "\n",
       "   CONFIDENCE        DOW  \n",
       "0          10  Wednesday  \n",
       "1          10   Thursday  \n",
       "2          10   Thursday  \n",
       "3          10   Thursday  \n",
       "4          10     Friday  "
      ]
     },
     "execution_count": 14,
     "metadata": {},
     "output_type": "execute_result"
    }
   ],
   "source": [
    "herepath = pd.read_csv('data/MOW_Path_Speed_5Min_2014_DOWavailable.csv', encoding='utf-8')\n",
    "herepath.head()"
   ]
  },
  {
   "cell_type": "code",
   "execution_count": 9,
   "metadata": {
    "collapsed": false
   },
   "outputs": [
    {
     "data": {
      "text/plain": [
       "['Monday', 'Tuesday', 'Wednesday', 'Thursday', 'Friday']"
      ]
     },
     "execution_count": 9,
     "metadata": {},
     "output_type": "execute_result"
    }
   ],
   "source": [
    "#For now, enter the weekdays desire here in full\n",
    "Weekday = ['Monday','Tuesday','Wednesday','Thursday','Friday']\n",
    "Weekday"
   ]
  },
  {
   "cell_type": "code",
   "execution_count": 10,
   "metadata": {
    "collapsed": false
   },
   "outputs": [
    {
     "data": {
      "text/plain": [
       "['Saturday', 'Sunday']"
      ]
     },
     "execution_count": 10,
     "metadata": {},
     "output_type": "execute_result"
    }
   ],
   "source": [
    "Weekend = ['Saturday','Sunday']\n",
    "Weekend"
   ]
  },
  {
   "cell_type": "code",
   "execution_count": 11,
   "metadata": {
    "collapsed": false
   },
   "outputs": [
    {
     "data": {
      "text/plain": [
       "['Monday', 'Tuesday', 'Wednesday', 'Thursday', 'Friday', 'Saturday', 'Sunday']"
      ]
     },
     "execution_count": 11,
     "metadata": {},
     "output_type": "execute_result"
    }
   ],
   "source": [
    "Both = ['Monday','Tuesday','Wednesday','Thursday','Friday','Saturday','Sunday']\n",
    "Both"
   ]
  },
  {
   "cell_type": "code",
   "execution_count": 7,
   "metadata": {
    "collapsed": true
   },
   "outputs": [],
   "source": [
    "#w = Link, x = input dataframe, y = beginning timeframe (in epoch), z = ending timeframe (in epoch), \n",
    "#h = holiday (y or n), d = weekend or weekday\n",
    "#Note the dataframe has to have an EPOCH_5MIN row to work.\n",
    "#Also, this is ONLY for a single-link dataframe\n",
    "def timeframe(w,x,y,z,h,d):\n",
    "    us_holidays = ['2014-01-01', '2014-05-26', \n",
    "                   '2014-07-04', '2014-09-01', '2014-11-27', \n",
    "                   '2014-11-28', '2014-12-25']\n",
    "    if h == True:\n",
    "        x['DATE'] = x['DATE_TIME'].str.split(' ').str[0]\n",
    "        r = x[x['DATE'].isin(us_holidays)]\n",
    "        v = x[~x.isin(r)].dropna()\n",
    "        link = v[v['LINK_DIR']== w]\n",
    "        days = link[link['DOW'].isin(d)]\n",
    "        Timeframe = days[(days['EPOCH_5MIN'] >= y) & (days['EPOCH_5MIN'] <= z)]\n",
    "        return Timeframe\n",
    "    else:\n",
    "        link = x[x['LINK_DIR']== w]\n",
    "        days = link[link['DOW'].isin(d)]\n",
    "        Timeframe = days[(days['EPOCH_5MIN'] >= y) & (days['EPOCH_5MIN'] <= z)]\n",
    "        return Timeframe"
   ]
  },
  {
   "cell_type": "code",
   "execution_count": 18,
   "metadata": {
    "collapsed": false
   },
   "outputs": [
    {
     "data": {
      "text/html": [
       "<div>\n",
       "<table border=\"1\" class=\"dataframe\">\n",
       "  <thead>\n",
       "    <tr style=\"text-align: right;\">\n",
       "      <th></th>\n",
       "      <th>Unnamed: 0</th>\n",
       "      <th>LINK_DIR</th>\n",
       "      <th>DATE_TIME</th>\n",
       "      <th>EPOCH_5MIN</th>\n",
       "      <th>LENGTH</th>\n",
       "      <th>MEAN</th>\n",
       "      <th>STDDEV</th>\n",
       "      <th>CONFIDENCE</th>\n",
       "      <th>DOW</th>\n",
       "      <th>DATE</th>\n",
       "    </tr>\n",
       "  </thead>\n",
       "  <tbody>\n",
       "    <tr>\n",
       "      <th>10</th>\n",
       "      <td>10.0</td>\n",
       "      <td>998969850F</td>\n",
       "      <td>2014-01-04 11:20</td>\n",
       "      <td>136.0</td>\n",
       "      <td>186.0</td>\n",
       "      <td>46.0</td>\n",
       "      <td>0.0</td>\n",
       "      <td>10.0</td>\n",
       "      <td>Saturday</td>\n",
       "      <td>2014-01-04</td>\n",
       "    </tr>\n",
       "    <tr>\n",
       "      <th>11</th>\n",
       "      <td>11.0</td>\n",
       "      <td>998969850F</td>\n",
       "      <td>2014-01-04 14:30</td>\n",
       "      <td>174.0</td>\n",
       "      <td>186.0</td>\n",
       "      <td>43.0</td>\n",
       "      <td>0.0</td>\n",
       "      <td>10.0</td>\n",
       "      <td>Saturday</td>\n",
       "      <td>2014-01-04</td>\n",
       "    </tr>\n",
       "    <tr>\n",
       "      <th>12</th>\n",
       "      <td>12.0</td>\n",
       "      <td>998969850F</td>\n",
       "      <td>2014-01-04 17:30</td>\n",
       "      <td>210.0</td>\n",
       "      <td>186.0</td>\n",
       "      <td>54.0</td>\n",
       "      <td>0.0</td>\n",
       "      <td>10.0</td>\n",
       "      <td>Saturday</td>\n",
       "      <td>2014-01-04</td>\n",
       "    </tr>\n",
       "    <tr>\n",
       "      <th>13</th>\n",
       "      <td>13.0</td>\n",
       "      <td>998969850F</td>\n",
       "      <td>2014-01-05 17:10</td>\n",
       "      <td>206.0</td>\n",
       "      <td>186.0</td>\n",
       "      <td>57.0</td>\n",
       "      <td>0.0</td>\n",
       "      <td>10.0</td>\n",
       "      <td>Sunday</td>\n",
       "      <td>2014-01-05</td>\n",
       "    </tr>\n",
       "    <tr>\n",
       "      <th>50</th>\n",
       "      <td>50.0</td>\n",
       "      <td>998969850F</td>\n",
       "      <td>2014-01-11 14:15</td>\n",
       "      <td>171.0</td>\n",
       "      <td>186.0</td>\n",
       "      <td>62.0</td>\n",
       "      <td>0.0</td>\n",
       "      <td>10.0</td>\n",
       "      <td>Saturday</td>\n",
       "      <td>2014-01-11</td>\n",
       "    </tr>\n",
       "  </tbody>\n",
       "</table>\n",
       "</div>"
      ],
      "text/plain": [
       "    Unnamed: 0    LINK_DIR         DATE_TIME  EPOCH_5MIN  LENGTH  MEAN  \\\n",
       "10        10.0  998969850F  2014-01-04 11:20       136.0   186.0  46.0   \n",
       "11        11.0  998969850F  2014-01-04 14:30       174.0   186.0  43.0   \n",
       "12        12.0  998969850F  2014-01-04 17:30       210.0   186.0  54.0   \n",
       "13        13.0  998969850F  2014-01-05 17:10       206.0   186.0  57.0   \n",
       "50        50.0  998969850F  2014-01-11 14:15       171.0   186.0  62.0   \n",
       "\n",
       "    STDDEV  CONFIDENCE       DOW        DATE  \n",
       "10     0.0        10.0  Saturday  2014-01-04  \n",
       "11     0.0        10.0  Saturday  2014-01-04  \n",
       "12     0.0        10.0  Saturday  2014-01-04  \n",
       "13     0.0        10.0    Sunday  2014-01-05  \n",
       "50     0.0        10.0  Saturday  2014-01-11  "
      ]
     },
     "execution_count": 18,
     "metadata": {},
     "output_type": "execute_result"
    }
   ],
   "source": [
    "data = timeframe('998969850F',herepath,0,288,True,Weekend)\n",
    "data.head()"
   ]
  },
  {
   "cell_type": "code",
   "execution_count": 6,
   "metadata": {
    "collapsed": false
   },
   "outputs": [],
   "source": [
    "#ddof represents degrees of freedom which, according to the documentation for HERE, is 1\n",
    "#85th percentile speed uses a linear interpolation.  The lowest, highest, or nearest can also be selected\n",
    "def HEREstats(x):\n",
    "    print('Mean is ', x['MEAN'].mean(), 'KMH')\n",
    "    print('Standard Deviation is ', x['MEAN'].std(ddof=1),'KMH')\n",
    "    print('85th percentile speed is ', x['MEAN'].quantile(0.85), 'KMH')\n",
    "    print('5th percentile speed is ', x['MEAN'].quantile(0.05), 'KMH')\n",
    "    \n",
    "    ax = sns.distplot(x['MEAN'], kde=False, bins=70)\n",
    "    ax.figure.set_size_inches(8,6)\n",
    "    ax.set_xlim(0,100)\n",
    "    return ax"
   ]
  },
  {
   "cell_type": "code",
   "execution_count": 15,
   "metadata": {
    "collapsed": false
   },
   "outputs": [
    {
     "name": "stdout",
     "output_type": "stream",
     "text": [
      "Mean is  55.407253254036526 KMH\n",
      "Standard Deviation is  18.50712043537633 KMH\n",
      "85th percentile speed is  74.0 KMH\n",
      "5th percentile speed is  23.0 KMH\n"
     ]
    },
    {
     "data": {
      "text/plain": [
       "<matplotlib.axes._subplots.AxesSubplot at 0x28fabeb0>"
      ]
     },
     "execution_count": 15,
     "metadata": {},
     "output_type": "execute_result"
    },
    {
     "data": {
      "image/png": "[encoded data removed]",
      "text/plain": [
       "<matplotlib.figure.Figure at 0x2901f530>"
      ]
     },
     "metadata": {},
     "output_type": "display_data"
    }
   ],
   "source": [
    "#For all days and all time periods\n",
    "HEREstats(herepath)"
   ]
  },
  {
   "cell_type": "code",
   "execution_count": 12,
   "metadata": {
    "collapsed": false
   },
   "outputs": [
    {
     "name": "stdout",
     "output_type": "stream",
     "text": [
      "Mean is  54.66605930689531 KMH\n",
      "Standard Deviation is  14.820681264711256 KMH\n",
      "85th percentile speed is  69.0 KMH\n",
      "5th percentile speed is  29.0 KMH\n"
     ]
    },
    {
     "data": {
      "text/plain": [
       "<matplotlib.axes._subplots.AxesSubplot at 0xcf06cd0>"
      ]
     },
     "execution_count": 12,
     "metadata": {},
     "output_type": "execute_result"
    },
    {
     "data": {
      "image/png": "[encoded data removed]",
      "text/plain": [
       "<matplotlib.figure.Figure at 0x3c244d0>"
      ]
     },
     "metadata": {},
     "output_type": "display_data"
    }
   ],
   "source": [
    "#for weekdays\n",
    "Wkd = timeframe('998969850F',herepath,0,288,True,Weekday)\n",
    "HEREstats(Wkd)"
   ]
  },
  {
   "cell_type": "code",
   "execution_count": 50,
   "metadata": {
    "collapsed": false
   },
   "outputs": [
    {
     "name": "stdout",
     "output_type": "stream",
     "text": [
      "Mean is  58.26878787878788 KMH\n",
      "Standard Deviation is  17.247989928713647 KMH\n",
      "85th percentile speed is  75.0 KMH\n",
      "5th percentile speed is  28.45 KMH\n"
     ]
    },
    {
     "data": {
      "text/plain": [
       "<matplotlib.axes._subplots.AxesSubplot at 0x28c14fb0>"
      ]
     },
     "execution_count": 50,
     "metadata": {},
     "output_type": "execute_result"
    },
    {
     "data": {
      "image/png": "[encoded data removed]",
      "text/plain": [
       "<matplotlib.figure.Figure at 0xd5d5b50>"
      ]
     },
     "metadata": {},
     "output_type": "display_data"
    }
   ],
   "source": [
    "#for weekends\n",
    "Wend = timeframe('998969850F',herepath,0,288,True,Weekend)\n",
    "HEREstats(Wend)"
   ]
  },
  {
   "cell_type": "code",
   "execution_count": 51,
   "metadata": {
    "collapsed": false
   },
   "outputs": [
    {
     "name": "stdout",
     "output_type": "stream",
     "text": [
      "Mean is  53.58534982605336 KMH\n",
      "Standard Deviation is  14.36557141958837 KMH\n",
      "85th percentile speed is  67.0 KMH\n",
      "5th percentile speed is  29.0 KMH\n"
     ]
    },
    {
     "data": {
      "text/plain": [
       "<matplotlib.axes._subplots.AxesSubplot at 0x21aaedd0>"
      ]
     },
     "execution_count": 51,
     "metadata": {},
     "output_type": "execute_result"
    },
    {
     "data": {
      "image/png": "[encoded data removed]",
      "text/plain": [
       "<matplotlib.figure.Figure at 0x28cc1110>"
      ]
     },
     "metadata": {},
     "output_type": "display_data"
    }
   ],
   "source": [
    "#Weekday Between 6AM and 8PM\n",
    "Wdtime = timeframe('998969850F',herepath,72,240,True,Weekday)\n",
    "HEREstats(Wdtime)"
   ]
  },
  {
   "cell_type": "code",
   "execution_count": 52,
   "metadata": {
    "collapsed": false
   },
   "outputs": [
    {
     "name": "stdout",
     "output_type": "stream",
     "text": [
      "Mean is  54.4625 KMH\n",
      "Standard Deviation is  13.981716930132398 KMH\n",
      "85th percentile speed is  68.0 KMH\n",
      "5th percentile speed is  29.950000000000003 KMH\n"
     ]
    },
    {
     "data": {
      "text/plain": [
       "<matplotlib.axes._subplots.AxesSubplot at 0x290b58b0>"
      ]
     },
     "execution_count": 52,
     "metadata": {},
     "output_type": "execute_result"
    },
    {
     "data": {
      "image/png": "[encoded data removed]",
      "text/plain": [
       "<matplotlib.figure.Figure at 0x21c65c10>"
      ]
     },
     "metadata": {},
     "output_type": "display_data"
    }
   ],
   "source": [
    "#Stats between 6AM and 9AM\n",
    "WdtimeAM = timeframe('998969850F',herepath,72,108,True,Weekday)\n",
    "HEREstats(WdtimeAM)"
   ]
  },
  {
   "cell_type": "code",
   "execution_count": 53,
   "metadata": {
    "collapsed": false
   },
   "outputs": [
    {
     "name": "stdout",
     "output_type": "stream",
     "text": [
      "Mean is  54.747110460863205 KMH\n",
      "Standard Deviation is  13.918146146556158 KMH\n",
      "85th percentile speed is  68.0 KMH\n",
      "5th percentile speed is  30.299999999999997 KMH\n"
     ]
    },
    {
     "data": {
      "text/plain": [
       "<matplotlib.axes._subplots.AxesSubplot at 0x28adf870>"
      ]
     },
     "execution_count": 53,
     "metadata": {},
     "output_type": "execute_result"
    },
    {
     "data": {
      "image/png": "[encoded data removed]",
      "text/plain": [
       "<matplotlib.figure.Figure at 0x21a99cb0>"
      ]
     },
     "metadata": {},
     "output_type": "display_data"
    }
   ],
   "source": [
    "#Stats between 9AM and 3PM\n",
    "WdtimeMD = timeframe('998969850F',herepath,108,180,True,Weekday)\n",
    "HEREstats(WdtimeMD)"
   ]
  },
  {
   "cell_type": "code",
   "execution_count": 54,
   "metadata": {
    "collapsed": false
   },
   "outputs": [
    {
     "name": "stdout",
     "output_type": "stream",
     "text": [
      "Mean is  50.929032258064524 KMH\n",
      "Standard Deviation is  14.994376447923225 KMH\n",
      "85th percentile speed is  65.0 KMH\n",
      "5th percentile speed is  27.0 KMH\n"
     ]
    },
    {
     "data": {
      "text/plain": [
       "<matplotlib.axes._subplots.AxesSubplot at 0x1cc45f10>"
      ]
     },
     "execution_count": 54,
     "metadata": {},
     "output_type": "execute_result"
    },
    {
     "data": {
      "image/png": "[encoded data removed]",
      "text/plain": [
       "<matplotlib.figure.Figure at 0x219c3410>"
      ]
     },
     "metadata": {},
     "output_type": "display_data"
    }
   ],
   "source": [
    "#Stats between 3PM and 6PM\n",
    "WdtimePM = timeframe('998969850F',herepath,180,216,True,Weekday)\n",
    "HEREstats(WdtimePM)"
   ]
  },
  {
   "cell_type": "code",
   "execution_count": null,
   "metadata": {
    "collapsed": true
   },
   "outputs": [],
   "source": []
  },
  {
   "cell_type": "code",
   "execution_count": null,
   "metadata": {
    "collapsed": true
   },
   "outputs": [],
   "source": []
  }
 ],
 "metadata": {
  "anaconda-cloud": {},
  "kernelspec": {
   "display_name": "Python [conda root]",
   "language": "python",
   "name": "conda-root-py"
  },
  "language_info": {
   "codemirror_mode": {
    "name": "ipython",
    "version": 3
   },
   "file_extension": ".py",
   "mimetype": "text/x-python",
   "name": "python",
   "nbconvert_exporter": "python",
   "pygments_lexer": "ipython3",
   "version": "3.5.2"
  }
 },
 "nbformat": 4,
 "nbformat_minor": 1
}
