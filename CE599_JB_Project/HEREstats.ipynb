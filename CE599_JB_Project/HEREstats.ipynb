{
 "cells": [
  {
   "cell_type": "code",
   "execution_count": 20,
   "metadata": {
    "collapsed": false
   },
   "outputs": [],
   "source": [
    "# magic command to display matplotlib plots inline within the ipython notebook webpage\n",
    "%matplotlib inline\n",
    "\n",
    "# import necessary modules\n",
    "import pandas as pd, numpy as np, matplotlib.pyplot as plt\n",
    "import matplotlib.cm as cm, matplotlib.font_manager as fm\n",
    "import datetime\n",
    "import seaborn as sns\n",
    "sns.set(color_codes=True)\n",
    "import geopandas as gp\n",
    "from scipy import stats, integrate"
   ]
  },
  {
   "cell_type": "code",
   "execution_count": 21,
   "metadata": {
    "collapsed": false
   },
   "outputs": [
    {
     "data": {
      "text/html": [
       "<div>\n",
       "<table border=\"1\" class=\"dataframe\">\n",
       "  <thead>\n",
       "    <tr style=\"text-align: right;\">\n",
       "      <th></th>\n",
       "      <th>LINK_DIR</th>\n",
       "      <th>DATE_TIME</th>\n",
       "      <th>EPOCH_5MIN</th>\n",
       "      <th>LENGTH</th>\n",
       "      <th>SPDLIMIT</th>\n",
       "      <th>MEAN</th>\n",
       "      <th>STDDEV</th>\n",
       "      <th>MIN</th>\n",
       "      <th>MAX</th>\n",
       "      <th>CONFIDENCE</th>\n",
       "      <th>PCT_5</th>\n",
       "      <th>PCT_50</th>\n",
       "      <th>PCT_85</th>\n",
       "      <th>DOW</th>\n",
       "    </tr>\n",
       "  </thead>\n",
       "  <tbody>\n",
       "    <tr>\n",
       "      <th>0</th>\n",
       "      <td>998969850F</td>\n",
       "      <td>2014-01-01 13:55</td>\n",
       "      <td>167</td>\n",
       "      <td>186</td>\n",
       "      <td>72</td>\n",
       "      <td>61.0</td>\n",
       "      <td>0.0</td>\n",
       "      <td>61</td>\n",
       "      <td>61</td>\n",
       "      <td>10</td>\n",
       "      <td>61</td>\n",
       "      <td>61</td>\n",
       "      <td>61</td>\n",
       "      <td>Wednesday</td>\n",
       "    </tr>\n",
       "    <tr>\n",
       "      <th>1</th>\n",
       "      <td>998969850F</td>\n",
       "      <td>2014-01-02 11:05</td>\n",
       "      <td>133</td>\n",
       "      <td>186</td>\n",
       "      <td>72</td>\n",
       "      <td>60.0</td>\n",
       "      <td>0.0</td>\n",
       "      <td>60</td>\n",
       "      <td>60</td>\n",
       "      <td>10</td>\n",
       "      <td>60</td>\n",
       "      <td>60</td>\n",
       "      <td>60</td>\n",
       "      <td>Thursday</td>\n",
       "    </tr>\n",
       "    <tr>\n",
       "      <th>2</th>\n",
       "      <td>998969850F</td>\n",
       "      <td>2014-01-02 13:20</td>\n",
       "      <td>160</td>\n",
       "      <td>186</td>\n",
       "      <td>72</td>\n",
       "      <td>61.0</td>\n",
       "      <td>0.0</td>\n",
       "      <td>61</td>\n",
       "      <td>61</td>\n",
       "      <td>10</td>\n",
       "      <td>61</td>\n",
       "      <td>61</td>\n",
       "      <td>61</td>\n",
       "      <td>Thursday</td>\n",
       "    </tr>\n",
       "    <tr>\n",
       "      <th>3</th>\n",
       "      <td>998969850F</td>\n",
       "      <td>2014-01-02 14:30</td>\n",
       "      <td>174</td>\n",
       "      <td>186</td>\n",
       "      <td>72</td>\n",
       "      <td>52.0</td>\n",
       "      <td>0.0</td>\n",
       "      <td>52</td>\n",
       "      <td>52</td>\n",
       "      <td>10</td>\n",
       "      <td>52</td>\n",
       "      <td>52</td>\n",
       "      <td>52</td>\n",
       "      <td>Thursday</td>\n",
       "    </tr>\n",
       "    <tr>\n",
       "      <th>4</th>\n",
       "      <td>998969850F</td>\n",
       "      <td>2014-01-03 09:05</td>\n",
       "      <td>109</td>\n",
       "      <td>186</td>\n",
       "      <td>72</td>\n",
       "      <td>57.0</td>\n",
       "      <td>0.0</td>\n",
       "      <td>57</td>\n",
       "      <td>57</td>\n",
       "      <td>10</td>\n",
       "      <td>57</td>\n",
       "      <td>57</td>\n",
       "      <td>57</td>\n",
       "      <td>Friday</td>\n",
       "    </tr>\n",
       "  </tbody>\n",
       "</table>\n",
       "</div>"
      ],
      "text/plain": [
       "     LINK_DIR         DATE_TIME  EPOCH_5MIN  LENGTH  SPDLIMIT  MEAN  STDDEV  \\\n",
       "0  998969850F  2014-01-01 13:55         167     186        72  61.0     0.0   \n",
       "1  998969850F  2014-01-02 11:05         133     186        72  60.0     0.0   \n",
       "2  998969850F  2014-01-02 13:20         160     186        72  61.0     0.0   \n",
       "3  998969850F  2014-01-02 14:30         174     186        72  52.0     0.0   \n",
       "4  998969850F  2014-01-03 09:05         109     186        72  57.0     0.0   \n",
       "\n",
       "   MIN  MAX  CONFIDENCE  PCT_5  PCT_50  PCT_85        DOW  \n",
       "0   61   61          10     61      61      61  Wednesday  \n",
       "1   60   60          10     60      60      60   Thursday  \n",
       "2   61   61          10     61      61      61   Thursday  \n",
       "3   52   52          10     52      52      52   Thursday  \n",
       "4   57   57          10     57      57      57     Friday  "
      ]
     },
     "execution_count": 21,
     "metadata": {},
     "output_type": "execute_result"
    }
   ],
   "source": [
    "herepath = pd.read_csv('data/MOW_Path_Speed_5Min_2014_DOW_SpeedLimit.csv', encoding='utf-8')\n",
    "herepath.head()"
   ]
  },
  {
   "cell_type": "code",
   "execution_count": 22,
   "metadata": {
    "collapsed": false
   },
   "outputs": [
    {
     "data": {
      "text/plain": [
       "['Monday', 'Tuesday', 'Wednesday', 'Thursday', 'Friday']"
      ]
     },
     "execution_count": 22,
     "metadata": {},
     "output_type": "execute_result"
    }
   ],
   "source": [
    "#For now, enter the weekdays desire here in full\n",
    "Weekday = ['Monday','Tuesday','Wednesday','Thursday','Friday']\n",
    "Weekday"
   ]
  },
  {
   "cell_type": "code",
   "execution_count": 23,
   "metadata": {
    "collapsed": false
   },
   "outputs": [
    {
     "data": {
      "text/plain": [
       "['Saturday', 'Sunday']"
      ]
     },
     "execution_count": 23,
     "metadata": {},
     "output_type": "execute_result"
    }
   ],
   "source": [
    "Weekend = ['Saturday','Sunday']\n",
    "Weekend"
   ]
  },
  {
   "cell_type": "code",
   "execution_count": 24,
   "metadata": {
    "collapsed": false
   },
   "outputs": [
    {
     "data": {
      "text/plain": [
       "['Monday', 'Tuesday', 'Wednesday', 'Thursday', 'Friday', 'Saturday', 'Sunday']"
      ]
     },
     "execution_count": 24,
     "metadata": {},
     "output_type": "execute_result"
    }
   ],
   "source": [
    "Both = ['Monday','Tuesday','Wednesday','Thursday','Friday','Saturday','Sunday']\n",
    "Both"
   ]
  },
  {
   "cell_type": "code",
   "execution_count": 31,
   "metadata": {
    "collapsed": true
   },
   "outputs": [],
   "source": [
    "#w = Link, x = input dataframe, y = beginning timeframe (in epoch), z = ending timeframe (in epoch), \n",
    "#h = holiday (y or n), d = weekend or weekday\n",
    "#Note the dataframe has to have an EPOCH_5MIN row to work.\n",
    "#Also, this is ONLY for a single-link dataframe\n",
    "def timeframe(w,x,y,z,h,d):\n",
    "    us_holidays = ['2014-01-01', '2014-05-26', \n",
    "                   '2014-07-04', '2014-09-01', '2014-11-27', \n",
    "                   '2014-11-28', '2014-12-25']\n",
    "    if h == True:\n",
    "        x['DATE'] = x['DATE_TIME'].str.split(' ').str[0]\n",
    "        r = x[x['DATE'].isin(us_holidays)]\n",
    "        v = x[~x.isin(r)].dropna()\n",
    "        link = v[v['LINK_DIR']== w]\n",
    "        days = link[link['DOW'].isin(d)]\n",
    "        Timeframe = days[(days['EPOCH_5MIN'] >= y) & (days['EPOCH_5MIN'] <= z)]\n",
    "        return Timeframe\n",
    "    else:\n",
    "        x['DATE'] = x['DATE_TIME'].str.split(' ').str[0]\n",
    "        link = x[x['LINK_DIR']== w]\n",
    "        days = link[link['DOW'].isin(d)]\n",
    "        Timeframe = days[(days['EPOCH_5MIN'] >= y) & (days['EPOCH_5MIN'] <= z)]\n",
    "        return Timeframe"
   ]
  },
  {
   "cell_type": "code",
   "execution_count": 26,
   "metadata": {
    "collapsed": true
   },
   "outputs": [],
   "source": [
    "#w = Link, x = input dataframe, y = beginning timeframe (in epoch), z = ending timeframe (in epoch), \n",
    "#h = holiday (y or n), d = weekend or weekday\n",
    "#Note the dataframe has to have an EPOCH_5MIN row to work.\n",
    "#Also, this is ONLY for a single-link dataframe\n",
    "def timeframe2(x,y,z,h,d):\n",
    "    us_holidays = ['2014-01-01', '2014-05-26', \n",
    "                   '2014-07-04', '2014-09-01', '2014-11-27', \n",
    "                   '2014-11-28', '2014-12-25']\n",
    "    if h == True:\n",
    "        x['DATE'] = x['DATE_TIME'].str.split(' ').str[0]\n",
    "        r = x[x['DATE'].isin(us_holidays)]\n",
    "        v = x[~x.isin(r)].dropna()\n",
    "        days = x[x['DOW'].isin(d)]\n",
    "        Timeframe = days[(days['EPOCH_5MIN'] >= y) & (days['EPOCH_5MIN'] <= z)]\n",
    "        return Timeframe\n",
    "    else:\n",
    "        days = x[x['DOW'].isin(d)]\n",
    "        Timeframe = days[(days['EPOCH_5MIN'] >= y) & (days['EPOCH_5MIN'] <= z)]\n",
    "        return Timeframe"
   ]
  },
  {
   "cell_type": "code",
   "execution_count": 27,
   "metadata": {
    "collapsed": true
   },
   "outputs": [],
   "source": [
    "#ddof represents degrees of freedom which, according to the documentation for HERE, is 1\n",
    "#85th percentile speed uses a linear interpolation.  The lowest, highest, or nearest can also be selected\n",
    "def HEREstatsBase(x):\n",
    "    y = pd.DataFrame(columns=[])\n",
    "    y['MEAN'] = ((x['MEAN']).groupby(x['LINK_DIR']).mean())*(0.6213)\n",
    "    y['SPDLIMIT'] = (x['SPDLIMIT'].groupby(x['LINK_DIR']).mean())*(0.6213)\n",
    "    \n",
    "    y = pd.DataFrame(columns=[])\n",
    "    \n",
    "    y['PcntSpeed_85thAll'] = (x['MEAN'].groupby(x['LINK_DIR']).quantile(0.85,interpolation = 'lower'))*(0.6213)\n",
    "    \n",
    "    numberdays = x['DATE'].unique()\n",
    "    epoct = x['LINK_DIR'].value_counts()\n",
    "    y['TotalIntervals_85thAll'] = epoct\n",
    "    y['PcntInterval_85thAll'] = ((epoct/(288*len(numberdays))*100))\n",
    "    \n",
    "    Var1 = (x['MEAN']).groupby(x['LINK_DIR'])\n",
    "    Var2 = (x['STDDEV']).groupby(x['LINK_DIR'])\n",
    "    Var = (Var1.var(ddof=1))+(Var2.sum()/len(x))\n",
    "    y['StdDev_85thAll'] = (np.sqrt(Var))*(0.6213)\n",
    "    \n",
    "   \n",
    "    \n",
    "    y['60spd'] = (x['MEAN'].groupby(x['LINK_DIR']).quantile(0.60,interpolation = 'lower'))*(0.6213)\n",
    "    \n",
    "    y['5spd'] = (x['MEAN'].groupby(x['LINK_DIR']).quantile(0.05,interpolation = 'lower'))*(0.6213)\n",
    "      \n",
    "\n",
    "    \n",
    "    y = np.round(y,3)\n",
    "    return z"
   ]
  },
  {
   "cell_type": "code",
   "execution_count": 28,
   "metadata": {
    "collapsed": false
   },
   "outputs": [],
   "source": [
    "#ddof represents degrees of freedom which, according to the documentation for HERE, is 1\n",
    "#85th percentile speed uses a linear interpolation.  The lowest, highest, or nearest can also be selected\n",
    "def HEREstatsALL(x):\n",
    "    y = pd.DataFrame(columns=[])\n",
    "    \n",
    "    y['MEAN'] = ((x['MEAN']).groupby(x['LINK_DIR']).mean())*(0.6213)\n",
    "    y['SPDLIMIT'] = (x['SPDLIMIT'].groupby(x['LINK_DIR']).mean())*(0.6213)\n",
    "    \n",
    "    y['PcntSpeed_85thAll'] = (x['MEAN'].groupby(x['LINK_DIR']).quantile(0.85,interpolation = 'lower'))*(0.6213)\n",
    "    y['PcntSpeed_5thAll'] = (x['MEAN'].groupby(x['LINK_DIR']).quantile(0.05,interpolation = 'lower'))*(0.6213)\n",
    "    \n",
    "    numberdays = x['DATE'].unique()\n",
    "    epoct = x['LINK_DIR'].value_counts()\n",
    "    y['TotalIntervals_85thAll'] = epoct\n",
    "    y['PcntInterval_85thAll'] = ((epoct/(288*len(numberdays))*100))\n",
    "    \n",
    "    Var1 = (x['MEAN']).groupby(x['LINK_DIR'])\n",
    "    Var2 = (x['STDDEV']).groupby(x['LINK_DIR'])\n",
    "    Var = (Var1.var(ddof=1))+(Var2.sum()/len(x))\n",
    "    y['StdDev_85thAll'] = (np.sqrt(Var))*(0.6213)\n",
    "    \n",
    "    y = np.round(y,3)\n",
    "    return y"
   ]
  },
  {
   "cell_type": "code",
   "execution_count": 29,
   "metadata": {
    "collapsed": true
   },
   "outputs": [],
   "source": [
    "def IndecesALLAM(y):\n",
    "    z = pd.DataFrame(columns = [])\n",
    "    z['TTI_SL_AM'] = y['SPDLIMIT'].div(y['MEAN'])\n",
    "    z['PTI_SL_AM'] = y['SPDLIMIT'].div(y['PcntSpeed_5thAll'])\n",
    "    z['TTI_85thALL_AM'] = y['PcntSpeed_85thAll'].div(y['MEAN'])\n",
    "    z['PTI_85thALL_AM'] = y['PcntSpeed_85thAll'].div(y['PcntSpeed_5thAll'])\n",
    "    z['BTI_AM'] = (y['MEAN'].div(y['PcntSpeed_5thAll']))-1\n",
    "    z = np.round(z,3)\n",
    "    return z"
   ]
  },
  {
   "cell_type": "code",
   "execution_count": 15,
   "metadata": {
    "collapsed": true
   },
   "outputs": [],
   "source": [
    "def IndecesALLMD(y):\n",
    "    z = pd.DataFrame(columns = [])\n",
    "    z['TTI_SL_MD'] = y['SPDLIMIT'].div(y['MEAN'])\n",
    "    z['PTI_SL_MD'] = y['SPDLIMIT'].div(y['PcntSpeed_5thAll'])\n",
    "    z['TTI_85th_MD'] = y['PcntSpeed_85thAll'].div(y['MEAN'])\n",
    "    z['PTI_85th_MD'] = y['PcntSpeed_85thAll'].div(y['PcntSpeed_5thAll'])\n",
    "    z['BTI_MD'] = (y['MEAN'].div(y['PcntSpeed_5thAll']))-1\n",
    "    z = np.round(z,3)\n",
    "    return z"
   ]
  },
  {
   "cell_type": "code",
   "execution_count": 16,
   "metadata": {
    "collapsed": true
   },
   "outputs": [],
   "source": [
    "def IndecesALLPM(y):\n",
    "    z = pd.DataFrame(columns = [])\n",
    "    z['TTI_SL_PM'] = y['SPDLIMIT'].div(y['MEAN'])\n",
    "    z['PTI_SL_PM'] = y['SPDLIMIT'].div(y['PcntSpeed_5thAll'])\n",
    "    z['TTI_85th_PM'] = y['PcntSpeed_85thAll'].div(y['MEAN'])\n",
    "    z['PTI_85th_PM'] = y['PcntSpeed_85thAll'].div(y['PcntSpeed_5thAll'])\n",
    "    z['BTI_PM'] = (y['MEAN'].div(y['PcntSpeed_5thAll']))-1\n",
    "    z = np.round(z,3)\n",
    "    return z"
   ]
  },
  {
   "cell_type": "code",
   "execution_count": 43,
   "metadata": {
    "collapsed": true
   },
   "outputs": [],
   "source": [
    "#ddof represents degrees of freedom which, according to the documentation for HERE, is 1\n",
    "#85th percentile speed uses a linear interpolation.  The lowest, highest, or nearest can also be selected\n",
    "def HEREstatsWd(x):\n",
    "    y = pd.DataFrame(columns=[])\n",
    "    y['MEAN'] = ((x['MEAN']).groupby(x['LINK_DIR']).mean())*(0.6213)\n",
    "    y['SPDLIMIT'] = (x['SPDLIMIT'].groupby(x['LINK_DIR']).mean())*(0.6213)\n",
    "\n",
    "    \n",
    "    y['PcntSpeed_85thWd'] = (x['MEAN'].groupby(x['LINK_DIR']).quantile(0.85,interpolation = 'lower'))*(0.6213)\n",
    "    y['PcntSpeed_5thWd'] = (x['MEAN'].groupby(x['LINK_DIR']).quantile(0.05,interpolation = 'lower'))*(0.6213)\n",
    "    \n",
    "    numberdays = x['DATE'].unique()\n",
    "    epoct = x['LINK_DIR'].value_counts()\n",
    "    y['TotalIntervals_85thWd'] = epoct\n",
    "    y['PcntInterval_85thWd'] = ((epoct/(288*len(numberdays))*100))\n",
    "    \n",
    "    Var1 = (x['MEAN']).groupby(x['LINK_DIR'])\n",
    "    Var2 = (x['STDDEV']).groupby(x['LINK_DIR'])\n",
    "    Var = (Var1.var(ddof=1))+(Var2.sum()/len(x))\n",
    "    y['StdDev_85thWd'] = (np.sqrt(Var))*(0.6213)\n",
    "     \n",
    "    y = np.round(y,3)\n",
    "    return y"
   ]
  },
  {
   "cell_type": "code",
   "execution_count": 55,
   "metadata": {
    "collapsed": true
   },
   "outputs": [],
   "source": [
    "def IndecesWdAM(y):\n",
    "    z = pd.DataFrame(columns = [])\n",
    "    z['TTI_85thWd_AM'] = y['PcntSpeed_85thWd'].div(y['MEAN'])\n",
    "    z['PTI_85thWd_AM'] = y['PcntSpeed_85thWd'].div(y['PcntSpeed_5thWd'])\n",
    "    z = np.round(z,3)\n",
    "    return z"
   ]
  },
  {
   "cell_type": "code",
   "execution_count": 56,
   "metadata": {
    "collapsed": true
   },
   "outputs": [],
   "source": [
    "def IndecesWdMD(y):\n",
    "    z = pd.DataFrame(columns = [])\n",
    "    z['TTI_85thWd_MD'] = y['PcntSpeed_85thWd'].div(y['MEAN'])\n",
    "    z['PTI_85thWd_MD'] = y['PcntSpeed_85thWd'].div(y['PcntSpeed_5thWd'])\n",
    "    z = np.round(z,3)\n",
    "    return z"
   ]
  },
  {
   "cell_type": "code",
   "execution_count": 57,
   "metadata": {
    "collapsed": true
   },
   "outputs": [],
   "source": [
    "def IndecesWdPM(y):\n",
    "    z = pd.DataFrame(columns = [])\n",
    "    z['TTI_85thWd_PM'] = y['PcntSpeed_85thWd'].div(y['MEAN'])\n",
    "    z['PTI_85thWd_PM'] = y['PcntSpeed_85thWd'].div(y['PcntSpeed_5thWd'])\n",
    "    z = np.round(z,3)\n",
    "    return z"
   ]
  },
  {
   "cell_type": "code",
   "execution_count": 58,
   "metadata": {
    "collapsed": true
   },
   "outputs": [],
   "source": [
    "#ddof represents degrees of freedom which, according to the documentation for HERE, is 1\n",
    "#85th percentile speed uses a linear interpolation.  The lowest, highest, or nearest can also be selected\n",
    "def HEREstatsWend(x):\n",
    "    y = pd.DataFrame(columns=[])\n",
    "    y['MEAN'] = ((x['MEAN']).groupby(x['LINK_DIR']).mean())*(0.6213)\n",
    "    y['SPDLIMIT'] = (x['SPDLIMIT'].groupby(x['LINK_DIR']).mean())*(0.6213)\n",
    "    \n",
    "    y['PcntSpeed_85thWend'] = (x['MEAN'].groupby(x['LINK_DIR']).quantile(0.85,interpolation = 'lower'))*(0.6213)\n",
    "    \n",
    "    numberdays = x['DATE'].unique()\n",
    "    epoct = x['LINK_DIR'].value_counts()\n",
    "    y['TotalIntervals_85thWend'] = epoct\n",
    "    y['PcntInterval_85thWend'] = ((epoct/(288*len(numberdays))*100))\n",
    "    \n",
    "    Var1 = (x['MEAN']).groupby(x['LINK_DIR'])\n",
    "    Var2 = (x['STDDEV']).groupby(x['LINK_DIR'])\n",
    "    Var = (Var1.var(ddof=1))+(Var2.sum()/len(x))\n",
    "    y['StdDev_85thWend'] = (np.sqrt(Var))*(0.6213)\n",
    "     \n",
    "    y = np.round(y,3)\n",
    "    return y"
   ]
  },
  {
   "cell_type": "code",
   "execution_count": 51,
   "metadata": {
    "collapsed": true
   },
   "outputs": [],
   "source": [
    "#ddof represents degrees of freedom which, according to the documentation for HERE, is 1\n",
    "#85th percentile speed uses a linear interpolation.  The lowest, highest, or nearest can also be selected\n",
    "def HEREstatsWdtime(x):\n",
    "    y = pd.DataFrame(columns=[])\n",
    "    y['MEAN'] = ((x['MEAN']).groupby(x['LINK_DIR']).mean())*(0.6213)\n",
    "    y['SPDLIMIT'] = (x['SPDLIMIT'].groupby(x['LINK_DIR']).mean())*(0.6213)\n",
    "    \n",
    "    y['PcntSpeed_60thWdtime'] = (x['MEAN'].groupby(x['LINK_DIR']).quantile(0.60,interpolation = 'lower'))*(0.6213)\n",
    "    y['PcntSpeed_85thWdtime'] = (x['MEAN'].groupby(x['LINK_DIR']).quantile(0.85,interpolation = 'lower'))*(0.6213)\n",
    "    y['PcntSpeed_5thWdtime'] = (x['MEAN'].groupby(x['LINK_DIR']).quantile(0.05,interpolation = 'lower'))*(0.6213)\n",
    "    \n",
    "    numberdays = x['DATE'].unique()\n",
    "    epoct = x['LINK_DIR'].value_counts()\n",
    "    y['TotalIntervals_Wdtime'] = epoct\n",
    "    y['PcntInterval_Wdtime'] = ((epoct/(288*len(numberdays))*100))\n",
    "    \n",
    "    Var1 = (x['MEAN']).groupby(x['LINK_DIR'])\n",
    "    Var2 = (x['STDDEV']).groupby(x['LINK_DIR'])\n",
    "    Var = (Var1.var(ddof=1))+(Var2.sum()/len(x))\n",
    "    y['StdDev_Wdtime'] = (np.sqrt(Var))*(0.6213)\n",
    "     \n",
    "    y = np.round(y,3)\n",
    "    return y"
   ]
  },
  {
   "cell_type": "code",
   "execution_count": 52,
   "metadata": {
    "collapsed": true
   },
   "outputs": [],
   "source": [
    "def IndecesWdtimeAM(y):\n",
    "    z = pd.DataFrame(columns = [])\n",
    "    z['TTI_60thWdtime_AM'] = y['PcntSpeed_60thWdtime'].div(y['MEAN'])\n",
    "    z['PTI_60thWdtime_AM'] = y['PcntSpeed_60thWdtime'].div(y['PcntSpeed_5thWdtime'])\n",
    "    z['TTI_85thWdtime_AM'] = y['PcntSpeed_85thWdtime'].div(y['MEAN'])\n",
    "    z['PTI_85thWdtime_AM'] = y['PcntSpeed_85thWdtime'].div(y['PcntSpeed_5thWdtime'])\n",
    "    z = np.round(z,3)\n",
    "    return z"
   ]
  },
  {
   "cell_type": "code",
   "execution_count": 53,
   "metadata": {
    "collapsed": true
   },
   "outputs": [],
   "source": [
    "def IndecesWdtimeMD(y):\n",
    "    z = pd.DataFrame(columns = [])\n",
    "    z['TTI_60thWdtime_MD'] = y['PcntSpeed_60thWdtime'].div(y['MEAN'])\n",
    "    z['PTI_60thWdtime_MD'] = y['PcntSpeed_60thWdtime'].div(y['PcntSpeed_5thWdtime'])\n",
    "    z['TTI_85thWdtime_MD'] = y['PcntSpeed_85thWdtime'].div(y['MEAN'])\n",
    "    z['PTI_85thWdtime_MD'] = y['PcntSpeed_85thWdtime'].div(y['PcntSpeed_5thWdtime'])\n",
    "    z = np.round(z,3)\n",
    "    return z"
   ]
  },
  {
   "cell_type": "code",
   "execution_count": 54,
   "metadata": {
    "collapsed": true
   },
   "outputs": [],
   "source": [
    "def IndecesWdtimePM(y):\n",
    "    z = pd.DataFrame(columns = [])\n",
    "    z['TTI_60thWdtime_PM'] = y['PcntSpeed_60thWdtime'].div(y['MEAN'])\n",
    "    z['PTI_60thWdtime_PM'] = y['PcntSpeed_60thWdtime'].div(y['PcntSpeed_5thWdtime'])\n",
    "    z['TTI_85thWdtime_PM'] = y['PcntSpeed_85thWdtime'].div(y['MEAN'])\n",
    "    z['PTI_85thWdtime_PM'] = y['PcntSpeed_85thWdtime'].div(y['PcntSpeed_5thWdtime'])\n",
    "    z = np.round(z,3)\n",
    "    return z"
   ]
  },
  {
   "cell_type": "code",
   "execution_count": 60,
   "metadata": {
    "collapsed": true
   },
   "outputs": [],
   "source": [
    "#ddof represents degrees of freedom which, according to the documentation for HERE, is 1\n",
    "#85th percentile speed uses a linear interpolation.  The lowest, highest, or nearest can also be selected\n",
    "def HEREstatsWdayAM(x):\n",
    "    y = pd.DataFrame(columns=[])\n",
    "    y['MEAN'] = ((x['MEAN']).groupby(x['LINK_DIR']).mean())*(0.6213)\n",
    "    y['SPDLIMIT'] = (x['SPDLIMIT'].groupby(x['LINK_DIR']).mean())*(0.6213)\n",
    "    \n",
    "    y['PcntSpeed_5thWdayAM'] = (x['MEAN'].groupby(x['LINK_DIR']).quantile(0.05,interpolation = 'lower'))*(0.6213)\n",
    "    y['AvgSpeed_WdayAM'] = y['MEAN']\n",
    "    \n",
    "    numberdays = x['DATE'].unique()\n",
    "    epoct = x['LINK_DIR'].value_counts()\n",
    "    y['TotalIntervals_WdayAM'] = epoct\n",
    "    y['PcntInterval_WdayAM'] = ((epoct/(288*len(numberdays))*100))\n",
    "    \n",
    "    Var1 = (x['MEAN']).groupby(x['LINK_DIR'])\n",
    "    Var2 = (x['STDDEV']).groupby(x['LINK_DIR'])\n",
    "    Var = (Var1.var(ddof=1))+(Var2.sum()/len(x))\n",
    "    y['StdDev_WdayAM'] = (np.sqrt(Var))*(0.6213)\n",
    "     \n",
    "    y = np.round(y,3)\n",
    "    return y"
   ]
  },
  {
   "cell_type": "code",
   "execution_count": 61,
   "metadata": {
    "collapsed": true
   },
   "outputs": [],
   "source": [
    "#ddof represents degrees of freedom which, according to the documentation for HERE, is 1\n",
    "#85th percentile speed uses a linear interpolation.  The lowest, highest, or nearest can also be selected\n",
    "def HEREstatsWdayMD(x):\n",
    "    y = pd.DataFrame(columns=[])\n",
    "    y['MEAN'] = ((x['MEAN']).groupby(x['LINK_DIR']).mean())*(0.6213)\n",
    "    y['SPDLIMIT'] = (x['SPDLIMIT'].groupby(x['LINK_DIR']).mean())*(0.6213)\n",
    "    \n",
    "    y['PcntSpeed_5thWdayMD'] = (x['MEAN'].groupby(x['LINK_DIR']).quantile(0.05,interpolation = 'lower'))*(0.6213)\n",
    "    y['AvgSpeed_WdayMD'] = y['MEAN']\n",
    "    \n",
    "    numberdays = x['DATE'].unique()\n",
    "    epoct = x['LINK_DIR'].value_counts()\n",
    "    y['TotalIntervals_WdayMD'] = epoct\n",
    "    y['PcntInterval_WdayMD'] = ((epoct/(288*len(numberdays))*100))\n",
    "    \n",
    "    Var1 = (x['MEAN']).groupby(x['LINK_DIR'])\n",
    "    Var2 = (x['STDDEV']).groupby(x['LINK_DIR'])\n",
    "    Var = (Var1.var(ddof=1))+(Var2.sum()/len(x))\n",
    "    y['StdDev_WdayMD'] = (np.sqrt(Var))*(0.6213)\n",
    "     \n",
    "    y = np.round(y,3)\n",
    "    return y"
   ]
  },
  {
   "cell_type": "code",
   "execution_count": 62,
   "metadata": {
    "collapsed": true
   },
   "outputs": [],
   "source": [
    "#ddof represents degrees of freedom which, according to the documentation for HERE, is 1\n",
    "#85th percentile speed uses a linear interpolation.  The lowest, highest, or nearest can also be selected\n",
    "def HEREstatsWdayPM(x):\n",
    "    y = pd.DataFrame(columns=[])\n",
    "    y['MEAN'] = ((x['MEAN']).groupby(x['LINK_DIR']).mean())*(0.6213)\n",
    "    y['SPDLIMIT'] = (x['SPDLIMIT'].groupby(x['LINK_DIR']).mean())*(0.6213)\n",
    "    \n",
    "    y['PcntSpeed_5thWdayPM'] = (x['MEAN'].groupby(x['LINK_DIR']).quantile(0.05,interpolation = 'lower'))*(0.6213)\n",
    "    y['AvgSpeed_WdayPM'] = y['MEAN']\n",
    "    \n",
    "    numberdays = x['DATE'].unique()\n",
    "    epoct = x['LINK_DIR'].value_counts()\n",
    "    y['TotalIntervals_WdayPM'] = epoct\n",
    "    y['PcntInterval_WdayPM'] = ((epoct/(288*len(numberdays))*100))\n",
    "    \n",
    "    Var1 = (x['MEAN']).groupby(x['LINK_DIR'])\n",
    "    Var2 = (x['STDDEV']).groupby(x['LINK_DIR'])\n",
    "    Var = (Var1.var(ddof=1))+(Var2.sum()/len(x))\n",
    "    y['StdDev_WdayPM'] = (np.sqrt(Var))*(0.6213)\n",
    "     \n",
    "    y = np.round(y,3)\n",
    "    return y"
   ]
  },
  {
   "cell_type": "code",
   "execution_count": 16,
   "metadata": {
    "collapsed": false
   },
   "outputs": [],
   "source": [
    "#For all days and all time periods\n",
    "#bylink = HEREstatsALL(herepath)\n",
    "\n",
    "#bylink.head()"
   ]
  },
  {
   "cell_type": "code",
   "execution_count": 17,
   "metadata": {
    "collapsed": false
   },
   "outputs": [
    {
     "data": {
      "text/html": [
       "<div>\n",
       "<table border=\"1\" class=\"dataframe\">\n",
       "  <thead>\n",
       "    <tr style=\"text-align: right;\">\n",
       "      <th></th>\n",
       "      <th>PcntSpeed_85thWd</th>\n",
       "      <th>TotalIntervals_85thWd</th>\n",
       "      <th>PcntInterval_85thWd</th>\n",
       "      <th>StdDev_85thWd</th>\n",
       "    </tr>\n",
       "    <tr>\n",
       "      <th>LINK_DIR</th>\n",
       "      <th></th>\n",
       "      <th></th>\n",
       "      <th></th>\n",
       "      <th></th>\n",
       "    </tr>\n",
       "  </thead>\n",
       "  <tbody>\n",
       "    <tr>\n",
       "      <th>998969850F</th>\n",
       "      <td>42.87</td>\n",
       "      <td>2799</td>\n",
       "      <td>3.826</td>\n",
       "      <td>9.22</td>\n",
       "    </tr>\n",
       "  </tbody>\n",
       "</table>\n",
       "</div>"
      ],
      "text/plain": [
       "            PcntSpeed_85thWd  TotalIntervals_85thWd  PcntInterval_85thWd  \\\n",
       "LINK_DIR                                                                   \n",
       "998969850F             42.87                   2799                3.826   \n",
       "\n",
       "            StdDev_85thWd  \n",
       "LINK_DIR                   \n",
       "998969850F           9.22  "
      ]
     },
     "execution_count": 17,
     "metadata": {},
     "output_type": "execute_result"
    }
   ],
   "source": [
    "#for weekdays\n",
    "Wkd = timeframe('998969850F',herepath,0,288,True,Weekday)\n",
    "SpeedWd = HEREstatsWd(Wkd)\n",
    "SpeedWd.head()"
   ]
  },
  {
   "cell_type": "code",
   "execution_count": 29,
   "metadata": {
    "collapsed": false
   },
   "outputs": [
    {
     "data": {
      "text/html": [
       "<div>\n",
       "<table border=\"1\" class=\"dataframe\">\n",
       "  <thead>\n",
       "    <tr style=\"text-align: right;\">\n",
       "      <th></th>\n",
       "      <th>PcntSpeed_85thWd</th>\n",
       "      <th>TotalIntervals_85thWd</th>\n",
       "      <th>PcntInterval_85thWd</th>\n",
       "      <th>StdDev_85thWd</th>\n",
       "    </tr>\n",
       "    <tr>\n",
       "      <th>LINK_DIR</th>\n",
       "      <th></th>\n",
       "      <th></th>\n",
       "      <th></th>\n",
       "      <th></th>\n",
       "    </tr>\n",
       "  </thead>\n",
       "  <tbody>\n",
       "    <tr>\n",
       "      <th>107030432T</th>\n",
       "      <td>47.840</td>\n",
       "      <td>5023</td>\n",
       "      <td>6.682</td>\n",
       "      <td>10.344</td>\n",
       "    </tr>\n",
       "    <tr>\n",
       "      <th>107030439T</th>\n",
       "      <td>44.734</td>\n",
       "      <td>6775</td>\n",
       "      <td>9.013</td>\n",
       "      <td>9.937</td>\n",
       "    </tr>\n",
       "    <tr>\n",
       "      <th>107030440T</th>\n",
       "      <td>45.355</td>\n",
       "      <td>6339</td>\n",
       "      <td>8.433</td>\n",
       "      <td>10.262</td>\n",
       "    </tr>\n",
       "    <tr>\n",
       "      <th>107030444F</th>\n",
       "      <td>47.219</td>\n",
       "      <td>8045</td>\n",
       "      <td>10.703</td>\n",
       "      <td>11.301</td>\n",
       "    </tr>\n",
       "    <tr>\n",
       "      <th>107030445F</th>\n",
       "      <td>47.840</td>\n",
       "      <td>8008</td>\n",
       "      <td>10.653</td>\n",
       "      <td>11.282</td>\n",
       "    </tr>\n",
       "  </tbody>\n",
       "</table>\n",
       "</div>"
      ],
      "text/plain": [
       "            PcntSpeed_85thWd  TotalIntervals_85thWd  PcntInterval_85thWd  \\\n",
       "LINK_DIR                                                                   \n",
       "107030432T            47.840                   5023                6.682   \n",
       "107030439T            44.734                   6775                9.013   \n",
       "107030440T            45.355                   6339                8.433   \n",
       "107030444F            47.219                   8045               10.703   \n",
       "107030445F            47.840                   8008               10.653   \n",
       "\n",
       "            StdDev_85thWd  \n",
       "LINK_DIR                   \n",
       "107030432T         10.344  \n",
       "107030439T          9.937  \n",
       "107030440T         10.262  \n",
       "107030444F         11.301  \n",
       "107030445F         11.282  "
      ]
     },
     "execution_count": 29,
     "metadata": {},
     "output_type": "execute_result"
    }
   ],
   "source": [
    "#for weekdays all links\n",
    "Wkd = timeframe2(herepath,0,288,True,Weekday)\n",
    "SpeedWd = HEREstatsWd(Wkd)\n",
    "SpeedWd.head()"
   ]
  },
  {
   "cell_type": "code",
   "execution_count": 18,
   "metadata": {
    "collapsed": false
   },
   "outputs": [
    {
     "data": {
      "text/html": [
       "<div>\n",
       "<table border=\"1\" class=\"dataframe\">\n",
       "  <thead>\n",
       "    <tr style=\"text-align: right;\">\n",
       "      <th></th>\n",
       "      <th>PcntSpeed_85thWend</th>\n",
       "      <th>TotalIntervals_85thWend</th>\n",
       "      <th>PcntInterval_85thWend</th>\n",
       "      <th>StdDev_85thWend</th>\n",
       "    </tr>\n",
       "    <tr>\n",
       "      <th>LINK_DIR</th>\n",
       "      <th></th>\n",
       "      <th></th>\n",
       "      <th></th>\n",
       "      <th></th>\n",
       "    </tr>\n",
       "  </thead>\n",
       "  <tbody>\n",
       "    <tr>\n",
       "      <th>998969850F</th>\n",
       "      <td>46.598</td>\n",
       "      <td>330</td>\n",
       "      <td>1.157</td>\n",
       "      <td>10.751</td>\n",
       "    </tr>\n",
       "  </tbody>\n",
       "</table>\n",
       "</div>"
      ],
      "text/plain": [
       "            PcntSpeed_85thWend  TotalIntervals_85thWend  \\\n",
       "LINK_DIR                                                  \n",
       "998969850F              46.598                      330   \n",
       "\n",
       "            PcntInterval_85thWend  StdDev_85thWend  \n",
       "LINK_DIR                                            \n",
       "998969850F                  1.157           10.751  "
      ]
     },
     "execution_count": 18,
     "metadata": {},
     "output_type": "execute_result"
    }
   ],
   "source": [
    "#for weekends\n",
    "Wend = timeframe('998969850F',herepath,0,288,True,Weekend)\n",
    "SpeedWend = HEREstatsWend(Wend)\n",
    "SpeedWend.head()"
   ]
  },
  {
   "cell_type": "code",
   "execution_count": 19,
   "metadata": {
    "collapsed": false
   },
   "outputs": [
    {
     "data": {
      "text/html": [
       "<div>\n",
       "<table border=\"1\" class=\"dataframe\">\n",
       "  <thead>\n",
       "    <tr style=\"text-align: right;\">\n",
       "      <th></th>\n",
       "      <th>PcntSpeed_85thWend</th>\n",
       "      <th>TotalIntervals_85thWend</th>\n",
       "      <th>PcntInterval_85thWend</th>\n",
       "      <th>StdDev_85thWend</th>\n",
       "    </tr>\n",
       "    <tr>\n",
       "      <th>LINK_DIR</th>\n",
       "      <th></th>\n",
       "      <th></th>\n",
       "      <th></th>\n",
       "      <th></th>\n",
       "    </tr>\n",
       "  </thead>\n",
       "  <tbody>\n",
       "    <tr>\n",
       "      <th>107030432T</th>\n",
       "      <td>50.325</td>\n",
       "      <td>723</td>\n",
       "      <td>2.414</td>\n",
       "      <td>10.988</td>\n",
       "    </tr>\n",
       "    <tr>\n",
       "      <th>107030439T</th>\n",
       "      <td>45.355</td>\n",
       "      <td>1082</td>\n",
       "      <td>3.612</td>\n",
       "      <td>9.874</td>\n",
       "    </tr>\n",
       "    <tr>\n",
       "      <th>107030440T</th>\n",
       "      <td>45.355</td>\n",
       "      <td>986</td>\n",
       "      <td>3.292</td>\n",
       "      <td>10.532</td>\n",
       "    </tr>\n",
       "    <tr>\n",
       "      <th>107030444F</th>\n",
       "      <td>47.840</td>\n",
       "      <td>1266</td>\n",
       "      <td>4.227</td>\n",
       "      <td>10.461</td>\n",
       "    </tr>\n",
       "    <tr>\n",
       "      <th>107030445F</th>\n",
       "      <td>49.083</td>\n",
       "      <td>1248</td>\n",
       "      <td>4.167</td>\n",
       "      <td>10.760</td>\n",
       "    </tr>\n",
       "  </tbody>\n",
       "</table>\n",
       "</div>"
      ],
      "text/plain": [
       "            PcntSpeed_85thWend  TotalIntervals_85thWend  \\\n",
       "LINK_DIR                                                  \n",
       "107030432T              50.325                      723   \n",
       "107030439T              45.355                     1082   \n",
       "107030440T              45.355                      986   \n",
       "107030444F              47.840                     1266   \n",
       "107030445F              49.083                     1248   \n",
       "\n",
       "            PcntInterval_85thWend  StdDev_85thWend  \n",
       "LINK_DIR                                            \n",
       "107030432T                  2.414           10.988  \n",
       "107030439T                  3.612            9.874  \n",
       "107030440T                  3.292           10.532  \n",
       "107030444F                  4.227           10.461  \n",
       "107030445F                  4.167           10.760  "
      ]
     },
     "execution_count": 19,
     "metadata": {},
     "output_type": "execute_result"
    }
   ],
   "source": [
    "#for weekends all links\n",
    "Wend = timeframe2(herepath,0,288,True,Weekend)\n",
    "SpeedWend = HEREstatsWend(Wend)\n",
    "SpeedWend.head()"
   ]
  },
  {
   "cell_type": "code",
   "execution_count": 20,
   "metadata": {
    "collapsed": false
   },
   "outputs": [
    {
     "data": {
      "text/html": [
       "<div>\n",
       "<table border=\"1\" class=\"dataframe\">\n",
       "  <thead>\n",
       "    <tr style=\"text-align: right;\">\n",
       "      <th></th>\n",
       "      <th>PcntSpeed_60thWdtime</th>\n",
       "      <th>PcntSpeed_85thWdtime</th>\n",
       "      <th>TotalIntervals_Wdtime</th>\n",
       "      <th>PcntInterval_Wdtime</th>\n",
       "      <th>StdDev_Wdtime</th>\n",
       "    </tr>\n",
       "    <tr>\n",
       "      <th>LINK_DIR</th>\n",
       "      <th></th>\n",
       "      <th></th>\n",
       "      <th></th>\n",
       "      <th></th>\n",
       "      <th></th>\n",
       "    </tr>\n",
       "  </thead>\n",
       "  <tbody>\n",
       "    <tr>\n",
       "      <th>998969850F</th>\n",
       "      <td>36.035</td>\n",
       "      <td>41.627</td>\n",
       "      <td>2587</td>\n",
       "      <td>3.536</td>\n",
       "      <td>8.938</td>\n",
       "    </tr>\n",
       "  </tbody>\n",
       "</table>\n",
       "</div>"
      ],
      "text/plain": [
       "            PcntSpeed_60thWdtime  PcntSpeed_85thWdtime  TotalIntervals_Wdtime  \\\n",
       "LINK_DIR                                                                        \n",
       "998969850F                36.035                41.627                   2587   \n",
       "\n",
       "            PcntInterval_Wdtime  StdDev_Wdtime  \n",
       "LINK_DIR                                        \n",
       "998969850F                3.536          8.938  "
      ]
     },
     "execution_count": 20,
     "metadata": {},
     "output_type": "execute_result"
    }
   ],
   "source": [
    "#Weekday Between 6AM and 8PM\n",
    "Wdtime = timeframe('998969850F',herepath,72,240,True,Weekday)\n",
    "SpeedWdtime = HEREstatsWdtime(Wdtime)\n",
    "SpeedWdtime.head()"
   ]
  },
  {
   "cell_type": "code",
   "execution_count": 21,
   "metadata": {
    "collapsed": false
   },
   "outputs": [
    {
     "data": {
      "text/html": [
       "<div>\n",
       "<table border=\"1\" class=\"dataframe\">\n",
       "  <thead>\n",
       "    <tr style=\"text-align: right;\">\n",
       "      <th></th>\n",
       "      <th>PcntSpeed_60thWdtime</th>\n",
       "      <th>PcntSpeed_85thWdtime</th>\n",
       "      <th>TotalIntervals_Wdtime</th>\n",
       "      <th>PcntInterval_Wdtime</th>\n",
       "      <th>StdDev_Wdtime</th>\n",
       "    </tr>\n",
       "    <tr>\n",
       "      <th>LINK_DIR</th>\n",
       "      <th></th>\n",
       "      <th></th>\n",
       "      <th></th>\n",
       "      <th></th>\n",
       "      <th></th>\n",
       "    </tr>\n",
       "  </thead>\n",
       "  <tbody>\n",
       "    <tr>\n",
       "      <th>107030432T</th>\n",
       "      <td>41.627</td>\n",
       "      <td>47.840</td>\n",
       "      <td>4458</td>\n",
       "      <td>5.931</td>\n",
       "      <td>10.412</td>\n",
       "    </tr>\n",
       "    <tr>\n",
       "      <th>107030439T</th>\n",
       "      <td>38.521</td>\n",
       "      <td>44.734</td>\n",
       "      <td>6233</td>\n",
       "      <td>8.292</td>\n",
       "      <td>9.992</td>\n",
       "    </tr>\n",
       "    <tr>\n",
       "      <th>107030440T</th>\n",
       "      <td>37.899</td>\n",
       "      <td>45.355</td>\n",
       "      <td>5891</td>\n",
       "      <td>7.837</td>\n",
       "      <td>10.269</td>\n",
       "    </tr>\n",
       "    <tr>\n",
       "      <th>107030444F</th>\n",
       "      <td>40.198</td>\n",
       "      <td>47.219</td>\n",
       "      <td>7538</td>\n",
       "      <td>10.028</td>\n",
       "      <td>11.354</td>\n",
       "    </tr>\n",
       "    <tr>\n",
       "      <th>107030445F</th>\n",
       "      <td>40.384</td>\n",
       "      <td>47.219</td>\n",
       "      <td>7355</td>\n",
       "      <td>9.785</td>\n",
       "      <td>11.290</td>\n",
       "    </tr>\n",
       "  </tbody>\n",
       "</table>\n",
       "</div>"
      ],
      "text/plain": [
       "            PcntSpeed_60thWdtime  PcntSpeed_85thWdtime  TotalIntervals_Wdtime  \\\n",
       "LINK_DIR                                                                        \n",
       "107030432T                41.627                47.840                   4458   \n",
       "107030439T                38.521                44.734                   6233   \n",
       "107030440T                37.899                45.355                   5891   \n",
       "107030444F                40.198                47.219                   7538   \n",
       "107030445F                40.384                47.219                   7355   \n",
       "\n",
       "            PcntInterval_Wdtime  StdDev_Wdtime  \n",
       "LINK_DIR                                        \n",
       "107030432T                5.931         10.412  \n",
       "107030439T                8.292          9.992  \n",
       "107030440T                7.837         10.269  \n",
       "107030444F               10.028         11.354  \n",
       "107030445F                9.785         11.290  "
      ]
     },
     "execution_count": 21,
     "metadata": {},
     "output_type": "execute_result"
    }
   ],
   "source": [
    "#Weekday Between 6AM and 8PM all links\n",
    "Wdtime = timeframe2(herepath,72,240,True,Weekday)\n",
    "SpeedWdtime = HEREstatsWdtime(Wdtime)\n",
    "SpeedWdtime.head()"
   ]
  },
  {
   "cell_type": "code",
   "execution_count": 26,
   "metadata": {
    "collapsed": false
   },
   "outputs": [
    {
     "data": {
      "text/html": [
       "<div>\n",
       "<table border=\"1\" class=\"dataframe\">\n",
       "  <thead>\n",
       "    <tr style=\"text-align: right;\">\n",
       "      <th></th>\n",
       "      <th>PcntSpeed_5thWdayAM</th>\n",
       "      <th>AvgSpeed_WdayAM</th>\n",
       "      <th>TotalIntervals_WdayAM</th>\n",
       "      <th>PcntInterval_WdayAM</th>\n",
       "      <th>StdDev_WdayAM</th>\n",
       "    </tr>\n",
       "    <tr>\n",
       "      <th>LINK_DIR</th>\n",
       "      <th></th>\n",
       "      <th></th>\n",
       "      <th></th>\n",
       "      <th></th>\n",
       "      <th></th>\n",
       "    </tr>\n",
       "  </thead>\n",
       "  <tbody>\n",
       "    <tr>\n",
       "      <th>998969850F</th>\n",
       "      <td>18.018</td>\n",
       "      <td>33.838</td>\n",
       "      <td>440</td>\n",
       "      <td>0.728</td>\n",
       "      <td>8.698</td>\n",
       "    </tr>\n",
       "  </tbody>\n",
       "</table>\n",
       "</div>"
      ],
      "text/plain": [
       "            PcntSpeed_5thWdayAM  AvgSpeed_WdayAM  TotalIntervals_WdayAM  \\\n",
       "LINK_DIR                                                                  \n",
       "998969850F               18.018           33.838                    440   \n",
       "\n",
       "            PcntInterval_WdayAM  StdDev_WdayAM  \n",
       "LINK_DIR                                        \n",
       "998969850F                0.728          8.698  "
      ]
     },
     "execution_count": 26,
     "metadata": {},
     "output_type": "execute_result"
    }
   ],
   "source": [
    "#Stats between 6AM and 9AM\n",
    "WdtimeAM = timeframe('998969850F',herepath,72,108,True,Weekday)\n",
    "SpeedWdayAM = HEREstatsWdayAM(WdtimeAM)\n",
    "SpeedWdayAM.head()"
   ]
  },
  {
   "cell_type": "code",
   "execution_count": 16,
   "metadata": {
    "collapsed": false
   },
   "outputs": [
    {
     "name": "stdout",
     "output_type": "stream",
     "text": [
      "261\n"
     ]
    },
    {
     "data": {
      "text/plain": [
       "134"
      ]
     },
     "execution_count": 16,
     "metadata": {},
     "output_type": "execute_result"
    }
   ],
   "source": [
    "#Stats between 6AM and 9AM all links\n",
    "WdtimeAM = timeframe2(herepath,72,108,True,Weekday)\n",
    "SpeedWdayAM = HEREstatsWdayAM(WdtimeAM)\n",
    "SpeedWdayAM.head()"
   ]
  },
  {
   "cell_type": "code",
   "execution_count": 27,
   "metadata": {
    "collapsed": false
   },
   "outputs": [
    {
     "data": {
      "text/html": [
       "<div>\n",
       "<table border=\"1\" class=\"dataframe\">\n",
       "  <thead>\n",
       "    <tr style=\"text-align: right;\">\n",
       "      <th></th>\n",
       "      <th>PcntSpeed_5thWdayMD</th>\n",
       "      <th>AvgSpeed_WdayMD</th>\n",
       "      <th>TotalIntervals_WdayMD</th>\n",
       "      <th>PcntInterval_WdayMD</th>\n",
       "      <th>StdDev_WdayMD</th>\n",
       "    </tr>\n",
       "    <tr>\n",
       "      <th>LINK_DIR</th>\n",
       "      <th></th>\n",
       "      <th></th>\n",
       "      <th></th>\n",
       "      <th></th>\n",
       "      <th></th>\n",
       "    </tr>\n",
       "  </thead>\n",
       "  <tbody>\n",
       "    <tr>\n",
       "      <th>998969850F</th>\n",
       "      <td>18.639</td>\n",
       "      <td>34.014</td>\n",
       "      <td>1367</td>\n",
       "      <td>1.899</td>\n",
       "      <td>8.661</td>\n",
       "    </tr>\n",
       "  </tbody>\n",
       "</table>\n",
       "</div>"
      ],
      "text/plain": [
       "            PcntSpeed_5thWdayMD  AvgSpeed_WdayMD  TotalIntervals_WdayMD  \\\n",
       "LINK_DIR                                                                  \n",
       "998969850F               18.639           34.014                   1367   \n",
       "\n",
       "            PcntInterval_WdayMD  StdDev_WdayMD  \n",
       "LINK_DIR                                        \n",
       "998969850F                1.899          8.661  "
      ]
     },
     "execution_count": 27,
     "metadata": {},
     "output_type": "execute_result"
    }
   ],
   "source": [
    "#Stats between 9AM and 3PM\n",
    "WdtimeMD = timeframe('998969850F',herepath,108,180,True,Weekday)\n",
    "SpeedWdayMD = HEREstatsWdayMD(WdtimeMD)\n",
    "SpeedWdayMD.head()"
   ]
  },
  {
   "cell_type": "code",
   "execution_count": 15,
   "metadata": {
    "collapsed": false
   },
   "outputs": [
    {
     "name": "stdout",
     "output_type": "stream",
     "text": [
      "261\n"
     ]
    },
    {
     "data": {
      "text/plain": [
       "134"
      ]
     },
     "execution_count": 15,
     "metadata": {},
     "output_type": "execute_result"
    }
   ],
   "source": [
    "#Stats between 9AM and 3PM all links\n",
    "WdtimeMD = timeframe2(herepath,108,180,True,Weekday)\n",
    "SpeedWdayMD = HEREstatsWdayMD(WdtimeMD)\n",
    "SpeedWdayMD.head()"
   ]
  },
  {
   "cell_type": "code",
   "execution_count": 28,
   "metadata": {
    "collapsed": false
   },
   "outputs": [
    {
     "data": {
      "text/html": [
       "<div>\n",
       "<table border=\"1\" class=\"dataframe\">\n",
       "  <thead>\n",
       "    <tr style=\"text-align: right;\">\n",
       "      <th></th>\n",
       "      <th>PcntSpeed_5thWdayPM</th>\n",
       "      <th>AvgSpeed_WdayPM</th>\n",
       "      <th>TotalIntervals_WdayPM</th>\n",
       "      <th>PcntInterval_WdayPM</th>\n",
       "      <th>StdDev_WdayPM</th>\n",
       "    </tr>\n",
       "    <tr>\n",
       "      <th>LINK_DIR</th>\n",
       "      <th></th>\n",
       "      <th></th>\n",
       "      <th></th>\n",
       "      <th></th>\n",
       "      <th></th>\n",
       "    </tr>\n",
       "  </thead>\n",
       "  <tbody>\n",
       "    <tr>\n",
       "      <th>998969850F</th>\n",
       "      <td>18.639</td>\n",
       "      <td>34.014</td>\n",
       "      <td>1367</td>\n",
       "      <td>1.899</td>\n",
       "      <td>8.661</td>\n",
       "    </tr>\n",
       "  </tbody>\n",
       "</table>\n",
       "</div>"
      ],
      "text/plain": [
       "            PcntSpeed_5thWdayPM  AvgSpeed_WdayPM  TotalIntervals_WdayPM  \\\n",
       "LINK_DIR                                                                  \n",
       "998969850F               18.639           34.014                   1367   \n",
       "\n",
       "            PcntInterval_WdayPM  StdDev_WdayPM  \n",
       "LINK_DIR                                        \n",
       "998969850F                1.899          8.661  "
      ]
     },
     "execution_count": 28,
     "metadata": {},
     "output_type": "execute_result"
    }
   ],
   "source": [
    "#Stats between 3PM and 6PM\n",
    "WdtimePM = timeframe('998969850F',herepath,180,216,True,Weekday)\n",
    "SpeedWdayPM = HEREstatsWdayPM(WdtimeMD)\n",
    "SpeedWdayPM.head()"
   ]
  },
  {
   "cell_type": "code",
   "execution_count": 14,
   "metadata": {
    "collapsed": false
   },
   "outputs": [
    {
     "name": "stdout",
     "output_type": "stream",
     "text": [
      "261\n"
     ]
    },
    {
     "data": {
      "text/plain": [
       "134"
      ]
     },
     "execution_count": 14,
     "metadata": {},
     "output_type": "execute_result"
    }
   ],
   "source": [
    "#Stats between 3PM and 6PM all links\n",
    "WdtimePM = timeframe2(herepath,180,216,True,Weekday)\n",
    "SpeedWdayPM = HEREstatsWdayPM(WdtimeMD)\n",
    "SpeedWdayPM.head()"
   ]
  },
  {
   "cell_type": "code",
   "execution_count": 35,
   "metadata": {
    "collapsed": false
   },
   "outputs": [
    {
     "data": {
      "text/html": [
       "<div>\n",
       "<table border=\"1\" class=\"dataframe\">\n",
       "  <thead>\n",
       "    <tr style=\"text-align: right;\">\n",
       "      <th></th>\n",
       "      <th>TTI_SL_AM</th>\n",
       "      <th>PTI_SL_AM</th>\n",
       "      <th>TTI_85th_AM</th>\n",
       "      <th>PTI_85th_AM</th>\n",
       "      <th>BTI_AM</th>\n",
       "    </tr>\n",
       "    <tr>\n",
       "      <th>LINK_DIR</th>\n",
       "      <th></th>\n",
       "      <th></th>\n",
       "      <th></th>\n",
       "      <th></th>\n",
       "      <th></th>\n",
       "    </tr>\n",
       "  </thead>\n",
       "  <tbody>\n",
       "    <tr>\n",
       "      <th>998969850F</th>\n",
       "      <td>1.309</td>\n",
       "      <td>2.4</td>\n",
       "      <td>1.255</td>\n",
       "      <td>2.3</td>\n",
       "      <td>0.833</td>\n",
       "    </tr>\n",
       "  </tbody>\n",
       "</table>\n",
       "</div>"
      ],
      "text/plain": [
       "            TTI_SL_AM  PTI_SL_AM  TTI_85th_AM  PTI_85th_AM  BTI_AM\n",
       "LINK_DIR                                                          \n",
       "998969850F      1.309        2.4        1.255          2.3   0.833"
      ]
     },
     "execution_count": 35,
     "metadata": {},
     "output_type": "execute_result"
    }
   ],
   "source": [
    "AllAM = timeframe('998969850F',herepath,72,108,False,Both)\n",
    "HstatsAM = HEREstatsALL(AllAM)\n",
    "IndecesAllAM = IndecesALLAM(HstatsAM)\n",
    "IndecesAllAM.head()"
   ]
  },
  {
   "cell_type": "code",
   "execution_count": 33,
   "metadata": {
    "collapsed": false
   },
   "outputs": [
    {
     "data": {
      "text/html": [
       "<div>\n",
       "<table border=\"1\" class=\"dataframe\">\n",
       "  <thead>\n",
       "    <tr style=\"text-align: right;\">\n",
       "      <th></th>\n",
       "      <th>TTI_SL_MD</th>\n",
       "      <th>PTI_SL_MD</th>\n",
       "      <th>TTI_85th_MD</th>\n",
       "      <th>PTI_85th_MD</th>\n",
       "      <th>BTI_MD</th>\n",
       "    </tr>\n",
       "    <tr>\n",
       "      <th>LINK_DIR</th>\n",
       "      <th></th>\n",
       "      <th></th>\n",
       "      <th></th>\n",
       "      <th></th>\n",
       "      <th></th>\n",
       "    </tr>\n",
       "  </thead>\n",
       "  <tbody>\n",
       "    <tr>\n",
       "      <th>998969850F</th>\n",
       "      <td>1.311</td>\n",
       "      <td>2.483</td>\n",
       "      <td>1.238</td>\n",
       "      <td>2.345</td>\n",
       "      <td>0.894</td>\n",
       "    </tr>\n",
       "  </tbody>\n",
       "</table>\n",
       "</div>"
      ],
      "text/plain": [
       "            TTI_SL_MD  PTI_SL_MD  TTI_85th_MD  PTI_85th_MD  BTI_MD\n",
       "LINK_DIR                                                          \n",
       "998969850F      1.311      2.483        1.238        2.345   0.894"
      ]
     },
     "execution_count": 33,
     "metadata": {},
     "output_type": "execute_result"
    }
   ],
   "source": [
    "AllMD = timeframe('998969850F',herepath,108,180,False,Both)\n",
    "HstatsMD = HEREstatsALL(AllMD)\n",
    "IndecesAllMD = IndecesALLMD(HstatsMD)\n",
    "IndecesAllMD.head()"
   ]
  },
  {
   "cell_type": "code",
   "execution_count": 34,
   "metadata": {
    "collapsed": false
   },
   "outputs": [
    {
     "data": {
      "text/html": [
       "<div>\n",
       "<table border=\"1\" class=\"dataframe\">\n",
       "  <thead>\n",
       "    <tr style=\"text-align: right;\">\n",
       "      <th></th>\n",
       "      <th>TTI_SL_PM</th>\n",
       "      <th>PTI_SL_PM</th>\n",
       "      <th>TTI_85th_PM</th>\n",
       "      <th>PTI_85th_PM</th>\n",
       "      <th>BTI_PM</th>\n",
       "    </tr>\n",
       "    <tr>\n",
       "      <th>LINK_DIR</th>\n",
       "      <th></th>\n",
       "      <th></th>\n",
       "      <th></th>\n",
       "      <th></th>\n",
       "      <th></th>\n",
       "    </tr>\n",
       "  </thead>\n",
       "  <tbody>\n",
       "    <tr>\n",
       "      <th>998969850F</th>\n",
       "      <td>1.393</td>\n",
       "      <td>2.769</td>\n",
       "      <td>1.277</td>\n",
       "      <td>2.538</td>\n",
       "      <td>0.988</td>\n",
       "    </tr>\n",
       "  </tbody>\n",
       "</table>\n",
       "</div>"
      ],
      "text/plain": [
       "            TTI_SL_PM  PTI_SL_PM  TTI_85th_PM  PTI_85th_PM  BTI_PM\n",
       "LINK_DIR                                                          \n",
       "998969850F      1.393      2.769        1.277        2.538   0.988"
      ]
     },
     "execution_count": 34,
     "metadata": {},
     "output_type": "execute_result"
    }
   ],
   "source": [
    "AllPM = timeframe('998969850F',herepath,180,216,False,Both)\n",
    "HstatsPM = HEREstatsALL(AllPM)\n",
    "IndecesAllPM = IndecesALLPM(HstatsPM)\n",
    "IndecesAllPM.head()\n"
   ]
  },
  {
   "cell_type": "code",
   "execution_count": null,
   "metadata": {
    "collapsed": true
   },
   "outputs": [],
   "source": [
    "WdAM = timeframe('998969850F',herepath,72,108,True,Weekday)\n",
    "HstatsWdAM = HEREstatsMD(WdAM)\n",
    "IndecesWdayAM = IndecesWdAM(HstatsWd)"
   ]
  },
  {
   "cell_type": "code",
   "execution_count": null,
   "metadata": {
    "collapsed": true
   },
   "outputs": [],
   "source": [
    "WdMD = timeframe('998969850F',herepath,108,180,True,Weekday)"
   ]
  },
  {
   "cell_type": "code",
   "execution_count": null,
   "metadata": {
    "collapsed": true
   },
   "outputs": [],
   "source": [
    "WdPMAM = timeframe('998969850F',herepath,180,216,True,Weekday)"
   ]
  },
  {
   "cell_type": "code",
   "execution_count": null,
   "metadata": {
    "collapsed": true
   },
   "outputs": [],
   "source": []
  },
  {
   "cell_type": "code",
   "execution_count": null,
   "metadata": {
    "collapsed": true
   },
   "outputs": [],
   "source": []
  }
 ],
 "metadata": {
  "anaconda-cloud": {},
  "kernelspec": {
   "display_name": "Python [default]",
   "language": "python",
   "name": "python3"
  },
  "language_info": {
   "codemirror_mode": {
    "name": "ipython",
    "version": 3
   },
   "file_extension": ".py",
   "mimetype": "text/x-python",
   "name": "python",
   "nbconvert_exporter": "python",
   "pygments_lexer": "ipython3",
   "version": "3.5.2"
  }
 },
 "nbformat": 4,
 "nbformat_minor": 1
}
