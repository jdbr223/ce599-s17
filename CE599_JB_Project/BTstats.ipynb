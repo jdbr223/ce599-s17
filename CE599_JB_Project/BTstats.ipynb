{
 "cells": [
  {
   "cell_type": "code",
   "execution_count": 97,
   "metadata": {
    "collapsed": true
   },
   "outputs": [],
   "source": [
    "# magic command to display matplotlib plots inline within the ipython notebook webpage\n",
    "%matplotlib inline\n",
    "\n",
    "# import necessary modules\n",
    "import pandas as pd, numpy as np, matplotlib.pyplot as plt\n",
    "import matplotlib.cm as cm, matplotlib.font_manager as fm\n",
    "import datetime\n",
    "from scipy import stats, integrate"
   ]
  },
  {
   "cell_type": "code",
   "execution_count": 127,
   "metadata": {
    "collapsed": false
   },
   "outputs": [
    {
     "data": {
      "text/plain": [
       "['Monday', 'Tuesday', 'Wednesday', 'Thursday', 'Friday']"
      ]
     },
     "execution_count": 127,
     "metadata": {},
     "output_type": "execute_result"
    }
   ],
   "source": [
    "#For now, enter the weekdays desire here in full\n",
    "Weekday = ['Monday','Tuesday','Wednesday','Thursday','Friday']\n",
    "Weekday"
   ]
  },
  {
   "cell_type": "code",
   "execution_count": 128,
   "metadata": {
    "collapsed": false
   },
   "outputs": [
    {
     "data": {
      "text/plain": [
       "['Saturday', 'Sunday']"
      ]
     },
     "execution_count": 128,
     "metadata": {},
     "output_type": "execute_result"
    }
   ],
   "source": [
    "Weekend = ['Saturday','Sunday']\n",
    "Weekend"
   ]
  },
  {
   "cell_type": "code",
   "execution_count": 129,
   "metadata": {
    "collapsed": false
   },
   "outputs": [
    {
     "data": {
      "text/plain": [
       "['Monday', 'Tuesday', 'Wednesday', 'Thursday', 'Friday', 'Saturday', 'Sunday']"
      ]
     },
     "execution_count": 129,
     "metadata": {},
     "output_type": "execute_result"
    }
   ],
   "source": [
    "Both = ['Monday','Tuesday','Wednesday','Thursday','Friday','Saturday','Sunday']\n",
    "Both"
   ]
  },
  {
   "cell_type": "code",
   "execution_count": 138,
   "metadata": {
    "collapsed": false
   },
   "outputs": [
    {
     "data": {
      "text/html": [
       "<div>\n",
       "<table border=\"1\" class=\"dataframe\">\n",
       "  <thead>\n",
       "    <tr style=\"text-align: right;\">\n",
       "      <th></th>\n",
       "      <th>Day of week</th>\n",
       "      <th>Date</th>\n",
       "      <th>Time</th>\n",
       "      <th>Epoch</th>\n",
       "      <th>Number matches</th>\n",
       "      <th>Travel time (s)</th>\n",
       "      <th>Speed (mph)</th>\n",
       "    </tr>\n",
       "  </thead>\n",
       "  <tbody>\n",
       "    <tr>\n",
       "      <th>0</th>\n",
       "      <td>Wednesday</td>\n",
       "      <td>1/1/2014</td>\n",
       "      <td>0:05</td>\n",
       "      <td>1</td>\n",
       "      <td>3</td>\n",
       "      <td>93.7</td>\n",
       "      <td>30.7</td>\n",
       "    </tr>\n",
       "    <tr>\n",
       "      <th>1</th>\n",
       "      <td>Wednesday</td>\n",
       "      <td>1/1/2014</td>\n",
       "      <td>0:25</td>\n",
       "      <td>5</td>\n",
       "      <td>2</td>\n",
       "      <td>77.0</td>\n",
       "      <td>37.4</td>\n",
       "    </tr>\n",
       "    <tr>\n",
       "      <th>2</th>\n",
       "      <td>Wednesday</td>\n",
       "      <td>1/1/2014</td>\n",
       "      <td>0:35</td>\n",
       "      <td>7</td>\n",
       "      <td>1</td>\n",
       "      <td>65.0</td>\n",
       "      <td>44.3</td>\n",
       "    </tr>\n",
       "    <tr>\n",
       "      <th>3</th>\n",
       "      <td>Wednesday</td>\n",
       "      <td>1/1/2014</td>\n",
       "      <td>0:40</td>\n",
       "      <td>8</td>\n",
       "      <td>1</td>\n",
       "      <td>65.0</td>\n",
       "      <td>44.3</td>\n",
       "    </tr>\n",
       "    <tr>\n",
       "      <th>4</th>\n",
       "      <td>Wednesday</td>\n",
       "      <td>1/1/2014</td>\n",
       "      <td>0:45</td>\n",
       "      <td>9</td>\n",
       "      <td>1</td>\n",
       "      <td>121.0</td>\n",
       "      <td>23.8</td>\n",
       "    </tr>\n",
       "  </tbody>\n",
       "</table>\n",
       "</div>"
      ],
      "text/plain": [
       "  Day of week      Date  Time  Epoch  Number matches  Travel time (s)  \\\n",
       "0   Wednesday  1/1/2014  0:05      1               3             93.7   \n",
       "1   Wednesday  1/1/2014  0:25      5               2             77.0   \n",
       "2   Wednesday  1/1/2014  0:35      7               1             65.0   \n",
       "3   Wednesday  1/1/2014  0:40      8               1             65.0   \n",
       "4   Wednesday  1/1/2014  0:45      9               1            121.0   \n",
       "\n",
       "   Speed (mph)  \n",
       "0         30.7  \n",
       "1         37.4  \n",
       "2         44.3  \n",
       "3         44.3  \n",
       "4         23.8  "
      ]
     },
     "execution_count": 138,
     "metadata": {},
     "output_type": "execute_result"
    }
   ],
   "source": [
    "SB_to_Todds = pd.read_csv('data/SirBarton_to_Todds_F.csv')\n",
    "SB_to_Todds.head()\n",
    "#SB_to_Todds['Day of week'].unique()"
   ]
  },
  {
   "cell_type": "code",
   "execution_count": 139,
   "metadata": {
    "collapsed": false
   },
   "outputs": [
    {
     "data": {
      "text/html": [
       "<div>\n",
       "<table border=\"1\" class=\"dataframe\">\n",
       "  <thead>\n",
       "    <tr style=\"text-align: right;\">\n",
       "      <th></th>\n",
       "      <th>Day of week</th>\n",
       "      <th>Date</th>\n",
       "      <th>Time</th>\n",
       "      <th>Epoch</th>\n",
       "      <th>Number matches</th>\n",
       "      <th>Travel time (s)</th>\n",
       "      <th>Speed (mph)</th>\n",
       "    </tr>\n",
       "  </thead>\n",
       "  <tbody>\n",
       "    <tr>\n",
       "      <th>0</th>\n",
       "      <td>Wednesday</td>\n",
       "      <td>1/1/2014</td>\n",
       "      <td>0:15</td>\n",
       "      <td>3</td>\n",
       "      <td>1</td>\n",
       "      <td>93.0</td>\n",
       "      <td>31.0</td>\n",
       "    </tr>\n",
       "    <tr>\n",
       "      <th>1</th>\n",
       "      <td>Wednesday</td>\n",
       "      <td>1/1/2014</td>\n",
       "      <td>0:20</td>\n",
       "      <td>4</td>\n",
       "      <td>1</td>\n",
       "      <td>63.0</td>\n",
       "      <td>45.7</td>\n",
       "    </tr>\n",
       "    <tr>\n",
       "      <th>2</th>\n",
       "      <td>Wednesday</td>\n",
       "      <td>1/1/2014</td>\n",
       "      <td>0:25</td>\n",
       "      <td>5</td>\n",
       "      <td>2</td>\n",
       "      <td>83.0</td>\n",
       "      <td>34.7</td>\n",
       "    </tr>\n",
       "    <tr>\n",
       "      <th>3</th>\n",
       "      <td>Wednesday</td>\n",
       "      <td>1/1/2014</td>\n",
       "      <td>0:30</td>\n",
       "      <td>6</td>\n",
       "      <td>1</td>\n",
       "      <td>103.0</td>\n",
       "      <td>28.0</td>\n",
       "    </tr>\n",
       "    <tr>\n",
       "      <th>4</th>\n",
       "      <td>Wednesday</td>\n",
       "      <td>1/1/2014</td>\n",
       "      <td>0:35</td>\n",
       "      <td>7</td>\n",
       "      <td>1</td>\n",
       "      <td>85.0</td>\n",
       "      <td>33.9</td>\n",
       "    </tr>\n",
       "  </tbody>\n",
       "</table>\n",
       "</div>"
      ],
      "text/plain": [
       "  Day of week      Date  Time  Epoch  Number matches  Travel time (s)  \\\n",
       "0   Wednesday  1/1/2014  0:15      3               1             93.0   \n",
       "1   Wednesday  1/1/2014  0:20      4               1             63.0   \n",
       "2   Wednesday  1/1/2014  0:25      5               2             83.0   \n",
       "3   Wednesday  1/1/2014  0:30      6               1            103.0   \n",
       "4   Wednesday  1/1/2014  0:35      7               1             85.0   \n",
       "\n",
       "   Speed (mph)  \n",
       "0         31.0  \n",
       "1         45.7  \n",
       "2         34.7  \n",
       "3         28.0  \n",
       "4         33.9  "
      ]
     },
     "execution_count": 139,
     "metadata": {},
     "output_type": "execute_result"
    }
   ],
   "source": [
    "Todds_to_SB = pd.read_csv('data/Todds_to_SirBarton_F.csv')\n",
    "Todds_to_SB.head()\n",
    "#Todds_to_SB['Day of week'].unique()"
   ]
  },
  {
   "cell_type": "code",
   "execution_count": 141,
   "metadata": {
    "collapsed": false
   },
   "outputs": [
    {
     "data": {
      "text/html": [
       "<div>\n",
       "<table border=\"1\" class=\"dataframe\">\n",
       "  <thead>\n",
       "    <tr style=\"text-align: right;\">\n",
       "      <th></th>\n",
       "      <th>Day of week</th>\n",
       "      <th>Date</th>\n",
       "      <th>Time</th>\n",
       "      <th>Epoch</th>\n",
       "      <th>Number matches</th>\n",
       "      <th>Travel time (s)</th>\n",
       "      <th>Speed (mph)</th>\n",
       "    </tr>\n",
       "  </thead>\n",
       "  <tbody>\n",
       "    <tr>\n",
       "      <th>0</th>\n",
       "      <td>Wednesday</td>\n",
       "      <td>1/1/2014</td>\n",
       "      <td>0:20</td>\n",
       "      <td>4</td>\n",
       "      <td>4</td>\n",
       "      <td>96.0</td>\n",
       "      <td>37.5</td>\n",
       "    </tr>\n",
       "    <tr>\n",
       "      <th>1</th>\n",
       "      <td>Wednesday</td>\n",
       "      <td>1/1/2014</td>\n",
       "      <td>0:25</td>\n",
       "      <td>5</td>\n",
       "      <td>2</td>\n",
       "      <td>89.0</td>\n",
       "      <td>40.4</td>\n",
       "    </tr>\n",
       "    <tr>\n",
       "      <th>2</th>\n",
       "      <td>Wednesday</td>\n",
       "      <td>1/1/2014</td>\n",
       "      <td>0:30</td>\n",
       "      <td>6</td>\n",
       "      <td>3</td>\n",
       "      <td>100.7</td>\n",
       "      <td>35.8</td>\n",
       "    </tr>\n",
       "    <tr>\n",
       "      <th>3</th>\n",
       "      <td>Wednesday</td>\n",
       "      <td>1/1/2014</td>\n",
       "      <td>0:35</td>\n",
       "      <td>7</td>\n",
       "      <td>1</td>\n",
       "      <td>110.0</td>\n",
       "      <td>32.7</td>\n",
       "    </tr>\n",
       "    <tr>\n",
       "      <th>4</th>\n",
       "      <td>Wednesday</td>\n",
       "      <td>1/1/2014</td>\n",
       "      <td>0:40</td>\n",
       "      <td>8</td>\n",
       "      <td>2</td>\n",
       "      <td>107.0</td>\n",
       "      <td>33.6</td>\n",
       "    </tr>\n",
       "  </tbody>\n",
       "</table>\n",
       "</div>"
      ],
      "text/plain": [
       "  Day of week      Date  Time  Epoch  Number matches  Travel time (s)  \\\n",
       "0   Wednesday  1/1/2014  0:20      4               4             96.0   \n",
       "1   Wednesday  1/1/2014  0:25      5               2             89.0   \n",
       "2   Wednesday  1/1/2014  0:30      6               3            100.7   \n",
       "3   Wednesday  1/1/2014  0:35      7               1            110.0   \n",
       "4   Wednesday  1/1/2014  0:40      8               2            107.0   \n",
       "\n",
       "   Speed (mph)  \n",
       "0         37.5  \n",
       "1         40.4  \n",
       "2         35.8  \n",
       "3         32.7  \n",
       "4         33.6  "
      ]
     },
     "execution_count": 141,
     "metadata": {},
     "output_type": "execute_result"
    }
   ],
   "source": [
    "A_to_Rich = pd.read_csv('data/Alumni_to_Richmond_F.csv')\n",
    "A_to_Rich.head()\n",
    "#A_to_Rich['Day of week'].unique()"
   ]
  },
  {
   "cell_type": "code",
   "execution_count": 142,
   "metadata": {
    "collapsed": false
   },
   "outputs": [
    {
     "data": {
      "text/html": [
       "<div>\n",
       "<table border=\"1\" class=\"dataframe\">\n",
       "  <thead>\n",
       "    <tr style=\"text-align: right;\">\n",
       "      <th></th>\n",
       "      <th>Day of week</th>\n",
       "      <th>Date</th>\n",
       "      <th>Time</th>\n",
       "      <th>Epoch</th>\n",
       "      <th>Number matches</th>\n",
       "      <th>Travel time (s)</th>\n",
       "      <th>Speed (mph)</th>\n",
       "    </tr>\n",
       "  </thead>\n",
       "  <tbody>\n",
       "    <tr>\n",
       "      <th>0</th>\n",
       "      <td>Wednesday</td>\n",
       "      <td>1/1/2014</td>\n",
       "      <td>0:10</td>\n",
       "      <td>2</td>\n",
       "      <td>1</td>\n",
       "      <td>100.0</td>\n",
       "      <td>36.0</td>\n",
       "    </tr>\n",
       "    <tr>\n",
       "      <th>1</th>\n",
       "      <td>Wednesday</td>\n",
       "      <td>1/1/2014</td>\n",
       "      <td>0:35</td>\n",
       "      <td>7</td>\n",
       "      <td>3</td>\n",
       "      <td>99.7</td>\n",
       "      <td>36.1</td>\n",
       "    </tr>\n",
       "    <tr>\n",
       "      <th>2</th>\n",
       "      <td>Wednesday</td>\n",
       "      <td>1/1/2014</td>\n",
       "      <td>0:40</td>\n",
       "      <td>8</td>\n",
       "      <td>3</td>\n",
       "      <td>113.7</td>\n",
       "      <td>31.7</td>\n",
       "    </tr>\n",
       "    <tr>\n",
       "      <th>3</th>\n",
       "      <td>Wednesday</td>\n",
       "      <td>1/1/2014</td>\n",
       "      <td>0:55</td>\n",
       "      <td>11</td>\n",
       "      <td>2</td>\n",
       "      <td>106.0</td>\n",
       "      <td>34.0</td>\n",
       "    </tr>\n",
       "    <tr>\n",
       "      <th>4</th>\n",
       "      <td>Wednesday</td>\n",
       "      <td>1/1/2014</td>\n",
       "      <td>1:05</td>\n",
       "      <td>13</td>\n",
       "      <td>2</td>\n",
       "      <td>120.0</td>\n",
       "      <td>30.0</td>\n",
       "    </tr>\n",
       "  </tbody>\n",
       "</table>\n",
       "</div>"
      ],
      "text/plain": [
       "  Day of week      Date  Time  Epoch  Number matches  Travel time (s)  \\\n",
       "0   Wednesday  1/1/2014  0:10      2               1            100.0   \n",
       "1   Wednesday  1/1/2014  0:35      7               3             99.7   \n",
       "2   Wednesday  1/1/2014  0:40      8               3            113.7   \n",
       "3   Wednesday  1/1/2014  0:55     11               2            106.0   \n",
       "4   Wednesday  1/1/2014  1:05     13               2            120.0   \n",
       "\n",
       "   Speed (mph)  \n",
       "0         36.0  \n",
       "1         36.1  \n",
       "2         31.7  \n",
       "3         34.0  \n",
       "4         30.0  "
      ]
     },
     "execution_count": 142,
     "metadata": {},
     "output_type": "execute_result"
    }
   ],
   "source": [
    "Rich_to_A = pd.read_csv('data/Richmond_to_Alumni_F.csv')\n",
    "Rich_to_A.head()\n",
    "#Rich_to_A['Day of week'].unique()"
   ]
  },
  {
   "cell_type": "code",
   "execution_count": 143,
   "metadata": {
    "collapsed": false
   },
   "outputs": [
    {
     "data": {
      "text/html": [
       "<div>\n",
       "<table border=\"1\" class=\"dataframe\">\n",
       "  <thead>\n",
       "    <tr style=\"text-align: right;\">\n",
       "      <th></th>\n",
       "      <th>Day of week</th>\n",
       "      <th>Date</th>\n",
       "      <th>Time</th>\n",
       "      <th>Epoch</th>\n",
       "      <th>Number matches</th>\n",
       "      <th>Travel time (s)</th>\n",
       "      <th>Speed (mph)</th>\n",
       "    </tr>\n",
       "  </thead>\n",
       "  <tbody>\n",
       "    <tr>\n",
       "      <th>0</th>\n",
       "      <td>Wednesday</td>\n",
       "      <td>1/1/2014</td>\n",
       "      <td>0:05</td>\n",
       "      <td>1</td>\n",
       "      <td>2</td>\n",
       "      <td>120.0</td>\n",
       "      <td>45.0</td>\n",
       "    </tr>\n",
       "    <tr>\n",
       "      <th>1</th>\n",
       "      <td>Wednesday</td>\n",
       "      <td>1/1/2014</td>\n",
       "      <td>0:10</td>\n",
       "      <td>2</td>\n",
       "      <td>1</td>\n",
       "      <td>143.0</td>\n",
       "      <td>37.8</td>\n",
       "    </tr>\n",
       "    <tr>\n",
       "      <th>2</th>\n",
       "      <td>Wednesday</td>\n",
       "      <td>1/1/2014</td>\n",
       "      <td>0:25</td>\n",
       "      <td>5</td>\n",
       "      <td>2</td>\n",
       "      <td>126.0</td>\n",
       "      <td>42.9</td>\n",
       "    </tr>\n",
       "    <tr>\n",
       "      <th>3</th>\n",
       "      <td>Wednesday</td>\n",
       "      <td>1/1/2014</td>\n",
       "      <td>0:35</td>\n",
       "      <td>7</td>\n",
       "      <td>1</td>\n",
       "      <td>231.0</td>\n",
       "      <td>23.4</td>\n",
       "    </tr>\n",
       "    <tr>\n",
       "      <th>4</th>\n",
       "      <td>Wednesday</td>\n",
       "      <td>1/1/2014</td>\n",
       "      <td>0:40</td>\n",
       "      <td>8</td>\n",
       "      <td>4</td>\n",
       "      <td>139.0</td>\n",
       "      <td>38.8</td>\n",
       "    </tr>\n",
       "  </tbody>\n",
       "</table>\n",
       "</div>"
      ],
      "text/plain": [
       "  Day of week      Date  Time  Epoch  Number matches  Travel time (s)  \\\n",
       "0   Wednesday  1/1/2014  0:05      1               2            120.0   \n",
       "1   Wednesday  1/1/2014  0:10      2               1            143.0   \n",
       "2   Wednesday  1/1/2014  0:25      5               2            126.0   \n",
       "3   Wednesday  1/1/2014  0:35      7               1            231.0   \n",
       "4   Wednesday  1/1/2014  0:40      8               4            139.0   \n",
       "\n",
       "   Speed (mph)  \n",
       "0         45.0  \n",
       "1         37.8  \n",
       "2         42.9  \n",
       "3         23.4  \n",
       "4         38.8  "
      ]
     },
     "execution_count": 143,
     "metadata": {},
     "output_type": "execute_result"
    }
   ],
   "source": [
    "Todds_to_Rich = pd.read_csv('data/Todds_to_Richmond_F.csv')\n",
    "Todds_to_Rich.head()\n",
    "#Todds_to_Rich['Day of week'].unique()"
   ]
  },
  {
   "cell_type": "code",
   "execution_count": 144,
   "metadata": {
    "collapsed": false
   },
   "outputs": [
    {
     "data": {
      "text/html": [
       "<div>\n",
       "<table border=\"1\" class=\"dataframe\">\n",
       "  <thead>\n",
       "    <tr style=\"text-align: right;\">\n",
       "      <th></th>\n",
       "      <th>Day of week</th>\n",
       "      <th>Date</th>\n",
       "      <th>Time</th>\n",
       "      <th>Epoch</th>\n",
       "      <th>Number matches</th>\n",
       "      <th>Travel time (s)</th>\n",
       "      <th>Speed (mph)</th>\n",
       "    </tr>\n",
       "  </thead>\n",
       "  <tbody>\n",
       "    <tr>\n",
       "      <th>0</th>\n",
       "      <td>Wednesday</td>\n",
       "      <td>1/1/2014</td>\n",
       "      <td>0:20</td>\n",
       "      <td>4</td>\n",
       "      <td>1</td>\n",
       "      <td>165.0</td>\n",
       "      <td>32.7</td>\n",
       "    </tr>\n",
       "    <tr>\n",
       "      <th>1</th>\n",
       "      <td>Wednesday</td>\n",
       "      <td>1/1/2014</td>\n",
       "      <td>0:25</td>\n",
       "      <td>5</td>\n",
       "      <td>3</td>\n",
       "      <td>147.7</td>\n",
       "      <td>36.6</td>\n",
       "    </tr>\n",
       "    <tr>\n",
       "      <th>2</th>\n",
       "      <td>Wednesday</td>\n",
       "      <td>1/1/2014</td>\n",
       "      <td>0:30</td>\n",
       "      <td>6</td>\n",
       "      <td>2</td>\n",
       "      <td>135.0</td>\n",
       "      <td>40.0</td>\n",
       "    </tr>\n",
       "    <tr>\n",
       "      <th>3</th>\n",
       "      <td>Wednesday</td>\n",
       "      <td>1/1/2014</td>\n",
       "      <td>0:35</td>\n",
       "      <td>7</td>\n",
       "      <td>2</td>\n",
       "      <td>145.0</td>\n",
       "      <td>37.2</td>\n",
       "    </tr>\n",
       "    <tr>\n",
       "      <th>4</th>\n",
       "      <td>Wednesday</td>\n",
       "      <td>1/1/2014</td>\n",
       "      <td>0:50</td>\n",
       "      <td>10</td>\n",
       "      <td>1</td>\n",
       "      <td>165.0</td>\n",
       "      <td>32.7</td>\n",
       "    </tr>\n",
       "  </tbody>\n",
       "</table>\n",
       "</div>"
      ],
      "text/plain": [
       "  Day of week      Date  Time  Epoch  Number matches  Travel time (s)  \\\n",
       "0   Wednesday  1/1/2014  0:20      4               1            165.0   \n",
       "1   Wednesday  1/1/2014  0:25      5               3            147.7   \n",
       "2   Wednesday  1/1/2014  0:30      6               2            135.0   \n",
       "3   Wednesday  1/1/2014  0:35      7               2            145.0   \n",
       "4   Wednesday  1/1/2014  0:50     10               1            165.0   \n",
       "\n",
       "   Speed (mph)  \n",
       "0         32.7  \n",
       "1         36.6  \n",
       "2         40.0  \n",
       "3         37.2  \n",
       "4         32.7  "
      ]
     },
     "execution_count": 144,
     "metadata": {},
     "output_type": "execute_result"
    }
   ],
   "source": [
    "Rich_to_Todds = pd.read_csv('data/Richmond_to_Todds_F.csv')\n",
    "Rich_to_Todds.head()\n",
    "#Rich_to_Todds['Day of week'].unique()"
   ]
  },
  {
   "cell_type": "code",
   "execution_count": 95,
   "metadata": {
    "collapsed": false
   },
   "outputs": [],
   "source": [
    "def BTstats(x):\n",
    "    y = pd.DataFrame(columns = [])\n",
    "    y.loc[0,'MEAN'] = x['Speed (mph)'].mean()\n",
    "    y.loc[0,'STDDEV'] = x['Speed (mph)'].std(ddof = 1)\n",
    "    y.loc[0,'TotalIntervals'] = x['Speed (mph)'].count()\n",
    "    numberdays = x['Date'].unique()\n",
    "    y.loc[0,'PctInterval'] = (y.loc[0,'TotalIntervals'])/(288*len(numberdays))\n",
    "    y.loc[0,'85th_Speed'] = x['Speed (mph)'].quantile(0.85, interpolation = 'lower')\n",
    "    y.loc[0,'5th_Speed'] = x['Speed (mph)'].quantile(0.05, interpolation = 'lower')\n",
    "    y.loc[0,'60th_Speed'] = x['Speed (mph)'].quantile(0.60, interpolation = 'lower')\n",
    "    y['TTI_85']= y['85th_Speed'].div(y['MEAN'])\n",
    "    y['PTI_85'] = y['85th_Speed'].div(y['5th_Speed'])\n",
    "    y['BTI'] = (y['MEAN'].div(y['5th_Speed']))-1\n",
    "    return y"
   ]
  },
  {
   "cell_type": "code",
   "execution_count": 190,
   "metadata": {
    "collapsed": false
   },
   "outputs": [],
   "source": [
    "#x = input dataframe, y = beginning timeframe (in epoch), z = ending timeframe (in epoch), \n",
    "#h = holiday (True or False), d = weekend or weekday\n",
    "#Note the dataframe has to have an EPOCH_5MIN row to work.\n",
    "#Also, this is ONLY for a single-link dataframe\n",
    "def timeframeBT(x,y,z,h,d):\n",
    "    us_holidays = ['1/1/2014', '5/26/2014', \n",
    "                   '7/4/2014', '9/1/2014', '11/27/2014', \n",
    "                   '11/28/2014', '12/25/2014']\n",
    "    if h == True:\n",
    "        r = x[x['Date'].isin(us_holidays)]\n",
    "        v = x[~x.isin(r)].dropna()\n",
    "        days = v[v['Day of week'].isin(d)]\n",
    "        Timeframe = days[(days['Epoch'] >= y) & (days['Epoch'] <= z)]\n",
    "        return Timeframe\n",
    "    else:\n",
    "        days = x[x['Day of week'].isin(d)]\n",
    "        Timeframe = days[(days['Epoch'] >= y) & (days['Epoch'] <= z)]\n",
    "        return Timeframe"
   ]
  },
  {
   "cell_type": "code",
   "execution_count": 193,
   "metadata": {
    "collapsed": false
   },
   "outputs": [
    {
     "data": {
      "text/html": [
       "<div>\n",
       "<table border=\"1\" class=\"dataframe\">\n",
       "  <thead>\n",
       "    <tr style=\"text-align: right;\">\n",
       "      <th></th>\n",
       "      <th>Day of week</th>\n",
       "      <th>Date</th>\n",
       "      <th>Time</th>\n",
       "      <th>Epoch</th>\n",
       "      <th>Number matches</th>\n",
       "      <th>Travel time (s)</th>\n",
       "      <th>Speed (mph)</th>\n",
       "    </tr>\n",
       "  </thead>\n",
       "  <tbody>\n",
       "    <tr>\n",
       "      <th>155</th>\n",
       "      <td>Thursday</td>\n",
       "      <td>1/2/2014</td>\n",
       "      <td>0:10</td>\n",
       "      <td>2.0</td>\n",
       "      <td>1.0</td>\n",
       "      <td>122.0</td>\n",
       "      <td>44.3</td>\n",
       "    </tr>\n",
       "    <tr>\n",
       "      <th>156</th>\n",
       "      <td>Thursday</td>\n",
       "      <td>1/2/2014</td>\n",
       "      <td>0:20</td>\n",
       "      <td>4.0</td>\n",
       "      <td>1.0</td>\n",
       "      <td>104.0</td>\n",
       "      <td>51.9</td>\n",
       "    </tr>\n",
       "    <tr>\n",
       "      <th>157</th>\n",
       "      <td>Thursday</td>\n",
       "      <td>1/2/2014</td>\n",
       "      <td>0:25</td>\n",
       "      <td>5.0</td>\n",
       "      <td>2.0</td>\n",
       "      <td>133.0</td>\n",
       "      <td>40.6</td>\n",
       "    </tr>\n",
       "    <tr>\n",
       "      <th>158</th>\n",
       "      <td>Thursday</td>\n",
       "      <td>1/2/2014</td>\n",
       "      <td>2:00</td>\n",
       "      <td>24.0</td>\n",
       "      <td>1.0</td>\n",
       "      <td>146.0</td>\n",
       "      <td>37.0</td>\n",
       "    </tr>\n",
       "    <tr>\n",
       "      <th>159</th>\n",
       "      <td>Thursday</td>\n",
       "      <td>1/2/2014</td>\n",
       "      <td>2:30</td>\n",
       "      <td>30.0</td>\n",
       "      <td>1.0</td>\n",
       "      <td>156.0</td>\n",
       "      <td>34.6</td>\n",
       "    </tr>\n",
       "  </tbody>\n",
       "</table>\n",
       "</div>"
      ],
      "text/plain": [
       "    Day of week      Date  Time  Epoch  Number matches  Travel time (s)  \\\n",
       "155    Thursday  1/2/2014  0:10    2.0             1.0            122.0   \n",
       "156    Thursday  1/2/2014  0:20    4.0             1.0            104.0   \n",
       "157    Thursday  1/2/2014  0:25    5.0             2.0            133.0   \n",
       "158    Thursday  1/2/2014  2:00   24.0             1.0            146.0   \n",
       "159    Thursday  1/2/2014  2:30   30.0             1.0            156.0   \n",
       "\n",
       "     Speed (mph)  \n",
       "155         44.3  \n",
       "156         51.9  \n",
       "157         40.6  \n",
       "158         37.0  \n",
       "159         34.6  "
      ]
     },
     "execution_count": 193,
     "metadata": {},
     "output_type": "execute_result"
    }
   ],
   "source": [
    "RichTodd = timeframeBT(Rich_to_Todds,0,288,True,Weekday)\n",
    "RichTodd.head()"
   ]
  },
  {
   "cell_type": "code",
   "execution_count": 166,
   "metadata": {
    "collapsed": false
   },
   "outputs": [
    {
     "data": {
      "text/html": [
       "<div>\n",
       "<table border=\"1\" class=\"dataframe\">\n",
       "  <thead>\n",
       "    <tr style=\"text-align: right;\">\n",
       "      <th></th>\n",
       "      <th>MEAN</th>\n",
       "      <th>STDDEV</th>\n",
       "      <th>TotalIntervals</th>\n",
       "      <th>PctInterval</th>\n",
       "      <th>85th_Speed</th>\n",
       "      <th>5th_Speed</th>\n",
       "      <th>60th_Speed</th>\n",
       "      <th>TTI_85</th>\n",
       "      <th>PTI_85</th>\n",
       "      <th>BTI</th>\n",
       "    </tr>\n",
       "  </thead>\n",
       "  <tbody>\n",
       "    <tr>\n",
       "      <th>0</th>\n",
       "      <td>34.069578</td>\n",
       "      <td>9.131005</td>\n",
       "      <td>62482.0</td>\n",
       "      <td>0.600973</td>\n",
       "      <td>43.5</td>\n",
       "      <td>18.9</td>\n",
       "      <td>36.7</td>\n",
       "      <td>1.276799</td>\n",
       "      <td>2.301587</td>\n",
       "      <td>0.802623</td>\n",
       "    </tr>\n",
       "  </tbody>\n",
       "</table>\n",
       "</div>"
      ],
      "text/plain": [
       "        MEAN    STDDEV  TotalIntervals  PctInterval  85th_Speed  5th_Speed  \\\n",
       "0  34.069578  9.131005         62482.0     0.600973        43.5       18.9   \n",
       "\n",
       "   60th_Speed    TTI_85    PTI_85       BTI  \n",
       "0        36.7  1.276799  2.301587  0.802623  "
      ]
     },
     "execution_count": 166,
     "metadata": {},
     "output_type": "execute_result"
    }
   ],
   "source": [
    "RichTodd = timeframeBT(Rich_to_Todds,0,288,True,Both)\n",
    "RichToddstat = BTstats(RichTodd)\n",
    "RichTodd = pd.DataFrame()\n",
    "RichToddstat.head()"
   ]
  },
  {
   "cell_type": "code",
   "execution_count": 167,
   "metadata": {
    "collapsed": false
   },
   "outputs": [
    {
     "data": {
      "text/html": [
       "<div>\n",
       "<table border=\"1\" class=\"dataframe\">\n",
       "  <thead>\n",
       "    <tr style=\"text-align: right;\">\n",
       "      <th></th>\n",
       "      <th>MEAN</th>\n",
       "      <th>STDDEV</th>\n",
       "      <th>TotalIntervals</th>\n",
       "      <th>PctInterval</th>\n",
       "      <th>85th_Speed</th>\n",
       "      <th>5th_Speed</th>\n",
       "      <th>60th_Speed</th>\n",
       "      <th>TTI_85</th>\n",
       "      <th>PTI_85</th>\n",
       "      <th>BTI</th>\n",
       "    </tr>\n",
       "  </thead>\n",
       "  <tbody>\n",
       "    <tr>\n",
       "      <th>0</th>\n",
       "      <td>33.192074</td>\n",
       "      <td>9.311052</td>\n",
       "      <td>45672.0</td>\n",
       "      <td>0.612291</td>\n",
       "      <td>43.2</td>\n",
       "      <td>18.0</td>\n",
       "      <td>35.8</td>\n",
       "      <td>1.301516</td>\n",
       "      <td>2.4</td>\n",
       "      <td>0.844004</td>\n",
       "    </tr>\n",
       "  </tbody>\n",
       "</table>\n",
       "</div>"
      ],
      "text/plain": [
       "        MEAN    STDDEV  TotalIntervals  PctInterval  85th_Speed  5th_Speed  \\\n",
       "0  33.192074  9.311052         45672.0     0.612291        43.2       18.0   \n",
       "\n",
       "   60th_Speed    TTI_85  PTI_85       BTI  \n",
       "0        35.8  1.301516     2.4  0.844004  "
      ]
     },
     "execution_count": 167,
     "metadata": {},
     "output_type": "execute_result"
    }
   ],
   "source": [
    "WkdRichTodd = timeframeBT(Rich_to_Todds,0,288,True,Weekday)\n",
    "WkdRichToddstat = BTstats(WkdRichTodd)\n",
    "WkdRichTodd = pd.DataFrame()\n",
    "WkdRichToddstat.head()"
   ]
  },
  {
   "cell_type": "code",
   "execution_count": 169,
   "metadata": {
    "collapsed": false
   },
   "outputs": [
    {
     "data": {
      "text/html": [
       "<div>\n",
       "<table border=\"1\" class=\"dataframe\">\n",
       "  <thead>\n",
       "    <tr style=\"text-align: right;\">\n",
       "      <th></th>\n",
       "      <th>MEAN</th>\n",
       "      <th>STDDEV</th>\n",
       "      <th>TotalIntervals</th>\n",
       "      <th>PctInterval</th>\n",
       "      <th>85th_Speed</th>\n",
       "      <th>5th_Speed</th>\n",
       "      <th>60th_Speed</th>\n",
       "      <th>TTI_85</th>\n",
       "      <th>PTI_85</th>\n",
       "      <th>BTI</th>\n",
       "    </tr>\n",
       "  </thead>\n",
       "  <tbody>\n",
       "    <tr>\n",
       "      <th>0</th>\n",
       "      <td>36.453718</td>\n",
       "      <td>8.15976</td>\n",
       "      <td>16810.0</td>\n",
       "      <td>0.572236</td>\n",
       "      <td>44.1</td>\n",
       "      <td>20.9</td>\n",
       "      <td>38.8</td>\n",
       "      <td>1.209753</td>\n",
       "      <td>2.110048</td>\n",
       "      <td>0.744197</td>\n",
       "    </tr>\n",
       "  </tbody>\n",
       "</table>\n",
       "</div>"
      ],
      "text/plain": [
       "        MEAN   STDDEV  TotalIntervals  PctInterval  85th_Speed  5th_Speed  \\\n",
       "0  36.453718  8.15976         16810.0     0.572236        44.1       20.9   \n",
       "\n",
       "   60th_Speed    TTI_85    PTI_85       BTI  \n",
       "0        38.8  1.209753  2.110048  0.744197  "
      ]
     },
     "execution_count": 169,
     "metadata": {},
     "output_type": "execute_result"
    }
   ],
   "source": [
    "WendRichTodd = timeframeBT(Rich_to_Todds,0,288,True,Weekend)\n",
    "WendRichToddstat = BTstats(WendRichTodd)\n",
    "WendRichTodd = pd.DataFrame()\n",
    "WendRichToddstat.head()"
   ]
  },
  {
   "cell_type": "code",
   "execution_count": null,
   "metadata": {
    "collapsed": true
   },
   "outputs": [],
   "source": [
    "WkdRichTodd = timeframeBT(Rich_to_Todds,0,288,True,Weekday)\n",
    "WkdRichToddstat = BTstats(WkdRichTodd)\n",
    "WkdRichTodd = pd.DataFrame()\n",
    "WkdRichToddstat.head()"
   ]
  }
 ],
 "metadata": {
  "kernelspec": {
   "display_name": "Python [default]",
   "language": "python",
   "name": "python3"
  },
  "language_info": {
   "codemirror_mode": {
    "name": "ipython",
    "version": 3
   },
   "file_extension": ".py",
   "mimetype": "text/x-python",
   "name": "python",
   "nbconvert_exporter": "python",
   "pygments_lexer": "ipython3",
   "version": "3.5.2"
  }
 },
 "nbformat": 4,
 "nbformat_minor": 1
}
