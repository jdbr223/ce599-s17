{
 "cells": [
  {
   "cell_type": "code",
   "execution_count": 1,
   "metadata": {
    "collapsed": false
   },
   "outputs": [
    {
     "name": "stdout",
     "output_type": "stream",
     "text": [
      "height has been deprecated.\n",
      "\n"
     ]
    }
   ],
   "source": [
    "# magic command to display matplotlib plots inline within the ipython notebook webpage\n",
    "%matplotlib inline\n",
    "\n",
    "# import necessary modules\n",
    "import pandas as pd, numpy as np, matplotlib.pyplot as plt\n",
    "import matplotlib.cm as cm, matplotlib.font_manager as fm\n",
    "import datetime\n",
    "import geopandas as gp\n",
    "from scipy import stats, integrate\n",
    "#Adjusts what can be displayed when calling a pandas dataframe|\n",
    "pd.set_option('display.height', 1000)\n",
    "pd.set_option('display.max_rows', 500)\n",
    "pd.set_option('display.max_columns', 500)\n",
    "pd.set_option('display.width', 1000)"
   ]
  },
  {
   "cell_type": "code",
   "execution_count": 2,
   "metadata": {
    "collapsed": false
   },
   "outputs": [
    {
     "data": {
      "text/plain": [
       "['Monday', 'Tuesday', 'Wednesday', 'Thursday', 'Friday']"
      ]
     },
     "execution_count": 2,
     "metadata": {},
     "output_type": "execute_result"
    }
   ],
   "source": [
    "#For now, enter the weekdays desire here in full\n",
    "Weekday = ['Monday','Tuesday','Wednesday','Thursday','Friday']\n",
    "Weekday"
   ]
  },
  {
   "cell_type": "code",
   "execution_count": 3,
   "metadata": {
    "collapsed": false
   },
   "outputs": [
    {
     "data": {
      "text/plain": [
       "['Saturday', 'Sunday']"
      ]
     },
     "execution_count": 3,
     "metadata": {},
     "output_type": "execute_result"
    }
   ],
   "source": [
    "Weekend = ['Saturday','Sunday']\n",
    "Weekend"
   ]
  },
  {
   "cell_type": "code",
   "execution_count": 4,
   "metadata": {
    "collapsed": false
   },
   "outputs": [
    {
     "data": {
      "text/plain": [
       "['Monday', 'Tuesday', 'Wednesday', 'Thursday', 'Friday', 'Saturday', 'Sunday']"
      ]
     },
     "execution_count": 4,
     "metadata": {},
     "output_type": "execute_result"
    }
   ],
   "source": [
    "Both = ['Monday','Tuesday','Wednesday','Thursday','Friday','Saturday','Sunday']\n",
    "Both"
   ]
  },
  {
   "cell_type": "code",
   "execution_count": 5,
   "metadata": {
    "collapsed": false
   },
   "outputs": [
    {
     "data": {
      "text/html": [
       "<div>\n",
       "<table border=\"1\" class=\"dataframe\">\n",
       "  <thead>\n",
       "    <tr style=\"text-align: right;\">\n",
       "      <th></th>\n",
       "      <th>Day of week</th>\n",
       "      <th>Date</th>\n",
       "      <th>Time</th>\n",
       "      <th>Epoch</th>\n",
       "      <th>Number matches</th>\n",
       "      <th>Travel time (s)</th>\n",
       "      <th>Speed (mph)</th>\n",
       "    </tr>\n",
       "  </thead>\n",
       "  <tbody>\n",
       "    <tr>\n",
       "      <th>0</th>\n",
       "      <td>Wednesday</td>\n",
       "      <td>1/1/2014</td>\n",
       "      <td>0:05</td>\n",
       "      <td>1</td>\n",
       "      <td>3</td>\n",
       "      <td>93.7</td>\n",
       "      <td>30.7</td>\n",
       "    </tr>\n",
       "    <tr>\n",
       "      <th>1</th>\n",
       "      <td>Wednesday</td>\n",
       "      <td>1/1/2014</td>\n",
       "      <td>0:25</td>\n",
       "      <td>5</td>\n",
       "      <td>2</td>\n",
       "      <td>77.0</td>\n",
       "      <td>37.4</td>\n",
       "    </tr>\n",
       "    <tr>\n",
       "      <th>2</th>\n",
       "      <td>Wednesday</td>\n",
       "      <td>1/1/2014</td>\n",
       "      <td>0:35</td>\n",
       "      <td>7</td>\n",
       "      <td>1</td>\n",
       "      <td>65.0</td>\n",
       "      <td>44.3</td>\n",
       "    </tr>\n",
       "    <tr>\n",
       "      <th>3</th>\n",
       "      <td>Wednesday</td>\n",
       "      <td>1/1/2014</td>\n",
       "      <td>0:40</td>\n",
       "      <td>8</td>\n",
       "      <td>1</td>\n",
       "      <td>65.0</td>\n",
       "      <td>44.3</td>\n",
       "    </tr>\n",
       "    <tr>\n",
       "      <th>4</th>\n",
       "      <td>Wednesday</td>\n",
       "      <td>1/1/2014</td>\n",
       "      <td>0:45</td>\n",
       "      <td>9</td>\n",
       "      <td>1</td>\n",
       "      <td>121.0</td>\n",
       "      <td>23.8</td>\n",
       "    </tr>\n",
       "  </tbody>\n",
       "</table>\n",
       "</div>"
      ],
      "text/plain": [
       "  Day of week      Date  Time  Epoch  Number matches  Travel time (s)  Speed (mph)\n",
       "0   Wednesday  1/1/2014  0:05      1               3             93.7         30.7\n",
       "1   Wednesday  1/1/2014  0:25      5               2             77.0         37.4\n",
       "2   Wednesday  1/1/2014  0:35      7               1             65.0         44.3\n",
       "3   Wednesday  1/1/2014  0:40      8               1             65.0         44.3\n",
       "4   Wednesday  1/1/2014  0:45      9               1            121.0         23.8"
      ]
     },
     "execution_count": 5,
     "metadata": {},
     "output_type": "execute_result"
    }
   ],
   "source": [
    "SB_to_Todds = pd.read_csv('data/SirBarton_to_Todds_F.csv')\n",
    "SB_to_Todds.head()\n",
    "#SB_to_Todds['Day of week'].unique()"
   ]
  },
  {
   "cell_type": "code",
   "execution_count": 6,
   "metadata": {
    "collapsed": false
   },
   "outputs": [
    {
     "data": {
      "text/html": [
       "<div>\n",
       "<table border=\"1\" class=\"dataframe\">\n",
       "  <thead>\n",
       "    <tr style=\"text-align: right;\">\n",
       "      <th></th>\n",
       "      <th>Day of week</th>\n",
       "      <th>Date</th>\n",
       "      <th>Time</th>\n",
       "      <th>Epoch</th>\n",
       "      <th>Number matches</th>\n",
       "      <th>Travel time (s)</th>\n",
       "      <th>Speed (mph)</th>\n",
       "    </tr>\n",
       "  </thead>\n",
       "  <tbody>\n",
       "    <tr>\n",
       "      <th>0</th>\n",
       "      <td>Wednesday</td>\n",
       "      <td>1/1/2014</td>\n",
       "      <td>0:15</td>\n",
       "      <td>3</td>\n",
       "      <td>1</td>\n",
       "      <td>93.0</td>\n",
       "      <td>31.0</td>\n",
       "    </tr>\n",
       "    <tr>\n",
       "      <th>1</th>\n",
       "      <td>Wednesday</td>\n",
       "      <td>1/1/2014</td>\n",
       "      <td>0:20</td>\n",
       "      <td>4</td>\n",
       "      <td>1</td>\n",
       "      <td>63.0</td>\n",
       "      <td>45.7</td>\n",
       "    </tr>\n",
       "    <tr>\n",
       "      <th>2</th>\n",
       "      <td>Wednesday</td>\n",
       "      <td>1/1/2014</td>\n",
       "      <td>0:25</td>\n",
       "      <td>5</td>\n",
       "      <td>2</td>\n",
       "      <td>83.0</td>\n",
       "      <td>34.7</td>\n",
       "    </tr>\n",
       "    <tr>\n",
       "      <th>3</th>\n",
       "      <td>Wednesday</td>\n",
       "      <td>1/1/2014</td>\n",
       "      <td>0:30</td>\n",
       "      <td>6</td>\n",
       "      <td>1</td>\n",
       "      <td>103.0</td>\n",
       "      <td>28.0</td>\n",
       "    </tr>\n",
       "    <tr>\n",
       "      <th>4</th>\n",
       "      <td>Wednesday</td>\n",
       "      <td>1/1/2014</td>\n",
       "      <td>0:35</td>\n",
       "      <td>7</td>\n",
       "      <td>1</td>\n",
       "      <td>85.0</td>\n",
       "      <td>33.9</td>\n",
       "    </tr>\n",
       "  </tbody>\n",
       "</table>\n",
       "</div>"
      ],
      "text/plain": [
       "  Day of week      Date  Time  Epoch  Number matches  Travel time (s)  Speed (mph)\n",
       "0   Wednesday  1/1/2014  0:15      3               1             93.0         31.0\n",
       "1   Wednesday  1/1/2014  0:20      4               1             63.0         45.7\n",
       "2   Wednesday  1/1/2014  0:25      5               2             83.0         34.7\n",
       "3   Wednesday  1/1/2014  0:30      6               1            103.0         28.0\n",
       "4   Wednesday  1/1/2014  0:35      7               1             85.0         33.9"
      ]
     },
     "execution_count": 6,
     "metadata": {},
     "output_type": "execute_result"
    }
   ],
   "source": [
    "Todds_to_SB = pd.read_csv('data/Todds_to_SirBarton_F.csv')\n",
    "Todds_to_SB.head()\n",
    "#Todds_to_SB['Day of week'].unique()"
   ]
  },
  {
   "cell_type": "code",
   "execution_count": 7,
   "metadata": {
    "collapsed": false
   },
   "outputs": [
    {
     "data": {
      "text/html": [
       "<div>\n",
       "<table border=\"1\" class=\"dataframe\">\n",
       "  <thead>\n",
       "    <tr style=\"text-align: right;\">\n",
       "      <th></th>\n",
       "      <th>Day of week</th>\n",
       "      <th>Date</th>\n",
       "      <th>Time</th>\n",
       "      <th>Epoch</th>\n",
       "      <th>Number matches</th>\n",
       "      <th>Travel time (s)</th>\n",
       "      <th>Speed (mph)</th>\n",
       "    </tr>\n",
       "  </thead>\n",
       "  <tbody>\n",
       "    <tr>\n",
       "      <th>0</th>\n",
       "      <td>Wednesday</td>\n",
       "      <td>1/1/2014</td>\n",
       "      <td>0:20</td>\n",
       "      <td>4</td>\n",
       "      <td>4</td>\n",
       "      <td>96.0</td>\n",
       "      <td>37.5</td>\n",
       "    </tr>\n",
       "    <tr>\n",
       "      <th>1</th>\n",
       "      <td>Wednesday</td>\n",
       "      <td>1/1/2014</td>\n",
       "      <td>0:25</td>\n",
       "      <td>5</td>\n",
       "      <td>2</td>\n",
       "      <td>89.0</td>\n",
       "      <td>40.4</td>\n",
       "    </tr>\n",
       "    <tr>\n",
       "      <th>2</th>\n",
       "      <td>Wednesday</td>\n",
       "      <td>1/1/2014</td>\n",
       "      <td>0:30</td>\n",
       "      <td>6</td>\n",
       "      <td>3</td>\n",
       "      <td>100.7</td>\n",
       "      <td>35.8</td>\n",
       "    </tr>\n",
       "    <tr>\n",
       "      <th>3</th>\n",
       "      <td>Wednesday</td>\n",
       "      <td>1/1/2014</td>\n",
       "      <td>0:35</td>\n",
       "      <td>7</td>\n",
       "      <td>1</td>\n",
       "      <td>110.0</td>\n",
       "      <td>32.7</td>\n",
       "    </tr>\n",
       "    <tr>\n",
       "      <th>4</th>\n",
       "      <td>Wednesday</td>\n",
       "      <td>1/1/2014</td>\n",
       "      <td>0:40</td>\n",
       "      <td>8</td>\n",
       "      <td>2</td>\n",
       "      <td>107.0</td>\n",
       "      <td>33.6</td>\n",
       "    </tr>\n",
       "  </tbody>\n",
       "</table>\n",
       "</div>"
      ],
      "text/plain": [
       "  Day of week      Date  Time  Epoch  Number matches  Travel time (s)  Speed (mph)\n",
       "0   Wednesday  1/1/2014  0:20      4               4             96.0         37.5\n",
       "1   Wednesday  1/1/2014  0:25      5               2             89.0         40.4\n",
       "2   Wednesday  1/1/2014  0:30      6               3            100.7         35.8\n",
       "3   Wednesday  1/1/2014  0:35      7               1            110.0         32.7\n",
       "4   Wednesday  1/1/2014  0:40      8               2            107.0         33.6"
      ]
     },
     "execution_count": 7,
     "metadata": {},
     "output_type": "execute_result"
    }
   ],
   "source": [
    "A_to_Rich = pd.read_csv('data/Alumni_to_Richmond_F.csv')\n",
    "A_to_Rich.head()\n",
    "#A_to_Rich['Day of week'].unique()"
   ]
  },
  {
   "cell_type": "code",
   "execution_count": 8,
   "metadata": {
    "collapsed": false
   },
   "outputs": [
    {
     "data": {
      "text/html": [
       "<div>\n",
       "<table border=\"1\" class=\"dataframe\">\n",
       "  <thead>\n",
       "    <tr style=\"text-align: right;\">\n",
       "      <th></th>\n",
       "      <th>Day of week</th>\n",
       "      <th>Date</th>\n",
       "      <th>Time</th>\n",
       "      <th>Epoch</th>\n",
       "      <th>Number matches</th>\n",
       "      <th>Travel time (s)</th>\n",
       "      <th>Speed (mph)</th>\n",
       "    </tr>\n",
       "  </thead>\n",
       "  <tbody>\n",
       "    <tr>\n",
       "      <th>0</th>\n",
       "      <td>Wednesday</td>\n",
       "      <td>1/1/2014</td>\n",
       "      <td>0:10</td>\n",
       "      <td>2</td>\n",
       "      <td>1</td>\n",
       "      <td>100.0</td>\n",
       "      <td>36.0</td>\n",
       "    </tr>\n",
       "    <tr>\n",
       "      <th>1</th>\n",
       "      <td>Wednesday</td>\n",
       "      <td>1/1/2014</td>\n",
       "      <td>0:35</td>\n",
       "      <td>7</td>\n",
       "      <td>3</td>\n",
       "      <td>99.7</td>\n",
       "      <td>36.1</td>\n",
       "    </tr>\n",
       "    <tr>\n",
       "      <th>2</th>\n",
       "      <td>Wednesday</td>\n",
       "      <td>1/1/2014</td>\n",
       "      <td>0:40</td>\n",
       "      <td>8</td>\n",
       "      <td>3</td>\n",
       "      <td>113.7</td>\n",
       "      <td>31.7</td>\n",
       "    </tr>\n",
       "    <tr>\n",
       "      <th>3</th>\n",
       "      <td>Wednesday</td>\n",
       "      <td>1/1/2014</td>\n",
       "      <td>0:55</td>\n",
       "      <td>11</td>\n",
       "      <td>2</td>\n",
       "      <td>106.0</td>\n",
       "      <td>34.0</td>\n",
       "    </tr>\n",
       "    <tr>\n",
       "      <th>4</th>\n",
       "      <td>Wednesday</td>\n",
       "      <td>1/1/2014</td>\n",
       "      <td>1:05</td>\n",
       "      <td>13</td>\n",
       "      <td>2</td>\n",
       "      <td>120.0</td>\n",
       "      <td>30.0</td>\n",
       "    </tr>\n",
       "  </tbody>\n",
       "</table>\n",
       "</div>"
      ],
      "text/plain": [
       "  Day of week      Date  Time  Epoch  Number matches  Travel time (s)  Speed (mph)\n",
       "0   Wednesday  1/1/2014  0:10      2               1            100.0         36.0\n",
       "1   Wednesday  1/1/2014  0:35      7               3             99.7         36.1\n",
       "2   Wednesday  1/1/2014  0:40      8               3            113.7         31.7\n",
       "3   Wednesday  1/1/2014  0:55     11               2            106.0         34.0\n",
       "4   Wednesday  1/1/2014  1:05     13               2            120.0         30.0"
      ]
     },
     "execution_count": 8,
     "metadata": {},
     "output_type": "execute_result"
    }
   ],
   "source": [
    "Rich_to_A = pd.read_csv('data/Richmond_to_Alumni_F.csv')\n",
    "Rich_to_A.head()\n",
    "#Rich_to_A['Day of week'].unique()"
   ]
  },
  {
   "cell_type": "code",
   "execution_count": 9,
   "metadata": {
    "collapsed": false
   },
   "outputs": [
    {
     "data": {
      "text/html": [
       "<div>\n",
       "<table border=\"1\" class=\"dataframe\">\n",
       "  <thead>\n",
       "    <tr style=\"text-align: right;\">\n",
       "      <th></th>\n",
       "      <th>Day of week</th>\n",
       "      <th>Date</th>\n",
       "      <th>Time</th>\n",
       "      <th>Epoch</th>\n",
       "      <th>Number matches</th>\n",
       "      <th>Travel time (s)</th>\n",
       "      <th>Speed (mph)</th>\n",
       "    </tr>\n",
       "  </thead>\n",
       "  <tbody>\n",
       "    <tr>\n",
       "      <th>0</th>\n",
       "      <td>Wednesday</td>\n",
       "      <td>1/1/2014</td>\n",
       "      <td>0:05</td>\n",
       "      <td>1</td>\n",
       "      <td>2</td>\n",
       "      <td>120.0</td>\n",
       "      <td>45.0</td>\n",
       "    </tr>\n",
       "    <tr>\n",
       "      <th>1</th>\n",
       "      <td>Wednesday</td>\n",
       "      <td>1/1/2014</td>\n",
       "      <td>0:10</td>\n",
       "      <td>2</td>\n",
       "      <td>1</td>\n",
       "      <td>143.0</td>\n",
       "      <td>37.8</td>\n",
       "    </tr>\n",
       "    <tr>\n",
       "      <th>2</th>\n",
       "      <td>Wednesday</td>\n",
       "      <td>1/1/2014</td>\n",
       "      <td>0:25</td>\n",
       "      <td>5</td>\n",
       "      <td>2</td>\n",
       "      <td>126.0</td>\n",
       "      <td>42.9</td>\n",
       "    </tr>\n",
       "    <tr>\n",
       "      <th>3</th>\n",
       "      <td>Wednesday</td>\n",
       "      <td>1/1/2014</td>\n",
       "      <td>0:35</td>\n",
       "      <td>7</td>\n",
       "      <td>1</td>\n",
       "      <td>231.0</td>\n",
       "      <td>23.4</td>\n",
       "    </tr>\n",
       "    <tr>\n",
       "      <th>4</th>\n",
       "      <td>Wednesday</td>\n",
       "      <td>1/1/2014</td>\n",
       "      <td>0:40</td>\n",
       "      <td>8</td>\n",
       "      <td>4</td>\n",
       "      <td>139.0</td>\n",
       "      <td>38.8</td>\n",
       "    </tr>\n",
       "  </tbody>\n",
       "</table>\n",
       "</div>"
      ],
      "text/plain": [
       "  Day of week      Date  Time  Epoch  Number matches  Travel time (s)  Speed (mph)\n",
       "0   Wednesday  1/1/2014  0:05      1               2            120.0         45.0\n",
       "1   Wednesday  1/1/2014  0:10      2               1            143.0         37.8\n",
       "2   Wednesday  1/1/2014  0:25      5               2            126.0         42.9\n",
       "3   Wednesday  1/1/2014  0:35      7               1            231.0         23.4\n",
       "4   Wednesday  1/1/2014  0:40      8               4            139.0         38.8"
      ]
     },
     "execution_count": 9,
     "metadata": {},
     "output_type": "execute_result"
    }
   ],
   "source": [
    "Todds_to_Rich = pd.read_csv('data/Todds_to_Richmond_F.csv')\n",
    "Todds_to_Rich.head()\n",
    "#Todds_to_Rich['Day of week'].unique()"
   ]
  },
  {
   "cell_type": "code",
   "execution_count": 10,
   "metadata": {
    "collapsed": false
   },
   "outputs": [
    {
     "data": {
      "text/html": [
       "<div>\n",
       "<table border=\"1\" class=\"dataframe\">\n",
       "  <thead>\n",
       "    <tr style=\"text-align: right;\">\n",
       "      <th></th>\n",
       "      <th>Day of week</th>\n",
       "      <th>Date</th>\n",
       "      <th>Time</th>\n",
       "      <th>Epoch</th>\n",
       "      <th>Number matches</th>\n",
       "      <th>Travel time (s)</th>\n",
       "      <th>Speed (mph)</th>\n",
       "    </tr>\n",
       "  </thead>\n",
       "  <tbody>\n",
       "    <tr>\n",
       "      <th>0</th>\n",
       "      <td>Wednesday</td>\n",
       "      <td>1/1/2014</td>\n",
       "      <td>0:20</td>\n",
       "      <td>4</td>\n",
       "      <td>1</td>\n",
       "      <td>165.0</td>\n",
       "      <td>32.7</td>\n",
       "    </tr>\n",
       "    <tr>\n",
       "      <th>1</th>\n",
       "      <td>Wednesday</td>\n",
       "      <td>1/1/2014</td>\n",
       "      <td>0:25</td>\n",
       "      <td>5</td>\n",
       "      <td>3</td>\n",
       "      <td>147.7</td>\n",
       "      <td>36.6</td>\n",
       "    </tr>\n",
       "    <tr>\n",
       "      <th>2</th>\n",
       "      <td>Wednesday</td>\n",
       "      <td>1/1/2014</td>\n",
       "      <td>0:30</td>\n",
       "      <td>6</td>\n",
       "      <td>2</td>\n",
       "      <td>135.0</td>\n",
       "      <td>40.0</td>\n",
       "    </tr>\n",
       "    <tr>\n",
       "      <th>3</th>\n",
       "      <td>Wednesday</td>\n",
       "      <td>1/1/2014</td>\n",
       "      <td>0:35</td>\n",
       "      <td>7</td>\n",
       "      <td>2</td>\n",
       "      <td>145.0</td>\n",
       "      <td>37.2</td>\n",
       "    </tr>\n",
       "    <tr>\n",
       "      <th>4</th>\n",
       "      <td>Wednesday</td>\n",
       "      <td>1/1/2014</td>\n",
       "      <td>0:50</td>\n",
       "      <td>10</td>\n",
       "      <td>1</td>\n",
       "      <td>165.0</td>\n",
       "      <td>32.7</td>\n",
       "    </tr>\n",
       "  </tbody>\n",
       "</table>\n",
       "</div>"
      ],
      "text/plain": [
       "  Day of week      Date  Time  Epoch  Number matches  Travel time (s)  Speed (mph)\n",
       "0   Wednesday  1/1/2014  0:20      4               1            165.0         32.7\n",
       "1   Wednesday  1/1/2014  0:25      5               3            147.7         36.6\n",
       "2   Wednesday  1/1/2014  0:30      6               2            135.0         40.0\n",
       "3   Wednesday  1/1/2014  0:35      7               2            145.0         37.2\n",
       "4   Wednesday  1/1/2014  0:50     10               1            165.0         32.7"
      ]
     },
     "execution_count": 10,
     "metadata": {},
     "output_type": "execute_result"
    }
   ],
   "source": [
    "Rich_to_Todds = pd.read_csv('data/Richmond_to_Todds_F.csv')\n",
    "Rich_to_Todds.head()\n",
    "#Rich_to_Todds['Day of week'].unique()"
   ]
  },
  {
   "cell_type": "code",
   "execution_count": 97,
   "metadata": {
    "collapsed": false
   },
   "outputs": [],
   "source": [
    "#Calculates all statistics for bluetooth data when it is active\n",
    "def BTstats(x):\n",
    "    y = pd.DataFrame(columns = [])\n",
    "    y.loc[0,'MEAN'] = x['Speed (mph)'].mean()\n",
    "    y.loc[0,'STDDEV'] = x['Speed (mph)'].std(ddof = 1)\n",
    "    y.loc[0,'TotalIntervals'] = x['Speed (mph)'].count()\n",
    "    numberdays = x['Date'].unique()\n",
    "    y.loc[0,'PctInterval'] = (y.loc[0,'TotalIntervals'])/(288*len(numberdays))*100\n",
    "    y.loc[0,'85th_Speed'] = x['Speed (mph)'].quantile(0.85, interpolation = 'lower')\n",
    "    y.loc[0,'5th_Speed'] = x['Speed (mph)'].quantile(0.05, interpolation = 'lower')\n",
    "    y.loc[0,'60th_Speed'] = x['Speed (mph)'].quantile(0.60, interpolation = 'lower')\n",
    "    zAM = timeframeBT(x,72,108,False,Both)\n",
    "    zMD = timeframeBT(x,108,180,False,Both)\n",
    "    zPM = timeframeBT(x,180,216,False,Both)\n",
    "    c = pd.DataFrame(columns = [])\n",
    "    d = pd.DataFrame(columns = [])\n",
    "    e = pd.DataFrame(columns = [])\n",
    "    c.loc[0,'MEAN'] = zAM['Speed (mph)'].mean()\n",
    "    c.loc[0,'85th_Speed'] = zAM['Speed (mph)'].quantile(0.85, interpolation = 'lower')\n",
    "    c.loc[0,'5th_Speed'] = zAM['Speed (mph)'].quantile(0.05, interpolation = 'lower')\n",
    "    d.loc[0,'MEAN'] = zMD['Speed (mph)'].mean()\n",
    "    d.loc[0,'85th_Speed'] = zMD['Speed (mph)'].quantile(0.85, interpolation = 'lower')\n",
    "    d.loc[0,'5th_Speed'] = zMD['Speed (mph)'].quantile(0.05, interpolation = 'lower')\n",
    "    e.loc[0,'MEAN'] = zPM['Speed (mph)'].mean()\n",
    "    e.loc[0,'85th_Speed'] = zPM['Speed (mph)'].quantile(0.85, interpolation = 'lower')\n",
    "    e.loc[0,'5th_Speed'] = zPM['Speed (mph)'].quantile(0.05, interpolation = 'lower')\n",
    "    y['TTI_85AM']= c['85th_Speed'].div(c['MEAN'])\n",
    "    y['TTI_85MD']= d['85th_Speed'].div(d['MEAN'])\n",
    "    y['TTI_85PM']= e['85th_Speed'].div(e['MEAN'])\n",
    "    y['PTI_85AM']= c['85th_Speed'].div(c['5th_Speed'])\n",
    "    y['PTI_85MD']= d['85th_Speed'].div(d['5th_Speed'])\n",
    "    y['PTI_85PM']= e['85th_Speed'].div(e['5th_Speed'])\n",
    "    y['BTI_AM']= (c['MEAN'].div(c['5th_Speed']))-1\n",
    "    y['BTI_MD']= (d['MEAN'].div(d['5th_Speed']))-1\n",
    "    y['BTI_PM']= (e['MEAN'].div(e['5th_Speed']))-1\n",
    "    return y"
   ]
  },
  {
   "cell_type": "code",
   "execution_count": 98,
   "metadata": {
    "collapsed": false
   },
   "outputs": [],
   "source": [
    "#x = input dataframe, y = beginning timeframe (in epoch), z = ending timeframe (in epoch), \n",
    "#h = holiday (True or False), d = weekend or weekday\n",
    "#Note the dataframe has to have an EPOCH_5MIN row to work.\n",
    "#Also, this is ONLY for a single-link dataframe\n",
    "def timeframeBT(x,y,z,h,d):\n",
    "    us_holidays = ['1/1/2014', '5/26/2014', \n",
    "                   '7/4/2014', '9/1/2014', '11/27/2014', \n",
    "                   '11/28/2014', '12/25/2014']\n",
    "    if h == True:\n",
    "        r = x[x['Date'].isin(us_holidays)]\n",
    "        v = x[~x.isin(r)].dropna()\n",
    "        days = v[v['Day of week'].isin(d)]\n",
    "        Timeframe = days[(days['Epoch'] >= y) & (days['Epoch'] <= z)]\n",
    "        return Timeframe\n",
    "    else:\n",
    "        days = x[x['Day of week'].isin(d)]\n",
    "        Timeframe = days[(days['Epoch'] >= y) & (days['Epoch'] <= z)]\n",
    "        return Timeframe"
   ]
  },
  {
   "cell_type": "code",
   "execution_count": 99,
   "metadata": {
    "collapsed": true
   },
   "outputs": [],
   "source": [
    "#Calculates all statistics for bluetooth data when it is active\n",
    "def BTstatsAM(x):\n",
    "    y = pd.DataFrame(columns = [])\n",
    "    y.loc[0,'MEAN'] = x['Speed (mph)'].mean()\n",
    "    y.loc[0,'STDDEV'] = x['Speed (mph)'].std(ddof = 1)\n",
    "    y.loc[0,'TotalIntervals'] = x['Speed (mph)'].count()\n",
    "    numberdays = x['Date'].unique()\n",
    "    y.loc[0,'PctInterval'] = (y.loc[0,'TotalIntervals'])/(36*len(numberdays))*100\n",
    "    y.loc[0,'85th_Speed'] = x['Speed (mph)'].quantile(0.85, interpolation = 'lower')\n",
    "    y.loc[0,'5th_Speed'] = x['Speed (mph)'].quantile(0.05, interpolation = 'lower')\n",
    "    y.loc[0,'60th_Speed'] = x['Speed (mph)'].quantile(0.60, interpolation = 'lower')\n",
    "    y['TTI_85AM']= y['85th_Speed'].div(y['MEAN'])\n",
    "    y['PTI_85AM'] = y['85th_Speed'].div(y['5th_Speed'])\n",
    "    y['BTI_AM'] = (y['MEAN'].div(y['5th_Speed']))-1\n",
    "    return y"
   ]
  },
  {
   "cell_type": "code",
   "execution_count": 100,
   "metadata": {
    "collapsed": true
   },
   "outputs": [],
   "source": [
    "#Calculates all statistics for bluetooth data when it is active\n",
    "def BTstatsMD(x):\n",
    "    y = pd.DataFrame(columns = [])\n",
    "    y.loc[0,'MEAN'] = x['Speed (mph)'].mean()\n",
    "    y.loc[0,'STDDEV'] = x['Speed (mph)'].std(ddof = 1)\n",
    "    y.loc[0,'TotalIntervals'] = x['Speed (mph)'].count()\n",
    "    numberdays = x['Date'].unique()\n",
    "    y.loc[0,'PctInterval'] = (y.loc[0,'TotalIntervals'])/(72*len(numberdays))*100\n",
    "    y.loc[0,'85th_Speed'] = x['Speed (mph)'].quantile(0.85, interpolation = 'lower')\n",
    "    y.loc[0,'5th_Speed'] = x['Speed (mph)'].quantile(0.05, interpolation = 'lower')\n",
    "    y.loc[0,'60th_Speed'] = x['Speed (mph)'].quantile(0.60, interpolation = 'lower')\n",
    "    y['TTI_85MD']= y['85th_Speed'].div(y['MEAN'])\n",
    "    y['PTI_85MD'] = y['85th_Speed'].div(y['5th_Speed'])\n",
    "    y['BTI_MD'] = (y['MEAN'].div(y['5th_Speed']))-1\n",
    "    return y"
   ]
  },
  {
   "cell_type": "code",
   "execution_count": 101,
   "metadata": {
    "collapsed": true
   },
   "outputs": [],
   "source": [
    "#Calculates all statistics for bluetooth data when it is active\n",
    "def BTstatsPM(x):\n",
    "    y = pd.DataFrame(columns = [])\n",
    "    y.loc[0,'MEAN'] = x['Speed (mph)'].mean()\n",
    "    y.loc[0,'STDDEV'] = x['Speed (mph)'].std(ddof = 1)\n",
    "    y.loc[0,'TotalIntervals'] = x['Speed (mph)'].count()\n",
    "    numberdays = x['Date'].unique()\n",
    "    y.loc[0,'PctInterval'] = (y.loc[0,'TotalIntervals'])/(36*len(numberdays))*100\n",
    "    y.loc[0,'85th_Speed'] = x['Speed (mph)'].quantile(0.85, interpolation = 'lower')\n",
    "    y.loc[0,'5th_Speed'] = x['Speed (mph)'].quantile(0.05, interpolation = 'lower')\n",
    "    y.loc[0,'60th_Speed'] = x['Speed (mph)'].quantile(0.60, interpolation = 'lower')\n",
    "    y['TTI_85PM']= y['85th_Speed'].div(y['MEAN'])\n",
    "    y['PTI_85PM'] = y['85th_Speed'].div(y['5th_Speed'])\n",
    "    y['BTI_PM'] = (y['MEAN'].div(y['5th_Speed']))-1\n",
    "    return y"
   ]
  },
  {
   "cell_type": "code",
   "execution_count": 102,
   "metadata": {
    "collapsed": true
   },
   "outputs": [],
   "source": [
    "#Uses BTstats to calculate for all days at all times\n",
    "def calculatorAll(x):\n",
    "    y = timeframeBT(x,0,288,True,Both)\n",
    "    z = BTstats(y)\n",
    "    y = pd.DataFrame()\n",
    "    return z.head()"
   ]
  },
  {
   "cell_type": "code",
   "execution_count": 103,
   "metadata": {
    "collapsed": true
   },
   "outputs": [],
   "source": [
    "#Uses BTstats to calculate for Weekdays at all times\n",
    "def calculatorWkdAll(x):\n",
    "    y = timeframeBT(x,0,288,True,Weekday)\n",
    "    z = BTstats(y)\n",
    "    y = pd.DataFrame()\n",
    "    return z.head()"
   ]
  },
  {
   "cell_type": "code",
   "execution_count": 104,
   "metadata": {
    "collapsed": true
   },
   "outputs": [],
   "source": [
    "#Uses BTstats to calculate for Weekends at all times\n",
    "def calculatorWendAll(x):\n",
    "    y = timeframeBT(x,0,288,True,Weekend)\n",
    "    z = BTstats(y)\n",
    "    y = pd.DataFrame()\n",
    "    return z.head()"
   ]
  },
  {
   "cell_type": "code",
   "execution_count": 105,
   "metadata": {
    "collapsed": true
   },
   "outputs": [],
   "source": [
    "#Uses BTstats to calculate for Weekdays between 6AM and 9AM\n",
    "def calculatorWkdAM(x):\n",
    "    y = timeframeBT(x,72,108,True,Weekday)\n",
    "    z = BTstatsAM(y)\n",
    "    y = pd.DataFrame()\n",
    "    return z.head()"
   ]
  },
  {
   "cell_type": "code",
   "execution_count": 106,
   "metadata": {
    "collapsed": true
   },
   "outputs": [],
   "source": [
    "#Uses BTstats to calculate for Weekdays between 9AM and 3AM\n",
    "def calculatorWkdMD(x):\n",
    "    y = timeframeBT(x,108,180,True,Weekday)\n",
    "    z = BTstatsMD(y)\n",
    "    y = pd.DataFrame()\n",
    "    return z.head()"
   ]
  },
  {
   "cell_type": "code",
   "execution_count": 107,
   "metadata": {
    "collapsed": true
   },
   "outputs": [],
   "source": [
    "#Uses BTstats to calculate for Weekdays between 3PM and 6PM\n",
    "def calculatorWkdPM(x):\n",
    "    y = timeframeBT(x,180,216,True,Weekday)\n",
    "    z = BTstatsPM(y)\n",
    "    y = pd.DataFrame()\n",
    "    return z.head()"
   ]
  },
  {
   "cell_type": "code",
   "execution_count": 108,
   "metadata": {
    "collapsed": true
   },
   "outputs": [],
   "source": [
    "#Takes stats for different time periods and combines them into one final dataset\n",
    "def combinestats(x):\n",
    "    x_All = calculatorAll(x)\n",
    "    x_All['Timeframe'] = 'All'\n",
    "    x_WkdAll = calculatorWkdAll(x)\n",
    "    x_WkdAll['Timeframe'] = 'Wkd'\n",
    "    x_WendAll = calculatorWendAll(x)\n",
    "    x_WendAll['Timeframe'] = 'Wend'\n",
    "    x_WkdAM = calculatorWkdAM(x)\n",
    "    x_WkdAM['Timeframe'] = 'WkdAM'\n",
    "    x_WkdMD = calculatorWkdMD(x)\n",
    "    x_WkdMD['Timeframe'] = 'WkdMD'\n",
    "    x_WkdPM = calculatorWkdPM(x)\n",
    "    x_WkdPM['Timeframe'] = 'WkdPM'\n",
    "    x = pd.concat([x_All,x_WkdAll,x_WendAll,x_WkdAM,x_WkdMD,x_WkdPM])\n",
    "    cols = ['MEAN','STDDEV','TotalIntervals','PctInterval','85th_Speed','5th_Speed','60th_Speed',\n",
    "       'TTI_85AM', 'TTI_85MD', 'TTI_85PM','PTI_85AM', 'PTI_85MD', 'PTI_85PM',\n",
    "       'BTI_AM', 'BTI_MD','BTI_PM','Timeframe']\n",
    "    x = x[cols]\n",
    "    return x"
   ]
  },
  {
   "cell_type": "code",
   "execution_count": 109,
   "metadata": {
    "collapsed": false
   },
   "outputs": [],
   "source": [
    "#Runs all calculators for the Outer Loop between Richmond and Todds\n",
    "RichTodd = combinestats(Rich_to_Todds)\n",
    "RichTodd\n",
    "RichTodd.to_csv('Richmond_Todds_BT.csv')"
   ]
  },
  {
   "cell_type": "code",
   "execution_count": 110,
   "metadata": {
    "collapsed": false
   },
   "outputs": [],
   "source": [
    "#Runs all calculators for the Inner Loop between Richmond and Todds\n",
    "ToddRich = combinestats(Todds_to_Rich)\n",
    "ToddRich\n",
    "ToddRich.to_csv('Todds_Richmond_BT.csv')"
   ]
  },
  {
   "cell_type": "code",
   "execution_count": 111,
   "metadata": {
    "collapsed": false
   },
   "outputs": [],
   "source": [
    "#Runs all calculators for the Inner Loop between Sir Barton and Todds\n",
    "SBTodd = combinestats(SB_to_Todds)\n",
    "SBTodd\n",
    "SBTodd.to_csv('SirBarton_Todds_BT.csv')"
   ]
  },
  {
   "cell_type": "code",
   "execution_count": 112,
   "metadata": {
    "collapsed": false
   },
   "outputs": [],
   "source": [
    "#Runs all calculators for the Outer Loop between Sir Barton and Todds\n",
    "ToddSB = combinestats(Todds_to_SB)\n",
    "ToddSB\n",
    "ToddSB.to_csv('Todds_SirBarton_BT.csv')"
   ]
  },
  {
   "cell_type": "code",
   "execution_count": 113,
   "metadata": {
    "collapsed": false
   },
   "outputs": [],
   "source": [
    "#Runs all calculators for the Outer Loop between Alumni and Richmond\n",
    "AlumRich = combinestats(A_to_Rich)\n",
    "AlumRich\n",
    "AlumRich.to_csv('Alumni_Richmond_BT.csv')"
   ]
  },
  {
   "cell_type": "code",
   "execution_count": 114,
   "metadata": {
    "collapsed": false
   },
   "outputs": [],
   "source": [
    "#Runs all calculators for the Inner Loop between Alumni and Richmond\n",
    "RichAlum = combinestats(Rich_to_A)\n",
    "RichAlum\n",
    "RichAlum.to_csv('Richmond_Alumni_BT.csv')"
   ]
  },
  {
   "cell_type": "code",
   "execution_count": null,
   "metadata": {
    "collapsed": true
   },
   "outputs": [],
   "source": []
  },
  {
   "cell_type": "code",
   "execution_count": null,
   "metadata": {
    "collapsed": true
   },
   "outputs": [],
   "source": []
  },
  {
   "cell_type": "code",
   "execution_count": null,
   "metadata": {
    "collapsed": true
   },
   "outputs": [],
   "source": []
  },
  {
   "cell_type": "code",
   "execution_count": null,
   "metadata": {
    "collapsed": true
   },
   "outputs": [],
   "source": []
  },
  {
   "cell_type": "code",
   "execution_count": null,
   "metadata": {
    "collapsed": true
   },
   "outputs": [],
   "source": []
  }
 ],
 "metadata": {
  "anaconda-cloud": {},
  "kernelspec": {
   "display_name": "Python [default]",
   "language": "python",
   "name": "python3"
  },
  "language_info": {
   "codemirror_mode": {
    "name": "ipython",
    "version": 3
   },
   "file_extension": ".py",
   "mimetype": "text/x-python",
   "name": "python",
   "nbconvert_exporter": "python",
   "pygments_lexer": "ipython3",
   "version": "3.5.2"
  }
 },
 "nbformat": 4,
 "nbformat_minor": 1
}
