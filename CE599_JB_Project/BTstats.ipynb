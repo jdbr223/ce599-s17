{
 "cells": [
  {
   "cell_type": "code",
   "execution_count": 1,
   "metadata": {
    "collapsed": false
   },
   "outputs": [
    {
     "name": "stdout",
     "output_type": "stream",
     "text": [
      "height has been deprecated.\n",
      "\n"
     ]
    }
   ],
   "source": [
    "# magic command to display matplotlib plots inline within the ipython notebook webpage\n",
    "%matplotlib inline\n",
    "\n",
    "# import necessary modules\n",
    "import pandas as pd, numpy as np, matplotlib.pyplot as plt\n",
    "import matplotlib.cm as cm, matplotlib.font_manager as fm\n",
    "import datetime\n",
    "import geopandas as gp\n",
    "from scipy import stats, integrate\n",
    "#Adjusts what can be displayed when calling a pandas dataframe|\n",
    "pd.set_option('display.height', 1000)\n",
    "pd.set_option('display.max_rows', 500)\n",
    "pd.set_option('display.max_columns', 500)\n",
    "pd.set_option('display.width', 1000)"
   ]
  },
  {
   "cell_type": "code",
   "execution_count": 8,
   "metadata": {
    "collapsed": false
   },
   "outputs": [
    {
     "data": {
      "text/plain": [
       "['Monday', 'Tuesday', 'Wednesday', 'Thursday', 'Friday']"
      ]
     },
     "execution_count": 8,
     "metadata": {},
     "output_type": "execute_result"
    }
   ],
   "source": [
    "#For now, enter the weekdays desire here in full\n",
    "Weekday = ['Monday','Tuesday','Wednesday','Thursday','Friday']\n",
    "Weekday"
   ]
  },
  {
   "cell_type": "code",
   "execution_count": 9,
   "metadata": {
    "collapsed": false
   },
   "outputs": [
    {
     "data": {
      "text/plain": [
       "['Saturday', 'Sunday']"
      ]
     },
     "execution_count": 9,
     "metadata": {},
     "output_type": "execute_result"
    }
   ],
   "source": [
    "Weekend = ['Saturday','Sunday']\n",
    "Weekend"
   ]
  },
  {
   "cell_type": "code",
   "execution_count": 10,
   "metadata": {
    "collapsed": false
   },
   "outputs": [
    {
     "data": {
      "text/plain": [
       "['Monday', 'Tuesday', 'Wednesday', 'Thursday', 'Friday', 'Saturday', 'Sunday']"
      ]
     },
     "execution_count": 10,
     "metadata": {},
     "output_type": "execute_result"
    }
   ],
   "source": [
    "Both = ['Monday','Tuesday','Wednesday','Thursday','Friday','Saturday','Sunday']\n",
    "Both"
   ]
  },
  {
   "cell_type": "code",
   "execution_count": 11,
   "metadata": {
    "collapsed": false
   },
   "outputs": [
    {
     "data": {
      "text/html": [
       "<div>\n",
       "<table border=\"1\" class=\"dataframe\">\n",
       "  <thead>\n",
       "    <tr style=\"text-align: right;\">\n",
       "      <th></th>\n",
       "      <th>Day of week</th>\n",
       "      <th>Date</th>\n",
       "      <th>Time</th>\n",
       "      <th>Epoch</th>\n",
       "      <th>Number matches</th>\n",
       "      <th>Travel time (s)</th>\n",
       "      <th>Speed (mph)</th>\n",
       "    </tr>\n",
       "  </thead>\n",
       "  <tbody>\n",
       "    <tr>\n",
       "      <th>0</th>\n",
       "      <td>Wednesday</td>\n",
       "      <td>1/1/2014</td>\n",
       "      <td>0:05</td>\n",
       "      <td>1</td>\n",
       "      <td>3</td>\n",
       "      <td>93.7</td>\n",
       "      <td>30.7</td>\n",
       "    </tr>\n",
       "    <tr>\n",
       "      <th>1</th>\n",
       "      <td>Wednesday</td>\n",
       "      <td>1/1/2014</td>\n",
       "      <td>0:25</td>\n",
       "      <td>5</td>\n",
       "      <td>2</td>\n",
       "      <td>77.0</td>\n",
       "      <td>37.4</td>\n",
       "    </tr>\n",
       "    <tr>\n",
       "      <th>2</th>\n",
       "      <td>Wednesday</td>\n",
       "      <td>1/1/2014</td>\n",
       "      <td>0:35</td>\n",
       "      <td>7</td>\n",
       "      <td>1</td>\n",
       "      <td>65.0</td>\n",
       "      <td>44.3</td>\n",
       "    </tr>\n",
       "    <tr>\n",
       "      <th>3</th>\n",
       "      <td>Wednesday</td>\n",
       "      <td>1/1/2014</td>\n",
       "      <td>0:40</td>\n",
       "      <td>8</td>\n",
       "      <td>1</td>\n",
       "      <td>65.0</td>\n",
       "      <td>44.3</td>\n",
       "    </tr>\n",
       "    <tr>\n",
       "      <th>4</th>\n",
       "      <td>Wednesday</td>\n",
       "      <td>1/1/2014</td>\n",
       "      <td>0:45</td>\n",
       "      <td>9</td>\n",
       "      <td>1</td>\n",
       "      <td>121.0</td>\n",
       "      <td>23.8</td>\n",
       "    </tr>\n",
       "  </tbody>\n",
       "</table>\n",
       "</div>"
      ],
      "text/plain": [
       "  Day of week      Date  Time  Epoch  Number matches  Travel time (s)  \\\n",
       "0   Wednesday  1/1/2014  0:05      1               3             93.7   \n",
       "1   Wednesday  1/1/2014  0:25      5               2             77.0   \n",
       "2   Wednesday  1/1/2014  0:35      7               1             65.0   \n",
       "3   Wednesday  1/1/2014  0:40      8               1             65.0   \n",
       "4   Wednesday  1/1/2014  0:45      9               1            121.0   \n",
       "\n",
       "   Speed (mph)  \n",
       "0         30.7  \n",
       "1         37.4  \n",
       "2         44.3  \n",
       "3         44.3  \n",
       "4         23.8  "
      ]
     },
     "execution_count": 11,
     "metadata": {},
     "output_type": "execute_result"
    }
   ],
   "source": [
    "SB_to_Todds = pd.read_csv('data/SirBarton_to_Todds_F.csv')\n",
    "SB_to_Todds.head()\n",
    "#SB_to_Todds['Day of week'].unique()"
   ]
  },
  {
   "cell_type": "code",
   "execution_count": 12,
   "metadata": {
    "collapsed": false
   },
   "outputs": [
    {
     "data": {
      "text/html": [
       "<div>\n",
       "<table border=\"1\" class=\"dataframe\">\n",
       "  <thead>\n",
       "    <tr style=\"text-align: right;\">\n",
       "      <th></th>\n",
       "      <th>Day of week</th>\n",
       "      <th>Date</th>\n",
       "      <th>Time</th>\n",
       "      <th>Epoch</th>\n",
       "      <th>Number matches</th>\n",
       "      <th>Travel time (s)</th>\n",
       "      <th>Speed (mph)</th>\n",
       "    </tr>\n",
       "  </thead>\n",
       "  <tbody>\n",
       "    <tr>\n",
       "      <th>0</th>\n",
       "      <td>Wednesday</td>\n",
       "      <td>1/1/2014</td>\n",
       "      <td>0:15</td>\n",
       "      <td>3</td>\n",
       "      <td>1</td>\n",
       "      <td>93.0</td>\n",
       "      <td>31.0</td>\n",
       "    </tr>\n",
       "    <tr>\n",
       "      <th>1</th>\n",
       "      <td>Wednesday</td>\n",
       "      <td>1/1/2014</td>\n",
       "      <td>0:20</td>\n",
       "      <td>4</td>\n",
       "      <td>1</td>\n",
       "      <td>63.0</td>\n",
       "      <td>45.7</td>\n",
       "    </tr>\n",
       "    <tr>\n",
       "      <th>2</th>\n",
       "      <td>Wednesday</td>\n",
       "      <td>1/1/2014</td>\n",
       "      <td>0:25</td>\n",
       "      <td>5</td>\n",
       "      <td>2</td>\n",
       "      <td>83.0</td>\n",
       "      <td>34.7</td>\n",
       "    </tr>\n",
       "    <tr>\n",
       "      <th>3</th>\n",
       "      <td>Wednesday</td>\n",
       "      <td>1/1/2014</td>\n",
       "      <td>0:30</td>\n",
       "      <td>6</td>\n",
       "      <td>1</td>\n",
       "      <td>103.0</td>\n",
       "      <td>28.0</td>\n",
       "    </tr>\n",
       "    <tr>\n",
       "      <th>4</th>\n",
       "      <td>Wednesday</td>\n",
       "      <td>1/1/2014</td>\n",
       "      <td>0:35</td>\n",
       "      <td>7</td>\n",
       "      <td>1</td>\n",
       "      <td>85.0</td>\n",
       "      <td>33.9</td>\n",
       "    </tr>\n",
       "  </tbody>\n",
       "</table>\n",
       "</div>"
      ],
      "text/plain": [
       "  Day of week      Date  Time  Epoch  Number matches  Travel time (s)  \\\n",
       "0   Wednesday  1/1/2014  0:15      3               1             93.0   \n",
       "1   Wednesday  1/1/2014  0:20      4               1             63.0   \n",
       "2   Wednesday  1/1/2014  0:25      5               2             83.0   \n",
       "3   Wednesday  1/1/2014  0:30      6               1            103.0   \n",
       "4   Wednesday  1/1/2014  0:35      7               1             85.0   \n",
       "\n",
       "   Speed (mph)  \n",
       "0         31.0  \n",
       "1         45.7  \n",
       "2         34.7  \n",
       "3         28.0  \n",
       "4         33.9  "
      ]
     },
     "execution_count": 12,
     "metadata": {},
     "output_type": "execute_result"
    }
   ],
   "source": [
    "Todds_to_SB = pd.read_csv('data/Todds_to_SirBarton_F.csv')\n",
    "Todds_to_SB.head()\n",
    "#Todds_to_SB['Day of week'].unique()"
   ]
  },
  {
   "cell_type": "code",
   "execution_count": 13,
   "metadata": {
    "collapsed": false
   },
   "outputs": [
    {
     "data": {
      "text/html": [
       "<div>\n",
       "<table border=\"1\" class=\"dataframe\">\n",
       "  <thead>\n",
       "    <tr style=\"text-align: right;\">\n",
       "      <th></th>\n",
       "      <th>Day of week</th>\n",
       "      <th>Date</th>\n",
       "      <th>Time</th>\n",
       "      <th>Epoch</th>\n",
       "      <th>Number matches</th>\n",
       "      <th>Travel time (s)</th>\n",
       "      <th>Speed (mph)</th>\n",
       "    </tr>\n",
       "  </thead>\n",
       "  <tbody>\n",
       "    <tr>\n",
       "      <th>0</th>\n",
       "      <td>Wednesday</td>\n",
       "      <td>1/1/2014</td>\n",
       "      <td>0:20</td>\n",
       "      <td>4</td>\n",
       "      <td>4</td>\n",
       "      <td>96.0</td>\n",
       "      <td>37.5</td>\n",
       "    </tr>\n",
       "    <tr>\n",
       "      <th>1</th>\n",
       "      <td>Wednesday</td>\n",
       "      <td>1/1/2014</td>\n",
       "      <td>0:25</td>\n",
       "      <td>5</td>\n",
       "      <td>2</td>\n",
       "      <td>89.0</td>\n",
       "      <td>40.4</td>\n",
       "    </tr>\n",
       "    <tr>\n",
       "      <th>2</th>\n",
       "      <td>Wednesday</td>\n",
       "      <td>1/1/2014</td>\n",
       "      <td>0:30</td>\n",
       "      <td>6</td>\n",
       "      <td>3</td>\n",
       "      <td>100.7</td>\n",
       "      <td>35.8</td>\n",
       "    </tr>\n",
       "    <tr>\n",
       "      <th>3</th>\n",
       "      <td>Wednesday</td>\n",
       "      <td>1/1/2014</td>\n",
       "      <td>0:35</td>\n",
       "      <td>7</td>\n",
       "      <td>1</td>\n",
       "      <td>110.0</td>\n",
       "      <td>32.7</td>\n",
       "    </tr>\n",
       "    <tr>\n",
       "      <th>4</th>\n",
       "      <td>Wednesday</td>\n",
       "      <td>1/1/2014</td>\n",
       "      <td>0:40</td>\n",
       "      <td>8</td>\n",
       "      <td>2</td>\n",
       "      <td>107.0</td>\n",
       "      <td>33.6</td>\n",
       "    </tr>\n",
       "  </tbody>\n",
       "</table>\n",
       "</div>"
      ],
      "text/plain": [
       "  Day of week      Date  Time  Epoch  Number matches  Travel time (s)  \\\n",
       "0   Wednesday  1/1/2014  0:20      4               4             96.0   \n",
       "1   Wednesday  1/1/2014  0:25      5               2             89.0   \n",
       "2   Wednesday  1/1/2014  0:30      6               3            100.7   \n",
       "3   Wednesday  1/1/2014  0:35      7               1            110.0   \n",
       "4   Wednesday  1/1/2014  0:40      8               2            107.0   \n",
       "\n",
       "   Speed (mph)  \n",
       "0         37.5  \n",
       "1         40.4  \n",
       "2         35.8  \n",
       "3         32.7  \n",
       "4         33.6  "
      ]
     },
     "execution_count": 13,
     "metadata": {},
     "output_type": "execute_result"
    }
   ],
   "source": [
    "A_to_Rich = pd.read_csv('data/Alumni_to_Richmond_F.csv')\n",
    "A_to_Rich.head()\n",
    "#A_to_Rich['Day of week'].unique()"
   ]
  },
  {
   "cell_type": "code",
   "execution_count": 14,
   "metadata": {
    "collapsed": false
   },
   "outputs": [
    {
     "data": {
      "text/html": [
       "<div>\n",
       "<table border=\"1\" class=\"dataframe\">\n",
       "  <thead>\n",
       "    <tr style=\"text-align: right;\">\n",
       "      <th></th>\n",
       "      <th>Day of week</th>\n",
       "      <th>Date</th>\n",
       "      <th>Time</th>\n",
       "      <th>Epoch</th>\n",
       "      <th>Number matches</th>\n",
       "      <th>Travel time (s)</th>\n",
       "      <th>Speed (mph)</th>\n",
       "    </tr>\n",
       "  </thead>\n",
       "  <tbody>\n",
       "    <tr>\n",
       "      <th>0</th>\n",
       "      <td>Wednesday</td>\n",
       "      <td>1/1/2014</td>\n",
       "      <td>0:10</td>\n",
       "      <td>2</td>\n",
       "      <td>1</td>\n",
       "      <td>100.0</td>\n",
       "      <td>36.0</td>\n",
       "    </tr>\n",
       "    <tr>\n",
       "      <th>1</th>\n",
       "      <td>Wednesday</td>\n",
       "      <td>1/1/2014</td>\n",
       "      <td>0:35</td>\n",
       "      <td>7</td>\n",
       "      <td>3</td>\n",
       "      <td>99.7</td>\n",
       "      <td>36.1</td>\n",
       "    </tr>\n",
       "    <tr>\n",
       "      <th>2</th>\n",
       "      <td>Wednesday</td>\n",
       "      <td>1/1/2014</td>\n",
       "      <td>0:40</td>\n",
       "      <td>8</td>\n",
       "      <td>3</td>\n",
       "      <td>113.7</td>\n",
       "      <td>31.7</td>\n",
       "    </tr>\n",
       "    <tr>\n",
       "      <th>3</th>\n",
       "      <td>Wednesday</td>\n",
       "      <td>1/1/2014</td>\n",
       "      <td>0:55</td>\n",
       "      <td>11</td>\n",
       "      <td>2</td>\n",
       "      <td>106.0</td>\n",
       "      <td>34.0</td>\n",
       "    </tr>\n",
       "    <tr>\n",
       "      <th>4</th>\n",
       "      <td>Wednesday</td>\n",
       "      <td>1/1/2014</td>\n",
       "      <td>1:05</td>\n",
       "      <td>13</td>\n",
       "      <td>2</td>\n",
       "      <td>120.0</td>\n",
       "      <td>30.0</td>\n",
       "    </tr>\n",
       "  </tbody>\n",
       "</table>\n",
       "</div>"
      ],
      "text/plain": [
       "  Day of week      Date  Time  Epoch  Number matches  Travel time (s)  \\\n",
       "0   Wednesday  1/1/2014  0:10      2               1            100.0   \n",
       "1   Wednesday  1/1/2014  0:35      7               3             99.7   \n",
       "2   Wednesday  1/1/2014  0:40      8               3            113.7   \n",
       "3   Wednesday  1/1/2014  0:55     11               2            106.0   \n",
       "4   Wednesday  1/1/2014  1:05     13               2            120.0   \n",
       "\n",
       "   Speed (mph)  \n",
       "0         36.0  \n",
       "1         36.1  \n",
       "2         31.7  \n",
       "3         34.0  \n",
       "4         30.0  "
      ]
     },
     "execution_count": 14,
     "metadata": {},
     "output_type": "execute_result"
    }
   ],
   "source": [
    "Rich_to_A = pd.read_csv('data/Richmond_to_Alumni_F.csv')\n",
    "Rich_to_A.head()\n",
    "#Rich_to_A['Day of week'].unique()"
   ]
  },
  {
   "cell_type": "code",
   "execution_count": 15,
   "metadata": {
    "collapsed": false
   },
   "outputs": [
    {
     "data": {
      "text/html": [
       "<div>\n",
       "<table border=\"1\" class=\"dataframe\">\n",
       "  <thead>\n",
       "    <tr style=\"text-align: right;\">\n",
       "      <th></th>\n",
       "      <th>Day of week</th>\n",
       "      <th>Date</th>\n",
       "      <th>Time</th>\n",
       "      <th>Epoch</th>\n",
       "      <th>Number matches</th>\n",
       "      <th>Travel time (s)</th>\n",
       "      <th>Speed (mph)</th>\n",
       "    </tr>\n",
       "  </thead>\n",
       "  <tbody>\n",
       "    <tr>\n",
       "      <th>0</th>\n",
       "      <td>Wednesday</td>\n",
       "      <td>1/1/2014</td>\n",
       "      <td>0:05</td>\n",
       "      <td>1</td>\n",
       "      <td>2</td>\n",
       "      <td>120.0</td>\n",
       "      <td>45.0</td>\n",
       "    </tr>\n",
       "    <tr>\n",
       "      <th>1</th>\n",
       "      <td>Wednesday</td>\n",
       "      <td>1/1/2014</td>\n",
       "      <td>0:10</td>\n",
       "      <td>2</td>\n",
       "      <td>1</td>\n",
       "      <td>143.0</td>\n",
       "      <td>37.8</td>\n",
       "    </tr>\n",
       "    <tr>\n",
       "      <th>2</th>\n",
       "      <td>Wednesday</td>\n",
       "      <td>1/1/2014</td>\n",
       "      <td>0:25</td>\n",
       "      <td>5</td>\n",
       "      <td>2</td>\n",
       "      <td>126.0</td>\n",
       "      <td>42.9</td>\n",
       "    </tr>\n",
       "    <tr>\n",
       "      <th>3</th>\n",
       "      <td>Wednesday</td>\n",
       "      <td>1/1/2014</td>\n",
       "      <td>0:35</td>\n",
       "      <td>7</td>\n",
       "      <td>1</td>\n",
       "      <td>231.0</td>\n",
       "      <td>23.4</td>\n",
       "    </tr>\n",
       "    <tr>\n",
       "      <th>4</th>\n",
       "      <td>Wednesday</td>\n",
       "      <td>1/1/2014</td>\n",
       "      <td>0:40</td>\n",
       "      <td>8</td>\n",
       "      <td>4</td>\n",
       "      <td>139.0</td>\n",
       "      <td>38.8</td>\n",
       "    </tr>\n",
       "  </tbody>\n",
       "</table>\n",
       "</div>"
      ],
      "text/plain": [
       "  Day of week      Date  Time  Epoch  Number matches  Travel time (s)  \\\n",
       "0   Wednesday  1/1/2014  0:05      1               2            120.0   \n",
       "1   Wednesday  1/1/2014  0:10      2               1            143.0   \n",
       "2   Wednesday  1/1/2014  0:25      5               2            126.0   \n",
       "3   Wednesday  1/1/2014  0:35      7               1            231.0   \n",
       "4   Wednesday  1/1/2014  0:40      8               4            139.0   \n",
       "\n",
       "   Speed (mph)  \n",
       "0         45.0  \n",
       "1         37.8  \n",
       "2         42.9  \n",
       "3         23.4  \n",
       "4         38.8  "
      ]
     },
     "execution_count": 15,
     "metadata": {},
     "output_type": "execute_result"
    }
   ],
   "source": [
    "Todds_to_Rich = pd.read_csv('data/Todds_to_Richmond_F.csv')\n",
    "Todds_to_Rich.head()\n",
    "#Todds_to_Rich['Day of week'].unique()"
   ]
  },
  {
   "cell_type": "code",
   "execution_count": 16,
   "metadata": {
    "collapsed": false
   },
   "outputs": [
    {
     "data": {
      "text/html": [
       "<div>\n",
       "<table border=\"1\" class=\"dataframe\">\n",
       "  <thead>\n",
       "    <tr style=\"text-align: right;\">\n",
       "      <th></th>\n",
       "      <th>Day of week</th>\n",
       "      <th>Date</th>\n",
       "      <th>Time</th>\n",
       "      <th>Epoch</th>\n",
       "      <th>Number matches</th>\n",
       "      <th>Travel time (s)</th>\n",
       "      <th>Speed (mph)</th>\n",
       "    </tr>\n",
       "  </thead>\n",
       "  <tbody>\n",
       "    <tr>\n",
       "      <th>0</th>\n",
       "      <td>Wednesday</td>\n",
       "      <td>1/1/2014</td>\n",
       "      <td>0:20</td>\n",
       "      <td>4</td>\n",
       "      <td>1</td>\n",
       "      <td>165.0</td>\n",
       "      <td>32.7</td>\n",
       "    </tr>\n",
       "    <tr>\n",
       "      <th>1</th>\n",
       "      <td>Wednesday</td>\n",
       "      <td>1/1/2014</td>\n",
       "      <td>0:25</td>\n",
       "      <td>5</td>\n",
       "      <td>3</td>\n",
       "      <td>147.7</td>\n",
       "      <td>36.6</td>\n",
       "    </tr>\n",
       "    <tr>\n",
       "      <th>2</th>\n",
       "      <td>Wednesday</td>\n",
       "      <td>1/1/2014</td>\n",
       "      <td>0:30</td>\n",
       "      <td>6</td>\n",
       "      <td>2</td>\n",
       "      <td>135.0</td>\n",
       "      <td>40.0</td>\n",
       "    </tr>\n",
       "    <tr>\n",
       "      <th>3</th>\n",
       "      <td>Wednesday</td>\n",
       "      <td>1/1/2014</td>\n",
       "      <td>0:35</td>\n",
       "      <td>7</td>\n",
       "      <td>2</td>\n",
       "      <td>145.0</td>\n",
       "      <td>37.2</td>\n",
       "    </tr>\n",
       "    <tr>\n",
       "      <th>4</th>\n",
       "      <td>Wednesday</td>\n",
       "      <td>1/1/2014</td>\n",
       "      <td>0:50</td>\n",
       "      <td>10</td>\n",
       "      <td>1</td>\n",
       "      <td>165.0</td>\n",
       "      <td>32.7</td>\n",
       "    </tr>\n",
       "  </tbody>\n",
       "</table>\n",
       "</div>"
      ],
      "text/plain": [
       "  Day of week      Date  Time  Epoch  Number matches  Travel time (s)  \\\n",
       "0   Wednesday  1/1/2014  0:20      4               1            165.0   \n",
       "1   Wednesday  1/1/2014  0:25      5               3            147.7   \n",
       "2   Wednesday  1/1/2014  0:30      6               2            135.0   \n",
       "3   Wednesday  1/1/2014  0:35      7               2            145.0   \n",
       "4   Wednesday  1/1/2014  0:50     10               1            165.0   \n",
       "\n",
       "   Speed (mph)  \n",
       "0         32.7  \n",
       "1         36.6  \n",
       "2         40.0  \n",
       "3         37.2  \n",
       "4         32.7  "
      ]
     },
     "execution_count": 16,
     "metadata": {},
     "output_type": "execute_result"
    }
   ],
   "source": [
    "Rich_to_Todds = pd.read_csv('data/Richmond_to_Todds_F.csv')\n",
    "Rich_to_Todds.head()\n",
    "#Rich_to_Todds['Day of week'].unique()"
   ]
  },
  {
   "cell_type": "code",
   "execution_count": 17,
   "metadata": {
    "collapsed": false
   },
   "outputs": [],
   "source": [
    "#Calculates all statistics for bluetooth data\n",
    "def BTstats(x):\n",
    "    y = pd.DataFrame(columns = [])\n",
    "    y.loc[0,'MEAN'] = x['Speed (mph)'].mean()\n",
    "    y.loc[0,'STDDEV'] = x['Speed (mph)'].std(ddof = 1)\n",
    "    y.loc[0,'TotalIntervals'] = x['Speed (mph)'].count()\n",
    "    numberdays = x['Date'].unique()\n",
    "    y.loc[0,'PctInterval'] = (y.loc[0,'TotalIntervals'])/(288*len(numberdays))\n",
    "    y.loc[0,'85th_Speed'] = x['Speed (mph)'].quantile(0.85, interpolation = 'lower')\n",
    "    y.loc[0,'5th_Speed'] = x['Speed (mph)'].quantile(0.05, interpolation = 'lower')\n",
    "    y.loc[0,'60th_Speed'] = x['Speed (mph)'].quantile(0.60, interpolation = 'lower')\n",
    "    y['TTI_85']= y['85th_Speed'].div(y['MEAN'])\n",
    "    y['PTI_85'] = y['85th_Speed'].div(y['5th_Speed'])\n",
    "    y['BTI'] = (y['MEAN'].div(y['5th_Speed']))-1\n",
    "    return y"
   ]
  },
  {
   "cell_type": "code",
   "execution_count": 18,
   "metadata": {
    "collapsed": false
   },
   "outputs": [],
   "source": [
    "#x = input dataframe, y = beginning timeframe (in epoch), z = ending timeframe (in epoch), \n",
    "#h = holiday (True or False), d = weekend or weekday\n",
    "#Note the dataframe has to have an EPOCH_5MIN row to work.\n",
    "#Also, this is ONLY for a single-link dataframe\n",
    "def timeframeBT(x,y,z,h,d):\n",
    "    us_holidays = ['1/1/2014', '5/26/2014', \n",
    "                   '7/4/2014', '9/1/2014', '11/27/2014', \n",
    "                   '11/28/2014', '12/25/2014']\n",
    "    if h == True:\n",
    "        r = x[x['Date'].isin(us_holidays)]\n",
    "        v = x[~x.isin(r)].dropna()\n",
    "        days = v[v['Day of week'].isin(d)]\n",
    "        Timeframe = days[(days['Epoch'] >= y) & (days['Epoch'] <= z)]\n",
    "        return Timeframe\n",
    "    else:\n",
    "        days = x[x['Day of week'].isin(d)]\n",
    "        Timeframe = days[(days['Epoch'] >= y) & (days['Epoch'] <= z)]\n",
    "        return Timeframe"
   ]
  },
  {
   "cell_type": "code",
   "execution_count": 19,
   "metadata": {
    "collapsed": true
   },
   "outputs": [],
   "source": [
    "#Calculates all statistics for bluetooth data\n",
    "def BTstatsAM(x):\n",
    "    y = pd.DataFrame(columns = [])\n",
    "    y.loc[0,'MEAN'] = x['Speed (mph)'].mean()\n",
    "    y.loc[0,'STDDEV'] = x['Speed (mph)'].std(ddof = 1)\n",
    "    y.loc[0,'TotalIntervals'] = x['Speed (mph)'].count()\n",
    "    numberdays = x['Date'].unique()\n",
    "    y.loc[0,'PctInterval'] = (y.loc[0,'TotalIntervals'])/(36*len(numberdays))\n",
    "    y.loc[0,'85th_Speed'] = x['Speed (mph)'].quantile(0.85, interpolation = 'lower')\n",
    "    y.loc[0,'5th_Speed'] = x['Speed (mph)'].quantile(0.05, interpolation = 'lower')\n",
    "    y.loc[0,'60th_Speed'] = x['Speed (mph)'].quantile(0.60, interpolation = 'lower')\n",
    "    y['TTI_85']= y['85th_Speed'].div(y['MEAN'])\n",
    "    y['PTI_85'] = y['85th_Speed'].div(y['5th_Speed'])\n",
    "    y['BTI'] = (y['MEAN'].div(y['5th_Speed']))-1\n",
    "    return y"
   ]
  },
  {
   "cell_type": "code",
   "execution_count": 20,
   "metadata": {
    "collapsed": true
   },
   "outputs": [],
   "source": [
    "#Calculates all statistics for bluetooth data\n",
    "def BTstatsMD(x):\n",
    "    y = pd.DataFrame(columns = [])\n",
    "    y.loc[0,'MEAN'] = x['Speed (mph)'].mean()\n",
    "    y.loc[0,'STDDEV'] = x['Speed (mph)'].std(ddof = 1)\n",
    "    y.loc[0,'TotalIntervals'] = x['Speed (mph)'].count()\n",
    "    numberdays = x['Date'].unique()\n",
    "    y.loc[0,'PctInterval'] = (y.loc[0,'TotalIntervals'])/(72*len(numberdays))\n",
    "    y.loc[0,'85th_Speed'] = x['Speed (mph)'].quantile(0.85, interpolation = 'lower')\n",
    "    y.loc[0,'5th_Speed'] = x['Speed (mph)'].quantile(0.05, interpolation = 'lower')\n",
    "    y.loc[0,'60th_Speed'] = x['Speed (mph)'].quantile(0.60, interpolation = 'lower')\n",
    "    y['TTI_85']= y['85th_Speed'].div(y['MEAN'])\n",
    "    y['PTI_85'] = y['85th_Speed'].div(y['5th_Speed'])\n",
    "    y['BTI'] = (y['MEAN'].div(y['5th_Speed']))-1\n",
    "    return y"
   ]
  },
  {
   "cell_type": "code",
   "execution_count": 21,
   "metadata": {
    "collapsed": true
   },
   "outputs": [],
   "source": [
    "#Calculates all statistics for bluetooth data\n",
    "def BTstatsPM(x):\n",
    "    y = pd.DataFrame(columns = [])\n",
    "    y.loc[0,'MEAN'] = x['Speed (mph)'].mean()\n",
    "    y.loc[0,'STDDEV'] = x['Speed (mph)'].std(ddof = 1)\n",
    "    y.loc[0,'TotalIntervals'] = x['Speed (mph)'].count()\n",
    "    numberdays = x['Date'].unique()\n",
    "    y.loc[0,'PctInterval'] = (y.loc[0,'TotalIntervals'])/(36*len(numberdays))\n",
    "    y.loc[0,'85th_Speed'] = x['Speed (mph)'].quantile(0.85, interpolation = 'lower')\n",
    "    y.loc[0,'5th_Speed'] = x['Speed (mph)'].quantile(0.05, interpolation = 'lower')\n",
    "    y.loc[0,'60th_Speed'] = x['Speed (mph)'].quantile(0.60, interpolation = 'lower')\n",
    "    y['TTI_85']= y['85th_Speed'].div(y['MEAN'])\n",
    "    y['PTI_85'] = y['85th_Speed'].div(y['5th_Speed'])\n",
    "    y['BTI'] = (y['MEAN'].div(y['5th_Speed']))-1\n",
    "    return y"
   ]
  },
  {
   "cell_type": "code",
   "execution_count": 22,
   "metadata": {
    "collapsed": true
   },
   "outputs": [],
   "source": [
    "#Uses BTstats to calculate for all days at all times\n",
    "def calculatorAll(x):\n",
    "    y = timeframeBT(x,0,288,True,Both)\n",
    "    z = BTstats(y)\n",
    "    y = pd.DataFrame()\n",
    "    return z.head()"
   ]
  },
  {
   "cell_type": "code",
   "execution_count": 23,
   "metadata": {
    "collapsed": true
   },
   "outputs": [],
   "source": [
    "#Uses BTstats to calculate for Weekdays at all times\n",
    "def calculatorWkdAll(x):\n",
    "    y = timeframeBT(x,0,288,True,Weekday)\n",
    "    z = BTstats(y)\n",
    "    y = pd.DataFrame()\n",
    "    return z.head()"
   ]
  },
  {
   "cell_type": "code",
   "execution_count": 24,
   "metadata": {
    "collapsed": true
   },
   "outputs": [],
   "source": [
    "#Uses BTstats to calculate for Weekends at all times\n",
    "def calculatorWendAll(x):\n",
    "    y = timeframeBT(x,0,288,True,Weekend)\n",
    "    z = BTstats(y)\n",
    "    y = pd.DataFrame()\n",
    "    return z.head()"
   ]
  },
  {
   "cell_type": "code",
   "execution_count": 25,
   "metadata": {
    "collapsed": true
   },
   "outputs": [],
   "source": [
    "#Uses BTstats to calculate for Weekdays between 6AM and 9AM\n",
    "def calculatorWkdAM(x):\n",
    "    y = timeframeBT(x,72,108,True,Weekday)\n",
    "    z = BTstatsAM(y)\n",
    "    y = pd.DataFrame()\n",
    "    return z.head()"
   ]
  },
  {
   "cell_type": "code",
   "execution_count": 26,
   "metadata": {
    "collapsed": true
   },
   "outputs": [],
   "source": [
    "#Uses BTstats to calculate for Weekdays between 9AM and 3AM\n",
    "def calculatorWkdMD(x):\n",
    "    y = timeframeBT(x,108,180,True,Weekday)\n",
    "    z = BTstatsMD(y)\n",
    "    y = pd.DataFrame()\n",
    "    return z.head()"
   ]
  },
  {
   "cell_type": "code",
   "execution_count": 27,
   "metadata": {
    "collapsed": true
   },
   "outputs": [],
   "source": [
    "#Uses BTstats to calculate for Weekdays between 3PM and 6PM\n",
    "def calculatorWkdPM(x):\n",
    "    y = timeframeBT(x,180,216,True,Weekday)\n",
    "    z = BTstatsPM(y)\n",
    "    y = pd.DataFrame()\n",
    "    return z.head()"
   ]
  },
  {
   "cell_type": "code",
   "execution_count": 28,
   "metadata": {
    "collapsed": false
   },
   "outputs": [],
   "source": [
    "#Runs all calculators for the Outer Loop between Richmond and Todds\n",
    "RichTodd_All = calculatorAll(Rich_to_Todds)\n",
    "RichTodd_WkdAll = calculatorWkdAll(Rich_to_Todds)\n",
    "RichTodd_WendAll = calculatorWendAll(Rich_to_Todds)\n",
    "RichTodd_WkdAM = calculatorWkdAM(Rich_to_Todds)\n",
    "RichTodd_WkdMD = calculatorWkdMD(Rich_to_Todds)\n",
    "RichTodd_WkdPM = calculatorWkdPM(Rich_to_Todds)"
   ]
  },
  {
   "cell_type": "code",
   "execution_count": 29,
   "metadata": {
    "collapsed": false
   },
   "outputs": [],
   "source": [
    "#Runs all calculators for the Inner Loop between Richmond and Todds\n",
    "ToddRich_All = calculatorAll(Todds_to_Rich)\n",
    "ToddRich_WkdAll = calculatorWkdAll(Todds_to_Rich)\n",
    "ToddRich_WendAll = calculatorWendAll(Todds_to_Rich)\n",
    "ToddRich_WkdAM = calculatorWkdAM(Todds_to_Rich)\n",
    "ToddRich_WkdMD = calculatorWkdMD(Todds_to_Rich)\n",
    "ToddRich_WkdPM = calculatorWkdPM(Todds_to_Rich)"
   ]
  },
  {
   "cell_type": "code",
   "execution_count": 30,
   "metadata": {
    "collapsed": true
   },
   "outputs": [],
   "source": [
    "#Runs all calculators for the Inner Loop between Sir Barton and Todds\n",
    "SBTodd_All = calculatorAll(SB_to_Todds)\n",
    "SBTodd_WkdAll = calculatorWkdAll(SB_to_Todds)\n",
    "SBTodd_WendAll = calculatorWendAll(SB_to_Todds)\n",
    "SBTodd_WkdAM = calculatorWkdAM(SB_to_Todds)\n",
    "SBTodd_WkdMD = calculatorWkdMD(SB_to_Todds)\n",
    "SBTodd_WkdPM = calculatorWkdPM(SB_to_Todds)"
   ]
  },
  {
   "cell_type": "code",
   "execution_count": 31,
   "metadata": {
    "collapsed": true
   },
   "outputs": [],
   "source": [
    "#Runs all calculators for the Outer Loop between Sir Barton and Todds\n",
    "ToddSB_All = calculatorAll(Todds_to_SB)\n",
    "ToddSB_WkdAll = calculatorWkdAll(Todds_to_SB)\n",
    "ToddSB_WendAll = calculatorWendAll(Todds_to_SB)\n",
    "ToddSB_WkdAM = calculatorWkdAM(Todds_to_SB)\n",
    "ToddSB_WkdMD = calculatorWkdMD(Todds_to_SB)\n",
    "ToddSB_WkdPM = calculatorWkdPM(Todds_to_SB)"
   ]
  },
  {
   "cell_type": "code",
   "execution_count": 32,
   "metadata": {
    "collapsed": true
   },
   "outputs": [],
   "source": [
    "#Runs all calculators for the Outer Loop between Alumni and Richmond\n",
    "AlumRich_All = calculatorAll(A_to_Rich)\n",
    "AlumRich_WkdAll = calculatorWkdAll(A_to_Rich)\n",
    "AlumRich_WendAll = calculatorWendAll(A_to_Rich)\n",
    "AlumRich_WkdAM = calculatorWkdAM(A_to_Rich)\n",
    "AlumRich_WkdMD = calculatorWkdMD(A_to_Rich)\n",
    "AlumRich_WkdPM = calculatorWkdPM(A_to_Rich)"
   ]
  },
  {
   "cell_type": "code",
   "execution_count": 33,
   "metadata": {
    "collapsed": true
   },
   "outputs": [],
   "source": [
    "#Runs all calculators for the Inner Loop between Alumni and Richmond\n",
    "RichAlum_All = calculatorAll(Rich_to_A)\n",
    "RichAlum_WkdAll = calculatorWkdAll(Rich_to_A)\n",
    "RichAlum_WendAll = calculatorWendAll(Rich_to_A)\n",
    "RichAlum_WkdAM = calculatorWkdAM(Rich_to_A)\n",
    "RichAlum_WkdMD = calculatorWkdMD(Rich_to_A)\n",
    "RichAlum_WkdPM = calculatorWkdPM(Rich_to_A)"
   ]
  },
  {
   "cell_type": "code",
   "execution_count": 34,
   "metadata": {
    "collapsed": false
   },
   "outputs": [
    {
     "data": {
      "text/html": [
       "<div>\n",
       "<table border=\"1\" class=\"dataframe\">\n",
       "  <thead>\n",
       "    <tr style=\"text-align: right;\">\n",
       "      <th></th>\n",
       "      <th>MEAN</th>\n",
       "      <th>STDDEV</th>\n",
       "      <th>TotalIntervals</th>\n",
       "      <th>PctInterval</th>\n",
       "      <th>85th_Speed</th>\n",
       "      <th>5th_Speed</th>\n",
       "      <th>60th_Speed</th>\n",
       "      <th>TTI_85</th>\n",
       "      <th>PTI_85</th>\n",
       "      <th>BTI</th>\n",
       "    </tr>\n",
       "  </thead>\n",
       "  <tbody>\n",
       "    <tr>\n",
       "      <th>0</th>\n",
       "      <td>32.399984</td>\n",
       "      <td>6.712498</td>\n",
       "      <td>70608.0</td>\n",
       "      <td>0.696496</td>\n",
       "      <td>38.8</td>\n",
       "      <td>22.0</td>\n",
       "      <td>33.6</td>\n",
       "      <td>1.197531</td>\n",
       "      <td>1.763636</td>\n",
       "      <td>0.472727</td>\n",
       "    </tr>\n",
       "  </tbody>\n",
       "</table>\n",
       "</div>"
      ],
      "text/plain": [
       "        MEAN    STDDEV  TotalIntervals  PctInterval  85th_Speed  5th_Speed  \\\n",
       "0  32.399984  6.712498         70608.0     0.696496        38.8       22.0   \n",
       "\n",
       "   60th_Speed    TTI_85    PTI_85       BTI  \n",
       "0        33.6  1.197531  1.763636  0.472727  "
      ]
     },
     "execution_count": 34,
     "metadata": {},
     "output_type": "execute_result"
    }
   ],
   "source": [
    "AlumRich_All.head()"
   ]
  },
  {
   "cell_type": "code",
   "execution_count": 35,
   "metadata": {
    "collapsed": false
   },
   "outputs": [
    {
     "data": {
      "text/html": [
       "<div>\n",
       "<table border=\"1\" class=\"dataframe\">\n",
       "  <thead>\n",
       "    <tr style=\"text-align: right;\">\n",
       "      <th></th>\n",
       "      <th>MEAN</th>\n",
       "      <th>STDDEV</th>\n",
       "      <th>TotalIntervals</th>\n",
       "      <th>PctInterval</th>\n",
       "      <th>85th_Speed</th>\n",
       "      <th>5th_Speed</th>\n",
       "      <th>60th_Speed</th>\n",
       "      <th>TTI_85</th>\n",
       "      <th>PTI_85</th>\n",
       "      <th>BTI</th>\n",
       "    </tr>\n",
       "  </thead>\n",
       "  <tbody>\n",
       "    <tr>\n",
       "      <th>0</th>\n",
       "      <td>27.992249</td>\n",
       "      <td>7.598629</td>\n",
       "      <td>7857.0</td>\n",
       "      <td>0.873</td>\n",
       "      <td>36.2</td>\n",
       "      <td>18.9</td>\n",
       "      <td>28.0</td>\n",
       "      <td>1.293215</td>\n",
       "      <td>1.915344</td>\n",
       "      <td>0.481071</td>\n",
       "    </tr>\n",
       "  </tbody>\n",
       "</table>\n",
       "</div>"
      ],
      "text/plain": [
       "        MEAN    STDDEV  TotalIntervals  PctInterval  85th_Speed  5th_Speed  \\\n",
       "0  27.992249  7.598629          7857.0        0.873        36.2       18.9   \n",
       "\n",
       "   60th_Speed    TTI_85    PTI_85       BTI  \n",
       "0        28.0  1.293215  1.915344  0.481071  "
      ]
     },
     "execution_count": 35,
     "metadata": {},
     "output_type": "execute_result"
    }
   ],
   "source": [
    "AlumRich_WkdAM.head()"
   ]
  },
  {
   "cell_type": "code",
   "execution_count": 36,
   "metadata": {
    "collapsed": false
   },
   "outputs": [
    {
     "data": {
      "text/html": [
       "<div>\n",
       "<table border=\"1\" class=\"dataframe\">\n",
       "  <thead>\n",
       "    <tr style=\"text-align: right;\">\n",
       "      <th></th>\n",
       "      <th>MEAN</th>\n",
       "      <th>STDDEV</th>\n",
       "      <th>TotalIntervals</th>\n",
       "      <th>PctInterval</th>\n",
       "      <th>85th_Speed</th>\n",
       "      <th>5th_Speed</th>\n",
       "      <th>60th_Speed</th>\n",
       "      <th>TTI_85</th>\n",
       "      <th>PTI_85</th>\n",
       "      <th>BTI</th>\n",
       "    </tr>\n",
       "  </thead>\n",
       "  <tbody>\n",
       "    <tr>\n",
       "      <th>0</th>\n",
       "      <td>32.372714</td>\n",
       "      <td>5.194407</td>\n",
       "      <td>17258.0</td>\n",
       "      <td>0.954958</td>\n",
       "      <td>37.2</td>\n",
       "      <td>24.2</td>\n",
       "      <td>33.5</td>\n",
       "      <td>1.149116</td>\n",
       "      <td>1.53719</td>\n",
       "      <td>0.337715</td>\n",
       "    </tr>\n",
       "  </tbody>\n",
       "</table>\n",
       "</div>"
      ],
      "text/plain": [
       "        MEAN    STDDEV  TotalIntervals  PctInterval  85th_Speed  5th_Speed  \\\n",
       "0  32.372714  5.194407         17258.0     0.954958        37.2       24.2   \n",
       "\n",
       "   60th_Speed    TTI_85   PTI_85       BTI  \n",
       "0        33.5  1.149116  1.53719  0.337715  "
      ]
     },
     "execution_count": 36,
     "metadata": {},
     "output_type": "execute_result"
    }
   ],
   "source": [
    "AlumRich_WkdMD.head()"
   ]
  },
  {
   "cell_type": "code",
   "execution_count": 37,
   "metadata": {
    "collapsed": false
   },
   "outputs": [
    {
     "data": {
      "text/html": [
       "<div>\n",
       "<table border=\"1\" class=\"dataframe\">\n",
       "  <thead>\n",
       "    <tr style=\"text-align: right;\">\n",
       "      <th></th>\n",
       "      <th>MEAN</th>\n",
       "      <th>STDDEV</th>\n",
       "      <th>TotalIntervals</th>\n",
       "      <th>PctInterval</th>\n",
       "      <th>85th_Speed</th>\n",
       "      <th>5th_Speed</th>\n",
       "      <th>60th_Speed</th>\n",
       "      <th>TTI_85</th>\n",
       "      <th>PTI_85</th>\n",
       "      <th>BTI</th>\n",
       "    </tr>\n",
       "  </thead>\n",
       "  <tbody>\n",
       "    <tr>\n",
       "      <th>0</th>\n",
       "      <td>29.498785</td>\n",
       "      <td>5.587503</td>\n",
       "      <td>8557.0</td>\n",
       "      <td>0.94699</td>\n",
       "      <td>34.6</td>\n",
       "      <td>21.3</td>\n",
       "      <td>30.3</td>\n",
       "      <td>1.17293</td>\n",
       "      <td>1.624413</td>\n",
       "      <td>0.384919</td>\n",
       "    </tr>\n",
       "  </tbody>\n",
       "</table>\n",
       "</div>"
      ],
      "text/plain": [
       "        MEAN    STDDEV  TotalIntervals  PctInterval  85th_Speed  5th_Speed  \\\n",
       "0  29.498785  5.587503          8557.0      0.94699        34.6       21.3   \n",
       "\n",
       "   60th_Speed   TTI_85    PTI_85       BTI  \n",
       "0        30.3  1.17293  1.624413  0.384919  "
      ]
     },
     "execution_count": 37,
     "metadata": {},
     "output_type": "execute_result"
    }
   ],
   "source": [
    "AlumRich_WkdPM.head()"
   ]
  },
  {
   "cell_type": "code",
   "execution_count": null,
   "metadata": {
    "collapsed": true
   },
   "outputs": [],
   "source": []
  }
 ],
 "metadata": {
  "anaconda-cloud": {},
  "kernelspec": {
   "display_name": "Python [default]",
   "language": "python",
   "name": "python3"
  },
  "language_info": {
   "codemirror_mode": {
    "name": "ipython",
    "version": 3
   },
   "file_extension": ".py",
   "mimetype": "text/x-python",
   "name": "python",
   "nbconvert_exporter": "python",
   "pygments_lexer": "ipython3",
   "version": "3.5.2"
  }
 },
 "nbformat": 4,
 "nbformat_minor": 1
}
