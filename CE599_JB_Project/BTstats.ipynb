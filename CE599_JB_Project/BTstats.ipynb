{
 "cells": [
  {
   "cell_type": "code",
   "execution_count": 1,
   "metadata": {
    "collapsed": true
   },
   "outputs": [],
   "source": [
    "# magic command to display matplotlib plots inline within the ipython notebook webpage\n",
    "%matplotlib inline\n",
    "\n",
    "# import necessary modules\n",
    "import pandas as pd, numpy as np, matplotlib.pyplot as plt\n",
    "import matplotlib.cm as cm, matplotlib.font_manager as fm\n",
    "import datetime\n",
    "from scipy import stats, integrate"
   ]
  },
  {
   "cell_type": "code",
   "execution_count": 23,
   "metadata": {
    "collapsed": false
   },
   "outputs": [
    {
     "data": {
      "text/html": [
       "<div>\n",
       "<table border=\"1\" class=\"dataframe\">\n",
       "  <thead>\n",
       "    <tr style=\"text-align: right;\">\n",
       "      <th></th>\n",
       "      <th>Day of week</th>\n",
       "      <th>Date</th>\n",
       "      <th>Time</th>\n",
       "      <th>Number matches</th>\n",
       "      <th>Travel time (s)</th>\n",
       "      <th>Speed (mph)</th>\n",
       "    </tr>\n",
       "  </thead>\n",
       "  <tbody>\n",
       "    <tr>\n",
       "      <th>0</th>\n",
       "      <td>Wednesday</td>\n",
       "      <td>1/1/2014</td>\n",
       "      <td>0:05</td>\n",
       "      <td>3</td>\n",
       "      <td>93.7</td>\n",
       "      <td>30.7</td>\n",
       "    </tr>\n",
       "    <tr>\n",
       "      <th>1</th>\n",
       "      <td>Wednesday</td>\n",
       "      <td>1/1/2014</td>\n",
       "      <td>0:25</td>\n",
       "      <td>2</td>\n",
       "      <td>77.0</td>\n",
       "      <td>37.4</td>\n",
       "    </tr>\n",
       "    <tr>\n",
       "      <th>2</th>\n",
       "      <td>Wednesday</td>\n",
       "      <td>1/1/2014</td>\n",
       "      <td>0:35</td>\n",
       "      <td>1</td>\n",
       "      <td>65.0</td>\n",
       "      <td>44.3</td>\n",
       "    </tr>\n",
       "    <tr>\n",
       "      <th>3</th>\n",
       "      <td>Wednesday</td>\n",
       "      <td>1/1/2014</td>\n",
       "      <td>0:40</td>\n",
       "      <td>1</td>\n",
       "      <td>65.0</td>\n",
       "      <td>44.3</td>\n",
       "    </tr>\n",
       "    <tr>\n",
       "      <th>4</th>\n",
       "      <td>Wednesday</td>\n",
       "      <td>1/1/2014</td>\n",
       "      <td>0:45</td>\n",
       "      <td>1</td>\n",
       "      <td>121.0</td>\n",
       "      <td>23.8</td>\n",
       "    </tr>\n",
       "  </tbody>\n",
       "</table>\n",
       "</div>"
      ],
      "text/plain": [
       "  Day of week      Date  Time  Number matches  Travel time (s)  Speed (mph)\n",
       "0   Wednesday  1/1/2014  0:05               3             93.7         30.7\n",
       "1   Wednesday  1/1/2014  0:25               2             77.0         37.4\n",
       "2   Wednesday  1/1/2014  0:35               1             65.0         44.3\n",
       "3   Wednesday  1/1/2014  0:40               1             65.0         44.3\n",
       "4   Wednesday  1/1/2014  0:45               1            121.0         23.8"
      ]
     },
     "execution_count": 23,
     "metadata": {},
     "output_type": "execute_result"
    }
   ],
   "source": [
    "SB_to_Todds = pd.read_csv('data/SirBarton_to_Todds_F.csv')\n",
    "SB_to_Todds.head()"
   ]
  },
  {
   "cell_type": "code",
   "execution_count": 24,
   "metadata": {
    "collapsed": false
   },
   "outputs": [
    {
     "data": {
      "text/html": [
       "<div>\n",
       "<table border=\"1\" class=\"dataframe\">\n",
       "  <thead>\n",
       "    <tr style=\"text-align: right;\">\n",
       "      <th></th>\n",
       "      <th>Day of week</th>\n",
       "      <th>Date</th>\n",
       "      <th>Time</th>\n",
       "      <th>Number matches</th>\n",
       "      <th>Travel time (s)</th>\n",
       "      <th>Speed (mph)</th>\n",
       "    </tr>\n",
       "  </thead>\n",
       "  <tbody>\n",
       "    <tr>\n",
       "      <th>0</th>\n",
       "      <td>Wednesday</td>\n",
       "      <td>1/1/2014</td>\n",
       "      <td>0:15</td>\n",
       "      <td>1</td>\n",
       "      <td>93.0</td>\n",
       "      <td>31.0</td>\n",
       "    </tr>\n",
       "    <tr>\n",
       "      <th>1</th>\n",
       "      <td>Wednesday</td>\n",
       "      <td>1/1/2014</td>\n",
       "      <td>0:20</td>\n",
       "      <td>1</td>\n",
       "      <td>63.0</td>\n",
       "      <td>45.7</td>\n",
       "    </tr>\n",
       "    <tr>\n",
       "      <th>2</th>\n",
       "      <td>Wednesday</td>\n",
       "      <td>1/1/2014</td>\n",
       "      <td>0:25</td>\n",
       "      <td>2</td>\n",
       "      <td>83.0</td>\n",
       "      <td>34.7</td>\n",
       "    </tr>\n",
       "    <tr>\n",
       "      <th>3</th>\n",
       "      <td>Wednesday</td>\n",
       "      <td>1/1/2014</td>\n",
       "      <td>0:30</td>\n",
       "      <td>1</td>\n",
       "      <td>103.0</td>\n",
       "      <td>28.0</td>\n",
       "    </tr>\n",
       "    <tr>\n",
       "      <th>4</th>\n",
       "      <td>Wednesday</td>\n",
       "      <td>1/1/2014</td>\n",
       "      <td>0:35</td>\n",
       "      <td>1</td>\n",
       "      <td>85.0</td>\n",
       "      <td>33.9</td>\n",
       "    </tr>\n",
       "  </tbody>\n",
       "</table>\n",
       "</div>"
      ],
      "text/plain": [
       "  Day of week      Date  Time  Number matches  Travel time (s)  Speed (mph)\n",
       "0   Wednesday  1/1/2014  0:15               1             93.0         31.0\n",
       "1   Wednesday  1/1/2014  0:20               1             63.0         45.7\n",
       "2   Wednesday  1/1/2014  0:25               2             83.0         34.7\n",
       "3   Wednesday  1/1/2014  0:30               1            103.0         28.0\n",
       "4   Wednesday  1/1/2014  0:35               1             85.0         33.9"
      ]
     },
     "execution_count": 24,
     "metadata": {},
     "output_type": "execute_result"
    }
   ],
   "source": [
    "Todds_to_SB = pd.read_csv('data/Todds_to_SirBarton_F.csv')\n",
    "Todds_to_SB.head()"
   ]
  },
  {
   "cell_type": "code",
   "execution_count": 25,
   "metadata": {
    "collapsed": false
   },
   "outputs": [
    {
     "data": {
      "text/html": [
       "<div>\n",
       "<table border=\"1\" class=\"dataframe\">\n",
       "  <thead>\n",
       "    <tr style=\"text-align: right;\">\n",
       "      <th></th>\n",
       "      <th>Day of week</th>\n",
       "      <th>Date</th>\n",
       "      <th>Time</th>\n",
       "      <th>Number matches</th>\n",
       "      <th>Travel time (s)</th>\n",
       "      <th>Speed (mph)</th>\n",
       "    </tr>\n",
       "  </thead>\n",
       "  <tbody>\n",
       "    <tr>\n",
       "      <th>0</th>\n",
       "      <td>Wednesday</td>\n",
       "      <td>1/1/2014</td>\n",
       "      <td>0:20</td>\n",
       "      <td>4</td>\n",
       "      <td>96.0</td>\n",
       "      <td>37.5</td>\n",
       "    </tr>\n",
       "    <tr>\n",
       "      <th>1</th>\n",
       "      <td>Wednesday</td>\n",
       "      <td>1/1/2014</td>\n",
       "      <td>0:25</td>\n",
       "      <td>2</td>\n",
       "      <td>89.0</td>\n",
       "      <td>40.4</td>\n",
       "    </tr>\n",
       "    <tr>\n",
       "      <th>2</th>\n",
       "      <td>Wednesday</td>\n",
       "      <td>1/1/2014</td>\n",
       "      <td>0:30</td>\n",
       "      <td>3</td>\n",
       "      <td>100.7</td>\n",
       "      <td>35.8</td>\n",
       "    </tr>\n",
       "    <tr>\n",
       "      <th>3</th>\n",
       "      <td>Wednesday</td>\n",
       "      <td>1/1/2014</td>\n",
       "      <td>0:35</td>\n",
       "      <td>1</td>\n",
       "      <td>110.0</td>\n",
       "      <td>32.7</td>\n",
       "    </tr>\n",
       "    <tr>\n",
       "      <th>4</th>\n",
       "      <td>Wednesday</td>\n",
       "      <td>1/1/2014</td>\n",
       "      <td>0:40</td>\n",
       "      <td>2</td>\n",
       "      <td>107.0</td>\n",
       "      <td>33.6</td>\n",
       "    </tr>\n",
       "  </tbody>\n",
       "</table>\n",
       "</div>"
      ],
      "text/plain": [
       "  Day of week      Date  Time  Number matches  Travel time (s)  Speed (mph)\n",
       "0   Wednesday  1/1/2014  0:20               4             96.0         37.5\n",
       "1   Wednesday  1/1/2014  0:25               2             89.0         40.4\n",
       "2   Wednesday  1/1/2014  0:30               3            100.7         35.8\n",
       "3   Wednesday  1/1/2014  0:35               1            110.0         32.7\n",
       "4   Wednesday  1/1/2014  0:40               2            107.0         33.6"
      ]
     },
     "execution_count": 25,
     "metadata": {},
     "output_type": "execute_result"
    }
   ],
   "source": [
    "A_to_Rich = pd.read_csv('data/Alumni_to_Richmond_F.csv')\n",
    "A_to_Rich.head()"
   ]
  },
  {
   "cell_type": "code",
   "execution_count": 26,
   "metadata": {
    "collapsed": false
   },
   "outputs": [
    {
     "data": {
      "text/html": [
       "<div>\n",
       "<table border=\"1\" class=\"dataframe\">\n",
       "  <thead>\n",
       "    <tr style=\"text-align: right;\">\n",
       "      <th></th>\n",
       "      <th>Day of week</th>\n",
       "      <th>Date</th>\n",
       "      <th>Time</th>\n",
       "      <th>Number matches</th>\n",
       "      <th>Travel time (s)</th>\n",
       "      <th>Speed (mph)</th>\n",
       "    </tr>\n",
       "  </thead>\n",
       "  <tbody>\n",
       "    <tr>\n",
       "      <th>0</th>\n",
       "      <td>Wednesday</td>\n",
       "      <td>1/1/2014</td>\n",
       "      <td>0:10</td>\n",
       "      <td>1</td>\n",
       "      <td>100.0</td>\n",
       "      <td>36.0</td>\n",
       "    </tr>\n",
       "    <tr>\n",
       "      <th>1</th>\n",
       "      <td>Wednesday</td>\n",
       "      <td>1/1/2014</td>\n",
       "      <td>0:35</td>\n",
       "      <td>3</td>\n",
       "      <td>99.7</td>\n",
       "      <td>36.1</td>\n",
       "    </tr>\n",
       "    <tr>\n",
       "      <th>2</th>\n",
       "      <td>Wednesday</td>\n",
       "      <td>1/1/2014</td>\n",
       "      <td>0:40</td>\n",
       "      <td>3</td>\n",
       "      <td>113.7</td>\n",
       "      <td>31.7</td>\n",
       "    </tr>\n",
       "    <tr>\n",
       "      <th>3</th>\n",
       "      <td>Wednesday</td>\n",
       "      <td>1/1/2014</td>\n",
       "      <td>0:55</td>\n",
       "      <td>2</td>\n",
       "      <td>106.0</td>\n",
       "      <td>34.0</td>\n",
       "    </tr>\n",
       "    <tr>\n",
       "      <th>4</th>\n",
       "      <td>Wednesday</td>\n",
       "      <td>1/1/2014</td>\n",
       "      <td>1:05</td>\n",
       "      <td>2</td>\n",
       "      <td>120.0</td>\n",
       "      <td>30.0</td>\n",
       "    </tr>\n",
       "  </tbody>\n",
       "</table>\n",
       "</div>"
      ],
      "text/plain": [
       "  Day of week      Date  Time  Number matches  Travel time (s)  Speed (mph)\n",
       "0   Wednesday  1/1/2014  0:10               1            100.0         36.0\n",
       "1   Wednesday  1/1/2014  0:35               3             99.7         36.1\n",
       "2   Wednesday  1/1/2014  0:40               3            113.7         31.7\n",
       "3   Wednesday  1/1/2014  0:55               2            106.0         34.0\n",
       "4   Wednesday  1/1/2014  1:05               2            120.0         30.0"
      ]
     },
     "execution_count": 26,
     "metadata": {},
     "output_type": "execute_result"
    }
   ],
   "source": [
    "Rich_to_A = pd.read_csv('data/Richmond_to_Alumni_F.csv')\n",
    "Rich_to_A.head()"
   ]
  },
  {
   "cell_type": "code",
   "execution_count": 27,
   "metadata": {
    "collapsed": false
   },
   "outputs": [
    {
     "data": {
      "text/html": [
       "<div>\n",
       "<table border=\"1\" class=\"dataframe\">\n",
       "  <thead>\n",
       "    <tr style=\"text-align: right;\">\n",
       "      <th></th>\n",
       "      <th>Day of week</th>\n",
       "      <th>Date</th>\n",
       "      <th>Time</th>\n",
       "      <th>Number matches</th>\n",
       "      <th>Travel time (s)</th>\n",
       "      <th>Speed (mph)</th>\n",
       "    </tr>\n",
       "  </thead>\n",
       "  <tbody>\n",
       "    <tr>\n",
       "      <th>0</th>\n",
       "      <td>Wednesday</td>\n",
       "      <td>1/1/2014</td>\n",
       "      <td>0:05</td>\n",
       "      <td>2</td>\n",
       "      <td>120.0</td>\n",
       "      <td>45.0</td>\n",
       "    </tr>\n",
       "    <tr>\n",
       "      <th>1</th>\n",
       "      <td>Wednesday</td>\n",
       "      <td>1/1/2014</td>\n",
       "      <td>0:10</td>\n",
       "      <td>1</td>\n",
       "      <td>143.0</td>\n",
       "      <td>37.8</td>\n",
       "    </tr>\n",
       "    <tr>\n",
       "      <th>2</th>\n",
       "      <td>Wednesday</td>\n",
       "      <td>1/1/2014</td>\n",
       "      <td>0:25</td>\n",
       "      <td>2</td>\n",
       "      <td>126.0</td>\n",
       "      <td>42.9</td>\n",
       "    </tr>\n",
       "    <tr>\n",
       "      <th>3</th>\n",
       "      <td>Wednesday</td>\n",
       "      <td>1/1/2014</td>\n",
       "      <td>0:35</td>\n",
       "      <td>1</td>\n",
       "      <td>231.0</td>\n",
       "      <td>23.4</td>\n",
       "    </tr>\n",
       "    <tr>\n",
       "      <th>4</th>\n",
       "      <td>Wednesday</td>\n",
       "      <td>1/1/2014</td>\n",
       "      <td>0:40</td>\n",
       "      <td>4</td>\n",
       "      <td>139.0</td>\n",
       "      <td>38.8</td>\n",
       "    </tr>\n",
       "  </tbody>\n",
       "</table>\n",
       "</div>"
      ],
      "text/plain": [
       "  Day of week      Date  Time  Number matches  Travel time (s)  Speed (mph)\n",
       "0   Wednesday  1/1/2014  0:05               2            120.0         45.0\n",
       "1   Wednesday  1/1/2014  0:10               1            143.0         37.8\n",
       "2   Wednesday  1/1/2014  0:25               2            126.0         42.9\n",
       "3   Wednesday  1/1/2014  0:35               1            231.0         23.4\n",
       "4   Wednesday  1/1/2014  0:40               4            139.0         38.8"
      ]
     },
     "execution_count": 27,
     "metadata": {},
     "output_type": "execute_result"
    }
   ],
   "source": [
    "Todds_to_Rich = pd.read_csv('data/Todds_to_Richmond_F.csv')\n",
    "Todds_to_Rich.head()"
   ]
  },
  {
   "cell_type": "code",
   "execution_count": 28,
   "metadata": {
    "collapsed": false
   },
   "outputs": [
    {
     "data": {
      "text/html": [
       "<div>\n",
       "<table border=\"1\" class=\"dataframe\">\n",
       "  <thead>\n",
       "    <tr style=\"text-align: right;\">\n",
       "      <th></th>\n",
       "      <th>Day of week</th>\n",
       "      <th>Date</th>\n",
       "      <th>Time</th>\n",
       "      <th>Number matches</th>\n",
       "      <th>Travel time (s)</th>\n",
       "      <th>Speed (mph)</th>\n",
       "    </tr>\n",
       "  </thead>\n",
       "  <tbody>\n",
       "    <tr>\n",
       "      <th>0</th>\n",
       "      <td>Wednesday</td>\n",
       "      <td>1/1/2014</td>\n",
       "      <td>0:20</td>\n",
       "      <td>1</td>\n",
       "      <td>165.0</td>\n",
       "      <td>32.7</td>\n",
       "    </tr>\n",
       "    <tr>\n",
       "      <th>1</th>\n",
       "      <td>Wednesday</td>\n",
       "      <td>1/1/2014</td>\n",
       "      <td>0:25</td>\n",
       "      <td>3</td>\n",
       "      <td>147.7</td>\n",
       "      <td>36.6</td>\n",
       "    </tr>\n",
       "    <tr>\n",
       "      <th>2</th>\n",
       "      <td>Wednesday</td>\n",
       "      <td>1/1/2014</td>\n",
       "      <td>0:30</td>\n",
       "      <td>2</td>\n",
       "      <td>135.0</td>\n",
       "      <td>40.0</td>\n",
       "    </tr>\n",
       "    <tr>\n",
       "      <th>3</th>\n",
       "      <td>Wednesday</td>\n",
       "      <td>1/1/2014</td>\n",
       "      <td>0:35</td>\n",
       "      <td>2</td>\n",
       "      <td>145.0</td>\n",
       "      <td>37.2</td>\n",
       "    </tr>\n",
       "    <tr>\n",
       "      <th>4</th>\n",
       "      <td>Wednesday</td>\n",
       "      <td>1/1/2014</td>\n",
       "      <td>0:50</td>\n",
       "      <td>1</td>\n",
       "      <td>165.0</td>\n",
       "      <td>32.7</td>\n",
       "    </tr>\n",
       "  </tbody>\n",
       "</table>\n",
       "</div>"
      ],
      "text/plain": [
       "  Day of week      Date  Time  Number matches  Travel time (s)  Speed (mph)\n",
       "0   Wednesday  1/1/2014  0:20               1            165.0         32.7\n",
       "1   Wednesday  1/1/2014  0:25               3            147.7         36.6\n",
       "2   Wednesday  1/1/2014  0:30               2            135.0         40.0\n",
       "3   Wednesday  1/1/2014  0:35               2            145.0         37.2\n",
       "4   Wednesday  1/1/2014  0:50               1            165.0         32.7"
      ]
     },
     "execution_count": 28,
     "metadata": {},
     "output_type": "execute_result"
    }
   ],
   "source": [
    "Rich_to_Todds = pd.read_csv('data/Richmond_to_Todds_F.csv')\n",
    "Rich_to_Todds.head()"
   ]
  },
  {
   "cell_type": "code",
   "execution_count": 95,
   "metadata": {
    "collapsed": false
   },
   "outputs": [],
   "source": [
    "def BTstats(x):\n",
    "    y = pd.DataFrame(columns = [])\n",
    "    y.loc[0,'MEAN'] = x['Speed (mph)'].mean()\n",
    "    y.loc[0,'STDDEV'] = x['Speed (mph)'].std(ddof = 1)\n",
    "    y.loc[0,'TotalIntervals'] = x['Speed (mph)'].count()\n",
    "    numberdays = x['Date'].unique()\n",
    "    y.loc[0,'PctInterval'] = (y.loc[0,'TotalIntervals'])/(288*len(numberdays))\n",
    "    y.loc[0,'85th_Speed'] = x['Speed (mph)'].quantile(0.85, interpolation = 'lower')\n",
    "    y.loc[0,'5th_Speed'] = x['Speed (mph)'].quantile(0.05, interpolation = 'lower')\n",
    "    y.loc[0,'60th_Speed'] = x['Speed (mph)'].quantile(0.60, interpolation = 'lower')\n",
    "    y['TTI_85']= y['85th_Speed'].div(y['MEAN'])\n",
    "    y['PTI_85'] = y['85th_Speed'].div(y['5th_Speed'])\n",
    "    y['BTI'] = (y['MEAN'].div(y['5th_Speed']))-1\n",
    "    return y"
   ]
  },
  {
   "cell_type": "code",
   "execution_count": 96,
   "metadata": {
    "collapsed": false
   },
   "outputs": [
    {
     "data": {
      "text/html": [
       "<div>\n",
       "<table border=\"1\" class=\"dataframe\">\n",
       "  <thead>\n",
       "    <tr style=\"text-align: right;\">\n",
       "      <th></th>\n",
       "      <th>MEAN</th>\n",
       "      <th>STDDEV</th>\n",
       "      <th>TotalIntervals</th>\n",
       "      <th>PctInterval</th>\n",
       "      <th>85th_Speed</th>\n",
       "      <th>5th_Speed</th>\n",
       "      <th>60th_Speed</th>\n",
       "      <th>TTI_85</th>\n",
       "      <th>PTI_85</th>\n",
       "      <th>BTI</th>\n",
       "    </tr>\n",
       "  </thead>\n",
       "  <tbody>\n",
       "    <tr>\n",
       "      <th>0</th>\n",
       "      <td>34.069179</td>\n",
       "      <td>9.131404</td>\n",
       "      <td>62484.0</td>\n",
       "      <td>0.600993</td>\n",
       "      <td>43.5</td>\n",
       "      <td>18.9</td>\n",
       "      <td>36.7</td>\n",
       "      <td>1.276814</td>\n",
       "      <td>2.301587</td>\n",
       "      <td>0.802602</td>\n",
       "    </tr>\n",
       "  </tbody>\n",
       "</table>\n",
       "</div>"
      ],
      "text/plain": [
       "        MEAN    STDDEV  TotalIntervals  PctInterval  85th_Speed  5th_Speed  \\\n",
       "0  34.069179  9.131404         62484.0     0.600993        43.5       18.9   \n",
       "\n",
       "   60th_Speed    TTI_85    PTI_85       BTI  \n",
       "0        36.7  1.276814  2.301587  0.802602  "
      ]
     },
     "execution_count": 96,
     "metadata": {},
     "output_type": "execute_result"
    }
   ],
   "source": [
    "BTstats(Rich_to_Todds)"
   ]
  },
  {
   "cell_type": "code",
   "execution_count": 50,
   "metadata": {
    "collapsed": false
   },
   "outputs": [
    {
     "name": "stdout",
     "output_type": "stream",
     "text": [
      "37.168083395783604\n"
     ]
    },
    {
     "data": {
      "text/plain": [
       "7.209501503437844"
      ]
     },
     "execution_count": 50,
     "metadata": {},
     "output_type": "execute_result"
    }
   ],
   "source": [
    "print(Rich_to_A['Speed (mph)'].mean())\n",
    "(Rich_to_A['Speed (mph)'].std(ddof = 1))"
   ]
  },
  {
   "cell_type": "code",
   "execution_count": 84,
   "metadata": {
    "collapsed": false
   },
   "outputs": [
    {
     "ename": "AttributeError",
     "evalue": "'numpy.ndarray' object has no attribute 'value_counts'",
     "output_type": "error",
     "traceback": [
      "\u001b[0;31m---------------------------------------------------------------------------\u001b[0m",
      "\u001b[0;31mAttributeError\u001b[0m                            Traceback (most recent call last)",
      "\u001b[0;32m<ipython-input-84-67f516800921>\u001b[0m in \u001b[0;36m<module>\u001b[0;34m()\u001b[0m\n\u001b[1;32m      1\u001b[0m \u001b[0mnumberdays\u001b[0m \u001b[1;33m=\u001b[0m \u001b[0mRich_to_A\u001b[0m\u001b[1;33m[\u001b[0m\u001b[1;34m'Date'\u001b[0m\u001b[1;33m]\u001b[0m\u001b[1;33m.\u001b[0m\u001b[0munique\u001b[0m\u001b[1;33m(\u001b[0m\u001b[1;33m)\u001b[0m\u001b[1;33m\u001b[0m\u001b[0m\n\u001b[0;32m----> 2\u001b[0;31m \u001b[0mnumberdays\u001b[0m\u001b[1;33m.\u001b[0m\u001b[0mvalue_counts\u001b[0m\u001b[1;33m(\u001b[0m\u001b[1;33m)\u001b[0m\u001b[1;33m\u001b[0m\u001b[0m\n\u001b[0m",
      "\u001b[0;31mAttributeError\u001b[0m: 'numpy.ndarray' object has no attribute 'value_counts'"
     ]
    }
   ],
   "source": [
    "numberdays = Rich_to_A['Date'].unique()\n",
    "numberdays.value_counts()"
   ]
  },
  {
   "cell_type": "code",
   "execution_count": null,
   "metadata": {
    "collapsed": true
   },
   "outputs": [],
   "source": []
  }
 ],
 "metadata": {
  "kernelspec": {
   "display_name": "Python [default]",
   "language": "python",
   "name": "python3"
  },
  "language_info": {
   "codemirror_mode": {
    "name": "ipython",
    "version": 3
   },
   "file_extension": ".py",
   "mimetype": "text/x-python",
   "name": "python",
   "nbconvert_exporter": "python",
   "pygments_lexer": "ipython3",
   "version": "3.5.2"
  }
 },
 "nbformat": 4,
 "nbformat_minor": 1
}
