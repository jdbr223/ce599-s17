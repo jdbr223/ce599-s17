{
 "cells": [
  {
   "cell_type": "code",
   "execution_count": 25,
   "metadata": {
    "collapsed": false
   },
   "outputs": [],
   "source": [
    "# magic command to display matplotlib plots inline within the ipython notebook webpage\n",
    "%matplotlib inline\n",
    "\n",
    "# import necessary modules\n",
    "import pandas as pd, numpy as np, matplotlib.pyplot as plt\n",
    "import matplotlib.cm as cm, matplotlib.font_manager as fm\n",
    "import datetime\n",
    "from scipy import stats, integrate"
   ]
  },
  {
   "cell_type": "code",
   "execution_count": 2,
   "metadata": {
    "collapsed": false
   },
   "outputs": [
    {
     "data": {
      "text/html": [
       "<div>\n",
       "<table border=\"1\" class=\"dataframe\">\n",
       "  <thead>\n",
       "    <tr style=\"text-align: right;\">\n",
       "      <th></th>\n",
       "      <th>LINK_DIR</th>\n",
       "      <th>DATE_TIME</th>\n",
       "      <th>EPOCH_5MIN</th>\n",
       "      <th>LENGTH</th>\n",
       "      <th>SPDLIMIT</th>\n",
       "      <th>MEAN</th>\n",
       "      <th>STDDEV</th>\n",
       "      <th>MIN</th>\n",
       "      <th>MAX</th>\n",
       "      <th>CONFIDENCE</th>\n",
       "      <th>PCT_5</th>\n",
       "      <th>PCT_50</th>\n",
       "      <th>PCT_85</th>\n",
       "      <th>DOW</th>\n",
       "    </tr>\n",
       "  </thead>\n",
       "  <tbody>\n",
       "    <tr>\n",
       "      <th>0</th>\n",
       "      <td>998969850F</td>\n",
       "      <td>2014-01-01 13:55</td>\n",
       "      <td>167</td>\n",
       "      <td>186</td>\n",
       "      <td>72</td>\n",
       "      <td>61.0</td>\n",
       "      <td>0.0</td>\n",
       "      <td>61</td>\n",
       "      <td>61</td>\n",
       "      <td>10</td>\n",
       "      <td>61</td>\n",
       "      <td>61</td>\n",
       "      <td>61</td>\n",
       "      <td>Wednesday</td>\n",
       "    </tr>\n",
       "    <tr>\n",
       "      <th>1</th>\n",
       "      <td>998969850F</td>\n",
       "      <td>2014-01-02 11:05</td>\n",
       "      <td>133</td>\n",
       "      <td>186</td>\n",
       "      <td>72</td>\n",
       "      <td>60.0</td>\n",
       "      <td>0.0</td>\n",
       "      <td>60</td>\n",
       "      <td>60</td>\n",
       "      <td>10</td>\n",
       "      <td>60</td>\n",
       "      <td>60</td>\n",
       "      <td>60</td>\n",
       "      <td>Thursday</td>\n",
       "    </tr>\n",
       "    <tr>\n",
       "      <th>2</th>\n",
       "      <td>998969850F</td>\n",
       "      <td>2014-01-02 13:20</td>\n",
       "      <td>160</td>\n",
       "      <td>186</td>\n",
       "      <td>72</td>\n",
       "      <td>61.0</td>\n",
       "      <td>0.0</td>\n",
       "      <td>61</td>\n",
       "      <td>61</td>\n",
       "      <td>10</td>\n",
       "      <td>61</td>\n",
       "      <td>61</td>\n",
       "      <td>61</td>\n",
       "      <td>Thursday</td>\n",
       "    </tr>\n",
       "    <tr>\n",
       "      <th>3</th>\n",
       "      <td>998969850F</td>\n",
       "      <td>2014-01-02 14:30</td>\n",
       "      <td>174</td>\n",
       "      <td>186</td>\n",
       "      <td>72</td>\n",
       "      <td>52.0</td>\n",
       "      <td>0.0</td>\n",
       "      <td>52</td>\n",
       "      <td>52</td>\n",
       "      <td>10</td>\n",
       "      <td>52</td>\n",
       "      <td>52</td>\n",
       "      <td>52</td>\n",
       "      <td>Thursday</td>\n",
       "    </tr>\n",
       "    <tr>\n",
       "      <th>4</th>\n",
       "      <td>998969850F</td>\n",
       "      <td>2014-01-03 09:05</td>\n",
       "      <td>109</td>\n",
       "      <td>186</td>\n",
       "      <td>72</td>\n",
       "      <td>57.0</td>\n",
       "      <td>0.0</td>\n",
       "      <td>57</td>\n",
       "      <td>57</td>\n",
       "      <td>10</td>\n",
       "      <td>57</td>\n",
       "      <td>57</td>\n",
       "      <td>57</td>\n",
       "      <td>Friday</td>\n",
       "    </tr>\n",
       "  </tbody>\n",
       "</table>\n",
       "</div>"
      ],
      "text/plain": [
       "     LINK_DIR         DATE_TIME  EPOCH_5MIN  LENGTH  SPDLIMIT  MEAN  STDDEV  \\\n",
       "0  998969850F  2014-01-01 13:55         167     186        72  61.0     0.0   \n",
       "1  998969850F  2014-01-02 11:05         133     186        72  60.0     0.0   \n",
       "2  998969850F  2014-01-02 13:20         160     186        72  61.0     0.0   \n",
       "3  998969850F  2014-01-02 14:30         174     186        72  52.0     0.0   \n",
       "4  998969850F  2014-01-03 09:05         109     186        72  57.0     0.0   \n",
       "\n",
       "   MIN  MAX  CONFIDENCE  PCT_5  PCT_50  PCT_85        DOW  \n",
       "0   61   61          10     61      61      61  Wednesday  \n",
       "1   60   60          10     60      60      60   Thursday  \n",
       "2   61   61          10     61      61      61   Thursday  \n",
       "3   52   52          10     52      52      52   Thursday  \n",
       "4   57   57          10     57      57      57     Friday  "
      ]
     },
     "execution_count": 2,
     "metadata": {},
     "output_type": "execute_result"
    }
   ],
   "source": [
    "herepath = pd.read_csv('data/MOW_Path_Speed_5Min_2014_DOW_SpeedLimit.csv', encoding='utf-8')\n",
    "herepath.head()"
   ]
  },
  {
   "cell_type": "code",
   "execution_count": 3,
   "metadata": {
    "collapsed": false
   },
   "outputs": [
    {
     "data": {
      "text/plain": [
       "['Monday', 'Tuesday', 'Wednesday', 'Thursday', 'Friday']"
      ]
     },
     "execution_count": 3,
     "metadata": {},
     "output_type": "execute_result"
    }
   ],
   "source": [
    "#For now, enter the weekdays desire here in full\n",
    "Weekday = ['Monday','Tuesday','Wednesday','Thursday','Friday']\n",
    "Weekday"
   ]
  },
  {
   "cell_type": "code",
   "execution_count": 4,
   "metadata": {
    "collapsed": false
   },
   "outputs": [
    {
     "data": {
      "text/plain": [
       "['Saturday', 'Sunday']"
      ]
     },
     "execution_count": 4,
     "metadata": {},
     "output_type": "execute_result"
    }
   ],
   "source": [
    "Weekend = ['Saturday','Sunday']\n",
    "Weekend"
   ]
  },
  {
   "cell_type": "code",
   "execution_count": 5,
   "metadata": {
    "collapsed": false
   },
   "outputs": [
    {
     "data": {
      "text/plain": [
       "['Monday', 'Tuesday', 'Wednesday', 'Thursday', 'Friday', 'Saturday', 'Sunday']"
      ]
     },
     "execution_count": 5,
     "metadata": {},
     "output_type": "execute_result"
    }
   ],
   "source": [
    "Both = ['Monday','Tuesday','Wednesday','Thursday','Friday','Saturday','Sunday']\n",
    "Both"
   ]
  },
  {
   "cell_type": "code",
   "execution_count": 6,
   "metadata": {
    "collapsed": true
   },
   "outputs": [],
   "source": [
    "#w = Link, x = input dataframe, y = beginning timeframe (in epoch), z = ending timeframe (in epoch), \n",
    "#h = holiday (y or n), d = weekend or weekday\n",
    "#Note the dataframe has to have an EPOCH_5MIN row to work.\n",
    "#Also, this is ONLY for a single-link dataframe\n",
    "def timeframe(w,x,y,z,h,d):\n",
    "    us_holidays = ['2014-01-01', '2014-05-26', \n",
    "                   '2014-07-04', '2014-09-01', '2014-11-27', \n",
    "                   '2014-11-28', '2014-12-25']\n",
    "    if h == True:\n",
    "        x['DATE'] = x['DATE_TIME'].str.split(' ').str[0]\n",
    "        r = x[x['DATE'].isin(us_holidays)]\n",
    "        v = x[~x.isin(r)].dropna()\n",
    "        link = v[v['LINK_DIR']== w]\n",
    "        days = link[link['DOW'].isin(d)]\n",
    "        Timeframe = days[(days['EPOCH_5MIN'] >= y) & (days['EPOCH_5MIN'] <= z)]\n",
    "        return Timeframe\n",
    "    else:\n",
    "        x['DATE'] = x['DATE_TIME'].str.split(' ').str[0]\n",
    "        link = x[x['LINK_DIR']== w]\n",
    "        days = link[link['DOW'].isin(d)]\n",
    "        Timeframe = days[(days['EPOCH_5MIN'] >= y) & (days['EPOCH_5MIN'] <= z)]\n",
    "        return Timeframe"
   ]
  },
  {
   "cell_type": "code",
   "execution_count": 7,
   "metadata": {
    "collapsed": true
   },
   "outputs": [],
   "source": [
    "#w = Link, x = input dataframe, y = beginning timeframe (in epoch), z = ending timeframe (in epoch), \n",
    "#h = holiday (y or n), d = weekend or weekday\n",
    "#Note the dataframe has to have an EPOCH_5MIN row to work.\n",
    "#Also, this is ONLY for a single-link dataframe\n",
    "def timeframe2(x,y,z,h,d):\n",
    "    us_holidays = ['2014-01-01', '2014-05-26', \n",
    "                   '2014-07-04', '2014-09-01', '2014-11-27', \n",
    "                   '2014-11-28', '2014-12-25']\n",
    "    if h == True:\n",
    "        x['DATE'] = x['DATE_TIME'].str.split(' ').str[0]\n",
    "        r = x[x['DATE'].isin(us_holidays)]\n",
    "        v = x[~x.isin(r)].dropna()\n",
    "        days = x[x['DOW'].isin(d)]\n",
    "        Timeframe = days[(days['EPOCH_5MIN'] >= y) & (days['EPOCH_5MIN'] <= z)]\n",
    "        return Timeframe\n",
    "    else:\n",
    "        days = x[x['DOW'].isin(d)]\n",
    "        Timeframe = days[(days['EPOCH_5MIN'] >= y) & (days['EPOCH_5MIN'] <= z)]\n",
    "        return Timeframe"
   ]
  },
  {
   "cell_type": "code",
   "execution_count": 8,
   "metadata": {
    "collapsed": true
   },
   "outputs": [],
   "source": [
    "#ddof represents degrees of freedom which, according to the documentation for HERE, is 1\n",
    "#85th percentile speed uses a linear interpolation.  The lowest, highest, or nearest can also be selected\n",
    "def HEREstatsBase(x):\n",
    "    y = pd.DataFrame(columns=[])\n",
    "    y['MEAN'] = ((x['MEAN']).groupby(x['LINK_DIR']).mean())*(0.6213)\n",
    "    y['SPDLIMIT'] = (x['SPDLIMIT'].groupby(x['LINK_DIR']).mean())*(0.6213)\n",
    "    \n",
    "    y = pd.DataFrame(columns=[])\n",
    "    \n",
    "    y['PcntSpeed_85thAll'] = (x['MEAN'].groupby(x['LINK_DIR']).quantile(0.85,interpolation = 'lower'))*(0.6213)\n",
    "    \n",
    "    numberdays = x['DATE'].unique()\n",
    "    epoct = x['LINK_DIR'].value_counts()\n",
    "    y['TotalIntervals_85thAll'] = epoct\n",
    "    y['PcntInterval_85thAll'] = ((epoct/(288*len(numberdays))*100))\n",
    "    \n",
    "    Var1 = (x['MEAN']).groupby(x['LINK_DIR'])\n",
    "    Var2 = (x['STDDEV']).groupby(x['LINK_DIR'])\n",
    "    Var = (Var1.var(ddof=1))+(Var2.sum()/len(x))\n",
    "    y['StdDev_85thAll'] = (np.sqrt(Var))*(0.6213)\n",
    "    \n",
    "   \n",
    "    \n",
    "    y['60spd'] = (x['MEAN'].groupby(x['LINK_DIR']).quantile(0.60,interpolation = 'lower'))*(0.6213)\n",
    "    \n",
    "    y['5spd'] = (x['MEAN'].groupby(x['LINK_DIR']).quantile(0.05,interpolation = 'lower'))*(0.6213)\n",
    "      \n",
    "\n",
    "    \n",
    "    y = np.round(y,3)\n",
    "    return z"
   ]
  },
  {
   "cell_type": "code",
   "execution_count": 106,
   "metadata": {
    "collapsed": false
   },
   "outputs": [],
   "source": [
    "#ddof represents degrees of freedom which, according to the documentation for HERE, is 1\n",
    "#85th percentile speed uses a linear interpolation.  The lowest, highest, or nearest can also be selected\n",
    "def HEREstatsALL(x):\n",
    "    y = pd.DataFrame(columns=[])\n",
    "    \n",
    "    y['MEAN'] = ((x['MEAN']).groupby(x['LINK_DIR']).mean())*(0.6213)\n",
    "    y['SPDLIMIT'] = (x['SPDLIMIT'].groupby(x['LINK_DIR']).mean())*(0.6213)\n",
    "    \n",
    "    y['PcntSpeed_85thAll'] = (x['MEAN'].groupby(x['LINK_DIR']).quantile(0.85,interpolation = 'lower'))*(0.6213)\n",
    "    y['PcntSpeed_5thAll'] = (x['MEAN'].groupby(x['LINK_DIR']).quantile(0.05,interpolation = 'lower'))*(0.6213)\n",
    "    \n",
    "    numberdays = x['DATE'].unique()\n",
    "    epoct = x['LINK_DIR'].value_counts()\n",
    "    y['TotalIntervals_85thAll'] = epoct\n",
    "    y['PcntInterval_85thAll'] = ((epoct/(288*len(numberdays))*100))\n",
    "    \n",
    "    Var1 = (x['MEAN']).groupby(x['LINK_DIR'])\n",
    "    Var2 = (x['STDDEV']).groupby(x['LINK_DIR'])\n",
    "    Var = (Var1.var(ddof=1))+(Var2.sum()/len(x))\n",
    "    y['StdDev_85thAll'] = (np.sqrt(Var))*(0.6213)\n",
    "    \n",
    "    y = np.round(y,3)\n",
    "    return y"
   ]
  },
  {
   "cell_type": "code",
   "execution_count": 107,
   "metadata": {
    "collapsed": true
   },
   "outputs": [],
   "source": [
    "def IndecesALLAM(y):\n",
    "    z = pd.DataFrame(columns = [])\n",
    "    z['TTI_SL_AM'] = y['SPDLIMIT'].div(y['MEAN'])\n",
    "    z['PTI_SL_AM'] = y['SPDLIMIT'].div(y['PcntSpeed_5thAll'])\n",
    "    z['TTI_85thALL_AM'] = y['PcntSpeed_85thAll'].div(y['MEAN'])\n",
    "    z['PTI_85thALL_AM'] = y['PcntSpeed_85thAll'].div(y['PcntSpeed_5thAll'])\n",
    "    z['BTI_AM'] = (y['MEAN'].div(y['PcntSpeed_5thAll']))-1\n",
    "    z = np.round(z,3)\n",
    "    return z"
   ]
  },
  {
   "cell_type": "code",
   "execution_count": 108,
   "metadata": {
    "collapsed": true
   },
   "outputs": [],
   "source": [
    "def IndecesALLMD(y):\n",
    "    z = pd.DataFrame(columns = [])\n",
    "    z['TTI_SL_MD'] = y['SPDLIMIT'].div(y['MEAN'])\n",
    "    z['PTI_SL_MD'] = y['SPDLIMIT'].div(y['PcntSpeed_5thAll'])\n",
    "    z['TTI_85th_MD'] = y['PcntSpeed_85thAll'].div(y['MEAN'])\n",
    "    z['PTI_85th_MD'] = y['PcntSpeed_85thAll'].div(y['PcntSpeed_5thAll'])\n",
    "    z['BTI_MD'] = (y['MEAN'].div(y['PcntSpeed_5thAll']))-1\n",
    "    z = np.round(z,3)\n",
    "    return z"
   ]
  },
  {
   "cell_type": "code",
   "execution_count": 109,
   "metadata": {
    "collapsed": true
   },
   "outputs": [],
   "source": [
    "def IndecesALLPM(y):\n",
    "    z = pd.DataFrame(columns = [])\n",
    "    z['TTI_SL_PM'] = y['SPDLIMIT'].div(y['MEAN'])\n",
    "    z['PTI_SL_PM'] = y['SPDLIMIT'].div(y['PcntSpeed_5thAll'])\n",
    "    z['TTI_85th_PM'] = y['PcntSpeed_85thAll'].div(y['MEAN'])\n",
    "    z['PTI_85th_PM'] = y['PcntSpeed_85thAll'].div(y['PcntSpeed_5thAll'])\n",
    "    z['BTI_PM'] = (y['MEAN'].div(y['PcntSpeed_5thAll']))-1\n",
    "    z = np.round(z,3)\n",
    "    return z"
   ]
  },
  {
   "cell_type": "code",
   "execution_count": 110,
   "metadata": {
    "collapsed": true
   },
   "outputs": [],
   "source": [
    "#ddof represents degrees of freedom which, according to the documentation for HERE, is 1\n",
    "#85th percentile speed uses a linear interpolation.  The lowest, highest, or nearest can also be selected\n",
    "def HEREstatsWd(x):\n",
    "    y = pd.DataFrame(columns=[])\n",
    "    y['MEAN'] = ((x['MEAN']).groupby(x['LINK_DIR']).mean())*(0.6213)\n",
    "    y['SPDLIMIT'] = (x['SPDLIMIT'].groupby(x['LINK_DIR']).mean())*(0.6213)\n",
    "\n",
    "    \n",
    "    y['PcntSpeed_85thWd'] = (x['MEAN'].groupby(x['LINK_DIR']).quantile(0.85,interpolation = 'lower'))*(0.6213)\n",
    "    y['PcntSpeed_5thWd'] = (x['MEAN'].groupby(x['LINK_DIR']).quantile(0.05,interpolation = 'lower'))*(0.6213)\n",
    "    \n",
    "    numberdays = x['DATE'].unique()\n",
    "    epoct = x['LINK_DIR'].value_counts()\n",
    "    y['TotalIntervals_85thWd'] = epoct\n",
    "    y['PcntInterval_85thWd'] = ((epoct/(288*len(numberdays))*100))\n",
    "    \n",
    "    Var1 = (x['MEAN']).groupby(x['LINK_DIR'])\n",
    "    Var2 = (x['STDDEV']).groupby(x['LINK_DIR'])\n",
    "    Var = (Var1.var(ddof=1))+(Var2.sum()/len(x))\n",
    "    y['StdDev_85thWd'] = (np.sqrt(Var))*(0.6213)\n",
    "     \n",
    "    y = np.round(y,3)\n",
    "    return y"
   ]
  },
  {
   "cell_type": "code",
   "execution_count": 111,
   "metadata": {
    "collapsed": true
   },
   "outputs": [],
   "source": [
    "def IndecesWdAM(y):\n",
    "    z = pd.DataFrame(columns = [])\n",
    "    z['TTI_85thWd_AM'] = y['PcntSpeed_85thWd'].div(y['MEAN'])\n",
    "    z['PTI_85thWd_AM'] = y['PcntSpeed_85thWd'].div(y['PcntSpeed_5thWd'])\n",
    "    z = np.round(z,3)\n",
    "    return z"
   ]
  },
  {
   "cell_type": "code",
   "execution_count": 112,
   "metadata": {
    "collapsed": true
   },
   "outputs": [],
   "source": [
    "def IndecesWdMD(y):\n",
    "    z = pd.DataFrame(columns = [])\n",
    "    z['TTI_85thWd_MD'] = y['PcntSpeed_85thWd'].div(y['MEAN'])\n",
    "    z['PTI_85thWd_MD'] = y['PcntSpeed_85thWd'].div(y['PcntSpeed_5thWd'])\n",
    "    z = np.round(z,3)\n",
    "    return z"
   ]
  },
  {
   "cell_type": "code",
   "execution_count": 113,
   "metadata": {
    "collapsed": true
   },
   "outputs": [],
   "source": [
    "def IndecesWdPM(y):\n",
    "    z = pd.DataFrame(columns = [])\n",
    "    z['TTI_85thWd_PM'] = y['PcntSpeed_85thWd'].div(y['MEAN'])\n",
    "    z['PTI_85thWd_PM'] = y['PcntSpeed_85thWd'].div(y['PcntSpeed_5thWd'])\n",
    "    z = np.round(z,3)\n",
    "    return z"
   ]
  },
  {
   "cell_type": "code",
   "execution_count": 114,
   "metadata": {
    "collapsed": true
   },
   "outputs": [],
   "source": [
    "#ddof represents degrees of freedom which, according to the documentation for HERE, is 1\n",
    "#85th percentile speed uses a linear interpolation.  The lowest, highest, or nearest can also be selected\n",
    "def HEREstatsWend(x):\n",
    "    y = pd.DataFrame(columns=[])\n",
    "    y['MEAN'] = ((x['MEAN']).groupby(x['LINK_DIR']).mean())*(0.6213)\n",
    "    y['SPDLIMIT'] = (x['SPDLIMIT'].groupby(x['LINK_DIR']).mean())*(0.6213)\n",
    "    \n",
    "    y['PcntSpeed_85thWend'] = (x['MEAN'].groupby(x['LINK_DIR']).quantile(0.85,interpolation = 'lower'))*(0.6213)\n",
    "    \n",
    "    numberdays = x['DATE'].unique()\n",
    "    epoct = x['LINK_DIR'].value_counts()\n",
    "    y['TotalIntervals_85thWend'] = epoct\n",
    "    y['PcntInterval_85thWend'] = ((epoct/(288*len(numberdays))*100))\n",
    "    \n",
    "    Var1 = (x['MEAN']).groupby(x['LINK_DIR'])\n",
    "    Var2 = (x['STDDEV']).groupby(x['LINK_DIR'])\n",
    "    Var = (Var1.var(ddof=1))+(Var2.sum()/len(x))\n",
    "    y['StdDev_85thWend'] = (np.sqrt(Var))*(0.6213)\n",
    "     \n",
    "    y = np.round(y,3)\n",
    "    return y"
   ]
  },
  {
   "cell_type": "code",
   "execution_count": 115,
   "metadata": {
    "collapsed": true
   },
   "outputs": [],
   "source": [
    "#ddof represents degrees of freedom which, according to the documentation for HERE, is 1\n",
    "#85th percentile speed uses a linear interpolation.  The lowest, highest, or nearest can also be selected\n",
    "def HEREstatsWdtime(x):\n",
    "    y = pd.DataFrame(columns=[])\n",
    "    y['MEAN'] = ((x['MEAN']).groupby(x['LINK_DIR']).mean())*(0.6213)\n",
    "    y['SPDLIMIT'] = (x['SPDLIMIT'].groupby(x['LINK_DIR']).mean())*(0.6213)\n",
    "    \n",
    "    y['PcntSpeed_60thWdtime'] = (x['MEAN'].groupby(x['LINK_DIR']).quantile(0.60,interpolation = 'lower'))*(0.6213)\n",
    "    y['PcntSpeed_85thWdtime'] = (x['MEAN'].groupby(x['LINK_DIR']).quantile(0.85,interpolation = 'lower'))*(0.6213)\n",
    "    y['PcntSpeed_5thWdtime'] = (x['MEAN'].groupby(x['LINK_DIR']).quantile(0.05,interpolation = 'lower'))*(0.6213)\n",
    "    \n",
    "    numberdays = x['DATE'].unique()\n",
    "    epoct = x['LINK_DIR'].value_counts()\n",
    "    y['TotalIntervals_Wdtime'] = epoct\n",
    "    y['PcntInterval_Wdtime'] = ((epoct/(288*len(numberdays))*100))\n",
    "    \n",
    "    Var1 = (x['MEAN']).groupby(x['LINK_DIR'])\n",
    "    Var2 = (x['STDDEV']).groupby(x['LINK_DIR'])\n",
    "    Var = (Var1.var(ddof=1))+(Var2.sum()/len(x))\n",
    "    y['StdDev_Wdtime'] = (np.sqrt(Var))*(0.6213)\n",
    "     \n",
    "    y = np.round(y,3)\n",
    "    return y"
   ]
  },
  {
   "cell_type": "code",
   "execution_count": 124,
   "metadata": {
    "collapsed": true
   },
   "outputs": [],
   "source": [
    "def IndecesWDtimeAM(y):\n",
    "    z = pd.DataFrame(columns = [])\n",
    "    z['TTI_60thWdtime_AM'] = y['PcntSpeed_60thWdtime'].div(y['MEAN'])\n",
    "    z['PTI_60thWdtime_AM'] = y['PcntSpeed_60thWdtime'].div(y['PcntSpeed_5thWdtime'])\n",
    "    z['TTI_85thWdtime_AM'] = y['PcntSpeed_85thWdtime'].div(y['MEAN'])\n",
    "    z['PTI_85thWdtime_AM'] = y['PcntSpeed_85thWdtime'].div(y['PcntSpeed_5thWdtime'])\n",
    "    z = np.round(z,3)\n",
    "    return z"
   ]
  },
  {
   "cell_type": "code",
   "execution_count": 125,
   "metadata": {
    "collapsed": true
   },
   "outputs": [],
   "source": [
    "def IndecesWDtimeMD(y):\n",
    "    z = pd.DataFrame(columns = [])\n",
    "    z['TTI_60thWdtime_MD'] = y['PcntSpeed_60thWdtime'].div(y['MEAN'])\n",
    "    z['PTI_60thWdtime_MD'] = y['PcntSpeed_60thWdtime'].div(y['PcntSpeed_5thWdtime'])\n",
    "    z['TTI_85thWdtime_MD'] = y['PcntSpeed_85thWdtime'].div(y['MEAN'])\n",
    "    z['PTI_85thWdtime_MD'] = y['PcntSpeed_85thWdtime'].div(y['PcntSpeed_5thWdtime'])\n",
    "    z = np.round(z,3)\n",
    "    return z"
   ]
  },
  {
   "cell_type": "code",
   "execution_count": 126,
   "metadata": {
    "collapsed": true
   },
   "outputs": [],
   "source": [
    "def IndecesWDtimePM(y):\n",
    "    z = pd.DataFrame(columns = [])\n",
    "    z['TTI_60thWdtime_PM'] = y['PcntSpeed_60thWdtime'].div(y['MEAN'])\n",
    "    z['PTI_60thWdtime_PM'] = y['PcntSpeed_60thWdtime'].div(y['PcntSpeed_5thWdtime'])\n",
    "    z['TTI_85thWdtime_PM'] = y['PcntSpeed_85thWdtime'].div(y['MEAN'])\n",
    "    z['PTI_85thWdtime_PM'] = y['PcntSpeed_85thWdtime'].div(y['PcntSpeed_5thWdtime'])\n",
    "    z = np.round(z,3)\n",
    "    return z"
   ]
  },
  {
   "cell_type": "code",
   "execution_count": 119,
   "metadata": {
    "collapsed": true
   },
   "outputs": [],
   "source": [
    "#ddof represents degrees of freedom which, according to the documentation for HERE, is 1\n",
    "#85th percentile speed uses a linear interpolation.  The lowest, highest, or nearest can also be selected\n",
    "def HEREstatsWdayAM(x):\n",
    "    y = pd.DataFrame(columns=[])\n",
    "    y['MEAN'] = ((x['MEAN']).groupby(x['LINK_DIR']).mean())*(0.6213)\n",
    "    y['SPDLIMIT'] = (x['SPDLIMIT'].groupby(x['LINK_DIR']).mean())*(0.6213)\n",
    "    \n",
    "    y['PcntSpeed_5thWdayAM'] = (x['MEAN'].groupby(x['LINK_DIR']).quantile(0.05,interpolation = 'lower'))*(0.6213)\n",
    "    y['AvgSpeed_WdayAM'] = y['MEAN']\n",
    "    \n",
    "    numberdays = x['DATE'].unique()\n",
    "    epoct = x['LINK_DIR'].value_counts()\n",
    "    y['TotalIntervals_WdayAM'] = epoct\n",
    "    y['PcntInterval_WdayAM'] = ((epoct/(288*len(numberdays))*100))\n",
    "    \n",
    "    Var1 = (x['MEAN']).groupby(x['LINK_DIR'])\n",
    "    Var2 = (x['STDDEV']).groupby(x['LINK_DIR'])\n",
    "    Var = (Var1.var(ddof=1))+(Var2.sum()/len(x))\n",
    "    y['StdDev_WdayAM'] = (np.sqrt(Var))*(0.6213)\n",
    "     \n",
    "    y = np.round(y,3)\n",
    "    return y"
   ]
  },
  {
   "cell_type": "code",
   "execution_count": 120,
   "metadata": {
    "collapsed": true
   },
   "outputs": [],
   "source": [
    "#ddof represents degrees of freedom which, according to the documentation for HERE, is 1\n",
    "#85th percentile speed uses a linear interpolation.  The lowest, highest, or nearest can also be selected\n",
    "def HEREstatsWdayMD(x):\n",
    "    y = pd.DataFrame(columns=[])\n",
    "    y['MEAN'] = ((x['MEAN']).groupby(x['LINK_DIR']).mean())*(0.6213)\n",
    "    y['SPDLIMIT'] = (x['SPDLIMIT'].groupby(x['LINK_DIR']).mean())*(0.6213)\n",
    "    \n",
    "    y['PcntSpeed_5thWdayMD'] = (x['MEAN'].groupby(x['LINK_DIR']).quantile(0.05,interpolation = 'lower'))*(0.6213)\n",
    "    y['AvgSpeed_WdayMD'] = y['MEAN']\n",
    "    \n",
    "    numberdays = x['DATE'].unique()\n",
    "    epoct = x['LINK_DIR'].value_counts()\n",
    "    y['TotalIntervals_WdayMD'] = epoct\n",
    "    y['PcntInterval_WdayMD'] = ((epoct/(288*len(numberdays))*100))\n",
    "    \n",
    "    Var1 = (x['MEAN']).groupby(x['LINK_DIR'])\n",
    "    Var2 = (x['STDDEV']).groupby(x['LINK_DIR'])\n",
    "    Var = (Var1.var(ddof=1))+(Var2.sum()/len(x))\n",
    "    y['StdDev_WdayMD'] = (np.sqrt(Var))*(0.6213)\n",
    "     \n",
    "    y = np.round(y,3)\n",
    "    return y"
   ]
  },
  {
   "cell_type": "code",
   "execution_count": 121,
   "metadata": {
    "collapsed": true
   },
   "outputs": [],
   "source": [
    "#ddof represents degrees of freedom which, according to the documentation for HERE, is 1\n",
    "#85th percentile speed uses a linear interpolation.  The lowest, highest, or nearest can also be selected\n",
    "def HEREstatsWdayPM(x):\n",
    "    y = pd.DataFrame(columns=[])\n",
    "    y['MEAN'] = ((x['MEAN']).groupby(x['LINK_DIR']).mean())*(0.6213)\n",
    "    y['SPDLIMIT'] = (x['SPDLIMIT'].groupby(x['LINK_DIR']).mean())*(0.6213)\n",
    "    \n",
    "    y['PcntSpeed_5thWdayPM'] = (x['MEAN'].groupby(x['LINK_DIR']).quantile(0.05,interpolation = 'lower'))*(0.6213)\n",
    "    y['AvgSpeed_WdayPM'] = y['MEAN']\n",
    "    \n",
    "    numberdays = x['DATE'].unique()\n",
    "    epoct = x['LINK_DIR'].value_counts()\n",
    "    y['TotalIntervals_WdayPM'] = epoct\n",
    "    y['PcntInterval_WdayPM'] = ((epoct/(288*len(numberdays))*100))\n",
    "    \n",
    "    Var1 = (x['MEAN']).groupby(x['LINK_DIR'])\n",
    "    Var2 = (x['STDDEV']).groupby(x['LINK_DIR'])\n",
    "    Var = (Var1.var(ddof=1))+(Var2.sum()/len(x))\n",
    "    y['StdDev_WdayPM'] = (np.sqrt(Var))*(0.6213)\n",
    "     \n",
    "    y = np.round(y,3)\n",
    "    return y"
   ]
  },
  {
   "cell_type": "code",
   "execution_count": 127,
   "metadata": {
    "collapsed": false
   },
   "outputs": [
    {
     "data": {
      "text/html": [
       "<div>\n",
       "<table border=\"1\" class=\"dataframe\">\n",
       "  <thead>\n",
       "    <tr style=\"text-align: right;\">\n",
       "      <th></th>\n",
       "      <th>PcntSpeed_85thAll</th>\n",
       "      <th>PcntSpeed_5thAll</th>\n",
       "      <th>TotalIntervals_85thAll</th>\n",
       "      <th>PcntInterval_85thAll</th>\n",
       "      <th>StdDev_85thAll</th>\n",
       "    </tr>\n",
       "    <tr>\n",
       "      <th>LINK_DIR</th>\n",
       "      <th></th>\n",
       "      <th></th>\n",
       "      <th></th>\n",
       "      <th></th>\n",
       "      <th></th>\n",
       "    </tr>\n",
       "  </thead>\n",
       "  <tbody>\n",
       "    <tr>\n",
       "      <th>998969850F</th>\n",
       "      <td>42.87</td>\n",
       "      <td>18.639</td>\n",
       "      <td>474</td>\n",
       "      <td>0.692</td>\n",
       "      <td>8.84</td>\n",
       "    </tr>\n",
       "  </tbody>\n",
       "</table>\n",
       "</div>"
      ],
      "text/plain": [
       "            PcntSpeed_85thAll  PcntSpeed_5thAll  TotalIntervals_85thAll  \\\n",
       "LINK_DIR                                                                  \n",
       "998969850F              42.87            18.639                     474   \n",
       "\n",
       "            PcntInterval_85thAll  StdDev_85thAll  \n",
       "LINK_DIR                                          \n",
       "998969850F                 0.692            8.84  "
      ]
     },
     "execution_count": 127,
     "metadata": {},
     "output_type": "execute_result"
    }
   ],
   "source": [
    "#For all days and all time periods\n",
    "All = timeframe('998969850F',herepath,72,108,False,Both)\n",
    "bylink = HEREstatsALL(All)\n",
    "bylink = bylink.drop(['MEAN','SPDLIMIT'], axis = 1)\n",
    "bylink.head()"
   ]
  },
  {
   "cell_type": "code",
   "execution_count": 128,
   "metadata": {
    "collapsed": true
   },
   "outputs": [],
   "source": [
    "#For all days and all time periods\n",
    "#bylink = HEREstatsALL(herepath)\n",
    "\n",
    "#bylink.head()"
   ]
  },
  {
   "cell_type": "code",
   "execution_count": 129,
   "metadata": {
    "collapsed": false
   },
   "outputs": [
    {
     "data": {
      "text/html": [
       "<div>\n",
       "<table border=\"1\" class=\"dataframe\">\n",
       "  <thead>\n",
       "    <tr style=\"text-align: right;\">\n",
       "      <th></th>\n",
       "      <th>PcntSpeed_85thWd</th>\n",
       "      <th>PcntSpeed_5thWd</th>\n",
       "      <th>TotalIntervals_85thWd</th>\n",
       "      <th>PcntInterval_85thWd</th>\n",
       "      <th>StdDev_85thWd</th>\n",
       "    </tr>\n",
       "    <tr>\n",
       "      <th>LINK_DIR</th>\n",
       "      <th></th>\n",
       "      <th></th>\n",
       "      <th></th>\n",
       "      <th></th>\n",
       "      <th></th>\n",
       "    </tr>\n",
       "  </thead>\n",
       "  <tbody>\n",
       "    <tr>\n",
       "      <th>998969850F</th>\n",
       "      <td>42.87</td>\n",
       "      <td>18.018</td>\n",
       "      <td>2799</td>\n",
       "      <td>3.826</td>\n",
       "      <td>9.22</td>\n",
       "    </tr>\n",
       "  </tbody>\n",
       "</table>\n",
       "</div>"
      ],
      "text/plain": [
       "            PcntSpeed_85thWd  PcntSpeed_5thWd  TotalIntervals_85thWd  \\\n",
       "LINK_DIR                                                               \n",
       "998969850F             42.87           18.018                   2799   \n",
       "\n",
       "            PcntInterval_85thWd  StdDev_85thWd  \n",
       "LINK_DIR                                        \n",
       "998969850F                3.826           9.22  "
      ]
     },
     "execution_count": 129,
     "metadata": {},
     "output_type": "execute_result"
    }
   ],
   "source": [
    "#for weekdays\n",
    "Wkd = timeframe('998969850F',herepath,0,288,True,Weekday)\n",
    "SpeedWd = HEREstatsWd(Wkd)\n",
    "SpeedWd = SpeedWd.drop(['MEAN','SPDLIMIT'], axis = 1)\n",
    "SpeedWd.head()"
   ]
  },
  {
   "cell_type": "code",
   "execution_count": 130,
   "metadata": {
    "collapsed": false
   },
   "outputs": [],
   "source": [
    "#for weekdays all links\n",
    "#Wkd = timeframe2(herepath,0,288,True,Weekday)\n",
    "#SpeedWd = HEREstatsWd(Wkd)\n",
    "#SpeedWd.head()"
   ]
  },
  {
   "cell_type": "code",
   "execution_count": 131,
   "metadata": {
    "collapsed": false
   },
   "outputs": [
    {
     "data": {
      "text/html": [
       "<div>\n",
       "<table border=\"1\" class=\"dataframe\">\n",
       "  <thead>\n",
       "    <tr style=\"text-align: right;\">\n",
       "      <th></th>\n",
       "      <th>PcntSpeed_85thWend</th>\n",
       "      <th>TotalIntervals_85thWend</th>\n",
       "      <th>PcntInterval_85thWend</th>\n",
       "      <th>StdDev_85thWend</th>\n",
       "    </tr>\n",
       "    <tr>\n",
       "      <th>LINK_DIR</th>\n",
       "      <th></th>\n",
       "      <th></th>\n",
       "      <th></th>\n",
       "      <th></th>\n",
       "    </tr>\n",
       "  </thead>\n",
       "  <tbody>\n",
       "    <tr>\n",
       "      <th>998969850F</th>\n",
       "      <td>46.598</td>\n",
       "      <td>330</td>\n",
       "      <td>1.157</td>\n",
       "      <td>10.751</td>\n",
       "    </tr>\n",
       "  </tbody>\n",
       "</table>\n",
       "</div>"
      ],
      "text/plain": [
       "            PcntSpeed_85thWend  TotalIntervals_85thWend  \\\n",
       "LINK_DIR                                                  \n",
       "998969850F              46.598                      330   \n",
       "\n",
       "            PcntInterval_85thWend  StdDev_85thWend  \n",
       "LINK_DIR                                            \n",
       "998969850F                  1.157           10.751  "
      ]
     },
     "execution_count": 131,
     "metadata": {},
     "output_type": "execute_result"
    }
   ],
   "source": [
    "#for weekends\n",
    "Wend = timeframe('998969850F',herepath,0,288,True,Weekend)\n",
    "SpeedWend = HEREstatsWend(Wend)\n",
    "SpeedWend = SpeedWend.drop(['MEAN','SPDLIMIT'], axis = 1)\n",
    "SpeedWend.head()"
   ]
  },
  {
   "cell_type": "code",
   "execution_count": 132,
   "metadata": {
    "collapsed": false
   },
   "outputs": [],
   "source": [
    "#for weekends all links\n",
    "#Wend = timeframe2(herepath,0,288,True,Weekend)\n",
    "#SpeedWend = HEREstatsWend(Wend)\n",
    "#SpeedWend.head()"
   ]
  },
  {
   "cell_type": "code",
   "execution_count": 133,
   "metadata": {
    "collapsed": false
   },
   "outputs": [
    {
     "data": {
      "text/html": [
       "<div>\n",
       "<table border=\"1\" class=\"dataframe\">\n",
       "  <thead>\n",
       "    <tr style=\"text-align: right;\">\n",
       "      <th></th>\n",
       "      <th>PcntSpeed_60thWdtime</th>\n",
       "      <th>PcntSpeed_85thWdtime</th>\n",
       "      <th>PcntSpeed_5thWdtime</th>\n",
       "      <th>TotalIntervals_Wdtime</th>\n",
       "      <th>PcntInterval_Wdtime</th>\n",
       "      <th>StdDev_Wdtime</th>\n",
       "    </tr>\n",
       "    <tr>\n",
       "      <th>LINK_DIR</th>\n",
       "      <th></th>\n",
       "      <th></th>\n",
       "      <th></th>\n",
       "      <th></th>\n",
       "      <th></th>\n",
       "      <th></th>\n",
       "    </tr>\n",
       "  </thead>\n",
       "  <tbody>\n",
       "    <tr>\n",
       "      <th>998969850F</th>\n",
       "      <td>36.035</td>\n",
       "      <td>41.627</td>\n",
       "      <td>18.018</td>\n",
       "      <td>2587</td>\n",
       "      <td>3.536</td>\n",
       "      <td>8.938</td>\n",
       "    </tr>\n",
       "  </tbody>\n",
       "</table>\n",
       "</div>"
      ],
      "text/plain": [
       "            PcntSpeed_60thWdtime  PcntSpeed_85thWdtime  PcntSpeed_5thWdtime  \\\n",
       "LINK_DIR                                                                      \n",
       "998969850F                36.035                41.627               18.018   \n",
       "\n",
       "            TotalIntervals_Wdtime  PcntInterval_Wdtime  StdDev_Wdtime  \n",
       "LINK_DIR                                                               \n",
       "998969850F                   2587                3.536          8.938  "
      ]
     },
     "execution_count": 133,
     "metadata": {},
     "output_type": "execute_result"
    }
   ],
   "source": [
    "#Weekday Between 6AM and 8PM\n",
    "Wdtime = timeframe('998969850F',herepath,72,240,True,Weekday)\n",
    "SpeedWdtime = HEREstatsWdtime(Wdtime)\n",
    "SpeedWdtime = SpeedWdtime.drop(['MEAN','SPDLIMIT'], axis = 1)\n",
    "SpeedWdtime.head()"
   ]
  },
  {
   "cell_type": "code",
   "execution_count": 134,
   "metadata": {
    "collapsed": false
   },
   "outputs": [],
   "source": [
    "#Weekday Between 6AM and 8PM all links\n",
    "#Wdtime = timeframe2(herepath,72,240,True,Weekday)\n",
    "#SpeedWdtime = HEREstatsWdtime(Wdtime)\n",
    "#SpeedWdtime.head()"
   ]
  },
  {
   "cell_type": "code",
   "execution_count": 135,
   "metadata": {
    "collapsed": false
   },
   "outputs": [
    {
     "data": {
      "text/html": [
       "<div>\n",
       "<table border=\"1\" class=\"dataframe\">\n",
       "  <thead>\n",
       "    <tr style=\"text-align: right;\">\n",
       "      <th></th>\n",
       "      <th>PcntSpeed_5thWdayAM</th>\n",
       "      <th>AvgSpeed_WdayAM</th>\n",
       "      <th>TotalIntervals_WdayAM</th>\n",
       "      <th>PcntInterval_WdayAM</th>\n",
       "      <th>StdDev_WdayAM</th>\n",
       "    </tr>\n",
       "    <tr>\n",
       "      <th>LINK_DIR</th>\n",
       "      <th></th>\n",
       "      <th></th>\n",
       "      <th></th>\n",
       "      <th></th>\n",
       "      <th></th>\n",
       "    </tr>\n",
       "  </thead>\n",
       "  <tbody>\n",
       "    <tr>\n",
       "      <th>998969850F</th>\n",
       "      <td>18.018</td>\n",
       "      <td>33.838</td>\n",
       "      <td>440</td>\n",
       "      <td>0.728</td>\n",
       "      <td>8.698</td>\n",
       "    </tr>\n",
       "  </tbody>\n",
       "</table>\n",
       "</div>"
      ],
      "text/plain": [
       "            PcntSpeed_5thWdayAM  AvgSpeed_WdayAM  TotalIntervals_WdayAM  \\\n",
       "LINK_DIR                                                                  \n",
       "998969850F               18.018           33.838                    440   \n",
       "\n",
       "            PcntInterval_WdayAM  StdDev_WdayAM  \n",
       "LINK_DIR                                        \n",
       "998969850F                0.728          8.698  "
      ]
     },
     "execution_count": 135,
     "metadata": {},
     "output_type": "execute_result"
    }
   ],
   "source": [
    "#Stats between 6AM and 9AM\n",
    "WdtimeAM = timeframe('998969850F',herepath,72,108,True,Weekday)\n",
    "SpeedWdayAM = HEREstatsWdayAM(WdtimeAM)\n",
    "SpeedWdayAM = SpeedWdayAM.drop(['MEAN','SPDLIMIT'], axis = 1)\n",
    "SpeedWdayAM.head()"
   ]
  },
  {
   "cell_type": "code",
   "execution_count": 136,
   "metadata": {
    "collapsed": false
   },
   "outputs": [],
   "source": [
    "#Stats between 6AM and 9AM all links\n",
    "#WdtimeAM = timeframe2(herepath,72,108,True,Weekday)\n",
    "#SpeedWdayAM = HEREstatsWdayAM(WdtimeAM)\n",
    "#SpeedWdayAM.head()"
   ]
  },
  {
   "cell_type": "code",
   "execution_count": 137,
   "metadata": {
    "collapsed": false
   },
   "outputs": [
    {
     "data": {
      "text/html": [
       "<div>\n",
       "<table border=\"1\" class=\"dataframe\">\n",
       "  <thead>\n",
       "    <tr style=\"text-align: right;\">\n",
       "      <th></th>\n",
       "      <th>PcntSpeed_5thWdayMD</th>\n",
       "      <th>AvgSpeed_WdayMD</th>\n",
       "      <th>TotalIntervals_WdayMD</th>\n",
       "      <th>PcntInterval_WdayMD</th>\n",
       "      <th>StdDev_WdayMD</th>\n",
       "    </tr>\n",
       "    <tr>\n",
       "      <th>LINK_DIR</th>\n",
       "      <th></th>\n",
       "      <th></th>\n",
       "      <th></th>\n",
       "      <th></th>\n",
       "      <th></th>\n",
       "    </tr>\n",
       "  </thead>\n",
       "  <tbody>\n",
       "    <tr>\n",
       "      <th>998969850F</th>\n",
       "      <td>18.639</td>\n",
       "      <td>34.014</td>\n",
       "      <td>1367</td>\n",
       "      <td>1.899</td>\n",
       "      <td>8.661</td>\n",
       "    </tr>\n",
       "  </tbody>\n",
       "</table>\n",
       "</div>"
      ],
      "text/plain": [
       "            PcntSpeed_5thWdayMD  AvgSpeed_WdayMD  TotalIntervals_WdayMD  \\\n",
       "LINK_DIR                                                                  \n",
       "998969850F               18.639           34.014                   1367   \n",
       "\n",
       "            PcntInterval_WdayMD  StdDev_WdayMD  \n",
       "LINK_DIR                                        \n",
       "998969850F                1.899          8.661  "
      ]
     },
     "execution_count": 137,
     "metadata": {},
     "output_type": "execute_result"
    }
   ],
   "source": [
    "#Stats between 9AM and 3PM\n",
    "WdtimeMD = timeframe('998969850F',herepath,108,180,True,Weekday)\n",
    "SpeedWdayMD = HEREstatsWdayMD(WdtimeMD)\n",
    "SpeedWdayMD = SpeedWdayMD.drop(['MEAN','SPDLIMIT'], axis = 1)\n",
    "SpeedWdayMD.head()"
   ]
  },
  {
   "cell_type": "code",
   "execution_count": 138,
   "metadata": {
    "collapsed": false
   },
   "outputs": [],
   "source": [
    "#Stats between 9AM and 3PM all links\n",
    "#WdtimeMD = timeframe2(herepath,108,180,True,Weekday)\n",
    "#SpeedWdayMD = HEREstatsWdayMD(WdtimeMD)\n",
    "#SpeedWdayMD.head()"
   ]
  },
  {
   "cell_type": "code",
   "execution_count": 139,
   "metadata": {
    "collapsed": false
   },
   "outputs": [
    {
     "data": {
      "text/html": [
       "<div>\n",
       "<table border=\"1\" class=\"dataframe\">\n",
       "  <thead>\n",
       "    <tr style=\"text-align: right;\">\n",
       "      <th></th>\n",
       "      <th>PcntSpeed_5thWdayPM</th>\n",
       "      <th>AvgSpeed_WdayPM</th>\n",
       "      <th>TotalIntervals_WdayPM</th>\n",
       "      <th>PcntInterval_WdayPM</th>\n",
       "      <th>StdDev_WdayPM</th>\n",
       "    </tr>\n",
       "    <tr>\n",
       "      <th>LINK_DIR</th>\n",
       "      <th></th>\n",
       "      <th></th>\n",
       "      <th></th>\n",
       "      <th></th>\n",
       "      <th></th>\n",
       "    </tr>\n",
       "  </thead>\n",
       "  <tbody>\n",
       "    <tr>\n",
       "      <th>998969850F</th>\n",
       "      <td>16.775</td>\n",
       "      <td>31.642</td>\n",
       "      <td>651</td>\n",
       "      <td>0.962</td>\n",
       "      <td>9.324</td>\n",
       "    </tr>\n",
       "  </tbody>\n",
       "</table>\n",
       "</div>"
      ],
      "text/plain": [
       "            PcntSpeed_5thWdayPM  AvgSpeed_WdayPM  TotalIntervals_WdayPM  \\\n",
       "LINK_DIR                                                                  \n",
       "998969850F               16.775           31.642                    651   \n",
       "\n",
       "            PcntInterval_WdayPM  StdDev_WdayPM  \n",
       "LINK_DIR                                        \n",
       "998969850F                0.962          9.324  "
      ]
     },
     "execution_count": 139,
     "metadata": {},
     "output_type": "execute_result"
    }
   ],
   "source": [
    "#Stats between 3PM and 6PM\n",
    "WdtimePM = timeframe('998969850F',herepath,180,216,True,Weekday)\n",
    "SpeedWdayPM = HEREstatsWdayPM(WdtimePM)\n",
    "SpeedWdayPM = SpeedWdayPM.drop(['MEAN','SPDLIMIT'], axis = 1)\n",
    "SpeedWdayPM.head()"
   ]
  },
  {
   "cell_type": "code",
   "execution_count": 140,
   "metadata": {
    "collapsed": false
   },
   "outputs": [],
   "source": [
    "#Stats between 3PM and 6PM all links\n",
    "#WdtimePM = timeframe2(herepath,180,216,True,Weekday)\n",
    "#SpeedWdayPM = HEREstatsWdayPM(WdtimeMD)\n",
    "#SpeedWdayPM.head()"
   ]
  },
  {
   "cell_type": "code",
   "execution_count": 141,
   "metadata": {
    "collapsed": false
   },
   "outputs": [
    {
     "data": {
      "text/html": [
       "<div>\n",
       "<table border=\"1\" class=\"dataframe\">\n",
       "  <thead>\n",
       "    <tr style=\"text-align: right;\">\n",
       "      <th></th>\n",
       "      <th>TTI_SL_AM</th>\n",
       "      <th>PTI_SL_AM</th>\n",
       "      <th>TTI_85thALL_AM</th>\n",
       "      <th>PTI_85thALL_AM</th>\n",
       "      <th>BTI_AM</th>\n",
       "    </tr>\n",
       "    <tr>\n",
       "      <th>LINK_DIR</th>\n",
       "      <th></th>\n",
       "      <th></th>\n",
       "      <th></th>\n",
       "      <th></th>\n",
       "      <th></th>\n",
       "    </tr>\n",
       "  </thead>\n",
       "  <tbody>\n",
       "    <tr>\n",
       "      <th>998969850F</th>\n",
       "      <td>1.309</td>\n",
       "      <td>2.4</td>\n",
       "      <td>1.255</td>\n",
       "      <td>2.3</td>\n",
       "      <td>0.833</td>\n",
       "    </tr>\n",
       "  </tbody>\n",
       "</table>\n",
       "</div>"
      ],
      "text/plain": [
       "            TTI_SL_AM  PTI_SL_AM  TTI_85thALL_AM  PTI_85thALL_AM  BTI_AM\n",
       "LINK_DIR                                                                \n",
       "998969850F      1.309        2.4           1.255             2.3   0.833"
      ]
     },
     "execution_count": 141,
     "metadata": {},
     "output_type": "execute_result"
    }
   ],
   "source": [
    "#Calculates AM Indeces for all 365 days\n",
    "AllAM = timeframe('998969850F',herepath,72,108,False,Both)\n",
    "HstatsAM = HEREstatsALL(AllAM)\n",
    "IndecesAllAM = IndecesALLAM(HstatsAM)\n",
    "IndecesAllAM.head()"
   ]
  },
  {
   "cell_type": "code",
   "execution_count": 142,
   "metadata": {
    "collapsed": false
   },
   "outputs": [],
   "source": [
    "#Calculates AM Indeces for all 365 days for all links\n",
    "#AllAM = timeframe2(herepath,72,108,False,Both)\n",
    "#HstatsAM = HEREstatsALL(AllAM)\n",
    "#IndecesAllAM = IndecesALLAM(HstatsAM)\n",
    "#IndecesAllAM.head()"
   ]
  },
  {
   "cell_type": "code",
   "execution_count": 143,
   "metadata": {
    "collapsed": false
   },
   "outputs": [
    {
     "data": {
      "text/html": [
       "<div>\n",
       "<table border=\"1\" class=\"dataframe\">\n",
       "  <thead>\n",
       "    <tr style=\"text-align: right;\">\n",
       "      <th></th>\n",
       "      <th>TTI_SL_MD</th>\n",
       "      <th>PTI_SL_MD</th>\n",
       "      <th>TTI_85th_MD</th>\n",
       "      <th>PTI_85th_MD</th>\n",
       "      <th>BTI_MD</th>\n",
       "    </tr>\n",
       "    <tr>\n",
       "      <th>LINK_DIR</th>\n",
       "      <th></th>\n",
       "      <th></th>\n",
       "      <th></th>\n",
       "      <th></th>\n",
       "      <th></th>\n",
       "    </tr>\n",
       "  </thead>\n",
       "  <tbody>\n",
       "    <tr>\n",
       "      <th>998969850F</th>\n",
       "      <td>1.311</td>\n",
       "      <td>2.483</td>\n",
       "      <td>1.238</td>\n",
       "      <td>2.345</td>\n",
       "      <td>0.894</td>\n",
       "    </tr>\n",
       "  </tbody>\n",
       "</table>\n",
       "</div>"
      ],
      "text/plain": [
       "            TTI_SL_MD  PTI_SL_MD  TTI_85th_MD  PTI_85th_MD  BTI_MD\n",
       "LINK_DIR                                                          \n",
       "998969850F      1.311      2.483        1.238        2.345   0.894"
      ]
     },
     "execution_count": 143,
     "metadata": {},
     "output_type": "execute_result"
    }
   ],
   "source": [
    "#Calculates MD Indeces for all 365 days\n",
    "AllMD = timeframe('998969850F',herepath,108,180,False,Both)\n",
    "HstatsMD = HEREstatsALL(AllMD)\n",
    "IndecesAllMD = IndecesALLMD(HstatsMD)\n",
    "IndecesAllMD.head()"
   ]
  },
  {
   "cell_type": "code",
   "execution_count": 144,
   "metadata": {
    "collapsed": true
   },
   "outputs": [],
   "source": [
    "#Calculates MD Indeces for all 365 days for all links\n",
    "#AllMD = timeframe2(herepath,108,180,False,Both)\n",
    "#HstatsMD = HEREstatsALL(AllMD)\n",
    "#IndecesAllMD = IndecesALLMD(HstatsMD)\n",
    "#IndecesAllMD.head()"
   ]
  },
  {
   "cell_type": "code",
   "execution_count": 145,
   "metadata": {
    "collapsed": false
   },
   "outputs": [
    {
     "data": {
      "text/html": [
       "<div>\n",
       "<table border=\"1\" class=\"dataframe\">\n",
       "  <thead>\n",
       "    <tr style=\"text-align: right;\">\n",
       "      <th></th>\n",
       "      <th>TTI_SL_PM</th>\n",
       "      <th>PTI_SL_PM</th>\n",
       "      <th>TTI_85th_PM</th>\n",
       "      <th>PTI_85th_PM</th>\n",
       "      <th>BTI_PM</th>\n",
       "    </tr>\n",
       "    <tr>\n",
       "      <th>LINK_DIR</th>\n",
       "      <th></th>\n",
       "      <th></th>\n",
       "      <th></th>\n",
       "      <th></th>\n",
       "      <th></th>\n",
       "    </tr>\n",
       "  </thead>\n",
       "  <tbody>\n",
       "    <tr>\n",
       "      <th>998969850F</th>\n",
       "      <td>1.393</td>\n",
       "      <td>2.769</td>\n",
       "      <td>1.277</td>\n",
       "      <td>2.538</td>\n",
       "      <td>0.988</td>\n",
       "    </tr>\n",
       "  </tbody>\n",
       "</table>\n",
       "</div>"
      ],
      "text/plain": [
       "            TTI_SL_PM  PTI_SL_PM  TTI_85th_PM  PTI_85th_PM  BTI_PM\n",
       "LINK_DIR                                                          \n",
       "998969850F      1.393      2.769        1.277        2.538   0.988"
      ]
     },
     "execution_count": 145,
     "metadata": {},
     "output_type": "execute_result"
    }
   ],
   "source": [
    "#Calculates PM Indeces for all 365 days\n",
    "AllPM = timeframe('998969850F',herepath,180,216,False,Both)\n",
    "HstatsPM = HEREstatsALL(AllPM)\n",
    "IndecesAllPM = IndecesALLPM(HstatsPM)\n",
    "IndecesAllPM.head()"
   ]
  },
  {
   "cell_type": "code",
   "execution_count": 146,
   "metadata": {
    "collapsed": true
   },
   "outputs": [],
   "source": [
    "#Calculates PM Indeces for all 365 days for all links\n",
    "#AllPM = timeframe2(herepath,180,216,False,Both)\n",
    "#HstatsPM = HEREstatsALL(AllPM)\n",
    "#IndecesAllPM = IndecesALLPM(HstatsPM)\n",
    "#IndecesAllPM.head()"
   ]
  },
  {
   "cell_type": "code",
   "execution_count": 147,
   "metadata": {
    "collapsed": false
   },
   "outputs": [
    {
     "data": {
      "text/html": [
       "<div>\n",
       "<table border=\"1\" class=\"dataframe\">\n",
       "  <thead>\n",
       "    <tr style=\"text-align: right;\">\n",
       "      <th></th>\n",
       "      <th>TTI_85thWd_AM</th>\n",
       "      <th>PTI_85thWd_AM</th>\n",
       "    </tr>\n",
       "    <tr>\n",
       "      <th>LINK_DIR</th>\n",
       "      <th></th>\n",
       "      <th></th>\n",
       "    </tr>\n",
       "  </thead>\n",
       "  <tbody>\n",
       "    <tr>\n",
       "      <th>998969850F</th>\n",
       "      <td>1.249</td>\n",
       "      <td>2.345</td>\n",
       "    </tr>\n",
       "  </tbody>\n",
       "</table>\n",
       "</div>"
      ],
      "text/plain": [
       "            TTI_85thWd_AM  PTI_85thWd_AM\n",
       "LINK_DIR                                \n",
       "998969850F          1.249          2.345"
      ]
     },
     "execution_count": 147,
     "metadata": {},
     "output_type": "execute_result"
    }
   ],
   "source": [
    "#Calculates weekday non-holiday indeces for AM\n",
    "WdAM = timeframe('998969850F',herepath,72,108,True,Weekday)\n",
    "HstatsWdAM = HEREstatsWd(WdAM)\n",
    "IndecesWdayAM = IndecesWdAM(HstatsWdAM)\n",
    "IndecesWdayAM"
   ]
  },
  {
   "cell_type": "code",
   "execution_count": 148,
   "metadata": {
    "collapsed": true
   },
   "outputs": [],
   "source": [
    "#Calculates weekday non-holiday indeces for AM for all links\n",
    "#WdAM = timeframe2(herepath,72,108,True,Weekday)\n",
    "#HstatsWdAM = HEREstatsWd(WdAM)\n",
    "#IndecesWdayAM = IndecesWdAM(HstatsWdAM)\n",
    "#IndecesWdayAM"
   ]
  },
  {
   "cell_type": "code",
   "execution_count": 149,
   "metadata": {
    "collapsed": false
   },
   "outputs": [
    {
     "data": {
      "text/html": [
       "<div>\n",
       "<table border=\"1\" class=\"dataframe\">\n",
       "  <thead>\n",
       "    <tr style=\"text-align: right;\">\n",
       "      <th></th>\n",
       "      <th>TTI_85thWd_MD</th>\n",
       "      <th>PTI_85thWd_MD</th>\n",
       "    </tr>\n",
       "    <tr>\n",
       "      <th>LINK_DIR</th>\n",
       "      <th></th>\n",
       "      <th></th>\n",
       "    </tr>\n",
       "  </thead>\n",
       "  <tbody>\n",
       "    <tr>\n",
       "      <th>998969850F</th>\n",
       "      <td>1.242</td>\n",
       "      <td>2.267</td>\n",
       "    </tr>\n",
       "  </tbody>\n",
       "</table>\n",
       "</div>"
      ],
      "text/plain": [
       "            TTI_85thWd_MD  PTI_85thWd_MD\n",
       "LINK_DIR                                \n",
       "998969850F          1.242          2.267"
      ]
     },
     "execution_count": 149,
     "metadata": {},
     "output_type": "execute_result"
    }
   ],
   "source": [
    "#Calculates weekday non-holiday indeces for MD\n",
    "WdMD = timeframe('998969850F',herepath,108,180,True,Weekday)\n",
    "HstatsWdMD = HEREstatsWd(WdMD)\n",
    "IndecesWdayMD = IndecesWdMD(HstatsWdMD)\n",
    "IndecesWdayMD"
   ]
  },
  {
   "cell_type": "code",
   "execution_count": 150,
   "metadata": {
    "collapsed": true
   },
   "outputs": [],
   "source": [
    "#Calculates weekday non-holiday indeces for MD for all links\n",
    "#WdMD = timeframe2(herepath,108,180,True,Weekday)\n",
    "#HstatsWdMD = HEREstatsWd(WdMD)\n",
    "#IndecesWdayMD = IndecesWdMD(HstatsWdMD)\n",
    "#IndecesWdayMD"
   ]
  },
  {
   "cell_type": "code",
   "execution_count": 151,
   "metadata": {
    "collapsed": false
   },
   "outputs": [
    {
     "data": {
      "text/html": [
       "<div>\n",
       "<table border=\"1\" class=\"dataframe\">\n",
       "  <thead>\n",
       "    <tr style=\"text-align: right;\">\n",
       "      <th></th>\n",
       "      <th>TTI_85thWd_PM</th>\n",
       "      <th>PTI_85thWd_PM</th>\n",
       "    </tr>\n",
       "    <tr>\n",
       "      <th>LINK_DIR</th>\n",
       "      <th></th>\n",
       "      <th></th>\n",
       "    </tr>\n",
       "  </thead>\n",
       "  <tbody>\n",
       "    <tr>\n",
       "      <th>998969850F</th>\n",
       "      <td>1.276</td>\n",
       "      <td>2.407</td>\n",
       "    </tr>\n",
       "  </tbody>\n",
       "</table>\n",
       "</div>"
      ],
      "text/plain": [
       "            TTI_85thWd_PM  PTI_85thWd_PM\n",
       "LINK_DIR                                \n",
       "998969850F          1.276          2.407"
      ]
     },
     "execution_count": 151,
     "metadata": {},
     "output_type": "execute_result"
    }
   ],
   "source": [
    "#Calculates weekday non-holiday indeces for PM\n",
    "WdPM = timeframe('998969850F',herepath,180,216,True,Weekday)\n",
    "HstatsWdPM = HEREstatsWd(WdPM)\n",
    "IndecesWdayPM = IndecesWdPM(HstatsWdPM)\n",
    "IndecesWdayPM"
   ]
  },
  {
   "cell_type": "code",
   "execution_count": 152,
   "metadata": {
    "collapsed": true
   },
   "outputs": [],
   "source": [
    "#Calculates weekday non-holiday indeces for PM for all links\n",
    "#WdPM = timeframe2(herepath,180,216,True,Weekday)\n",
    "#HstatsWdPM = HEREstatsWd(WdPM)\n",
    "#IndecesWdayPM = IndecesWdPM(HstatsWdPM)\n",
    "#IndecesWdayPM"
   ]
  },
  {
   "cell_type": "code",
   "execution_count": 153,
   "metadata": {
    "collapsed": false
   },
   "outputs": [
    {
     "data": {
      "text/html": [
       "<div>\n",
       "<table border=\"1\" class=\"dataframe\">\n",
       "  <thead>\n",
       "    <tr style=\"text-align: right;\">\n",
       "      <th></th>\n",
       "      <th>TTI_60thWdtime_AM</th>\n",
       "      <th>PTI_60thWdtime_AM</th>\n",
       "      <th>TTI_85thWdtime_AM</th>\n",
       "      <th>PTI_85thWdtime_AM</th>\n",
       "    </tr>\n",
       "    <tr>\n",
       "      <th>LINK_DIR</th>\n",
       "      <th></th>\n",
       "      <th></th>\n",
       "      <th></th>\n",
       "      <th></th>\n",
       "    </tr>\n",
       "  </thead>\n",
       "  <tbody>\n",
       "    <tr>\n",
       "      <th>998969850F</th>\n",
       "      <td>1.083</td>\n",
       "      <td>2.034</td>\n",
       "      <td>1.249</td>\n",
       "      <td>2.345</td>\n",
       "    </tr>\n",
       "  </tbody>\n",
       "</table>\n",
       "</div>"
      ],
      "text/plain": [
       "            TTI_60thWdtime_AM  PTI_60thWdtime_AM  TTI_85thWdtime_AM  \\\n",
       "LINK_DIR                                                              \n",
       "998969850F              1.083              2.034              1.249   \n",
       "\n",
       "            PTI_85thWdtime_AM  \n",
       "LINK_DIR                       \n",
       "998969850F              2.345  "
      ]
     },
     "execution_count": 153,
     "metadata": {},
     "output_type": "execute_result"
    }
   ],
   "source": [
    "#Calculates daytime indeces for AM\n",
    "WdtimeAM = timeframe('998969850F',herepath,72,108,True,Weekday)\n",
    "HstatsWdtimeAM = HEREstatsWdtime(WdtimeAM)\n",
    "IndecesWdtimeAM = IndecesWDtimeAM(HstatsWdtimeAM)\n",
    "IndecesWdtimeAM"
   ]
  },
  {
   "cell_type": "code",
   "execution_count": 154,
   "metadata": {
    "collapsed": true
   },
   "outputs": [],
   "source": [
    "#Calculates daytime indeces for AM for all links\n",
    "#WdtimeAM = timeframe2(herepath,72,108,True,Weekday)\n",
    "#HstatsWdtimeAM = HEREstatsWdtime(WdtimeAM)\n",
    "#IndecesWdtimeAM = IndecesWdtimeAM(HstatsWdtimeAM)\n",
    "#IndecesWdtimeAM"
   ]
  },
  {
   "cell_type": "code",
   "execution_count": 155,
   "metadata": {
    "collapsed": false
   },
   "outputs": [
    {
     "data": {
      "text/html": [
       "<div>\n",
       "<table border=\"1\" class=\"dataframe\">\n",
       "  <thead>\n",
       "    <tr style=\"text-align: right;\">\n",
       "      <th></th>\n",
       "      <th>TTI_60thWdtime_MD</th>\n",
       "      <th>PTI_60thWdtime_MD</th>\n",
       "      <th>TTI_85thWdtime_MD</th>\n",
       "      <th>PTI_85thWdtime_MD</th>\n",
       "    </tr>\n",
       "    <tr>\n",
       "      <th>LINK_DIR</th>\n",
       "      <th></th>\n",
       "      <th></th>\n",
       "      <th></th>\n",
       "      <th></th>\n",
       "    </tr>\n",
       "  </thead>\n",
       "  <tbody>\n",
       "    <tr>\n",
       "      <th>998969850F</th>\n",
       "      <td>1.078</td>\n",
       "      <td>1.967</td>\n",
       "      <td>1.242</td>\n",
       "      <td>2.267</td>\n",
       "    </tr>\n",
       "  </tbody>\n",
       "</table>\n",
       "</div>"
      ],
      "text/plain": [
       "            TTI_60thWdtime_MD  PTI_60thWdtime_MD  TTI_85thWdtime_MD  \\\n",
       "LINK_DIR                                                              \n",
       "998969850F              1.078              1.967              1.242   \n",
       "\n",
       "            PTI_85thWdtime_MD  \n",
       "LINK_DIR                       \n",
       "998969850F              2.267  "
      ]
     },
     "execution_count": 155,
     "metadata": {},
     "output_type": "execute_result"
    }
   ],
   "source": [
    "#Calculates daytime indeces for MD\n",
    "WdtimeMD = timeframe('998969850F',herepath,108,180,True,Weekday)\n",
    "HstatsWdtimeMD = HEREstatsWdtime(WdtimeMD)\n",
    "IndecesWdtimeMD = IndecesWDtimeMD(HstatsWdtimeMD)\n",
    "IndecesWdtimeMD"
   ]
  },
  {
   "cell_type": "code",
   "execution_count": 156,
   "metadata": {
    "collapsed": true
   },
   "outputs": [],
   "source": [
    "#Calculates daytime indeces for MD for all links\n",
    "#WdtimeMD = timeframe2(herepath,108,180,True,Weekday)\n",
    "#HstatsWdtimeMD = HEREstatsWdtime(WdtimeMD)\n",
    "#IndecesWdtimeMD = IndecesWdtimeMD(HstatsWdtimeMD)\n",
    "#IndecesWdtimeMD"
   ]
  },
  {
   "cell_type": "code",
   "execution_count": 157,
   "metadata": {
    "collapsed": false
   },
   "outputs": [
    {
     "data": {
      "text/html": [
       "<div>\n",
       "<table border=\"1\" class=\"dataframe\">\n",
       "  <thead>\n",
       "    <tr style=\"text-align: right;\">\n",
       "      <th></th>\n",
       "      <th>TTI_60thWdtime_PM</th>\n",
       "      <th>PTI_60thWdtime_PM</th>\n",
       "      <th>TTI_85thWdtime_PM</th>\n",
       "      <th>PTI_85thWdtime_PM</th>\n",
       "    </tr>\n",
       "    <tr>\n",
       "      <th>LINK_DIR</th>\n",
       "      <th></th>\n",
       "      <th></th>\n",
       "      <th></th>\n",
       "      <th></th>\n",
       "    </tr>\n",
       "  </thead>\n",
       "  <tbody>\n",
       "    <tr>\n",
       "      <th>998969850F</th>\n",
       "      <td>1.08</td>\n",
       "      <td>2.037</td>\n",
       "      <td>1.276</td>\n",
       "      <td>2.407</td>\n",
       "    </tr>\n",
       "  </tbody>\n",
       "</table>\n",
       "</div>"
      ],
      "text/plain": [
       "            TTI_60thWdtime_PM  PTI_60thWdtime_PM  TTI_85thWdtime_PM  \\\n",
       "LINK_DIR                                                              \n",
       "998969850F               1.08              2.037              1.276   \n",
       "\n",
       "            PTI_85thWdtime_PM  \n",
       "LINK_DIR                       \n",
       "998969850F              2.407  "
      ]
     },
     "execution_count": 157,
     "metadata": {},
     "output_type": "execute_result"
    }
   ],
   "source": [
    "#Calculates daytime indeces for PM\n",
    "WdtimePM = timeframe('998969850F',herepath,180,216,True,Weekday)\n",
    "HstatsWdtimePM = HEREstatsWdtime(WdtimePM)\n",
    "IndecesWdtimePM = IndecesWDtimePM(HstatsWdtimePM)\n",
    "IndecesWdtimePM"
   ]
  },
  {
   "cell_type": "code",
   "execution_count": 158,
   "metadata": {
    "collapsed": true
   },
   "outputs": [],
   "source": [
    "#Calculates daytime indeces for PM for all links\n",
    "#WdtimePM = timeframe2(herepath,180,216,True,Weekday)\n",
    "#HstatsWdtimePM = HEREstatsWdtime(WdtimePM)\n",
    "#IndecesWdtimePM = IndecesWdtimePM(HstatsWdtimePM)\n",
    "#IndecesWdtimePM"
   ]
  },
  {
   "cell_type": "code",
   "execution_count": 159,
   "metadata": {
    "collapsed": true
   },
   "outputs": [],
   "source": [
    "master = bylink"
   ]
  },
  {
   "cell_type": "code",
   "execution_count": 160,
   "metadata": {
    "collapsed": false
   },
   "outputs": [
    {
     "data": {
      "text/html": [
       "<div>\n",
       "<table border=\"1\" class=\"dataframe\">\n",
       "  <thead>\n",
       "    <tr style=\"text-align: right;\">\n",
       "      <th></th>\n",
       "      <th>PcntSpeed_85thAll</th>\n",
       "      <th>PcntSpeed_5thAll</th>\n",
       "      <th>TotalIntervals_85thAll</th>\n",
       "      <th>PcntInterval_85thAll</th>\n",
       "      <th>StdDev_85thAll</th>\n",
       "      <th>PcntSpeed_85thWd</th>\n",
       "      <th>PcntSpeed_5thWd</th>\n",
       "      <th>TotalIntervals_85thWd</th>\n",
       "      <th>PcntInterval_85thWd</th>\n",
       "      <th>StdDev_85thWd</th>\n",
       "    </tr>\n",
       "    <tr>\n",
       "      <th>LINK_DIR</th>\n",
       "      <th></th>\n",
       "      <th></th>\n",
       "      <th></th>\n",
       "      <th></th>\n",
       "      <th></th>\n",
       "      <th></th>\n",
       "      <th></th>\n",
       "      <th></th>\n",
       "      <th></th>\n",
       "      <th></th>\n",
       "    </tr>\n",
       "  </thead>\n",
       "  <tbody>\n",
       "    <tr>\n",
       "      <th>998969850F</th>\n",
       "      <td>42.87</td>\n",
       "      <td>18.639</td>\n",
       "      <td>474</td>\n",
       "      <td>0.692</td>\n",
       "      <td>8.84</td>\n",
       "      <td>42.87</td>\n",
       "      <td>18.018</td>\n",
       "      <td>2799</td>\n",
       "      <td>3.826</td>\n",
       "      <td>9.22</td>\n",
       "    </tr>\n",
       "  </tbody>\n",
       "</table>\n",
       "</div>"
      ],
      "text/plain": [
       "            PcntSpeed_85thAll  PcntSpeed_5thAll  TotalIntervals_85thAll  \\\n",
       "LINK_DIR                                                                  \n",
       "998969850F              42.87            18.639                     474   \n",
       "\n",
       "            PcntInterval_85thAll  StdDev_85thAll  PcntSpeed_85thWd  \\\n",
       "LINK_DIR                                                             \n",
       "998969850F                 0.692            8.84             42.87   \n",
       "\n",
       "            PcntSpeed_5thWd  TotalIntervals_85thWd  PcntInterval_85thWd  \\\n",
       "LINK_DIR                                                                  \n",
       "998969850F           18.018                   2799                3.826   \n",
       "\n",
       "            StdDev_85thWd  \n",
       "LINK_DIR                   \n",
       "998969850F           9.22  "
      ]
     },
     "execution_count": 160,
     "metadata": {},
     "output_type": "execute_result"
    }
   ],
   "source": [
    "master = pd.merge(master, SpeedWd, left_index = True, right_index = True)\n",
    "SpeedWd = pd.DataFrame(columns = [])\n",
    "master"
   ]
  },
  {
   "cell_type": "code",
   "execution_count": 161,
   "metadata": {
    "collapsed": false
   },
   "outputs": [
    {
     "data": {
      "text/html": [
       "<div>\n",
       "<table border=\"1\" class=\"dataframe\">\n",
       "  <thead>\n",
       "    <tr style=\"text-align: right;\">\n",
       "      <th></th>\n",
       "      <th>PcntSpeed_85thAll</th>\n",
       "      <th>PcntSpeed_5thAll</th>\n",
       "      <th>TotalIntervals_85thAll</th>\n",
       "      <th>PcntInterval_85thAll</th>\n",
       "      <th>StdDev_85thAll</th>\n",
       "      <th>PcntSpeed_85thWd</th>\n",
       "      <th>PcntSpeed_5thWd</th>\n",
       "      <th>TotalIntervals_85thWd</th>\n",
       "      <th>PcntInterval_85thWd</th>\n",
       "      <th>StdDev_85thWd</th>\n",
       "      <th>PcntSpeed_85thWend</th>\n",
       "      <th>TotalIntervals_85thWend</th>\n",
       "      <th>PcntInterval_85thWend</th>\n",
       "      <th>StdDev_85thWend</th>\n",
       "    </tr>\n",
       "    <tr>\n",
       "      <th>LINK_DIR</th>\n",
       "      <th></th>\n",
       "      <th></th>\n",
       "      <th></th>\n",
       "      <th></th>\n",
       "      <th></th>\n",
       "      <th></th>\n",
       "      <th></th>\n",
       "      <th></th>\n",
       "      <th></th>\n",
       "      <th></th>\n",
       "      <th></th>\n",
       "      <th></th>\n",
       "      <th></th>\n",
       "      <th></th>\n",
       "    </tr>\n",
       "  </thead>\n",
       "  <tbody>\n",
       "    <tr>\n",
       "      <th>998969850F</th>\n",
       "      <td>42.87</td>\n",
       "      <td>18.639</td>\n",
       "      <td>474</td>\n",
       "      <td>0.692</td>\n",
       "      <td>8.84</td>\n",
       "      <td>42.87</td>\n",
       "      <td>18.018</td>\n",
       "      <td>2799</td>\n",
       "      <td>3.826</td>\n",
       "      <td>9.22</td>\n",
       "      <td>46.598</td>\n",
       "      <td>330</td>\n",
       "      <td>1.157</td>\n",
       "      <td>10.751</td>\n",
       "    </tr>\n",
       "  </tbody>\n",
       "</table>\n",
       "</div>"
      ],
      "text/plain": [
       "            PcntSpeed_85thAll  PcntSpeed_5thAll  TotalIntervals_85thAll  \\\n",
       "LINK_DIR                                                                  \n",
       "998969850F              42.87            18.639                     474   \n",
       "\n",
       "            PcntInterval_85thAll  StdDev_85thAll  PcntSpeed_85thWd  \\\n",
       "LINK_DIR                                                             \n",
       "998969850F                 0.692            8.84             42.87   \n",
       "\n",
       "            PcntSpeed_5thWd  TotalIntervals_85thWd  PcntInterval_85thWd  \\\n",
       "LINK_DIR                                                                  \n",
       "998969850F           18.018                   2799                3.826   \n",
       "\n",
       "            StdDev_85thWd  PcntSpeed_85thWend  TotalIntervals_85thWend  \\\n",
       "LINK_DIR                                                                 \n",
       "998969850F           9.22              46.598                      330   \n",
       "\n",
       "            PcntInterval_85thWend  StdDev_85thWend  \n",
       "LINK_DIR                                            \n",
       "998969850F                  1.157           10.751  "
      ]
     },
     "execution_count": 161,
     "metadata": {},
     "output_type": "execute_result"
    }
   ],
   "source": [
    "master = pd.merge(master, SpeedWend, left_index = True, right_index = True)\n",
    "SpeedWend = pd.DataFrame(columns = [])\n",
    "master"
   ]
  },
  {
   "cell_type": "code",
   "execution_count": 162,
   "metadata": {
    "collapsed": false
   },
   "outputs": [
    {
     "data": {
      "text/html": [
       "<div>\n",
       "<table border=\"1\" class=\"dataframe\">\n",
       "  <thead>\n",
       "    <tr style=\"text-align: right;\">\n",
       "      <th></th>\n",
       "      <th>PcntSpeed_85thAll</th>\n",
       "      <th>PcntSpeed_5thAll</th>\n",
       "      <th>TotalIntervals_85thAll</th>\n",
       "      <th>PcntInterval_85thAll</th>\n",
       "      <th>StdDev_85thAll</th>\n",
       "      <th>PcntSpeed_85thWd</th>\n",
       "      <th>PcntSpeed_5thWd</th>\n",
       "      <th>TotalIntervals_85thWd</th>\n",
       "      <th>PcntInterval_85thWd</th>\n",
       "      <th>StdDev_85thWd</th>\n",
       "      <th>PcntSpeed_85thWend</th>\n",
       "      <th>TotalIntervals_85thWend</th>\n",
       "      <th>PcntInterval_85thWend</th>\n",
       "      <th>StdDev_85thWend</th>\n",
       "      <th>PcntSpeed_60thWdtime</th>\n",
       "      <th>PcntSpeed_85thWdtime</th>\n",
       "      <th>PcntSpeed_5thWdtime</th>\n",
       "      <th>TotalIntervals_Wdtime</th>\n",
       "      <th>PcntInterval_Wdtime</th>\n",
       "      <th>StdDev_Wdtime</th>\n",
       "    </tr>\n",
       "    <tr>\n",
       "      <th>LINK_DIR</th>\n",
       "      <th></th>\n",
       "      <th></th>\n",
       "      <th></th>\n",
       "      <th></th>\n",
       "      <th></th>\n",
       "      <th></th>\n",
       "      <th></th>\n",
       "      <th></th>\n",
       "      <th></th>\n",
       "      <th></th>\n",
       "      <th></th>\n",
       "      <th></th>\n",
       "      <th></th>\n",
       "      <th></th>\n",
       "      <th></th>\n",
       "      <th></th>\n",
       "      <th></th>\n",
       "      <th></th>\n",
       "      <th></th>\n",
       "      <th></th>\n",
       "    </tr>\n",
       "  </thead>\n",
       "  <tbody>\n",
       "    <tr>\n",
       "      <th>998969850F</th>\n",
       "      <td>42.87</td>\n",
       "      <td>18.639</td>\n",
       "      <td>474</td>\n",
       "      <td>0.692</td>\n",
       "      <td>8.84</td>\n",
       "      <td>42.87</td>\n",
       "      <td>18.018</td>\n",
       "      <td>2799</td>\n",
       "      <td>3.826</td>\n",
       "      <td>9.22</td>\n",
       "      <td>46.598</td>\n",
       "      <td>330</td>\n",
       "      <td>1.157</td>\n",
       "      <td>10.751</td>\n",
       "      <td>36.035</td>\n",
       "      <td>41.627</td>\n",
       "      <td>18.018</td>\n",
       "      <td>2587</td>\n",
       "      <td>3.536</td>\n",
       "      <td>8.938</td>\n",
       "    </tr>\n",
       "  </tbody>\n",
       "</table>\n",
       "</div>"
      ],
      "text/plain": [
       "            PcntSpeed_85thAll  PcntSpeed_5thAll  TotalIntervals_85thAll  \\\n",
       "LINK_DIR                                                                  \n",
       "998969850F              42.87            18.639                     474   \n",
       "\n",
       "            PcntInterval_85thAll  StdDev_85thAll  PcntSpeed_85thWd  \\\n",
       "LINK_DIR                                                             \n",
       "998969850F                 0.692            8.84             42.87   \n",
       "\n",
       "            PcntSpeed_5thWd  TotalIntervals_85thWd  PcntInterval_85thWd  \\\n",
       "LINK_DIR                                                                  \n",
       "998969850F           18.018                   2799                3.826   \n",
       "\n",
       "            StdDev_85thWd  PcntSpeed_85thWend  TotalIntervals_85thWend  \\\n",
       "LINK_DIR                                                                 \n",
       "998969850F           9.22              46.598                      330   \n",
       "\n",
       "            PcntInterval_85thWend  StdDev_85thWend  PcntSpeed_60thWdtime  \\\n",
       "LINK_DIR                                                                   \n",
       "998969850F                  1.157           10.751                36.035   \n",
       "\n",
       "            PcntSpeed_85thWdtime  PcntSpeed_5thWdtime  TotalIntervals_Wdtime  \\\n",
       "LINK_DIR                                                                       \n",
       "998969850F                41.627               18.018                   2587   \n",
       "\n",
       "            PcntInterval_Wdtime  StdDev_Wdtime  \n",
       "LINK_DIR                                        \n",
       "998969850F                3.536          8.938  "
      ]
     },
     "execution_count": 162,
     "metadata": {},
     "output_type": "execute_result"
    }
   ],
   "source": [
    "master = pd.merge(master, SpeedWdtime, left_index = True, right_index = True)\n",
    "SpeedWdtime = pd.DataFrame(columns = [])\n",
    "master"
   ]
  },
  {
   "cell_type": "code",
   "execution_count": 163,
   "metadata": {
    "collapsed": false
   },
   "outputs": [
    {
     "data": {
      "text/html": [
       "<div>\n",
       "<table border=\"1\" class=\"dataframe\">\n",
       "  <thead>\n",
       "    <tr style=\"text-align: right;\">\n",
       "      <th></th>\n",
       "      <th>PcntSpeed_85thAll</th>\n",
       "      <th>PcntSpeed_5thAll</th>\n",
       "      <th>TotalIntervals_85thAll</th>\n",
       "      <th>PcntInterval_85thAll</th>\n",
       "      <th>StdDev_85thAll</th>\n",
       "      <th>PcntSpeed_85thWd</th>\n",
       "      <th>PcntSpeed_5thWd</th>\n",
       "      <th>TotalIntervals_85thWd</th>\n",
       "      <th>PcntInterval_85thWd</th>\n",
       "      <th>StdDev_85thWd</th>\n",
       "      <th>...</th>\n",
       "      <th>PcntSpeed_85thWdtime</th>\n",
       "      <th>PcntSpeed_5thWdtime</th>\n",
       "      <th>TotalIntervals_Wdtime</th>\n",
       "      <th>PcntInterval_Wdtime</th>\n",
       "      <th>StdDev_Wdtime</th>\n",
       "      <th>PcntSpeed_5thWdayAM</th>\n",
       "      <th>AvgSpeed_WdayAM</th>\n",
       "      <th>TotalIntervals_WdayAM</th>\n",
       "      <th>PcntInterval_WdayAM</th>\n",
       "      <th>StdDev_WdayAM</th>\n",
       "    </tr>\n",
       "    <tr>\n",
       "      <th>LINK_DIR</th>\n",
       "      <th></th>\n",
       "      <th></th>\n",
       "      <th></th>\n",
       "      <th></th>\n",
       "      <th></th>\n",
       "      <th></th>\n",
       "      <th></th>\n",
       "      <th></th>\n",
       "      <th></th>\n",
       "      <th></th>\n",
       "      <th></th>\n",
       "      <th></th>\n",
       "      <th></th>\n",
       "      <th></th>\n",
       "      <th></th>\n",
       "      <th></th>\n",
       "      <th></th>\n",
       "      <th></th>\n",
       "      <th></th>\n",
       "      <th></th>\n",
       "      <th></th>\n",
       "    </tr>\n",
       "  </thead>\n",
       "  <tbody>\n",
       "    <tr>\n",
       "      <th>998969850F</th>\n",
       "      <td>42.87</td>\n",
       "      <td>18.639</td>\n",
       "      <td>474</td>\n",
       "      <td>0.692</td>\n",
       "      <td>8.84</td>\n",
       "      <td>42.87</td>\n",
       "      <td>18.018</td>\n",
       "      <td>2799</td>\n",
       "      <td>3.826</td>\n",
       "      <td>9.22</td>\n",
       "      <td>...</td>\n",
       "      <td>41.627</td>\n",
       "      <td>18.018</td>\n",
       "      <td>2587</td>\n",
       "      <td>3.536</td>\n",
       "      <td>8.938</td>\n",
       "      <td>18.018</td>\n",
       "      <td>33.838</td>\n",
       "      <td>440</td>\n",
       "      <td>0.728</td>\n",
       "      <td>8.698</td>\n",
       "    </tr>\n",
       "  </tbody>\n",
       "</table>\n",
       "<p>1 rows × 25 columns</p>\n",
       "</div>"
      ],
      "text/plain": [
       "            PcntSpeed_85thAll  PcntSpeed_5thAll  TotalIntervals_85thAll  \\\n",
       "LINK_DIR                                                                  \n",
       "998969850F              42.87            18.639                     474   \n",
       "\n",
       "            PcntInterval_85thAll  StdDev_85thAll  PcntSpeed_85thWd  \\\n",
       "LINK_DIR                                                             \n",
       "998969850F                 0.692            8.84             42.87   \n",
       "\n",
       "            PcntSpeed_5thWd  TotalIntervals_85thWd  PcntInterval_85thWd  \\\n",
       "LINK_DIR                                                                  \n",
       "998969850F           18.018                   2799                3.826   \n",
       "\n",
       "            StdDev_85thWd      ...        PcntSpeed_85thWdtime  \\\n",
       "LINK_DIR                       ...                               \n",
       "998969850F           9.22      ...                      41.627   \n",
       "\n",
       "            PcntSpeed_5thWdtime  TotalIntervals_Wdtime  PcntInterval_Wdtime  \\\n",
       "LINK_DIR                                                                      \n",
       "998969850F               18.018                   2587                3.536   \n",
       "\n",
       "            StdDev_Wdtime  PcntSpeed_5thWdayAM  AvgSpeed_WdayAM  \\\n",
       "LINK_DIR                                                          \n",
       "998969850F          8.938               18.018           33.838   \n",
       "\n",
       "            TotalIntervals_WdayAM  PcntInterval_WdayAM  StdDev_WdayAM  \n",
       "LINK_DIR                                                               \n",
       "998969850F                    440                0.728          8.698  \n",
       "\n",
       "[1 rows x 25 columns]"
      ]
     },
     "execution_count": 163,
     "metadata": {},
     "output_type": "execute_result"
    }
   ],
   "source": [
    "master = pd.merge(master, SpeedWdayAM, left_index = True, right_index = True)\n",
    "SpeedWdayAM = pd.DataFrame(columns = [])\n",
    "master"
   ]
  },
  {
   "cell_type": "code",
   "execution_count": 164,
   "metadata": {
    "collapsed": false
   },
   "outputs": [
    {
     "data": {
      "text/html": [
       "<div>\n",
       "<table border=\"1\" class=\"dataframe\">\n",
       "  <thead>\n",
       "    <tr style=\"text-align: right;\">\n",
       "      <th></th>\n",
       "      <th>PcntSpeed_85thAll</th>\n",
       "      <th>PcntSpeed_5thAll</th>\n",
       "      <th>TotalIntervals_85thAll</th>\n",
       "      <th>PcntInterval_85thAll</th>\n",
       "      <th>StdDev_85thAll</th>\n",
       "      <th>PcntSpeed_85thWd</th>\n",
       "      <th>PcntSpeed_5thWd</th>\n",
       "      <th>TotalIntervals_85thWd</th>\n",
       "      <th>PcntInterval_85thWd</th>\n",
       "      <th>StdDev_85thWd</th>\n",
       "      <th>...</th>\n",
       "      <th>PcntSpeed_5thWdayAM</th>\n",
       "      <th>AvgSpeed_WdayAM</th>\n",
       "      <th>TotalIntervals_WdayAM</th>\n",
       "      <th>PcntInterval_WdayAM</th>\n",
       "      <th>StdDev_WdayAM</th>\n",
       "      <th>PcntSpeed_5thWdayMD</th>\n",
       "      <th>AvgSpeed_WdayMD</th>\n",
       "      <th>TotalIntervals_WdayMD</th>\n",
       "      <th>PcntInterval_WdayMD</th>\n",
       "      <th>StdDev_WdayMD</th>\n",
       "    </tr>\n",
       "    <tr>\n",
       "      <th>LINK_DIR</th>\n",
       "      <th></th>\n",
       "      <th></th>\n",
       "      <th></th>\n",
       "      <th></th>\n",
       "      <th></th>\n",
       "      <th></th>\n",
       "      <th></th>\n",
       "      <th></th>\n",
       "      <th></th>\n",
       "      <th></th>\n",
       "      <th></th>\n",
       "      <th></th>\n",
       "      <th></th>\n",
       "      <th></th>\n",
       "      <th></th>\n",
       "      <th></th>\n",
       "      <th></th>\n",
       "      <th></th>\n",
       "      <th></th>\n",
       "      <th></th>\n",
       "      <th></th>\n",
       "    </tr>\n",
       "  </thead>\n",
       "  <tbody>\n",
       "    <tr>\n",
       "      <th>998969850F</th>\n",
       "      <td>42.87</td>\n",
       "      <td>18.639</td>\n",
       "      <td>474</td>\n",
       "      <td>0.692</td>\n",
       "      <td>8.84</td>\n",
       "      <td>42.87</td>\n",
       "      <td>18.018</td>\n",
       "      <td>2799</td>\n",
       "      <td>3.826</td>\n",
       "      <td>9.22</td>\n",
       "      <td>...</td>\n",
       "      <td>18.018</td>\n",
       "      <td>33.838</td>\n",
       "      <td>440</td>\n",
       "      <td>0.728</td>\n",
       "      <td>8.698</td>\n",
       "      <td>18.639</td>\n",
       "      <td>34.014</td>\n",
       "      <td>1367</td>\n",
       "      <td>1.899</td>\n",
       "      <td>8.661</td>\n",
       "    </tr>\n",
       "  </tbody>\n",
       "</table>\n",
       "<p>1 rows × 30 columns</p>\n",
       "</div>"
      ],
      "text/plain": [
       "            PcntSpeed_85thAll  PcntSpeed_5thAll  TotalIntervals_85thAll  \\\n",
       "LINK_DIR                                                                  \n",
       "998969850F              42.87            18.639                     474   \n",
       "\n",
       "            PcntInterval_85thAll  StdDev_85thAll  PcntSpeed_85thWd  \\\n",
       "LINK_DIR                                                             \n",
       "998969850F                 0.692            8.84             42.87   \n",
       "\n",
       "            PcntSpeed_5thWd  TotalIntervals_85thWd  PcntInterval_85thWd  \\\n",
       "LINK_DIR                                                                  \n",
       "998969850F           18.018                   2799                3.826   \n",
       "\n",
       "            StdDev_85thWd      ...        PcntSpeed_5thWdayAM  \\\n",
       "LINK_DIR                       ...                              \n",
       "998969850F           9.22      ...                     18.018   \n",
       "\n",
       "            AvgSpeed_WdayAM  TotalIntervals_WdayAM  PcntInterval_WdayAM  \\\n",
       "LINK_DIR                                                                  \n",
       "998969850F           33.838                    440                0.728   \n",
       "\n",
       "            StdDev_WdayAM  PcntSpeed_5thWdayMD  AvgSpeed_WdayMD  \\\n",
       "LINK_DIR                                                          \n",
       "998969850F          8.698               18.639           34.014   \n",
       "\n",
       "            TotalIntervals_WdayMD  PcntInterval_WdayMD  StdDev_WdayMD  \n",
       "LINK_DIR                                                               \n",
       "998969850F                   1367                1.899          8.661  \n",
       "\n",
       "[1 rows x 30 columns]"
      ]
     },
     "execution_count": 164,
     "metadata": {},
     "output_type": "execute_result"
    }
   ],
   "source": [
    "master = pd.merge(master, SpeedWdayMD, left_index = True, right_index = True)\n",
    "SpeedWdayMD = pd.DataFrame(columns = [])\n",
    "master"
   ]
  },
  {
   "cell_type": "code",
   "execution_count": 165,
   "metadata": {
    "collapsed": false
   },
   "outputs": [
    {
     "data": {
      "text/html": [
       "<div>\n",
       "<table border=\"1\" class=\"dataframe\">\n",
       "  <thead>\n",
       "    <tr style=\"text-align: right;\">\n",
       "      <th></th>\n",
       "      <th>PcntSpeed_85thAll</th>\n",
       "      <th>PcntSpeed_5thAll</th>\n",
       "      <th>TotalIntervals_85thAll</th>\n",
       "      <th>PcntInterval_85thAll</th>\n",
       "      <th>StdDev_85thAll</th>\n",
       "      <th>PcntSpeed_85thWd</th>\n",
       "      <th>PcntSpeed_5thWd</th>\n",
       "      <th>TotalIntervals_85thWd</th>\n",
       "      <th>PcntInterval_85thWd</th>\n",
       "      <th>StdDev_85thWd</th>\n",
       "      <th>...</th>\n",
       "      <th>PcntSpeed_5thWdayMD</th>\n",
       "      <th>AvgSpeed_WdayMD</th>\n",
       "      <th>TotalIntervals_WdayMD</th>\n",
       "      <th>PcntInterval_WdayMD</th>\n",
       "      <th>StdDev_WdayMD</th>\n",
       "      <th>PcntSpeed_5thWdayPM</th>\n",
       "      <th>AvgSpeed_WdayPM</th>\n",
       "      <th>TotalIntervals_WdayPM</th>\n",
       "      <th>PcntInterval_WdayPM</th>\n",
       "      <th>StdDev_WdayPM</th>\n",
       "    </tr>\n",
       "    <tr>\n",
       "      <th>LINK_DIR</th>\n",
       "      <th></th>\n",
       "      <th></th>\n",
       "      <th></th>\n",
       "      <th></th>\n",
       "      <th></th>\n",
       "      <th></th>\n",
       "      <th></th>\n",
       "      <th></th>\n",
       "      <th></th>\n",
       "      <th></th>\n",
       "      <th></th>\n",
       "      <th></th>\n",
       "      <th></th>\n",
       "      <th></th>\n",
       "      <th></th>\n",
       "      <th></th>\n",
       "      <th></th>\n",
       "      <th></th>\n",
       "      <th></th>\n",
       "      <th></th>\n",
       "      <th></th>\n",
       "    </tr>\n",
       "  </thead>\n",
       "  <tbody>\n",
       "    <tr>\n",
       "      <th>998969850F</th>\n",
       "      <td>42.87</td>\n",
       "      <td>18.639</td>\n",
       "      <td>474</td>\n",
       "      <td>0.692</td>\n",
       "      <td>8.84</td>\n",
       "      <td>42.87</td>\n",
       "      <td>18.018</td>\n",
       "      <td>2799</td>\n",
       "      <td>3.826</td>\n",
       "      <td>9.22</td>\n",
       "      <td>...</td>\n",
       "      <td>18.639</td>\n",
       "      <td>34.014</td>\n",
       "      <td>1367</td>\n",
       "      <td>1.899</td>\n",
       "      <td>8.661</td>\n",
       "      <td>16.775</td>\n",
       "      <td>31.642</td>\n",
       "      <td>651</td>\n",
       "      <td>0.962</td>\n",
       "      <td>9.324</td>\n",
       "    </tr>\n",
       "  </tbody>\n",
       "</table>\n",
       "<p>1 rows × 35 columns</p>\n",
       "</div>"
      ],
      "text/plain": [
       "            PcntSpeed_85thAll  PcntSpeed_5thAll  TotalIntervals_85thAll  \\\n",
       "LINK_DIR                                                                  \n",
       "998969850F              42.87            18.639                     474   \n",
       "\n",
       "            PcntInterval_85thAll  StdDev_85thAll  PcntSpeed_85thWd  \\\n",
       "LINK_DIR                                                             \n",
       "998969850F                 0.692            8.84             42.87   \n",
       "\n",
       "            PcntSpeed_5thWd  TotalIntervals_85thWd  PcntInterval_85thWd  \\\n",
       "LINK_DIR                                                                  \n",
       "998969850F           18.018                   2799                3.826   \n",
       "\n",
       "            StdDev_85thWd      ...        PcntSpeed_5thWdayMD  \\\n",
       "LINK_DIR                       ...                              \n",
       "998969850F           9.22      ...                     18.639   \n",
       "\n",
       "            AvgSpeed_WdayMD  TotalIntervals_WdayMD  PcntInterval_WdayMD  \\\n",
       "LINK_DIR                                                                  \n",
       "998969850F           34.014                   1367                1.899   \n",
       "\n",
       "            StdDev_WdayMD  PcntSpeed_5thWdayPM  AvgSpeed_WdayPM  \\\n",
       "LINK_DIR                                                          \n",
       "998969850F          8.661               16.775           31.642   \n",
       "\n",
       "            TotalIntervals_WdayPM  PcntInterval_WdayPM  StdDev_WdayPM  \n",
       "LINK_DIR                                                               \n",
       "998969850F                    651                0.962          9.324  \n",
       "\n",
       "[1 rows x 35 columns]"
      ]
     },
     "execution_count": 165,
     "metadata": {},
     "output_type": "execute_result"
    }
   ],
   "source": [
    "master = pd.merge(master, SpeedWdayPM, left_index = True, right_index = True)\n",
    "SpeedWdayPM = pd.DataFrame(columns = [])\n",
    "master"
   ]
  },
  {
   "cell_type": "code",
   "execution_count": 166,
   "metadata": {
    "collapsed": false
   },
   "outputs": [
    {
     "data": {
      "text/html": [
       "<div>\n",
       "<table border=\"1\" class=\"dataframe\">\n",
       "  <thead>\n",
       "    <tr style=\"text-align: right;\">\n",
       "      <th></th>\n",
       "      <th>PcntSpeed_85thAll</th>\n",
       "      <th>PcntSpeed_5thAll</th>\n",
       "      <th>TotalIntervals_85thAll</th>\n",
       "      <th>PcntInterval_85thAll</th>\n",
       "      <th>StdDev_85thAll</th>\n",
       "      <th>PcntSpeed_85thWd</th>\n",
       "      <th>PcntSpeed_5thWd</th>\n",
       "      <th>TotalIntervals_85thWd</th>\n",
       "      <th>PcntInterval_85thWd</th>\n",
       "      <th>StdDev_85thWd</th>\n",
       "      <th>...</th>\n",
       "      <th>PcntSpeed_5thWdayPM</th>\n",
       "      <th>AvgSpeed_WdayPM</th>\n",
       "      <th>TotalIntervals_WdayPM</th>\n",
       "      <th>PcntInterval_WdayPM</th>\n",
       "      <th>StdDev_WdayPM</th>\n",
       "      <th>TTI_SL_AM</th>\n",
       "      <th>PTI_SL_AM</th>\n",
       "      <th>TTI_85thALL_AM</th>\n",
       "      <th>PTI_85thALL_AM</th>\n",
       "      <th>BTI_AM</th>\n",
       "    </tr>\n",
       "    <tr>\n",
       "      <th>LINK_DIR</th>\n",
       "      <th></th>\n",
       "      <th></th>\n",
       "      <th></th>\n",
       "      <th></th>\n",
       "      <th></th>\n",
       "      <th></th>\n",
       "      <th></th>\n",
       "      <th></th>\n",
       "      <th></th>\n",
       "      <th></th>\n",
       "      <th></th>\n",
       "      <th></th>\n",
       "      <th></th>\n",
       "      <th></th>\n",
       "      <th></th>\n",
       "      <th></th>\n",
       "      <th></th>\n",
       "      <th></th>\n",
       "      <th></th>\n",
       "      <th></th>\n",
       "      <th></th>\n",
       "    </tr>\n",
       "  </thead>\n",
       "  <tbody>\n",
       "    <tr>\n",
       "      <th>998969850F</th>\n",
       "      <td>42.87</td>\n",
       "      <td>18.639</td>\n",
       "      <td>474</td>\n",
       "      <td>0.692</td>\n",
       "      <td>8.84</td>\n",
       "      <td>42.87</td>\n",
       "      <td>18.018</td>\n",
       "      <td>2799</td>\n",
       "      <td>3.826</td>\n",
       "      <td>9.22</td>\n",
       "      <td>...</td>\n",
       "      <td>16.775</td>\n",
       "      <td>31.642</td>\n",
       "      <td>651</td>\n",
       "      <td>0.962</td>\n",
       "      <td>9.324</td>\n",
       "      <td>1.309</td>\n",
       "      <td>2.4</td>\n",
       "      <td>1.255</td>\n",
       "      <td>2.3</td>\n",
       "      <td>0.833</td>\n",
       "    </tr>\n",
       "  </tbody>\n",
       "</table>\n",
       "<p>1 rows × 40 columns</p>\n",
       "</div>"
      ],
      "text/plain": [
       "            PcntSpeed_85thAll  PcntSpeed_5thAll  TotalIntervals_85thAll  \\\n",
       "LINK_DIR                                                                  \n",
       "998969850F              42.87            18.639                     474   \n",
       "\n",
       "            PcntInterval_85thAll  StdDev_85thAll  PcntSpeed_85thWd  \\\n",
       "LINK_DIR                                                             \n",
       "998969850F                 0.692            8.84             42.87   \n",
       "\n",
       "            PcntSpeed_5thWd  TotalIntervals_85thWd  PcntInterval_85thWd  \\\n",
       "LINK_DIR                                                                  \n",
       "998969850F           18.018                   2799                3.826   \n",
       "\n",
       "            StdDev_85thWd   ...    PcntSpeed_5thWdayPM  AvgSpeed_WdayPM  \\\n",
       "LINK_DIR                    ...                                           \n",
       "998969850F           9.22   ...                 16.775           31.642   \n",
       "\n",
       "            TotalIntervals_WdayPM  PcntInterval_WdayPM  StdDev_WdayPM  \\\n",
       "LINK_DIR                                                                \n",
       "998969850F                    651                0.962          9.324   \n",
       "\n",
       "            TTI_SL_AM  PTI_SL_AM  TTI_85thALL_AM  PTI_85thALL_AM  BTI_AM  \n",
       "LINK_DIR                                                                  \n",
       "998969850F      1.309        2.4           1.255             2.3   0.833  \n",
       "\n",
       "[1 rows x 40 columns]"
      ]
     },
     "execution_count": 166,
     "metadata": {},
     "output_type": "execute_result"
    }
   ],
   "source": [
    "master = pd.merge(master, IndecesAllAM, left_index = True, right_index = True)\n",
    "IndecesAllAM = pd.DataFrame(columns = [])\n",
    "master"
   ]
  },
  {
   "cell_type": "code",
   "execution_count": 167,
   "metadata": {
    "collapsed": false
   },
   "outputs": [
    {
     "data": {
      "text/html": [
       "<div>\n",
       "<table border=\"1\" class=\"dataframe\">\n",
       "  <thead>\n",
       "    <tr style=\"text-align: right;\">\n",
       "      <th></th>\n",
       "      <th>PcntSpeed_85thAll</th>\n",
       "      <th>PcntSpeed_5thAll</th>\n",
       "      <th>TotalIntervals_85thAll</th>\n",
       "      <th>PcntInterval_85thAll</th>\n",
       "      <th>StdDev_85thAll</th>\n",
       "      <th>PcntSpeed_85thWd</th>\n",
       "      <th>PcntSpeed_5thWd</th>\n",
       "      <th>TotalIntervals_85thWd</th>\n",
       "      <th>PcntInterval_85thWd</th>\n",
       "      <th>StdDev_85thWd</th>\n",
       "      <th>...</th>\n",
       "      <th>TTI_SL_AM</th>\n",
       "      <th>PTI_SL_AM</th>\n",
       "      <th>TTI_85thALL_AM</th>\n",
       "      <th>PTI_85thALL_AM</th>\n",
       "      <th>BTI_AM</th>\n",
       "      <th>TTI_SL_MD</th>\n",
       "      <th>PTI_SL_MD</th>\n",
       "      <th>TTI_85th_MD</th>\n",
       "      <th>PTI_85th_MD</th>\n",
       "      <th>BTI_MD</th>\n",
       "    </tr>\n",
       "    <tr>\n",
       "      <th>LINK_DIR</th>\n",
       "      <th></th>\n",
       "      <th></th>\n",
       "      <th></th>\n",
       "      <th></th>\n",
       "      <th></th>\n",
       "      <th></th>\n",
       "      <th></th>\n",
       "      <th></th>\n",
       "      <th></th>\n",
       "      <th></th>\n",
       "      <th></th>\n",
       "      <th></th>\n",
       "      <th></th>\n",
       "      <th></th>\n",
       "      <th></th>\n",
       "      <th></th>\n",
       "      <th></th>\n",
       "      <th></th>\n",
       "      <th></th>\n",
       "      <th></th>\n",
       "      <th></th>\n",
       "    </tr>\n",
       "  </thead>\n",
       "  <tbody>\n",
       "    <tr>\n",
       "      <th>998969850F</th>\n",
       "      <td>42.87</td>\n",
       "      <td>18.639</td>\n",
       "      <td>474</td>\n",
       "      <td>0.692</td>\n",
       "      <td>8.84</td>\n",
       "      <td>42.87</td>\n",
       "      <td>18.018</td>\n",
       "      <td>2799</td>\n",
       "      <td>3.826</td>\n",
       "      <td>9.22</td>\n",
       "      <td>...</td>\n",
       "      <td>1.309</td>\n",
       "      <td>2.4</td>\n",
       "      <td>1.255</td>\n",
       "      <td>2.3</td>\n",
       "      <td>0.833</td>\n",
       "      <td>1.311</td>\n",
       "      <td>2.483</td>\n",
       "      <td>1.238</td>\n",
       "      <td>2.345</td>\n",
       "      <td>0.894</td>\n",
       "    </tr>\n",
       "  </tbody>\n",
       "</table>\n",
       "<p>1 rows × 45 columns</p>\n",
       "</div>"
      ],
      "text/plain": [
       "            PcntSpeed_85thAll  PcntSpeed_5thAll  TotalIntervals_85thAll  \\\n",
       "LINK_DIR                                                                  \n",
       "998969850F              42.87            18.639                     474   \n",
       "\n",
       "            PcntInterval_85thAll  StdDev_85thAll  PcntSpeed_85thWd  \\\n",
       "LINK_DIR                                                             \n",
       "998969850F                 0.692            8.84             42.87   \n",
       "\n",
       "            PcntSpeed_5thWd  TotalIntervals_85thWd  PcntInterval_85thWd  \\\n",
       "LINK_DIR                                                                  \n",
       "998969850F           18.018                   2799                3.826   \n",
       "\n",
       "            StdDev_85thWd   ...    TTI_SL_AM  PTI_SL_AM  TTI_85thALL_AM  \\\n",
       "LINK_DIR                    ...                                           \n",
       "998969850F           9.22   ...        1.309        2.4           1.255   \n",
       "\n",
       "            PTI_85thALL_AM  BTI_AM  TTI_SL_MD  PTI_SL_MD  TTI_85th_MD  \\\n",
       "LINK_DIR                                                                \n",
       "998969850F             2.3   0.833      1.311      2.483        1.238   \n",
       "\n",
       "            PTI_85th_MD  BTI_MD  \n",
       "LINK_DIR                         \n",
       "998969850F        2.345   0.894  \n",
       "\n",
       "[1 rows x 45 columns]"
      ]
     },
     "execution_count": 167,
     "metadata": {},
     "output_type": "execute_result"
    }
   ],
   "source": [
    "master = pd.merge(master, IndecesAllMD, left_index = True, right_index = True)\n",
    "IndecesAllMD = pd.DataFrame(columns = [])\n",
    "master"
   ]
  },
  {
   "cell_type": "code",
   "execution_count": 168,
   "metadata": {
    "collapsed": false
   },
   "outputs": [
    {
     "data": {
      "text/html": [
       "<div>\n",
       "<table border=\"1\" class=\"dataframe\">\n",
       "  <thead>\n",
       "    <tr style=\"text-align: right;\">\n",
       "      <th></th>\n",
       "      <th>PcntSpeed_85thAll</th>\n",
       "      <th>PcntSpeed_5thAll</th>\n",
       "      <th>TotalIntervals_85thAll</th>\n",
       "      <th>PcntInterval_85thAll</th>\n",
       "      <th>StdDev_85thAll</th>\n",
       "      <th>PcntSpeed_85thWd</th>\n",
       "      <th>PcntSpeed_5thWd</th>\n",
       "      <th>TotalIntervals_85thWd</th>\n",
       "      <th>PcntInterval_85thWd</th>\n",
       "      <th>StdDev_85thWd</th>\n",
       "      <th>...</th>\n",
       "      <th>TTI_SL_MD</th>\n",
       "      <th>PTI_SL_MD</th>\n",
       "      <th>TTI_85th_MD</th>\n",
       "      <th>PTI_85th_MD</th>\n",
       "      <th>BTI_MD</th>\n",
       "      <th>TTI_SL_PM</th>\n",
       "      <th>PTI_SL_PM</th>\n",
       "      <th>TTI_85th_PM</th>\n",
       "      <th>PTI_85th_PM</th>\n",
       "      <th>BTI_PM</th>\n",
       "    </tr>\n",
       "    <tr>\n",
       "      <th>LINK_DIR</th>\n",
       "      <th></th>\n",
       "      <th></th>\n",
       "      <th></th>\n",
       "      <th></th>\n",
       "      <th></th>\n",
       "      <th></th>\n",
       "      <th></th>\n",
       "      <th></th>\n",
       "      <th></th>\n",
       "      <th></th>\n",
       "      <th></th>\n",
       "      <th></th>\n",
       "      <th></th>\n",
       "      <th></th>\n",
       "      <th></th>\n",
       "      <th></th>\n",
       "      <th></th>\n",
       "      <th></th>\n",
       "      <th></th>\n",
       "      <th></th>\n",
       "      <th></th>\n",
       "    </tr>\n",
       "  </thead>\n",
       "  <tbody>\n",
       "    <tr>\n",
       "      <th>998969850F</th>\n",
       "      <td>42.87</td>\n",
       "      <td>18.639</td>\n",
       "      <td>474</td>\n",
       "      <td>0.692</td>\n",
       "      <td>8.84</td>\n",
       "      <td>42.87</td>\n",
       "      <td>18.018</td>\n",
       "      <td>2799</td>\n",
       "      <td>3.826</td>\n",
       "      <td>9.22</td>\n",
       "      <td>...</td>\n",
       "      <td>1.311</td>\n",
       "      <td>2.483</td>\n",
       "      <td>1.238</td>\n",
       "      <td>2.345</td>\n",
       "      <td>0.894</td>\n",
       "      <td>1.393</td>\n",
       "      <td>2.769</td>\n",
       "      <td>1.277</td>\n",
       "      <td>2.538</td>\n",
       "      <td>0.988</td>\n",
       "    </tr>\n",
       "  </tbody>\n",
       "</table>\n",
       "<p>1 rows × 50 columns</p>\n",
       "</div>"
      ],
      "text/plain": [
       "            PcntSpeed_85thAll  PcntSpeed_5thAll  TotalIntervals_85thAll  \\\n",
       "LINK_DIR                                                                  \n",
       "998969850F              42.87            18.639                     474   \n",
       "\n",
       "            PcntInterval_85thAll  StdDev_85thAll  PcntSpeed_85thWd  \\\n",
       "LINK_DIR                                                             \n",
       "998969850F                 0.692            8.84             42.87   \n",
       "\n",
       "            PcntSpeed_5thWd  TotalIntervals_85thWd  PcntInterval_85thWd  \\\n",
       "LINK_DIR                                                                  \n",
       "998969850F           18.018                   2799                3.826   \n",
       "\n",
       "            StdDev_85thWd   ...    TTI_SL_MD  PTI_SL_MD  TTI_85th_MD  \\\n",
       "LINK_DIR                    ...                                        \n",
       "998969850F           9.22   ...        1.311      2.483        1.238   \n",
       "\n",
       "            PTI_85th_MD  BTI_MD  TTI_SL_PM  PTI_SL_PM  TTI_85th_PM  \\\n",
       "LINK_DIR                                                             \n",
       "998969850F        2.345   0.894      1.393      2.769        1.277   \n",
       "\n",
       "            PTI_85th_PM  BTI_PM  \n",
       "LINK_DIR                         \n",
       "998969850F        2.538   0.988  \n",
       "\n",
       "[1 rows x 50 columns]"
      ]
     },
     "execution_count": 168,
     "metadata": {},
     "output_type": "execute_result"
    }
   ],
   "source": [
    "master = pd.merge(master, IndecesAllPM, left_index = True, right_index = True)\n",
    "IndecesAllPM = pd.DataFrame(columns = [])\n",
    "master"
   ]
  },
  {
   "cell_type": "code",
   "execution_count": 169,
   "metadata": {
    "collapsed": false
   },
   "outputs": [
    {
     "data": {
      "text/html": [
       "<div>\n",
       "<table border=\"1\" class=\"dataframe\">\n",
       "  <thead>\n",
       "    <tr style=\"text-align: right;\">\n",
       "      <th></th>\n",
       "      <th>PcntSpeed_85thAll</th>\n",
       "      <th>PcntSpeed_5thAll</th>\n",
       "      <th>TotalIntervals_85thAll</th>\n",
       "      <th>PcntInterval_85thAll</th>\n",
       "      <th>StdDev_85thAll</th>\n",
       "      <th>PcntSpeed_85thWd</th>\n",
       "      <th>PcntSpeed_5thWd</th>\n",
       "      <th>TotalIntervals_85thWd</th>\n",
       "      <th>PcntInterval_85thWd</th>\n",
       "      <th>StdDev_85thWd</th>\n",
       "      <th>...</th>\n",
       "      <th>TTI_85th_MD</th>\n",
       "      <th>PTI_85th_MD</th>\n",
       "      <th>BTI_MD</th>\n",
       "      <th>TTI_SL_PM</th>\n",
       "      <th>PTI_SL_PM</th>\n",
       "      <th>TTI_85th_PM</th>\n",
       "      <th>PTI_85th_PM</th>\n",
       "      <th>BTI_PM</th>\n",
       "      <th>TTI_85thWd_AM</th>\n",
       "      <th>PTI_85thWd_AM</th>\n",
       "    </tr>\n",
       "    <tr>\n",
       "      <th>LINK_DIR</th>\n",
       "      <th></th>\n",
       "      <th></th>\n",
       "      <th></th>\n",
       "      <th></th>\n",
       "      <th></th>\n",
       "      <th></th>\n",
       "      <th></th>\n",
       "      <th></th>\n",
       "      <th></th>\n",
       "      <th></th>\n",
       "      <th></th>\n",
       "      <th></th>\n",
       "      <th></th>\n",
       "      <th></th>\n",
       "      <th></th>\n",
       "      <th></th>\n",
       "      <th></th>\n",
       "      <th></th>\n",
       "      <th></th>\n",
       "      <th></th>\n",
       "      <th></th>\n",
       "    </tr>\n",
       "  </thead>\n",
       "  <tbody>\n",
       "    <tr>\n",
       "      <th>998969850F</th>\n",
       "      <td>42.87</td>\n",
       "      <td>18.639</td>\n",
       "      <td>474</td>\n",
       "      <td>0.692</td>\n",
       "      <td>8.84</td>\n",
       "      <td>42.87</td>\n",
       "      <td>18.018</td>\n",
       "      <td>2799</td>\n",
       "      <td>3.826</td>\n",
       "      <td>9.22</td>\n",
       "      <td>...</td>\n",
       "      <td>1.238</td>\n",
       "      <td>2.345</td>\n",
       "      <td>0.894</td>\n",
       "      <td>1.393</td>\n",
       "      <td>2.769</td>\n",
       "      <td>1.277</td>\n",
       "      <td>2.538</td>\n",
       "      <td>0.988</td>\n",
       "      <td>1.249</td>\n",
       "      <td>2.345</td>\n",
       "    </tr>\n",
       "  </tbody>\n",
       "</table>\n",
       "<p>1 rows × 52 columns</p>\n",
       "</div>"
      ],
      "text/plain": [
       "            PcntSpeed_85thAll  PcntSpeed_5thAll  TotalIntervals_85thAll  \\\n",
       "LINK_DIR                                                                  \n",
       "998969850F              42.87            18.639                     474   \n",
       "\n",
       "            PcntInterval_85thAll  StdDev_85thAll  PcntSpeed_85thWd  \\\n",
       "LINK_DIR                                                             \n",
       "998969850F                 0.692            8.84             42.87   \n",
       "\n",
       "            PcntSpeed_5thWd  TotalIntervals_85thWd  PcntInterval_85thWd  \\\n",
       "LINK_DIR                                                                  \n",
       "998969850F           18.018                   2799                3.826   \n",
       "\n",
       "            StdDev_85thWd      ...        TTI_85th_MD  PTI_85th_MD  BTI_MD  \\\n",
       "LINK_DIR                       ...                                           \n",
       "998969850F           9.22      ...              1.238        2.345   0.894   \n",
       "\n",
       "            TTI_SL_PM  PTI_SL_PM  TTI_85th_PM  PTI_85th_PM  BTI_PM  \\\n",
       "LINK_DIR                                                             \n",
       "998969850F      1.393      2.769        1.277        2.538   0.988   \n",
       "\n",
       "            TTI_85thWd_AM  PTI_85thWd_AM  \n",
       "LINK_DIR                                  \n",
       "998969850F          1.249          2.345  \n",
       "\n",
       "[1 rows x 52 columns]"
      ]
     },
     "execution_count": 169,
     "metadata": {},
     "output_type": "execute_result"
    }
   ],
   "source": [
    "master = pd.merge(master, IndecesWdayAM, left_index = True, right_index = True)\n",
    "IndecesWdayAM = pd.DataFrame(columns = [])\n",
    "master"
   ]
  },
  {
   "cell_type": "code",
   "execution_count": 170,
   "metadata": {
    "collapsed": false
   },
   "outputs": [
    {
     "data": {
      "text/html": [
       "<div>\n",
       "<table border=\"1\" class=\"dataframe\">\n",
       "  <thead>\n",
       "    <tr style=\"text-align: right;\">\n",
       "      <th></th>\n",
       "      <th>PcntSpeed_85thAll</th>\n",
       "      <th>PcntSpeed_5thAll</th>\n",
       "      <th>TotalIntervals_85thAll</th>\n",
       "      <th>PcntInterval_85thAll</th>\n",
       "      <th>StdDev_85thAll</th>\n",
       "      <th>PcntSpeed_85thWd</th>\n",
       "      <th>PcntSpeed_5thWd</th>\n",
       "      <th>TotalIntervals_85thWd</th>\n",
       "      <th>PcntInterval_85thWd</th>\n",
       "      <th>StdDev_85thWd</th>\n",
       "      <th>...</th>\n",
       "      <th>BTI_MD</th>\n",
       "      <th>TTI_SL_PM</th>\n",
       "      <th>PTI_SL_PM</th>\n",
       "      <th>TTI_85th_PM</th>\n",
       "      <th>PTI_85th_PM</th>\n",
       "      <th>BTI_PM</th>\n",
       "      <th>TTI_85thWd_AM</th>\n",
       "      <th>PTI_85thWd_AM</th>\n",
       "      <th>TTI_85thWd_MD</th>\n",
       "      <th>PTI_85thWd_MD</th>\n",
       "    </tr>\n",
       "    <tr>\n",
       "      <th>LINK_DIR</th>\n",
       "      <th></th>\n",
       "      <th></th>\n",
       "      <th></th>\n",
       "      <th></th>\n",
       "      <th></th>\n",
       "      <th></th>\n",
       "      <th></th>\n",
       "      <th></th>\n",
       "      <th></th>\n",
       "      <th></th>\n",
       "      <th></th>\n",
       "      <th></th>\n",
       "      <th></th>\n",
       "      <th></th>\n",
       "      <th></th>\n",
       "      <th></th>\n",
       "      <th></th>\n",
       "      <th></th>\n",
       "      <th></th>\n",
       "      <th></th>\n",
       "      <th></th>\n",
       "    </tr>\n",
       "  </thead>\n",
       "  <tbody>\n",
       "    <tr>\n",
       "      <th>998969850F</th>\n",
       "      <td>42.87</td>\n",
       "      <td>18.639</td>\n",
       "      <td>474</td>\n",
       "      <td>0.692</td>\n",
       "      <td>8.84</td>\n",
       "      <td>42.87</td>\n",
       "      <td>18.018</td>\n",
       "      <td>2799</td>\n",
       "      <td>3.826</td>\n",
       "      <td>9.22</td>\n",
       "      <td>...</td>\n",
       "      <td>0.894</td>\n",
       "      <td>1.393</td>\n",
       "      <td>2.769</td>\n",
       "      <td>1.277</td>\n",
       "      <td>2.538</td>\n",
       "      <td>0.988</td>\n",
       "      <td>1.249</td>\n",
       "      <td>2.345</td>\n",
       "      <td>1.242</td>\n",
       "      <td>2.267</td>\n",
       "    </tr>\n",
       "  </tbody>\n",
       "</table>\n",
       "<p>1 rows × 54 columns</p>\n",
       "</div>"
      ],
      "text/plain": [
       "            PcntSpeed_85thAll  PcntSpeed_5thAll  TotalIntervals_85thAll  \\\n",
       "LINK_DIR                                                                  \n",
       "998969850F              42.87            18.639                     474   \n",
       "\n",
       "            PcntInterval_85thAll  StdDev_85thAll  PcntSpeed_85thWd  \\\n",
       "LINK_DIR                                                             \n",
       "998969850F                 0.692            8.84             42.87   \n",
       "\n",
       "            PcntSpeed_5thWd  TotalIntervals_85thWd  PcntInterval_85thWd  \\\n",
       "LINK_DIR                                                                  \n",
       "998969850F           18.018                   2799                3.826   \n",
       "\n",
       "            StdDev_85thWd      ...        BTI_MD  TTI_SL_PM  PTI_SL_PM  \\\n",
       "LINK_DIR                       ...                                       \n",
       "998969850F           9.22      ...         0.894      1.393      2.769   \n",
       "\n",
       "            TTI_85th_PM  PTI_85th_PM  BTI_PM  TTI_85thWd_AM  PTI_85thWd_AM  \\\n",
       "LINK_DIR                                                                     \n",
       "998969850F        1.277        2.538   0.988          1.249          2.345   \n",
       "\n",
       "            TTI_85thWd_MD  PTI_85thWd_MD  \n",
       "LINK_DIR                                  \n",
       "998969850F          1.242          2.267  \n",
       "\n",
       "[1 rows x 54 columns]"
      ]
     },
     "execution_count": 170,
     "metadata": {},
     "output_type": "execute_result"
    }
   ],
   "source": [
    "master = pd.merge(master, IndecesWdayMD, left_index = True, right_index = True)\n",
    "IndecesWdayMD = pd.DataFrame(columns = [])\n",
    "master"
   ]
  },
  {
   "cell_type": "code",
   "execution_count": 171,
   "metadata": {
    "collapsed": false
   },
   "outputs": [
    {
     "data": {
      "text/html": [
       "<div>\n",
       "<table border=\"1\" class=\"dataframe\">\n",
       "  <thead>\n",
       "    <tr style=\"text-align: right;\">\n",
       "      <th></th>\n",
       "      <th>PcntSpeed_85thAll</th>\n",
       "      <th>PcntSpeed_5thAll</th>\n",
       "      <th>TotalIntervals_85thAll</th>\n",
       "      <th>PcntInterval_85thAll</th>\n",
       "      <th>StdDev_85thAll</th>\n",
       "      <th>PcntSpeed_85thWd</th>\n",
       "      <th>PcntSpeed_5thWd</th>\n",
       "      <th>TotalIntervals_85thWd</th>\n",
       "      <th>PcntInterval_85thWd</th>\n",
       "      <th>StdDev_85thWd</th>\n",
       "      <th>...</th>\n",
       "      <th>PTI_SL_PM</th>\n",
       "      <th>TTI_85th_PM</th>\n",
       "      <th>PTI_85th_PM</th>\n",
       "      <th>BTI_PM</th>\n",
       "      <th>TTI_85thWd_AM</th>\n",
       "      <th>PTI_85thWd_AM</th>\n",
       "      <th>TTI_85thWd_MD</th>\n",
       "      <th>PTI_85thWd_MD</th>\n",
       "      <th>TTI_85thWd_PM</th>\n",
       "      <th>PTI_85thWd_PM</th>\n",
       "    </tr>\n",
       "    <tr>\n",
       "      <th>LINK_DIR</th>\n",
       "      <th></th>\n",
       "      <th></th>\n",
       "      <th></th>\n",
       "      <th></th>\n",
       "      <th></th>\n",
       "      <th></th>\n",
       "      <th></th>\n",
       "      <th></th>\n",
       "      <th></th>\n",
       "      <th></th>\n",
       "      <th></th>\n",
       "      <th></th>\n",
       "      <th></th>\n",
       "      <th></th>\n",
       "      <th></th>\n",
       "      <th></th>\n",
       "      <th></th>\n",
       "      <th></th>\n",
       "      <th></th>\n",
       "      <th></th>\n",
       "      <th></th>\n",
       "    </tr>\n",
       "  </thead>\n",
       "  <tbody>\n",
       "    <tr>\n",
       "      <th>998969850F</th>\n",
       "      <td>42.87</td>\n",
       "      <td>18.639</td>\n",
       "      <td>474</td>\n",
       "      <td>0.692</td>\n",
       "      <td>8.84</td>\n",
       "      <td>42.87</td>\n",
       "      <td>18.018</td>\n",
       "      <td>2799</td>\n",
       "      <td>3.826</td>\n",
       "      <td>9.22</td>\n",
       "      <td>...</td>\n",
       "      <td>2.769</td>\n",
       "      <td>1.277</td>\n",
       "      <td>2.538</td>\n",
       "      <td>0.988</td>\n",
       "      <td>1.249</td>\n",
       "      <td>2.345</td>\n",
       "      <td>1.242</td>\n",
       "      <td>2.267</td>\n",
       "      <td>1.276</td>\n",
       "      <td>2.407</td>\n",
       "    </tr>\n",
       "  </tbody>\n",
       "</table>\n",
       "<p>1 rows × 56 columns</p>\n",
       "</div>"
      ],
      "text/plain": [
       "            PcntSpeed_85thAll  PcntSpeed_5thAll  TotalIntervals_85thAll  \\\n",
       "LINK_DIR                                                                  \n",
       "998969850F              42.87            18.639                     474   \n",
       "\n",
       "            PcntInterval_85thAll  StdDev_85thAll  PcntSpeed_85thWd  \\\n",
       "LINK_DIR                                                             \n",
       "998969850F                 0.692            8.84             42.87   \n",
       "\n",
       "            PcntSpeed_5thWd  TotalIntervals_85thWd  PcntInterval_85thWd  \\\n",
       "LINK_DIR                                                                  \n",
       "998969850F           18.018                   2799                3.826   \n",
       "\n",
       "            StdDev_85thWd      ...        PTI_SL_PM  TTI_85th_PM  PTI_85th_PM  \\\n",
       "LINK_DIR                       ...                                              \n",
       "998969850F           9.22      ...            2.769        1.277        2.538   \n",
       "\n",
       "            BTI_PM  TTI_85thWd_AM  PTI_85thWd_AM  TTI_85thWd_MD  \\\n",
       "LINK_DIR                                                          \n",
       "998969850F   0.988          1.249          2.345          1.242   \n",
       "\n",
       "            PTI_85thWd_MD  TTI_85thWd_PM  PTI_85thWd_PM  \n",
       "LINK_DIR                                                 \n",
       "998969850F          2.267          1.276          2.407  \n",
       "\n",
       "[1 rows x 56 columns]"
      ]
     },
     "execution_count": 171,
     "metadata": {},
     "output_type": "execute_result"
    }
   ],
   "source": [
    "master = pd.merge(master, IndecesWdayPM, left_index = True, right_index = True)\n",
    "IndecesWdayPM = pd.DataFrame(columns = [])\n",
    "master"
   ]
  },
  {
   "cell_type": "code",
   "execution_count": 172,
   "metadata": {
    "collapsed": false
   },
   "outputs": [
    {
     "data": {
      "text/html": [
       "<div>\n",
       "<table border=\"1\" class=\"dataframe\">\n",
       "  <thead>\n",
       "    <tr style=\"text-align: right;\">\n",
       "      <th></th>\n",
       "      <th>PcntSpeed_85thAll</th>\n",
       "      <th>PcntSpeed_5thAll</th>\n",
       "      <th>TotalIntervals_85thAll</th>\n",
       "      <th>PcntInterval_85thAll</th>\n",
       "      <th>StdDev_85thAll</th>\n",
       "      <th>PcntSpeed_85thWd</th>\n",
       "      <th>PcntSpeed_5thWd</th>\n",
       "      <th>TotalIntervals_85thWd</th>\n",
       "      <th>PcntInterval_85thWd</th>\n",
       "      <th>StdDev_85thWd</th>\n",
       "      <th>...</th>\n",
       "      <th>TTI_85thWd_AM</th>\n",
       "      <th>PTI_85thWd_AM</th>\n",
       "      <th>TTI_85thWd_MD</th>\n",
       "      <th>PTI_85thWd_MD</th>\n",
       "      <th>TTI_85thWd_PM</th>\n",
       "      <th>PTI_85thWd_PM</th>\n",
       "      <th>TTI_60thWdtime_AM</th>\n",
       "      <th>PTI_60thWdtime_AM</th>\n",
       "      <th>TTI_85thWdtime_AM</th>\n",
       "      <th>PTI_85thWdtime_AM</th>\n",
       "    </tr>\n",
       "    <tr>\n",
       "      <th>LINK_DIR</th>\n",
       "      <th></th>\n",
       "      <th></th>\n",
       "      <th></th>\n",
       "      <th></th>\n",
       "      <th></th>\n",
       "      <th></th>\n",
       "      <th></th>\n",
       "      <th></th>\n",
       "      <th></th>\n",
       "      <th></th>\n",
       "      <th></th>\n",
       "      <th></th>\n",
       "      <th></th>\n",
       "      <th></th>\n",
       "      <th></th>\n",
       "      <th></th>\n",
       "      <th></th>\n",
       "      <th></th>\n",
       "      <th></th>\n",
       "      <th></th>\n",
       "      <th></th>\n",
       "    </tr>\n",
       "  </thead>\n",
       "  <tbody>\n",
       "    <tr>\n",
       "      <th>998969850F</th>\n",
       "      <td>42.87</td>\n",
       "      <td>18.639</td>\n",
       "      <td>474</td>\n",
       "      <td>0.692</td>\n",
       "      <td>8.84</td>\n",
       "      <td>42.87</td>\n",
       "      <td>18.018</td>\n",
       "      <td>2799</td>\n",
       "      <td>3.826</td>\n",
       "      <td>9.22</td>\n",
       "      <td>...</td>\n",
       "      <td>1.249</td>\n",
       "      <td>2.345</td>\n",
       "      <td>1.242</td>\n",
       "      <td>2.267</td>\n",
       "      <td>1.276</td>\n",
       "      <td>2.407</td>\n",
       "      <td>1.083</td>\n",
       "      <td>2.034</td>\n",
       "      <td>1.249</td>\n",
       "      <td>2.345</td>\n",
       "    </tr>\n",
       "  </tbody>\n",
       "</table>\n",
       "<p>1 rows × 60 columns</p>\n",
       "</div>"
      ],
      "text/plain": [
       "            PcntSpeed_85thAll  PcntSpeed_5thAll  TotalIntervals_85thAll  \\\n",
       "LINK_DIR                                                                  \n",
       "998969850F              42.87            18.639                     474   \n",
       "\n",
       "            PcntInterval_85thAll  StdDev_85thAll  PcntSpeed_85thWd  \\\n",
       "LINK_DIR                                                             \n",
       "998969850F                 0.692            8.84             42.87   \n",
       "\n",
       "            PcntSpeed_5thWd  TotalIntervals_85thWd  PcntInterval_85thWd  \\\n",
       "LINK_DIR                                                                  \n",
       "998969850F           18.018                   2799                3.826   \n",
       "\n",
       "            StdDev_85thWd        ...          TTI_85thWd_AM  PTI_85thWd_AM  \\\n",
       "LINK_DIR                         ...                                         \n",
       "998969850F           9.22        ...                  1.249          2.345   \n",
       "\n",
       "            TTI_85thWd_MD  PTI_85thWd_MD  TTI_85thWd_PM  PTI_85thWd_PM  \\\n",
       "LINK_DIR                                                                 \n",
       "998969850F          1.242          2.267          1.276          2.407   \n",
       "\n",
       "            TTI_60thWdtime_AM  PTI_60thWdtime_AM  TTI_85thWdtime_AM  \\\n",
       "LINK_DIR                                                              \n",
       "998969850F              1.083              2.034              1.249   \n",
       "\n",
       "            PTI_85thWdtime_AM  \n",
       "LINK_DIR                       \n",
       "998969850F              2.345  \n",
       "\n",
       "[1 rows x 60 columns]"
      ]
     },
     "execution_count": 172,
     "metadata": {},
     "output_type": "execute_result"
    }
   ],
   "source": [
    "master = pd.merge(master, IndecesWdtimeAM, left_index = True, right_index = True)\n",
    "IndecesWdtimeAM = pd.DataFrame(columns = [])\n",
    "master"
   ]
  },
  {
   "cell_type": "code",
   "execution_count": 173,
   "metadata": {
    "collapsed": false
   },
   "outputs": [
    {
     "data": {
      "text/html": [
       "<div>\n",
       "<table border=\"1\" class=\"dataframe\">\n",
       "  <thead>\n",
       "    <tr style=\"text-align: right;\">\n",
       "      <th></th>\n",
       "      <th>PcntSpeed_85thAll</th>\n",
       "      <th>PcntSpeed_5thAll</th>\n",
       "      <th>TotalIntervals_85thAll</th>\n",
       "      <th>PcntInterval_85thAll</th>\n",
       "      <th>StdDev_85thAll</th>\n",
       "      <th>PcntSpeed_85thWd</th>\n",
       "      <th>PcntSpeed_5thWd</th>\n",
       "      <th>TotalIntervals_85thWd</th>\n",
       "      <th>PcntInterval_85thWd</th>\n",
       "      <th>StdDev_85thWd</th>\n",
       "      <th>...</th>\n",
       "      <th>TTI_85thWd_PM</th>\n",
       "      <th>PTI_85thWd_PM</th>\n",
       "      <th>TTI_60thWdtime_AM</th>\n",
       "      <th>PTI_60thWdtime_AM</th>\n",
       "      <th>TTI_85thWdtime_AM</th>\n",
       "      <th>PTI_85thWdtime_AM</th>\n",
       "      <th>TTI_60thWdtime_MD</th>\n",
       "      <th>PTI_60thWdtime_MD</th>\n",
       "      <th>TTI_85thWdtime_MD</th>\n",
       "      <th>PTI_85thWdtime_MD</th>\n",
       "    </tr>\n",
       "    <tr>\n",
       "      <th>LINK_DIR</th>\n",
       "      <th></th>\n",
       "      <th></th>\n",
       "      <th></th>\n",
       "      <th></th>\n",
       "      <th></th>\n",
       "      <th></th>\n",
       "      <th></th>\n",
       "      <th></th>\n",
       "      <th></th>\n",
       "      <th></th>\n",
       "      <th></th>\n",
       "      <th></th>\n",
       "      <th></th>\n",
       "      <th></th>\n",
       "      <th></th>\n",
       "      <th></th>\n",
       "      <th></th>\n",
       "      <th></th>\n",
       "      <th></th>\n",
       "      <th></th>\n",
       "      <th></th>\n",
       "    </tr>\n",
       "  </thead>\n",
       "  <tbody>\n",
       "    <tr>\n",
       "      <th>998969850F</th>\n",
       "      <td>42.87</td>\n",
       "      <td>18.639</td>\n",
       "      <td>474</td>\n",
       "      <td>0.692</td>\n",
       "      <td>8.84</td>\n",
       "      <td>42.87</td>\n",
       "      <td>18.018</td>\n",
       "      <td>2799</td>\n",
       "      <td>3.826</td>\n",
       "      <td>9.22</td>\n",
       "      <td>...</td>\n",
       "      <td>1.276</td>\n",
       "      <td>2.407</td>\n",
       "      <td>1.083</td>\n",
       "      <td>2.034</td>\n",
       "      <td>1.249</td>\n",
       "      <td>2.345</td>\n",
       "      <td>1.078</td>\n",
       "      <td>1.967</td>\n",
       "      <td>1.242</td>\n",
       "      <td>2.267</td>\n",
       "    </tr>\n",
       "  </tbody>\n",
       "</table>\n",
       "<p>1 rows × 64 columns</p>\n",
       "</div>"
      ],
      "text/plain": [
       "            PcntSpeed_85thAll  PcntSpeed_5thAll  TotalIntervals_85thAll  \\\n",
       "LINK_DIR                                                                  \n",
       "998969850F              42.87            18.639                     474   \n",
       "\n",
       "            PcntInterval_85thAll  StdDev_85thAll  PcntSpeed_85thWd  \\\n",
       "LINK_DIR                                                             \n",
       "998969850F                 0.692            8.84             42.87   \n",
       "\n",
       "            PcntSpeed_5thWd  TotalIntervals_85thWd  PcntInterval_85thWd  \\\n",
       "LINK_DIR                                                                  \n",
       "998969850F           18.018                   2799                3.826   \n",
       "\n",
       "            StdDev_85thWd        ...          TTI_85thWd_PM  PTI_85thWd_PM  \\\n",
       "LINK_DIR                         ...                                         \n",
       "998969850F           9.22        ...                  1.276          2.407   \n",
       "\n",
       "            TTI_60thWdtime_AM  PTI_60thWdtime_AM  TTI_85thWdtime_AM  \\\n",
       "LINK_DIR                                                              \n",
       "998969850F              1.083              2.034              1.249   \n",
       "\n",
       "            PTI_85thWdtime_AM  TTI_60thWdtime_MD  PTI_60thWdtime_MD  \\\n",
       "LINK_DIR                                                              \n",
       "998969850F              2.345              1.078              1.967   \n",
       "\n",
       "            TTI_85thWdtime_MD  PTI_85thWdtime_MD  \n",
       "LINK_DIR                                          \n",
       "998969850F              1.242              2.267  \n",
       "\n",
       "[1 rows x 64 columns]"
      ]
     },
     "execution_count": 173,
     "metadata": {},
     "output_type": "execute_result"
    }
   ],
   "source": [
    "master = pd.merge(master, IndecesWdtimeMD, left_index = True, right_index = True)\n",
    "IndecesWdtimeMD = pd.DataFrame(columns = [])\n",
    "master"
   ]
  },
  {
   "cell_type": "code",
   "execution_count": 174,
   "metadata": {
    "collapsed": false
   },
   "outputs": [
    {
     "data": {
      "text/html": [
       "<div>\n",
       "<table border=\"1\" class=\"dataframe\">\n",
       "  <thead>\n",
       "    <tr style=\"text-align: right;\">\n",
       "      <th></th>\n",
       "      <th>PcntSpeed_85thAll</th>\n",
       "      <th>PcntSpeed_5thAll</th>\n",
       "      <th>TotalIntervals_85thAll</th>\n",
       "      <th>PcntInterval_85thAll</th>\n",
       "      <th>StdDev_85thAll</th>\n",
       "      <th>PcntSpeed_85thWd</th>\n",
       "      <th>PcntSpeed_5thWd</th>\n",
       "      <th>TotalIntervals_85thWd</th>\n",
       "      <th>PcntInterval_85thWd</th>\n",
       "      <th>StdDev_85thWd</th>\n",
       "      <th>...</th>\n",
       "      <th>TTI_85thWdtime_AM</th>\n",
       "      <th>PTI_85thWdtime_AM</th>\n",
       "      <th>TTI_60thWdtime_MD</th>\n",
       "      <th>PTI_60thWdtime_MD</th>\n",
       "      <th>TTI_85thWdtime_MD</th>\n",
       "      <th>PTI_85thWdtime_MD</th>\n",
       "      <th>TTI_60thWdtime_PM</th>\n",
       "      <th>PTI_60thWdtime_PM</th>\n",
       "      <th>TTI_85thWdtime_PM</th>\n",
       "      <th>PTI_85thWdtime_PM</th>\n",
       "    </tr>\n",
       "    <tr>\n",
       "      <th>LINK_DIR</th>\n",
       "      <th></th>\n",
       "      <th></th>\n",
       "      <th></th>\n",
       "      <th></th>\n",
       "      <th></th>\n",
       "      <th></th>\n",
       "      <th></th>\n",
       "      <th></th>\n",
       "      <th></th>\n",
       "      <th></th>\n",
       "      <th></th>\n",
       "      <th></th>\n",
       "      <th></th>\n",
       "      <th></th>\n",
       "      <th></th>\n",
       "      <th></th>\n",
       "      <th></th>\n",
       "      <th></th>\n",
       "      <th></th>\n",
       "      <th></th>\n",
       "      <th></th>\n",
       "    </tr>\n",
       "  </thead>\n",
       "  <tbody>\n",
       "    <tr>\n",
       "      <th>998969850F</th>\n",
       "      <td>42.87</td>\n",
       "      <td>18.639</td>\n",
       "      <td>474</td>\n",
       "      <td>0.692</td>\n",
       "      <td>8.84</td>\n",
       "      <td>42.87</td>\n",
       "      <td>18.018</td>\n",
       "      <td>2799</td>\n",
       "      <td>3.826</td>\n",
       "      <td>9.22</td>\n",
       "      <td>...</td>\n",
       "      <td>1.249</td>\n",
       "      <td>2.345</td>\n",
       "      <td>1.078</td>\n",
       "      <td>1.967</td>\n",
       "      <td>1.242</td>\n",
       "      <td>2.267</td>\n",
       "      <td>1.08</td>\n",
       "      <td>2.037</td>\n",
       "      <td>1.276</td>\n",
       "      <td>2.407</td>\n",
       "    </tr>\n",
       "  </tbody>\n",
       "</table>\n",
       "<p>1 rows × 68 columns</p>\n",
       "</div>"
      ],
      "text/plain": [
       "            PcntSpeed_85thAll  PcntSpeed_5thAll  TotalIntervals_85thAll  \\\n",
       "LINK_DIR                                                                  \n",
       "998969850F              42.87            18.639                     474   \n",
       "\n",
       "            PcntInterval_85thAll  StdDev_85thAll  PcntSpeed_85thWd  \\\n",
       "LINK_DIR                                                             \n",
       "998969850F                 0.692            8.84             42.87   \n",
       "\n",
       "            PcntSpeed_5thWd  TotalIntervals_85thWd  PcntInterval_85thWd  \\\n",
       "LINK_DIR                                                                  \n",
       "998969850F           18.018                   2799                3.826   \n",
       "\n",
       "            StdDev_85thWd        ...          TTI_85thWdtime_AM  \\\n",
       "LINK_DIR                         ...                              \n",
       "998969850F           9.22        ...                      1.249   \n",
       "\n",
       "            PTI_85thWdtime_AM  TTI_60thWdtime_MD  PTI_60thWdtime_MD  \\\n",
       "LINK_DIR                                                              \n",
       "998969850F              2.345              1.078              1.967   \n",
       "\n",
       "            TTI_85thWdtime_MD  PTI_85thWdtime_MD  TTI_60thWdtime_PM  \\\n",
       "LINK_DIR                                                              \n",
       "998969850F              1.242              2.267               1.08   \n",
       "\n",
       "            PTI_60thWdtime_PM  TTI_85thWdtime_PM  PTI_85thWdtime_PM  \n",
       "LINK_DIR                                                             \n",
       "998969850F              2.037              1.276              2.407  \n",
       "\n",
       "[1 rows x 68 columns]"
      ]
     },
     "execution_count": 174,
     "metadata": {},
     "output_type": "execute_result"
    }
   ],
   "source": [
    "master = pd.merge(master, IndecesWdtimePM, left_index = True, right_index = True)\n",
    "IndecesWdtimePM = pd.DataFrame(columns = [])\n",
    "master"
   ]
  },
  {
   "cell_type": "code",
   "execution_count": 178,
   "metadata": {
    "collapsed": false
   },
   "outputs": [],
   "source": [
    "master = pd.DataFrame(columns = [])"
   ]
  },
  {
   "cell_type": "code",
   "execution_count": 177,
   "metadata": {
    "collapsed": false
   },
   "outputs": [
    {
     "data": {
      "text/html": [
       "<div>\n",
       "<table border=\"1\" class=\"dataframe\">\n",
       "  <thead>\n",
       "    <tr style=\"text-align: right;\">\n",
       "      <th></th>\n",
       "    </tr>\n",
       "  </thead>\n",
       "  <tbody>\n",
       "  </tbody>\n",
       "</table>\n",
       "</div>"
      ],
      "text/plain": [
       "Empty DataFrame\n",
       "Columns: []\n",
       "Index: []"
      ]
     },
     "execution_count": 177,
     "metadata": {},
     "output_type": "execute_result"
    }
   ],
   "source": []
  },
  {
   "cell_type": "code",
   "execution_count": null,
   "metadata": {
    "collapsed": true
   },
   "outputs": [],
   "source": []
  },
  {
   "cell_type": "code",
   "execution_count": null,
   "metadata": {
    "collapsed": true
   },
   "outputs": [],
   "source": []
  },
  {
   "cell_type": "code",
   "execution_count": null,
   "metadata": {
    "collapsed": true
   },
   "outputs": [],
   "source": []
  },
  {
   "cell_type": "code",
   "execution_count": null,
   "metadata": {
    "collapsed": true
   },
   "outputs": [],
   "source": []
  },
  {
   "cell_type": "code",
   "execution_count": null,
   "metadata": {
    "collapsed": true
   },
   "outputs": [],
   "source": []
  }
 ],
 "metadata": {
  "anaconda-cloud": {},
  "kernelspec": {
   "display_name": "Python [default]",
   "language": "python",
   "name": "python3"
  },
  "language_info": {
   "codemirror_mode": {
    "name": "ipython",
    "version": 3
   },
   "file_extension": ".py",
   "mimetype": "text/x-python",
   "name": "python",
   "nbconvert_exporter": "python",
   "pygments_lexer": "ipython3",
   "version": "3.5.2"
  }
 },
 "nbformat": 4,
 "nbformat_minor": 1
}
