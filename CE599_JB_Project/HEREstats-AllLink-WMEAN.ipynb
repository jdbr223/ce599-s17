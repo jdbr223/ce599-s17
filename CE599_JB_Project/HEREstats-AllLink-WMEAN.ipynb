{
 "cells": [
  {
   "cell_type": "code",
   "execution_count": 118,
   "metadata": {
    "collapsed": false
   },
   "outputs": [],
   "source": [
    "# magic command to display matplotlib plots inline within the ipython notebook webpage\n",
    "%matplotlib inline\n",
    "\n",
    "# import necessary modules\n",
    "import pandas as pd, numpy as np, matplotlib.pyplot as plt\n",
    "import matplotlib.cm as cm, matplotlib.font_manager as fm\n",
    "import datetime\n",
    "from scipy import stats, integrate"
   ]
  },
  {
   "cell_type": "code",
   "execution_count": 119,
   "metadata": {
    "collapsed": false
   },
   "outputs": [
    {
     "data": {
      "text/html": [
       "<div>\n",
       "<table border=\"1\" class=\"dataframe\">\n",
       "  <thead>\n",
       "    <tr style=\"text-align: right;\">\n",
       "      <th></th>\n",
       "      <th>LINK_DIR</th>\n",
       "      <th>DATE_TIME</th>\n",
       "      <th>EPOCH_5MIN</th>\n",
       "      <th>LENGTH</th>\n",
       "      <th>SPDLIMIT</th>\n",
       "      <th>MEAN</th>\n",
       "      <th>STDDEV</th>\n",
       "      <th>MIN</th>\n",
       "      <th>MAX</th>\n",
       "      <th>CONFIDENCE</th>\n",
       "      <th>PCT_5</th>\n",
       "      <th>PCT_50</th>\n",
       "      <th>PCT_85</th>\n",
       "      <th>DOW</th>\n",
       "    </tr>\n",
       "  </thead>\n",
       "  <tbody>\n",
       "    <tr>\n",
       "      <th>0</th>\n",
       "      <td>998969850F</td>\n",
       "      <td>2014-01-01 13:55</td>\n",
       "      <td>167</td>\n",
       "      <td>186</td>\n",
       "      <td>72</td>\n",
       "      <td>61.0</td>\n",
       "      <td>0.0</td>\n",
       "      <td>61</td>\n",
       "      <td>61</td>\n",
       "      <td>10</td>\n",
       "      <td>61</td>\n",
       "      <td>61</td>\n",
       "      <td>61</td>\n",
       "      <td>Wednesday</td>\n",
       "    </tr>\n",
       "    <tr>\n",
       "      <th>1</th>\n",
       "      <td>998969850F</td>\n",
       "      <td>2014-01-02 11:05</td>\n",
       "      <td>133</td>\n",
       "      <td>186</td>\n",
       "      <td>72</td>\n",
       "      <td>60.0</td>\n",
       "      <td>0.0</td>\n",
       "      <td>60</td>\n",
       "      <td>60</td>\n",
       "      <td>10</td>\n",
       "      <td>60</td>\n",
       "      <td>60</td>\n",
       "      <td>60</td>\n",
       "      <td>Thursday</td>\n",
       "    </tr>\n",
       "    <tr>\n",
       "      <th>2</th>\n",
       "      <td>998969850F</td>\n",
       "      <td>2014-01-02 13:20</td>\n",
       "      <td>160</td>\n",
       "      <td>186</td>\n",
       "      <td>72</td>\n",
       "      <td>61.0</td>\n",
       "      <td>0.0</td>\n",
       "      <td>61</td>\n",
       "      <td>61</td>\n",
       "      <td>10</td>\n",
       "      <td>61</td>\n",
       "      <td>61</td>\n",
       "      <td>61</td>\n",
       "      <td>Thursday</td>\n",
       "    </tr>\n",
       "    <tr>\n",
       "      <th>3</th>\n",
       "      <td>998969850F</td>\n",
       "      <td>2014-01-02 14:30</td>\n",
       "      <td>174</td>\n",
       "      <td>186</td>\n",
       "      <td>72</td>\n",
       "      <td>52.0</td>\n",
       "      <td>0.0</td>\n",
       "      <td>52</td>\n",
       "      <td>52</td>\n",
       "      <td>10</td>\n",
       "      <td>52</td>\n",
       "      <td>52</td>\n",
       "      <td>52</td>\n",
       "      <td>Thursday</td>\n",
       "    </tr>\n",
       "    <tr>\n",
       "      <th>4</th>\n",
       "      <td>998969850F</td>\n",
       "      <td>2014-01-03 09:05</td>\n",
       "      <td>109</td>\n",
       "      <td>186</td>\n",
       "      <td>72</td>\n",
       "      <td>57.0</td>\n",
       "      <td>0.0</td>\n",
       "      <td>57</td>\n",
       "      <td>57</td>\n",
       "      <td>10</td>\n",
       "      <td>57</td>\n",
       "      <td>57</td>\n",
       "      <td>57</td>\n",
       "      <td>Friday</td>\n",
       "    </tr>\n",
       "  </tbody>\n",
       "</table>\n",
       "</div>"
      ],
      "text/plain": [
       "     LINK_DIR         DATE_TIME  EPOCH_5MIN  LENGTH  SPDLIMIT  MEAN  STDDEV  \\\n",
       "0  998969850F  2014-01-01 13:55         167     186        72  61.0     0.0   \n",
       "1  998969850F  2014-01-02 11:05         133     186        72  60.0     0.0   \n",
       "2  998969850F  2014-01-02 13:20         160     186        72  61.0     0.0   \n",
       "3  998969850F  2014-01-02 14:30         174     186        72  52.0     0.0   \n",
       "4  998969850F  2014-01-03 09:05         109     186        72  57.0     0.0   \n",
       "\n",
       "   MIN  MAX  CONFIDENCE  PCT_5  PCT_50  PCT_85        DOW  \n",
       "0   61   61          10     61      61      61  Wednesday  \n",
       "1   60   60          10     60      60      60   Thursday  \n",
       "2   61   61          10     61      61      61   Thursday  \n",
       "3   52   52          10     52      52      52   Thursday  \n",
       "4   57   57          10     57      57      57     Friday  "
      ]
     },
     "execution_count": 119,
     "metadata": {},
     "output_type": "execute_result"
    }
   ],
   "source": [
    "herepath = pd.read_csv('data/MOW_Path_Speed_5Min_2014_DOW_SpeedLimit.csv', encoding='utf-8')\n",
    "herepath.head()"
   ]
  },
  {
   "cell_type": "code",
   "execution_count": 120,
   "metadata": {
    "collapsed": false
   },
   "outputs": [
    {
     "data": {
      "text/plain": [
       "['Monday', 'Tuesday', 'Wednesday', 'Thursday', 'Friday']"
      ]
     },
     "execution_count": 120,
     "metadata": {},
     "output_type": "execute_result"
    }
   ],
   "source": [
    "#For now, enter the weekdays desire here in full\n",
    "Weekday = ['Monday','Tuesday','Wednesday','Thursday','Friday']\n",
    "Weekday"
   ]
  },
  {
   "cell_type": "code",
   "execution_count": 121,
   "metadata": {
    "collapsed": false
   },
   "outputs": [
    {
     "data": {
      "text/plain": [
       "['Saturday', 'Sunday']"
      ]
     },
     "execution_count": 121,
     "metadata": {},
     "output_type": "execute_result"
    }
   ],
   "source": [
    "Weekend = ['Saturday','Sunday']\n",
    "Weekend"
   ]
  },
  {
   "cell_type": "code",
   "execution_count": 122,
   "metadata": {
    "collapsed": false
   },
   "outputs": [
    {
     "data": {
      "text/plain": [
       "['Monday', 'Tuesday', 'Wednesday', 'Thursday', 'Friday', 'Saturday', 'Sunday']"
      ]
     },
     "execution_count": 122,
     "metadata": {},
     "output_type": "execute_result"
    }
   ],
   "source": [
    "Both = ['Monday','Tuesday','Wednesday','Thursday','Friday','Saturday','Sunday']\n",
    "Both"
   ]
  },
  {
   "cell_type": "code",
   "execution_count": 123,
   "metadata": {
    "collapsed": true
   },
   "outputs": [],
   "source": [
    "#w = Link, x = input dataframe, y = beginning timeframe (in epoch), z = ending timeframe (in epoch), \n",
    "#h = holiday (y or n), d = weekend or weekday\n",
    "#Note the dataframe has to have an EPOCH_5MIN row to work.\n",
    "#Also, this is ONLY for a single-link dataframe\n",
    "def timeframe2(x,y,z,h,d):\n",
    "    us_holidays = ['2014-01-01', '2014-05-26', \n",
    "                   '2014-07-04', '2014-09-01', '2014-11-27', \n",
    "                   '2014-11-28', '2014-12-25']\n",
    "    if h == True:\n",
    "        x['DATE'] = x['DATE_TIME'].str.split(' ').str[0]\n",
    "        r = x[x['DATE'].isin(us_holidays)]\n",
    "        v = x[~x.isin(r)].dropna()\n",
    "        days = v[v['DOW'].isin(d)]\n",
    "        Timeframe = days[(days['EPOCH_5MIN'] >= y) & (days['EPOCH_5MIN'] <= z)]\n",
    "        return Timeframe\n",
    "    else:\n",
    "        x['DATE'] = x['DATE_TIME'].str.split(' ').str[0]\n",
    "        days = x[x['DOW'].isin(d)]\n",
    "        Timeframe = days[(days['EPOCH_5MIN'] >= y) & (days['EPOCH_5MIN'] <= z)]\n",
    "        return Timeframe"
   ]
  },
  {
   "cell_type": "code",
   "execution_count": 124,
   "metadata": {
    "collapsed": false
   },
   "outputs": [],
   "source": [
    "#ddof represents degrees of freedom which, according to the documentation for HERE, is 1\n",
    "#85th percentile speed uses a linear interpolation.  The lowest, highest, or nearest can also be selected\n",
    "def HEREstatsALL(x):\n",
    "    y = pd.DataFrame(columns=[])\n",
    "    \n",
    "    y['MEAN_ALL'] = ((x['MEAN']).groupby(x['LINK_DIR']).mean())*(0.6213)\n",
    "    y['SPDLIMIT'] = (x['SPDLIMIT'].groupby(x['LINK_DIR']).mean())*(0.6213)\n",
    "    \n",
    "    y['PcntSpeed_85thAll'] = (x['MEAN'].groupby(x['LINK_DIR']).quantile(0.85,interpolation = 'lower'))*(0.6213)\n",
    "    y['PcntSpeed_5thAll'] = (x['MEAN'].groupby(x['LINK_DIR']).quantile(0.05,interpolation = 'lower'))*(0.6213)\n",
    "    \n",
    "    numberdays = x['DATE'].unique()\n",
    "    epoct = x['LINK_DIR'].value_counts()\n",
    "    y['TotalIntervals_85thAll'] = epoct\n",
    "    y['PcntInterval_85thAll'] = ((epoct/(288*len(numberdays))*100))\n",
    "    \n",
    "    Var1 = (x['MEAN']).groupby(x['LINK_DIR'])\n",
    "    Var2 = (x['STDDEV']).groupby(x['LINK_DIR'])\n",
    "    Var = (Var1.var(ddof=1))+(Var2.sum()/len(x))\n",
    "    y['StdDev_85thAll'] = (np.sqrt(Var))*(0.6213)\n",
    "    \n",
    "    y = np.round(y,3)\n",
    "    return y"
   ]
  },
  {
   "cell_type": "code",
   "execution_count": 125,
   "metadata": {
    "collapsed": true
   },
   "outputs": [],
   "source": [
    "def IndecesALLAM(y):\n",
    "    z = pd.DataFrame(columns = [])\n",
    "    z['TTI_SL_AM'] = y['SPDLIMIT'].div(y['MEAN_ALL'])\n",
    "    z['PTI_SL_AM'] = y['SPDLIMIT'].div(y['PcntSpeed_5thAll'])\n",
    "    z['TTI_85thALL_AM'] = y['PcntSpeed_85thAll'].div(y['MEAN_ALL'])\n",
    "    z['PTI_85thALL_AM'] = y['PcntSpeed_85thAll'].div(y['PcntSpeed_5thAll'])\n",
    "    z['BTI_AM'] = (y['MEAN_ALL'].div(y['PcntSpeed_5thAll']))-1\n",
    "    z = np.round(z,3)\n",
    "    return z"
   ]
  },
  {
   "cell_type": "code",
   "execution_count": 126,
   "metadata": {
    "collapsed": true
   },
   "outputs": [],
   "source": [
    "def IndecesALLMD(y):\n",
    "    z = pd.DataFrame(columns = [])\n",
    "    z['TTI_SL_MD'] = y['SPDLIMIT'].div(y['MEAN_ALL'])\n",
    "    z['PTI_SL_MD'] = y['SPDLIMIT'].div(y['PcntSpeed_5thAll'])\n",
    "    z['TTI_85th_MD'] = y['PcntSpeed_85thAll'].div(y['MEAN_ALL'])\n",
    "    z['PTI_85th_MD'] = y['PcntSpeed_85thAll'].div(y['PcntSpeed_5thAll'])\n",
    "    z['BTI_MD'] = (y['MEAN_ALL'].div(y['PcntSpeed_5thAll']))-1\n",
    "    z = np.round(z,3)\n",
    "    return z"
   ]
  },
  {
   "cell_type": "code",
   "execution_count": 127,
   "metadata": {
    "collapsed": true
   },
   "outputs": [],
   "source": [
    "def IndecesALLPM(y):\n",
    "    z = pd.DataFrame(columns = [])\n",
    "    z['TTI_SL_PM'] = y['SPDLIMIT'].div(y['MEAN_ALL'])\n",
    "    z['PTI_SL_PM'] = y['SPDLIMIT'].div(y['PcntSpeed_5thAll'])\n",
    "    z['TTI_85th_PM'] = y['PcntSpeed_85thAll'].div(y['MEAN_ALL'])\n",
    "    z['PTI_85th_PM'] = y['PcntSpeed_85thAll'].div(y['PcntSpeed_5thAll'])\n",
    "    z['BTI_PM'] = (y['MEAN_ALL'].div(y['PcntSpeed_5thAll']))-1\n",
    "    z = np.round(z,3)\n",
    "    return z"
   ]
  },
  {
   "cell_type": "code",
   "execution_count": 128,
   "metadata": {
    "collapsed": true
   },
   "outputs": [],
   "source": [
    "#ddof represents degrees of freedom which, according to the documentation for HERE, is 1\n",
    "#85th percentile speed uses a linear interpolation.  The lowest, highest, or nearest can also be selected\n",
    "def HEREstatsWd(x):\n",
    "    y = pd.DataFrame(columns=[])\n",
    "    y['MEAN_Wkd'] = ((x['MEAN']).groupby(x['LINK_DIR']).mean())*(0.6213)\n",
    "    y['SPDLIMIT'] = (x['SPDLIMIT'].groupby(x['LINK_DIR']).mean())*(0.6213)\n",
    "\n",
    "    \n",
    "    y['PcntSpeed_85thWd'] = (x['MEAN'].groupby(x['LINK_DIR']).quantile(0.85,interpolation = 'lower'))*(0.6213)\n",
    "    y['PcntSpeed_5thWd'] = (x['MEAN'].groupby(x['LINK_DIR']).quantile(0.05,interpolation = 'lower'))*(0.6213)\n",
    "    \n",
    "    numberdays = x['DATE'].unique()\n",
    "    epoct = x['LINK_DIR'].value_counts()\n",
    "    y['TotalIntervals_85thWd'] = epoct\n",
    "    y['PcntInterval_85thWd'] = ((epoct/(288*len(numberdays))*100))\n",
    "    \n",
    "    Var1 = (x['MEAN']).groupby(x['LINK_DIR'])\n",
    "    Var2 = (x['STDDEV']).groupby(x['LINK_DIR'])\n",
    "    Var = (Var1.var(ddof=1))+(Var2.sum()/len(x))\n",
    "    y['StdDev_85thWd'] = (np.sqrt(Var))*(0.6213)\n",
    "     \n",
    "    y = np.round(y,3)\n",
    "    return y"
   ]
  },
  {
   "cell_type": "code",
   "execution_count": 129,
   "metadata": {
    "collapsed": true
   },
   "outputs": [],
   "source": [
    "def IndecesWdAM(y):\n",
    "    z = pd.DataFrame(columns = [])\n",
    "    z['TTI_85thWd_AM'] = y['PcntSpeed_85thWd'].div(y['MEAN_Wkd'])\n",
    "    z['PTI_85thWd_AM'] = y['PcntSpeed_85thWd'].div(y['PcntSpeed_5thWd'])\n",
    "    z = np.round(z,3)\n",
    "    return z"
   ]
  },
  {
   "cell_type": "code",
   "execution_count": 130,
   "metadata": {
    "collapsed": true
   },
   "outputs": [],
   "source": [
    "def IndecesWdMD(y):\n",
    "    z = pd.DataFrame(columns = [])\n",
    "    z['TTI_85thWd_MD'] = y['PcntSpeed_85thWd'].div(y['MEAN_Wkd'])\n",
    "    z['PTI_85thWd_MD'] = y['PcntSpeed_85thWd'].div(y['PcntSpeed_5thWd'])\n",
    "    z = np.round(z,3)\n",
    "    return z"
   ]
  },
  {
   "cell_type": "code",
   "execution_count": 131,
   "metadata": {
    "collapsed": true
   },
   "outputs": [],
   "source": [
    "def IndecesWdPM(y):\n",
    "    z = pd.DataFrame(columns = [])\n",
    "    z['TTI_85thWd_PM'] = y['PcntSpeed_85thWd'].div(y['MEAN_Wkd'])\n",
    "    z['PTI_85thWd_PM'] = y['PcntSpeed_85thWd'].div(y['PcntSpeed_5thWd'])\n",
    "    z = np.round(z,3)\n",
    "    return z"
   ]
  },
  {
   "cell_type": "code",
   "execution_count": 132,
   "metadata": {
    "collapsed": true
   },
   "outputs": [],
   "source": [
    "#ddof represents degrees of freedom which, according to the documentation for HERE, is 1\n",
    "#85th percentile speed uses a linear interpolation.  The lowest, highest, or nearest can also be selected\n",
    "def HEREstatsWend(x):\n",
    "    y = pd.DataFrame(columns=[])\n",
    "    y['MEAN_WEnd'] = ((x['MEAN']).groupby(x['LINK_DIR']).mean())*(0.6213)\n",
    "    y['SPDLIMIT'] = (x['SPDLIMIT'].groupby(x['LINK_DIR']).mean())*(0.6213)\n",
    "    \n",
    "    y['PcntSpeed_85thWend'] = (x['MEAN'].groupby(x['LINK_DIR']).quantile(0.85,interpolation = 'lower'))*(0.6213)\n",
    "    \n",
    "    numberdays = x['DATE'].unique()\n",
    "    epoct = x['LINK_DIR'].value_counts()\n",
    "    y['TotalIntervals_85thWend'] = epoct\n",
    "    y['PcntInterval_85thWend'] = ((epoct/(288*len(numberdays))*100))\n",
    "    \n",
    "    Var1 = (x['MEAN']).groupby(x['LINK_DIR'])\n",
    "    Var2 = (x['STDDEV']).groupby(x['LINK_DIR'])\n",
    "    Var = (Var1.var(ddof=1))+(Var2.sum()/len(x))\n",
    "    y['StdDev_85thWend'] = (np.sqrt(Var))*(0.6213)\n",
    "     \n",
    "    y = np.round(y,3)\n",
    "    return y"
   ]
  },
  {
   "cell_type": "code",
   "execution_count": 133,
   "metadata": {
    "collapsed": true
   },
   "outputs": [],
   "source": [
    "#ddof represents degrees of freedom which, according to the documentation for HERE, is 1\n",
    "#85th percentile speed uses a linear interpolation.  The lowest, highest, or nearest can also be selected\n",
    "def HEREstatsWdtime(x):\n",
    "    y = pd.DataFrame(columns=[])\n",
    "    y['MEAN_Wdtime'] = ((x['MEAN']).groupby(x['LINK_DIR']).mean())*(0.6213)\n",
    "    y['SPDLIMIT'] = (x['SPDLIMIT'].groupby(x['LINK_DIR']).mean())*(0.6213)\n",
    "    \n",
    "    y['PcntSpeed_60thWdtime'] = (x['MEAN'].groupby(x['LINK_DIR']).quantile(0.60,interpolation = 'lower'))*(0.6213)\n",
    "    y['PcntSpeed_85thWdtime'] = (x['MEAN'].groupby(x['LINK_DIR']).quantile(0.85,interpolation = 'lower'))*(0.6213)\n",
    "    y['PcntSpeed_5thWdtime'] = (x['MEAN'].groupby(x['LINK_DIR']).quantile(0.05,interpolation = 'lower'))*(0.6213)\n",
    "    \n",
    "    numberdays = x['DATE'].unique()\n",
    "    epoct = x['LINK_DIR'].value_counts()\n",
    "    y['TotalIntervals_Wdtime'] = epoct\n",
    "    y['PcntInterval_Wdtime'] = ((epoct/(288*len(numberdays))*100))\n",
    "    \n",
    "    Var1 = (x['MEAN']).groupby(x['LINK_DIR'])\n",
    "    Var2 = (x['STDDEV']).groupby(x['LINK_DIR'])\n",
    "    Var = (Var1.var(ddof=1))+(Var2.sum()/len(x))\n",
    "    y['StdDev_Wdtime'] = (np.sqrt(Var))*(0.6213)\n",
    "     \n",
    "    y = np.round(y,3)\n",
    "    return y"
   ]
  },
  {
   "cell_type": "code",
   "execution_count": 134,
   "metadata": {
    "collapsed": true
   },
   "outputs": [],
   "source": [
    "def IndecesWDtimeAM(y):\n",
    "    z = pd.DataFrame(columns = [])\n",
    "    z['TTI_60thWdtime_AM'] = y['PcntSpeed_60thWdtime'].div(y['MEAN_Wdtime'])\n",
    "    z['PTI_60thWdtime_AM'] = y['PcntSpeed_60thWdtime'].div(y['PcntSpeed_5thWdtime'])\n",
    "    z['TTI_85thWdtime_AM'] = y['PcntSpeed_85thWdtime'].div(y['MEAN_Wdtime'])\n",
    "    z['PTI_85thWdtime_AM'] = y['PcntSpeed_85thWdtime'].div(y['PcntSpeed_5thWdtime'])\n",
    "    z = np.round(z,3)\n",
    "    return z"
   ]
  },
  {
   "cell_type": "code",
   "execution_count": 135,
   "metadata": {
    "collapsed": true
   },
   "outputs": [],
   "source": [
    "def IndecesWDtimeMD(y):\n",
    "    z = pd.DataFrame(columns = [])\n",
    "    z['TTI_60thWdtime_MD'] = y['PcntSpeed_60thWdtime'].div(y['MEAN_Wdtime'])\n",
    "    z['PTI_60thWdtime_MD'] = y['PcntSpeed_60thWdtime'].div(y['PcntSpeed_5thWdtime'])\n",
    "    z['TTI_85thWdtime_MD'] = y['PcntSpeed_85thWdtime'].div(y['MEAN_Wdtime'])\n",
    "    z['PTI_85thWdtime_MD'] = y['PcntSpeed_85thWdtime'].div(y['PcntSpeed_5thWdtime'])\n",
    "    z = np.round(z,3)\n",
    "    return z"
   ]
  },
  {
   "cell_type": "code",
   "execution_count": 136,
   "metadata": {
    "collapsed": true
   },
   "outputs": [],
   "source": [
    "def IndecesWDtimePM(y):\n",
    "    z = pd.DataFrame(columns = [])\n",
    "    z['TTI_60thWdtime_PM'] = y['PcntSpeed_60thWdtime'].div(y['MEAN_Wdtime'])\n",
    "    z['PTI_60thWdtime_PM'] = y['PcntSpeed_60thWdtime'].div(y['PcntSpeed_5thWdtime'])\n",
    "    z['TTI_85thWdtime_PM'] = y['PcntSpeed_85thWdtime'].div(y['MEAN_Wdtime'])\n",
    "    z['PTI_85thWdtime_PM'] = y['PcntSpeed_85thWdtime'].div(y['PcntSpeed_5thWdtime'])\n",
    "    z = np.round(z,3)\n",
    "    return z"
   ]
  },
  {
   "cell_type": "code",
   "execution_count": 137,
   "metadata": {
    "collapsed": true
   },
   "outputs": [],
   "source": [
    "#ddof represents degrees of freedom which, according to the documentation for HERE, is 1\n",
    "#85th percentile speed uses a linear interpolation.  The lowest, highest, or nearest can also be selected\n",
    "def HEREstatsWdayAM(x):\n",
    "    y = pd.DataFrame(columns=[])\n",
    "    y['MEAN_WkdAM'] = ((x['MEAN']).groupby(x['LINK_DIR']).mean())*(0.6213)\n",
    "    y['SPDLIMIT'] = (x['SPDLIMIT'].groupby(x['LINK_DIR']).mean())*(0.6213)\n",
    "    \n",
    "    y['PcntSpeed_5thWdayAM'] = (x['MEAN'].groupby(x['LINK_DIR']).quantile(0.05,interpolation = 'lower'))*(0.6213)\n",
    "    y['AvgSpeed_WdayAM'] = y['MEAN_WkdAM']\n",
    "    \n",
    "    numberdays = x['DATE'].unique()\n",
    "    epoct = x['LINK_DIR'].value_counts()\n",
    "    y['TotalIntervals_WdayAM'] = epoct\n",
    "    y['PcntInterval_WdayAM'] = ((epoct/(288*len(numberdays))*100))\n",
    "    \n",
    "    Var1 = (x['MEAN']).groupby(x['LINK_DIR'])\n",
    "    Var2 = (x['STDDEV']).groupby(x['LINK_DIR'])\n",
    "    Var = (Var1.var(ddof=1))+(Var2.sum()/len(x))\n",
    "    y['StdDev_WdayAM'] = (np.sqrt(Var))*(0.6213)\n",
    "     \n",
    "    y = np.round(y,3)\n",
    "    return y"
   ]
  },
  {
   "cell_type": "code",
   "execution_count": 138,
   "metadata": {
    "collapsed": true
   },
   "outputs": [],
   "source": [
    "#ddof represents degrees of freedom which, according to the documentation for HERE, is 1\n",
    "#85th percentile speed uses a linear interpolation.  The lowest, highest, or nearest can also be selected\n",
    "def HEREstatsWdayMD(x):\n",
    "    y = pd.DataFrame(columns=[])\n",
    "    y['MEAN_WkdMD'] = ((x['MEAN']).groupby(x['LINK_DIR']).mean())*(0.6213)\n",
    "    y['SPDLIMIT'] = (x['SPDLIMIT'].groupby(x['LINK_DIR']).mean())*(0.6213)\n",
    "    \n",
    "    y['PcntSpeed_5thWdayMD'] = (x['MEAN'].groupby(x['LINK_DIR']).quantile(0.05,interpolation = 'lower'))*(0.6213)\n",
    "    y['AvgSpeed_WdayMD'] = y['MEAN_WkdMD']\n",
    "    \n",
    "    numberdays = x['DATE'].unique()\n",
    "    epoct = x['LINK_DIR'].value_counts()\n",
    "    y['TotalIntervals_WdayMD'] = epoct\n",
    "    y['PcntInterval_WdayMD'] = ((epoct/(288*len(numberdays))*100))\n",
    "    \n",
    "    Var1 = (x['MEAN']).groupby(x['LINK_DIR'])\n",
    "    Var2 = (x['STDDEV']).groupby(x['LINK_DIR'])\n",
    "    Var = (Var1.var(ddof=1))+(Var2.sum()/len(x))\n",
    "    y['StdDev_WdayMD'] = (np.sqrt(Var))*(0.6213)\n",
    "     \n",
    "    y = np.round(y,3)\n",
    "    return y"
   ]
  },
  {
   "cell_type": "code",
   "execution_count": 139,
   "metadata": {
    "collapsed": true
   },
   "outputs": [],
   "source": [
    "#ddof represents degrees of freedom which, according to the documentation for HERE, is 1\n",
    "#85th percentile speed uses a linear interpolation.  The lowest, highest, or nearest can also be selected\n",
    "def HEREstatsWdayPM(x):\n",
    "    y = pd.DataFrame(columns=[])\n",
    "    y['MEAN_WkdPM'] = ((x['MEAN']).groupby(x['LINK_DIR']).mean())*(0.6213)\n",
    "    y['SPDLIMIT'] = (x['SPDLIMIT'].groupby(x['LINK_DIR']).mean())*(0.6213)\n",
    "    \n",
    "    y['PcntSpeed_5thWdayPM'] = (x['MEAN'].groupby(x['LINK_DIR']).quantile(0.05,interpolation = 'lower'))*(0.6213)\n",
    "    y['AvgSpeed_WdayPM'] = y['MEAN_WkdPM']\n",
    "    \n",
    "    numberdays = x['DATE'].unique()\n",
    "    epoct = x['LINK_DIR'].value_counts()\n",
    "    y['TotalIntervals_WdayPM'] = epoct\n",
    "    y['PcntInterval_WdayPM'] = ((epoct/(288*len(numberdays))*100))\n",
    "    \n",
    "    Var1 = (x['MEAN']).groupby(x['LINK_DIR'])\n",
    "    Var2 = (x['STDDEV']).groupby(x['LINK_DIR'])\n",
    "    Var = (Var1.var(ddof=1))+(Var2.sum()/len(x))\n",
    "    y['StdDev_WdayPM'] = (np.sqrt(Var))*(0.6213)\n",
    "     \n",
    "    y = np.round(y,3)\n",
    "    return y"
   ]
  },
  {
   "cell_type": "code",
   "execution_count": 140,
   "metadata": {
    "collapsed": false
   },
   "outputs": [
    {
     "data": {
      "text/html": [
       "<div>\n",
       "<table border=\"1\" class=\"dataframe\">\n",
       "  <thead>\n",
       "    <tr style=\"text-align: right;\">\n",
       "      <th></th>\n",
       "      <th>MEAN_ALL</th>\n",
       "      <th>PcntSpeed_85thAll</th>\n",
       "      <th>PcntSpeed_5thAll</th>\n",
       "      <th>TotalIntervals_85thAll</th>\n",
       "      <th>PcntInterval_85thAll</th>\n",
       "      <th>StdDev_85thAll</th>\n",
       "    </tr>\n",
       "    <tr>\n",
       "      <th>LINK_DIR</th>\n",
       "      <th></th>\n",
       "      <th></th>\n",
       "      <th></th>\n",
       "      <th></th>\n",
       "      <th></th>\n",
       "      <th></th>\n",
       "    </tr>\n",
       "  </thead>\n",
       "  <tbody>\n",
       "    <tr>\n",
       "      <th>107030432T</th>\n",
       "      <td>38.553</td>\n",
       "      <td>48.461</td>\n",
       "      <td>19.260</td>\n",
       "      <td>5746</td>\n",
       "      <td>5.466</td>\n",
       "      <td>10.444</td>\n",
       "    </tr>\n",
       "    <tr>\n",
       "      <th>107030439T</th>\n",
       "      <td>35.148</td>\n",
       "      <td>44.734</td>\n",
       "      <td>17.396</td>\n",
       "      <td>7857</td>\n",
       "      <td>7.474</td>\n",
       "      <td>9.929</td>\n",
       "    </tr>\n",
       "    <tr>\n",
       "      <th>107030440T</th>\n",
       "      <td>34.863</td>\n",
       "      <td>45.355</td>\n",
       "      <td>17.086</td>\n",
       "      <td>7325</td>\n",
       "      <td>6.968</td>\n",
       "      <td>10.303</td>\n",
       "    </tr>\n",
       "    <tr>\n",
       "      <th>107030444F</th>\n",
       "      <td>36.180</td>\n",
       "      <td>47.219</td>\n",
       "      <td>16.154</td>\n",
       "      <td>9311</td>\n",
       "      <td>8.857</td>\n",
       "      <td>11.209</td>\n",
       "    </tr>\n",
       "    <tr>\n",
       "      <th>107030445F</th>\n",
       "      <td>36.602</td>\n",
       "      <td>47.840</td>\n",
       "      <td>16.775</td>\n",
       "      <td>9256</td>\n",
       "      <td>8.805</td>\n",
       "      <td>11.250</td>\n",
       "    </tr>\n",
       "  </tbody>\n",
       "</table>\n",
       "</div>"
      ],
      "text/plain": [
       "            MEAN_ALL  PcntSpeed_85thAll  PcntSpeed_5thAll  \\\n",
       "LINK_DIR                                                    \n",
       "107030432T    38.553             48.461            19.260   \n",
       "107030439T    35.148             44.734            17.396   \n",
       "107030440T    34.863             45.355            17.086   \n",
       "107030444F    36.180             47.219            16.154   \n",
       "107030445F    36.602             47.840            16.775   \n",
       "\n",
       "            TotalIntervals_85thAll  PcntInterval_85thAll  StdDev_85thAll  \n",
       "LINK_DIR                                                                  \n",
       "107030432T                    5746                 5.466          10.444  \n",
       "107030439T                    7857                 7.474           9.929  \n",
       "107030440T                    7325                 6.968          10.303  \n",
       "107030444F                    9311                 8.857          11.209  \n",
       "107030445F                    9256                 8.805          11.250  "
      ]
     },
     "execution_count": 140,
     "metadata": {},
     "output_type": "execute_result"
    }
   ],
   "source": [
    "#For all days and all time periods\n",
    "All = timeframe2(herepath,0,288,False,Both)\n",
    "bylink = HEREstatsALL(All)\n",
    "bylink = bylink.drop(['SPDLIMIT'], axis = 1)\n",
    "All = pd.DataFrame()\n",
    "bylink.head()"
   ]
  },
  {
   "cell_type": "code",
   "execution_count": 141,
   "metadata": {
    "collapsed": false
   },
   "outputs": [
    {
     "ename": "MemoryError",
     "evalue": "",
     "output_type": "error",
     "traceback": [
      "\u001b[0;31m---------------------------------------------------------------------------\u001b[0m",
      "\u001b[0;31mMemoryError\u001b[0m                               Traceback (most recent call last)",
      "\u001b[0;32m<ipython-input-141-c2b2fa148f67>\u001b[0m in \u001b[0;36m<module>\u001b[0;34m()\u001b[0m\n\u001b[1;32m      1\u001b[0m \u001b[1;31m#for weekdays all links\u001b[0m\u001b[1;33m\u001b[0m\u001b[1;33m\u001b[0m\u001b[0m\n\u001b[0;32m----> 2\u001b[0;31m \u001b[0mWkd\u001b[0m \u001b[1;33m=\u001b[0m \u001b[0mtimeframe2\u001b[0m\u001b[1;33m(\u001b[0m\u001b[0mherepath\u001b[0m\u001b[1;33m,\u001b[0m\u001b[1;36m0\u001b[0m\u001b[1;33m,\u001b[0m\u001b[1;36m288\u001b[0m\u001b[1;33m,\u001b[0m\u001b[1;32mTrue\u001b[0m\u001b[1;33m,\u001b[0m\u001b[0mWeekday\u001b[0m\u001b[1;33m)\u001b[0m\u001b[1;33m\u001b[0m\u001b[0m\n\u001b[0m\u001b[1;32m      3\u001b[0m \u001b[0mSpeedWd\u001b[0m \u001b[1;33m=\u001b[0m \u001b[0mHEREstatsWd\u001b[0m\u001b[1;33m(\u001b[0m\u001b[0mWkd\u001b[0m\u001b[1;33m)\u001b[0m\u001b[1;33m\u001b[0m\u001b[0m\n\u001b[1;32m      4\u001b[0m \u001b[0mSpeedWd\u001b[0m \u001b[1;33m=\u001b[0m \u001b[0mSpeedWd\u001b[0m\u001b[1;33m.\u001b[0m\u001b[0mdrop\u001b[0m\u001b[1;33m(\u001b[0m\u001b[1;33m[\u001b[0m\u001b[1;34m'SPDLIMIT'\u001b[0m\u001b[1;33m]\u001b[0m\u001b[1;33m,\u001b[0m \u001b[0maxis\u001b[0m \u001b[1;33m=\u001b[0m \u001b[1;36m1\u001b[0m\u001b[1;33m)\u001b[0m\u001b[1;33m\u001b[0m\u001b[0m\n\u001b[1;32m      5\u001b[0m \u001b[0mWkd\u001b[0m \u001b[1;33m=\u001b[0m \u001b[0mpd\u001b[0m\u001b[1;33m.\u001b[0m\u001b[0mDataFrame\u001b[0m\u001b[1;33m(\u001b[0m\u001b[1;33m)\u001b[0m\u001b[1;33m\u001b[0m\u001b[0m\n",
      "\u001b[0;32m<ipython-input-123-4be496cb851f>\u001b[0m in \u001b[0;36mtimeframe2\u001b[0;34m(x, y, z, h, d)\u001b[0m\n\u001b[1;32m     10\u001b[0m         \u001b[0mx\u001b[0m\u001b[1;33m[\u001b[0m\u001b[1;34m'DATE'\u001b[0m\u001b[1;33m]\u001b[0m \u001b[1;33m=\u001b[0m \u001b[0mx\u001b[0m\u001b[1;33m[\u001b[0m\u001b[1;34m'DATE_TIME'\u001b[0m\u001b[1;33m]\u001b[0m\u001b[1;33m.\u001b[0m\u001b[0mstr\u001b[0m\u001b[1;33m.\u001b[0m\u001b[0msplit\u001b[0m\u001b[1;33m(\u001b[0m\u001b[1;34m' '\u001b[0m\u001b[1;33m)\u001b[0m\u001b[1;33m.\u001b[0m\u001b[0mstr\u001b[0m\u001b[1;33m[\u001b[0m\u001b[1;36m0\u001b[0m\u001b[1;33m]\u001b[0m\u001b[1;33m\u001b[0m\u001b[0m\n\u001b[1;32m     11\u001b[0m         \u001b[0mr\u001b[0m \u001b[1;33m=\u001b[0m \u001b[0mx\u001b[0m\u001b[1;33m[\u001b[0m\u001b[0mx\u001b[0m\u001b[1;33m[\u001b[0m\u001b[1;34m'DATE'\u001b[0m\u001b[1;33m]\u001b[0m\u001b[1;33m.\u001b[0m\u001b[0misin\u001b[0m\u001b[1;33m(\u001b[0m\u001b[0mus_holidays\u001b[0m\u001b[1;33m)\u001b[0m\u001b[1;33m]\u001b[0m\u001b[1;33m\u001b[0m\u001b[0m\n\u001b[0;32m---> 12\u001b[0;31m         \u001b[0mv\u001b[0m \u001b[1;33m=\u001b[0m \u001b[0mx\u001b[0m\u001b[1;33m[\u001b[0m\u001b[1;33m~\u001b[0m\u001b[0mx\u001b[0m\u001b[1;33m.\u001b[0m\u001b[0misin\u001b[0m\u001b[1;33m(\u001b[0m\u001b[0mr\u001b[0m\u001b[1;33m)\u001b[0m\u001b[1;33m]\u001b[0m\u001b[1;33m.\u001b[0m\u001b[0mdropna\u001b[0m\u001b[1;33m(\u001b[0m\u001b[1;33m)\u001b[0m\u001b[1;33m\u001b[0m\u001b[0m\n\u001b[0m\u001b[1;32m     13\u001b[0m         \u001b[0mdays\u001b[0m \u001b[1;33m=\u001b[0m \u001b[0mv\u001b[0m\u001b[1;33m[\u001b[0m\u001b[0mv\u001b[0m\u001b[1;33m[\u001b[0m\u001b[1;34m'DOW'\u001b[0m\u001b[1;33m]\u001b[0m\u001b[1;33m.\u001b[0m\u001b[0misin\u001b[0m\u001b[1;33m(\u001b[0m\u001b[0md\u001b[0m\u001b[1;33m)\u001b[0m\u001b[1;33m]\u001b[0m\u001b[1;33m\u001b[0m\u001b[0m\n\u001b[1;32m     14\u001b[0m         \u001b[0mTimeframe\u001b[0m \u001b[1;33m=\u001b[0m \u001b[0mdays\u001b[0m\u001b[1;33m[\u001b[0m\u001b[1;33m(\u001b[0m\u001b[0mdays\u001b[0m\u001b[1;33m[\u001b[0m\u001b[1;34m'EPOCH_5MIN'\u001b[0m\u001b[1;33m]\u001b[0m \u001b[1;33m>=\u001b[0m \u001b[0my\u001b[0m\u001b[1;33m)\u001b[0m \u001b[1;33m&\u001b[0m \u001b[1;33m(\u001b[0m\u001b[0mdays\u001b[0m\u001b[1;33m[\u001b[0m\u001b[1;34m'EPOCH_5MIN'\u001b[0m\u001b[1;33m]\u001b[0m \u001b[1;33m<=\u001b[0m \u001b[0mz\u001b[0m\u001b[1;33m)\u001b[0m\u001b[1;33m]\u001b[0m\u001b[1;33m\u001b[0m\u001b[0m\n",
      "\u001b[0;32mC:\\Users\\jdbr223\\AppData\\Local\\Continuum\\Anaconda3\\lib\\site-packages\\pandas\\core\\frame.py\u001b[0m in \u001b[0;36m__getitem__\u001b[0;34m(self, key)\u001b[0m\n\u001b[1;32m   2053\u001b[0m             \u001b[1;32mreturn\u001b[0m \u001b[0mself\u001b[0m\u001b[1;33m.\u001b[0m\u001b[0m_getitem_array\u001b[0m\u001b[1;33m(\u001b[0m\u001b[0mkey\u001b[0m\u001b[1;33m)\u001b[0m\u001b[1;33m\u001b[0m\u001b[0m\n\u001b[1;32m   2054\u001b[0m         \u001b[1;32melif\u001b[0m \u001b[0misinstance\u001b[0m\u001b[1;33m(\u001b[0m\u001b[0mkey\u001b[0m\u001b[1;33m,\u001b[0m \u001b[0mDataFrame\u001b[0m\u001b[1;33m)\u001b[0m\u001b[1;33m:\u001b[0m\u001b[1;33m\u001b[0m\u001b[0m\n\u001b[0;32m-> 2055\u001b[0;31m             \u001b[1;32mreturn\u001b[0m \u001b[0mself\u001b[0m\u001b[1;33m.\u001b[0m\u001b[0m_getitem_frame\u001b[0m\u001b[1;33m(\u001b[0m\u001b[0mkey\u001b[0m\u001b[1;33m)\u001b[0m\u001b[1;33m\u001b[0m\u001b[0m\n\u001b[0m\u001b[1;32m   2056\u001b[0m         \u001b[1;32melif\u001b[0m \u001b[0mis_mi_columns\u001b[0m\u001b[1;33m:\u001b[0m\u001b[1;33m\u001b[0m\u001b[0m\n\u001b[1;32m   2057\u001b[0m             \u001b[1;32mreturn\u001b[0m \u001b[0mself\u001b[0m\u001b[1;33m.\u001b[0m\u001b[0m_getitem_multilevel\u001b[0m\u001b[1;33m(\u001b[0m\u001b[0mkey\u001b[0m\u001b[1;33m)\u001b[0m\u001b[1;33m\u001b[0m\u001b[0m\n",
      "\u001b[0;32mC:\\Users\\jdbr223\\AppData\\Local\\Continuum\\Anaconda3\\lib\\site-packages\\pandas\\core\\frame.py\u001b[0m in \u001b[0;36m_getitem_frame\u001b[0;34m(self, key)\u001b[0m\n\u001b[1;32m   2129\u001b[0m         \u001b[1;32mif\u001b[0m \u001b[0mkey\u001b[0m\u001b[1;33m.\u001b[0m\u001b[0mvalues\u001b[0m\u001b[1;33m.\u001b[0m\u001b[0msize\u001b[0m \u001b[1;32mand\u001b[0m \u001b[1;32mnot\u001b[0m \u001b[0mis_bool_dtype\u001b[0m\u001b[1;33m(\u001b[0m\u001b[0mkey\u001b[0m\u001b[1;33m.\u001b[0m\u001b[0mvalues\u001b[0m\u001b[1;33m)\u001b[0m\u001b[1;33m:\u001b[0m\u001b[1;33m\u001b[0m\u001b[0m\n\u001b[1;32m   2130\u001b[0m             \u001b[1;32mraise\u001b[0m \u001b[0mValueError\u001b[0m\u001b[1;33m(\u001b[0m\u001b[1;34m'Must pass DataFrame with boolean values only'\u001b[0m\u001b[1;33m)\u001b[0m\u001b[1;33m\u001b[0m\u001b[0m\n\u001b[0;32m-> 2131\u001b[0;31m         \u001b[1;32mreturn\u001b[0m \u001b[0mself\u001b[0m\u001b[1;33m.\u001b[0m\u001b[0mwhere\u001b[0m\u001b[1;33m(\u001b[0m\u001b[0mkey\u001b[0m\u001b[1;33m)\u001b[0m\u001b[1;33m\u001b[0m\u001b[0m\n\u001b[0m\u001b[1;32m   2132\u001b[0m \u001b[1;33m\u001b[0m\u001b[0m\n\u001b[1;32m   2133\u001b[0m     \u001b[1;32mdef\u001b[0m \u001b[0mquery\u001b[0m\u001b[1;33m(\u001b[0m\u001b[0mself\u001b[0m\u001b[1;33m,\u001b[0m \u001b[0mexpr\u001b[0m\u001b[1;33m,\u001b[0m \u001b[0minplace\u001b[0m\u001b[1;33m=\u001b[0m\u001b[1;32mFalse\u001b[0m\u001b[1;33m,\u001b[0m \u001b[1;33m**\u001b[0m\u001b[0mkwargs\u001b[0m\u001b[1;33m)\u001b[0m\u001b[1;33m:\u001b[0m\u001b[1;33m\u001b[0m\u001b[0m\n",
      "\u001b[0;32mC:\\Users\\jdbr223\\AppData\\Local\\Continuum\\Anaconda3\\lib\\site-packages\\pandas\\core\\generic.py\u001b[0m in \u001b[0;36mwhere\u001b[0;34m(self, cond, other, inplace, axis, level, try_cast, raise_on_error)\u001b[0m\n\u001b[1;32m   4811\u001b[0m         \u001b[0mother\u001b[0m \u001b[1;33m=\u001b[0m \u001b[0mcom\u001b[0m\u001b[1;33m.\u001b[0m\u001b[0m_apply_if_callable\u001b[0m\u001b[1;33m(\u001b[0m\u001b[0mother\u001b[0m\u001b[1;33m,\u001b[0m \u001b[0mself\u001b[0m\u001b[1;33m)\u001b[0m\u001b[1;33m\u001b[0m\u001b[0m\n\u001b[1;32m   4812\u001b[0m         return self._where(cond, other, inplace, axis, level, try_cast,\n\u001b[0;32m-> 4813\u001b[0;31m                            raise_on_error)\n\u001b[0m\u001b[1;32m   4814\u001b[0m \u001b[1;33m\u001b[0m\u001b[0m\n\u001b[1;32m   4815\u001b[0m     @Appender(_shared_docs['where'] % dict(_shared_doc_kwargs, cond=\"False\",\n",
      "\u001b[0;32mC:\\Users\\jdbr223\\AppData\\Local\\Continuum\\Anaconda3\\lib\\site-packages\\pandas\\core\\generic.py\u001b[0m in \u001b[0;36m_where\u001b[0;34m(self, cond, other, inplace, axis, level, try_cast, raise_on_error)\u001b[0m\n\u001b[1;32m   4706\u001b[0m                                         \u001b[0mraise_on_error\u001b[0m\u001b[1;33m=\u001b[0m\u001b[0mraise_on_error\u001b[0m\u001b[1;33m,\u001b[0m\u001b[1;33m\u001b[0m\u001b[0m\n\u001b[1;32m   4707\u001b[0m                                         \u001b[0mtry_cast\u001b[0m\u001b[1;33m=\u001b[0m\u001b[0mtry_cast\u001b[0m\u001b[1;33m,\u001b[0m \u001b[0maxis\u001b[0m\u001b[1;33m=\u001b[0m\u001b[0mblock_axis\u001b[0m\u001b[1;33m,\u001b[0m\u001b[1;33m\u001b[0m\u001b[0m\n\u001b[0;32m-> 4708\u001b[0;31m                                         transpose=self._AXIS_REVERSED)\n\u001b[0m\u001b[1;32m   4709\u001b[0m \u001b[1;33m\u001b[0m\u001b[0m\n\u001b[1;32m   4710\u001b[0m             \u001b[1;32mreturn\u001b[0m \u001b[0mself\u001b[0m\u001b[1;33m.\u001b[0m\u001b[0m_constructor\u001b[0m\u001b[1;33m(\u001b[0m\u001b[0mnew_data\u001b[0m\u001b[1;33m)\u001b[0m\u001b[1;33m.\u001b[0m\u001b[0m__finalize__\u001b[0m\u001b[1;33m(\u001b[0m\u001b[0mself\u001b[0m\u001b[1;33m)\u001b[0m\u001b[1;33m\u001b[0m\u001b[0m\n",
      "\u001b[0;32mC:\\Users\\jdbr223\\AppData\\Local\\Continuum\\Anaconda3\\lib\\site-packages\\pandas\\core\\internals.py\u001b[0m in \u001b[0;36mwhere\u001b[0;34m(self, **kwargs)\u001b[0m\n\u001b[1;32m   3157\u001b[0m \u001b[1;33m\u001b[0m\u001b[0m\n\u001b[1;32m   3158\u001b[0m     \u001b[1;32mdef\u001b[0m \u001b[0mwhere\u001b[0m\u001b[1;33m(\u001b[0m\u001b[0mself\u001b[0m\u001b[1;33m,\u001b[0m \u001b[1;33m**\u001b[0m\u001b[0mkwargs\u001b[0m\u001b[1;33m)\u001b[0m\u001b[1;33m:\u001b[0m\u001b[1;33m\u001b[0m\u001b[0m\n\u001b[0;32m-> 3159\u001b[0;31m         \u001b[1;32mreturn\u001b[0m \u001b[0mself\u001b[0m\u001b[1;33m.\u001b[0m\u001b[0mapply\u001b[0m\u001b[1;33m(\u001b[0m\u001b[1;34m'where'\u001b[0m\u001b[1;33m,\u001b[0m \u001b[1;33m**\u001b[0m\u001b[0mkwargs\u001b[0m\u001b[1;33m)\u001b[0m\u001b[1;33m\u001b[0m\u001b[0m\n\u001b[0m\u001b[1;32m   3160\u001b[0m \u001b[1;33m\u001b[0m\u001b[0m\n\u001b[1;32m   3161\u001b[0m     \u001b[1;32mdef\u001b[0m \u001b[0meval\u001b[0m\u001b[1;33m(\u001b[0m\u001b[0mself\u001b[0m\u001b[1;33m,\u001b[0m \u001b[1;33m**\u001b[0m\u001b[0mkwargs\u001b[0m\u001b[1;33m)\u001b[0m\u001b[1;33m:\u001b[0m\u001b[1;33m\u001b[0m\u001b[0m\n",
      "\u001b[0;32mC:\\Users\\jdbr223\\AppData\\Local\\Continuum\\Anaconda3\\lib\\site-packages\\pandas\\core\\internals.py\u001b[0m in \u001b[0;36mapply\u001b[0;34m(self, f, axes, filter, do_integrity_check, consolidate, **kwargs)\u001b[0m\n\u001b[1;32m   3061\u001b[0m         bm = self.__class__(result_blocks, axes or self.axes,\n\u001b[1;32m   3062\u001b[0m                             do_integrity_check=do_integrity_check)\n\u001b[0;32m-> 3063\u001b[0;31m         \u001b[0mbm\u001b[0m\u001b[1;33m.\u001b[0m\u001b[0m_consolidate_inplace\u001b[0m\u001b[1;33m(\u001b[0m\u001b[1;33m)\u001b[0m\u001b[1;33m\u001b[0m\u001b[0m\n\u001b[0m\u001b[1;32m   3064\u001b[0m         \u001b[1;32mreturn\u001b[0m \u001b[0mbm\u001b[0m\u001b[1;33m\u001b[0m\u001b[0m\n\u001b[1;32m   3065\u001b[0m \u001b[1;33m\u001b[0m\u001b[0m\n",
      "\u001b[0;32mC:\\Users\\jdbr223\\AppData\\Local\\Continuum\\Anaconda3\\lib\\site-packages\\pandas\\core\\internals.py\u001b[0m in \u001b[0;36m_consolidate_inplace\u001b[0;34m(self)\u001b[0m\n\u001b[1;32m   3529\u001b[0m     \u001b[1;32mdef\u001b[0m \u001b[0m_consolidate_inplace\u001b[0m\u001b[1;33m(\u001b[0m\u001b[0mself\u001b[0m\u001b[1;33m)\u001b[0m\u001b[1;33m:\u001b[0m\u001b[1;33m\u001b[0m\u001b[0m\n\u001b[1;32m   3530\u001b[0m         \u001b[1;32mif\u001b[0m \u001b[1;32mnot\u001b[0m \u001b[0mself\u001b[0m\u001b[1;33m.\u001b[0m\u001b[0mis_consolidated\u001b[0m\u001b[1;33m(\u001b[0m\u001b[1;33m)\u001b[0m\u001b[1;33m:\u001b[0m\u001b[1;33m\u001b[0m\u001b[0m\n\u001b[0;32m-> 3531\u001b[0;31m             \u001b[0mself\u001b[0m\u001b[1;33m.\u001b[0m\u001b[0mblocks\u001b[0m \u001b[1;33m=\u001b[0m \u001b[0mtuple\u001b[0m\u001b[1;33m(\u001b[0m\u001b[0m_consolidate\u001b[0m\u001b[1;33m(\u001b[0m\u001b[0mself\u001b[0m\u001b[1;33m.\u001b[0m\u001b[0mblocks\u001b[0m\u001b[1;33m)\u001b[0m\u001b[1;33m)\u001b[0m\u001b[1;33m\u001b[0m\u001b[0m\n\u001b[0m\u001b[1;32m   3532\u001b[0m             \u001b[0mself\u001b[0m\u001b[1;33m.\u001b[0m\u001b[0m_is_consolidated\u001b[0m \u001b[1;33m=\u001b[0m \u001b[1;32mTrue\u001b[0m\u001b[1;33m\u001b[0m\u001b[0m\n\u001b[1;32m   3533\u001b[0m             \u001b[0mself\u001b[0m\u001b[1;33m.\u001b[0m\u001b[0m_known_consolidated\u001b[0m \u001b[1;33m=\u001b[0m \u001b[1;32mTrue\u001b[0m\u001b[1;33m\u001b[0m\u001b[0m\n",
      "\u001b[0;32mC:\\Users\\jdbr223\\AppData\\Local\\Continuum\\Anaconda3\\lib\\site-packages\\pandas\\core\\internals.py\u001b[0m in \u001b[0;36m_consolidate\u001b[0;34m(blocks)\u001b[0m\n\u001b[1;32m   4521\u001b[0m     \u001b[1;32mfor\u001b[0m \u001b[1;33m(\u001b[0m\u001b[0m_can_consolidate\u001b[0m\u001b[1;33m,\u001b[0m \u001b[0mdtype\u001b[0m\u001b[1;33m)\u001b[0m\u001b[1;33m,\u001b[0m \u001b[0mgroup_blocks\u001b[0m \u001b[1;32min\u001b[0m \u001b[0mgrouper\u001b[0m\u001b[1;33m:\u001b[0m\u001b[1;33m\u001b[0m\u001b[0m\n\u001b[1;32m   4522\u001b[0m         merged_blocks = _merge_blocks(list(group_blocks), dtype=dtype,\n\u001b[0;32m-> 4523\u001b[0;31m                                       _can_consolidate=_can_consolidate)\n\u001b[0m\u001b[1;32m   4524\u001b[0m         \u001b[0mnew_blocks\u001b[0m \u001b[1;33m=\u001b[0m \u001b[0m_extend_blocks\u001b[0m\u001b[1;33m(\u001b[0m\u001b[0mmerged_blocks\u001b[0m\u001b[1;33m,\u001b[0m \u001b[0mnew_blocks\u001b[0m\u001b[1;33m)\u001b[0m\u001b[1;33m\u001b[0m\u001b[0m\n\u001b[1;32m   4525\u001b[0m     \u001b[1;32mreturn\u001b[0m \u001b[0mnew_blocks\u001b[0m\u001b[1;33m\u001b[0m\u001b[0m\n",
      "\u001b[0;32mC:\\Users\\jdbr223\\AppData\\Local\\Continuum\\Anaconda3\\lib\\site-packages\\pandas\\core\\internals.py\u001b[0m in \u001b[0;36m_merge_blocks\u001b[0;34m(blocks, dtype, _can_consolidate)\u001b[0m\n\u001b[1;32m   4544\u001b[0m \u001b[1;33m\u001b[0m\u001b[0m\n\u001b[1;32m   4545\u001b[0m         \u001b[0margsort\u001b[0m \u001b[1;33m=\u001b[0m \u001b[0mnp\u001b[0m\u001b[1;33m.\u001b[0m\u001b[0margsort\u001b[0m\u001b[1;33m(\u001b[0m\u001b[0mnew_mgr_locs\u001b[0m\u001b[1;33m)\u001b[0m\u001b[1;33m\u001b[0m\u001b[0m\n\u001b[0;32m-> 4546\u001b[0;31m         \u001b[0mnew_values\u001b[0m \u001b[1;33m=\u001b[0m \u001b[0mnew_values\u001b[0m\u001b[1;33m[\u001b[0m\u001b[0margsort\u001b[0m\u001b[1;33m]\u001b[0m\u001b[1;33m\u001b[0m\u001b[0m\n\u001b[0m\u001b[1;32m   4547\u001b[0m         \u001b[0mnew_mgr_locs\u001b[0m \u001b[1;33m=\u001b[0m \u001b[0mnew_mgr_locs\u001b[0m\u001b[1;33m[\u001b[0m\u001b[0margsort\u001b[0m\u001b[1;33m]\u001b[0m\u001b[1;33m\u001b[0m\u001b[0m\n\u001b[1;32m   4548\u001b[0m \u001b[1;33m\u001b[0m\u001b[0m\n",
      "\u001b[0;31mMemoryError\u001b[0m: "
     ]
    }
   ],
   "source": [
    "#for weekdays all links\n",
    "Wkd = timeframe2(herepath,0,288,True,Weekday)\n",
    "SpeedWd = HEREstatsWd(Wkd)\n",
    "SpeedWd = SpeedWd.drop(['SPDLIMIT'], axis = 1)\n",
    "Wkd = pd.DataFrame()\n",
    "SpeedWd.head()"
   ]
  },
  {
   "cell_type": "code",
   "execution_count": null,
   "metadata": {
    "collapsed": false
   },
   "outputs": [],
   "source": [
    "#for weekends all links\n",
    "Wend = timeframe2(herepath,0,288,True,Weekend)\n",
    "SpeedWend = HEREstatsWend(Wend)\n",
    "SpeedWend = SpeedWend.drop(['SPDLIMIT'], axis = 1)\n",
    "Wend = pd.DataFrame()\n",
    "SpeedWend.head()"
   ]
  },
  {
   "cell_type": "code",
   "execution_count": null,
   "metadata": {
    "collapsed": false
   },
   "outputs": [],
   "source": [
    "#Weekday Between 6AM and 8PM all links\n",
    "Wdtime = timeframe2(herepath,72,240,True,Weekday)\n",
    "SpeedWdtime = HEREstatsWdtime(Wdtime)\n",
    "SpeedWdtime = SpeedWdtime.drop(['SPDLIMIT'], axis = 1)\n",
    "Wdtime = pd.DataFrame()\n",
    "SpeedWdtime.head()"
   ]
  },
  {
   "cell_type": "code",
   "execution_count": null,
   "metadata": {
    "collapsed": false
   },
   "outputs": [],
   "source": [
    "#Stats between 6AM and 9AM all links\n",
    "WdtimeAM = timeframe2(herepath,72,108,True,Weekday)\n",
    "SpeedWdayAM = HEREstatsWdayAM(WdtimeAM)\n",
    "SpeedWdayAM = SpeedWdayAM.drop(['SPDLIMIT'], axis = 1)\n",
    "WdtimeAM = pd.DataFrame()\n",
    "SpeedWdayAM.head()"
   ]
  },
  {
   "cell_type": "code",
   "execution_count": null,
   "metadata": {
    "collapsed": false
   },
   "outputs": [],
   "source": [
    "#Stats between 9AM and 3PM all links\n",
    "WdtimeMD = timeframe2(herepath,108,180,True,Weekday)\n",
    "SpeedWdayMD = HEREstatsWdayMD(WdtimeMD)\n",
    "SpeedWdayMD = SpeedWdayMD.drop(['SPDLIMIT'], axis = 1)\n",
    "WdtimeMD = pd.DataFrame()\n",
    "SpeedWdayMD.head()"
   ]
  },
  {
   "cell_type": "code",
   "execution_count": null,
   "metadata": {
    "collapsed": false
   },
   "outputs": [],
   "source": [
    "#Stats between 3PM and 6PM all links\n",
    "WdtimePM = timeframe2(herepath,180,216,True,Weekday)\n",
    "SpeedWdayPM = HEREstatsWdayPM(WdtimePM)\n",
    "SpeedWdayPM = SpeedWdayPM.drop(['SPDLIMIT'], axis = 1)\n",
    "WdtimePM = pd.DataFrame()\n",
    "SpeedWdayPM.head()"
   ]
  },
  {
   "cell_type": "code",
   "execution_count": null,
   "metadata": {
    "collapsed": false
   },
   "outputs": [],
   "source": [
    "#Calculates AM Indeces for all 365 days for all links\n",
    "AllAM = timeframe2(herepath,72,108,False,Both)\n",
    "HstatsAM = HEREstatsALL(AllAM)\n",
    "IndecesAllAM = IndecesALLAM(HstatsAM)\n",
    "AllAM = pd.DataFrame()\n",
    "IndecesAllAM.head()"
   ]
  },
  {
   "cell_type": "code",
   "execution_count": null,
   "metadata": {
    "collapsed": false
   },
   "outputs": [],
   "source": [
    "#Calculates MD Indeces for all 365 days for all links\n",
    "AllMD = timeframe2(herepath,108,180,False,Both)\n",
    "HstatsMD = HEREstatsALL(AllMD)\n",
    "IndecesAllMD = IndecesALLMD(HstatsMD)\n",
    "AllMD = pd.DataFrame()\n",
    "IndecesAllMD.head()"
   ]
  },
  {
   "cell_type": "code",
   "execution_count": null,
   "metadata": {
    "collapsed": false
   },
   "outputs": [],
   "source": [
    "#Calculates PM Indeces for all 365 days for all links\n",
    "AllPM = timeframe2(herepath,180,216,False,Both)\n",
    "HstatsPM = HEREstatsALL(AllPM)\n",
    "IndecesAllPM = IndecesALLPM(HstatsPM)\n",
    "AllPM = pd.DataFrame()\n",
    "IndecesAllPM.head()"
   ]
  },
  {
   "cell_type": "code",
   "execution_count": null,
   "metadata": {
    "collapsed": false
   },
   "outputs": [],
   "source": [
    "#Calculates weekday non-holiday indeces for AM for all links\n",
    "WdAM = timeframe2(herepath,72,108,True,Weekday)\n",
    "HstatsWdAM = HEREstatsWd(WdAM)\n",
    "IndecesWdayAM = IndecesWdAM(HstatsWdAM)\n",
    "WdAM = pd.DataFrame()\n",
    "IndecesWdayAM.head()"
   ]
  },
  {
   "cell_type": "code",
   "execution_count": null,
   "metadata": {
    "collapsed": false
   },
   "outputs": [],
   "source": [
    "#Calculates weekday non-holiday indeces for MD for all links\n",
    "WdMD = timeframe2(herepath,108,180,True,Weekday)\n",
    "HstatsWdMD = HEREstatsWd(WdMD)\n",
    "IndecesWdayMD = IndecesWdMD(HstatsWdMD)\n",
    "WdMD = pd.DataFrame()\n",
    "IndecesWdayMD.head()"
   ]
  },
  {
   "cell_type": "code",
   "execution_count": null,
   "metadata": {
    "collapsed": false
   },
   "outputs": [],
   "source": [
    "#Calculates weekday non-holiday indeces for PM for all links\n",
    "WdPM = timeframe2(herepath,180,216,True,Weekday)\n",
    "HstatsWdPM = HEREstatsWd(WdPM)\n",
    "IndecesWdayPM = IndecesWdPM(HstatsWdPM)\n",
    "WdPM = pd.DataFrame()\n",
    "IndecesWdayPM.head()"
   ]
  },
  {
   "cell_type": "code",
   "execution_count": null,
   "metadata": {
    "collapsed": false
   },
   "outputs": [],
   "source": [
    "#Calculates daytime indeces for AM for all links\n",
    "WdtimeAM = timeframe2(herepath,72,108,True,Weekday)\n",
    "HstatsWdtimeAM = HEREstatsWdtime(WdtimeAM)\n",
    "IndecesWdtimeAM = IndecesWDtimeAM(HstatsWdtimeAM)\n",
    "WdtimeAM = pd.DataFrame()\n",
    "IndecesWdtimeAM.head()"
   ]
  },
  {
   "cell_type": "code",
   "execution_count": null,
   "metadata": {
    "collapsed": false
   },
   "outputs": [],
   "source": [
    "#Calculates daytime indeces for MD for all links\n",
    "WdtimeMD = timeframe2(herepath,108,180,True,Weekday)\n",
    "HstatsWdtimeMD = HEREstatsWdtime(WdtimeMD)\n",
    "IndecesWdtimeMD = IndecesWDtimeMD(HstatsWdtimeMD)\n",
    "WdtimeMD = pd.DataFrame()\n",
    "IndecesWdtimeMD.head()"
   ]
  },
  {
   "cell_type": "code",
   "execution_count": null,
   "metadata": {
    "collapsed": false
   },
   "outputs": [],
   "source": [
    "#Calculates daytime indeces for PM for all links\n",
    "WdtimePM = timeframe2(herepath,180,216,True,Weekday)\n",
    "HstatsWdtimePM = HEREstatsWdtime(WdtimePM)\n",
    "IndecesWdtimePM = IndecesWDtimePM(HstatsWdtimePM)\n",
    "WdtimePM = pd.DataFrame()\n",
    "IndecesWdtimePM.head()"
   ]
  },
  {
   "cell_type": "code",
   "execution_count": null,
   "metadata": {
    "collapsed": true
   },
   "outputs": [],
   "source": [
    "master = bylink"
   ]
  },
  {
   "cell_type": "code",
   "execution_count": null,
   "metadata": {
    "collapsed": false
   },
   "outputs": [],
   "source": [
    "master = pd.merge(master, SpeedWd, left_index = True, right_index = True)\n",
    "SpeedWd = pd.DataFrame()\n",
    "master.head()"
   ]
  },
  {
   "cell_type": "code",
   "execution_count": null,
   "metadata": {
    "collapsed": false
   },
   "outputs": [],
   "source": [
    "master = pd.merge(master, SpeedWend, left_index = True, right_index = True)\n",
    "SpeedWend = pd.DataFrame()\n",
    "master.head()"
   ]
  },
  {
   "cell_type": "code",
   "execution_count": null,
   "metadata": {
    "collapsed": false
   },
   "outputs": [],
   "source": [
    "master = pd.merge(master, SpeedWdtime, left_index = True, right_index = True)\n",
    "SpeedWdtime = pd.DataFrame()\n",
    "master.head()"
   ]
  },
  {
   "cell_type": "code",
   "execution_count": null,
   "metadata": {
    "collapsed": false
   },
   "outputs": [],
   "source": [
    "master = pd.merge(master, SpeedWdayAM, left_index = True, right_index = True)\n",
    "SpeedWdayAM = pd.DataFrame()\n",
    "master.head()"
   ]
  },
  {
   "cell_type": "code",
   "execution_count": null,
   "metadata": {
    "collapsed": false
   },
   "outputs": [],
   "source": [
    "master = pd.merge(master, SpeedWdayMD, left_index = True, right_index = True)\n",
    "SpeedWdayMD = pd.DataFrame()\n",
    "master.head()"
   ]
  },
  {
   "cell_type": "code",
   "execution_count": null,
   "metadata": {
    "collapsed": false
   },
   "outputs": [],
   "source": [
    "master = pd.merge(master, SpeedWdayPM, left_index = True, right_index = True)\n",
    "SpeedWdayPM = pd.DataFrame()\n",
    "master.head()"
   ]
  },
  {
   "cell_type": "code",
   "execution_count": null,
   "metadata": {
    "collapsed": false
   },
   "outputs": [],
   "source": [
    "master = pd.merge(master, IndecesAllAM, left_index = True, right_index = True)\n",
    "IndecesAllAM = pd.DataFrame()\n",
    "master.head()"
   ]
  },
  {
   "cell_type": "code",
   "execution_count": null,
   "metadata": {
    "collapsed": false
   },
   "outputs": [],
   "source": [
    "master = pd.merge(master, IndecesAllMD, left_index = True, right_index = True)\n",
    "IndecesAllMD = pd.DataFrame()\n",
    "master.head()"
   ]
  },
  {
   "cell_type": "code",
   "execution_count": null,
   "metadata": {
    "collapsed": false
   },
   "outputs": [],
   "source": [
    "master = pd.merge(master, IndecesAllPM, left_index = True, right_index = True)\n",
    "IndecesAllPM = pd.DataFrame()\n",
    "master.head()"
   ]
  },
  {
   "cell_type": "code",
   "execution_count": null,
   "metadata": {
    "collapsed": false
   },
   "outputs": [],
   "source": [
    "master = pd.merge(master, IndecesWdayAM, left_index = True, right_index = True)\n",
    "IndecesWdayAM = pd.DataFrame()\n",
    "master.head()"
   ]
  },
  {
   "cell_type": "code",
   "execution_count": null,
   "metadata": {
    "collapsed": false
   },
   "outputs": [],
   "source": [
    "master = pd.merge(master, IndecesWdayMD, left_index = True, right_index = True)\n",
    "IndecesWdayMD = pd.DataFrame()\n",
    "master.head()"
   ]
  },
  {
   "cell_type": "code",
   "execution_count": null,
   "metadata": {
    "collapsed": false
   },
   "outputs": [],
   "source": [
    "master = pd.merge(master, IndecesWdayPM, left_index = True, right_index = True)\n",
    "IndecesWdayPM = pd.DataFrame()\n",
    "master.head()"
   ]
  },
  {
   "cell_type": "code",
   "execution_count": null,
   "metadata": {
    "collapsed": false
   },
   "outputs": [],
   "source": [
    "master = pd.merge(master, IndecesWdtimeAM, left_index = True, right_index = True)\n",
    "IndecesWdtimeAM = pd.DataFrame()\n",
    "master.head()"
   ]
  },
  {
   "cell_type": "code",
   "execution_count": null,
   "metadata": {
    "collapsed": false
   },
   "outputs": [],
   "source": [
    "master = pd.merge(master, IndecesWdtimeMD, left_index = True, right_index = True)\n",
    "IndecesWdtimeMD = pd.DataFrame()\n",
    "master.head()"
   ]
  },
  {
   "cell_type": "code",
   "execution_count": null,
   "metadata": {
    "collapsed": false
   },
   "outputs": [],
   "source": [
    "master = pd.merge(master, IndecesWdtimePM, left_index = True, right_index = True)\n",
    "IndecesWdtimePM = pd.DataFrame()\n",
    "master"
   ]
  },
  {
   "cell_type": "code",
   "execution_count": null,
   "metadata": {
    "collapsed": true
   },
   "outputs": [],
   "source": [
    "master.to_csv('HEREstatsWMEAN.csv')"
   ]
  },
  {
   "cell_type": "code",
   "execution_count": null,
   "metadata": {
    "collapsed": true
   },
   "outputs": [],
   "source": []
  },
  {
   "cell_type": "code",
   "execution_count": null,
   "metadata": {
    "collapsed": true
   },
   "outputs": [],
   "source": []
  },
  {
   "cell_type": "code",
   "execution_count": null,
   "metadata": {
    "collapsed": true
   },
   "outputs": [],
   "source": []
  },
  {
   "cell_type": "code",
   "execution_count": null,
   "metadata": {
    "collapsed": true
   },
   "outputs": [],
   "source": []
  }
 ],
 "metadata": {
  "anaconda-cloud": {},
  "kernelspec": {
   "display_name": "Python [default]",
   "language": "python",
   "name": "python3"
  },
  "language_info": {
   "codemirror_mode": {
    "name": "ipython",
    "version": 3
   },
   "file_extension": ".py",
   "mimetype": "text/x-python",
   "name": "python",
   "nbconvert_exporter": "python",
   "pygments_lexer": "ipython3",
   "version": "3.5.2"
  }
 },
 "nbformat": 4,
 "nbformat_minor": 1
}
