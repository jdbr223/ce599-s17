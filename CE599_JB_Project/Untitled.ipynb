{
 "cells": [
  {
   "cell_type": "markdown",
   "metadata": {},
   "source": [
    "This is a collection of data that will be used for Jacob Brashear's CE 599 Final project."
   ]
  },
  {
   "cell_type": "code",
   "execution_count": 36,
   "metadata": {
    "collapsed": true
   },
   "outputs": [],
   "source": [
    "# magic command to display matplotlib plots inline within the ipython notebook webpage\n",
    "%matplotlib inline\n",
    "\n",
    "# import necessary modules\n",
    "import pandas as pd, numpy as np, matplotlib.pyplot as plt\n",
    "import matplotlib.cm as cm, matplotlib.font_manager as fm\n",
    "import datetime"
   ]
  },
  {
   "cell_type": "code",
   "execution_count": 7,
   "metadata": {
    "collapsed": false
   },
   "outputs": [
    {
     "data": {
      "text/html": [
       "<div>\n",
       "<table border=\"1\" class=\"dataframe\">\n",
       "  <thead>\n",
       "    <tr style=\"text-align: right;\">\n",
       "      <th></th>\n",
       "      <th>LINK_DIR</th>\n",
       "      <th>DATE_TIME</th>\n",
       "      <th>EPOCH_5MIN</th>\n",
       "      <th>LENGTH</th>\n",
       "      <th>MEAN</th>\n",
       "      <th>STDDEV</th>\n",
       "      <th>CONFIDENCE</th>\n",
       "    </tr>\n",
       "  </thead>\n",
       "  <tbody>\n",
       "    <tr>\n",
       "      <th>0</th>\n",
       "      <td>998969850F</td>\n",
       "      <td>2014-01-01 13:55</td>\n",
       "      <td>167</td>\n",
       "      <td>186</td>\n",
       "      <td>61.0</td>\n",
       "      <td>0.0</td>\n",
       "      <td>10</td>\n",
       "    </tr>\n",
       "    <tr>\n",
       "      <th>1</th>\n",
       "      <td>998969850F</td>\n",
       "      <td>2014-01-02 11:05</td>\n",
       "      <td>133</td>\n",
       "      <td>186</td>\n",
       "      <td>60.0</td>\n",
       "      <td>0.0</td>\n",
       "      <td>10</td>\n",
       "    </tr>\n",
       "    <tr>\n",
       "      <th>2</th>\n",
       "      <td>998969850F</td>\n",
       "      <td>2014-01-02 13:20</td>\n",
       "      <td>160</td>\n",
       "      <td>186</td>\n",
       "      <td>61.0</td>\n",
       "      <td>0.0</td>\n",
       "      <td>10</td>\n",
       "    </tr>\n",
       "    <tr>\n",
       "      <th>3</th>\n",
       "      <td>998969850F</td>\n",
       "      <td>2014-01-02 14:30</td>\n",
       "      <td>174</td>\n",
       "      <td>186</td>\n",
       "      <td>52.0</td>\n",
       "      <td>0.0</td>\n",
       "      <td>10</td>\n",
       "    </tr>\n",
       "    <tr>\n",
       "      <th>4</th>\n",
       "      <td>998969850F</td>\n",
       "      <td>2014-01-03 09:05</td>\n",
       "      <td>109</td>\n",
       "      <td>186</td>\n",
       "      <td>57.0</td>\n",
       "      <td>0.0</td>\n",
       "      <td>10</td>\n",
       "    </tr>\n",
       "  </tbody>\n",
       "</table>\n",
       "</div>"
      ],
      "text/plain": [
       "     LINK_DIR         DATE_TIME  EPOCH_5MIN  LENGTH  MEAN  STDDEV  CONFIDENCE\n",
       "0  998969850F  2014-01-01 13:55         167     186  61.0     0.0          10\n",
       "1  998969850F  2014-01-02 11:05         133     186  60.0     0.0          10\n",
       "2  998969850F  2014-01-02 13:20         160     186  61.0     0.0          10\n",
       "3  998969850F  2014-01-02 14:30         174     186  52.0     0.0          10\n",
       "4  998969850F  2014-01-03 09:05         109     186  57.0     0.0          10"
      ]
     },
     "execution_count": 7,
     "metadata": {},
     "output_type": "execute_result"
    }
   ],
   "source": [
    "herepath = pd.read_csv('data/MOW_Path_Speed_5Min_2014.csv', encoding='utf-8')\n",
    "herepath.head()"
   ]
  },
  {
   "cell_type": "code",
   "execution_count": 3,
   "metadata": {
    "collapsed": false
   },
   "outputs": [
    {
     "data": {
      "text/html": [
       "<div>\n",
       "<table border=\"1\" class=\"dataframe\">\n",
       "  <thead>\n",
       "    <tr style=\"text-align: right;\">\n",
       "      <th></th>\n",
       "      <th>LINK_DIR</th>\n",
       "      <th>DATE_TIME</th>\n",
       "      <th>EPOCH_5MIN</th>\n",
       "      <th>LENGTH</th>\n",
       "      <th>MEAN</th>\n",
       "      <th>STDDEV</th>\n",
       "      <th>CONFIDENCE</th>\n",
       "    </tr>\n",
       "  </thead>\n",
       "  <tbody>\n",
       "    <tr>\n",
       "      <th>0</th>\n",
       "      <td>998969850F</td>\n",
       "      <td>2014-01-01 13:55</td>\n",
       "      <td>167</td>\n",
       "      <td>186</td>\n",
       "      <td>45.5</td>\n",
       "      <td>24.7</td>\n",
       "      <td>20</td>\n",
       "    </tr>\n",
       "    <tr>\n",
       "      <th>1</th>\n",
       "      <td>998969850F</td>\n",
       "      <td>2014-01-03 10:20</td>\n",
       "      <td>124</td>\n",
       "      <td>186</td>\n",
       "      <td>64.0</td>\n",
       "      <td>0.0</td>\n",
       "      <td>10</td>\n",
       "    </tr>\n",
       "    <tr>\n",
       "      <th>2</th>\n",
       "      <td>998969850F</td>\n",
       "      <td>2014-01-04 12:50</td>\n",
       "      <td>154</td>\n",
       "      <td>186</td>\n",
       "      <td>27.0</td>\n",
       "      <td>0.0</td>\n",
       "      <td>10</td>\n",
       "    </tr>\n",
       "    <tr>\n",
       "      <th>3</th>\n",
       "      <td>998969850F</td>\n",
       "      <td>2014-01-05 17:45</td>\n",
       "      <td>213</td>\n",
       "      <td>186</td>\n",
       "      <td>45.0</td>\n",
       "      <td>0.0</td>\n",
       "      <td>10</td>\n",
       "    </tr>\n",
       "    <tr>\n",
       "      <th>4</th>\n",
       "      <td>998969850F</td>\n",
       "      <td>2014-01-07 05:35</td>\n",
       "      <td>67</td>\n",
       "      <td>186</td>\n",
       "      <td>6.0</td>\n",
       "      <td>0.0</td>\n",
       "      <td>10</td>\n",
       "    </tr>\n",
       "  </tbody>\n",
       "</table>\n",
       "</div>"
      ],
      "text/plain": [
       "     LINK_DIR         DATE_TIME  EPOCH_5MIN  LENGTH  MEAN  STDDEV  CONFIDENCE\n",
       "0  998969850F  2014-01-01 13:55         167     186  45.5    24.7          20\n",
       "1  998969850F  2014-01-03 10:20         124     186  64.0     0.0          10\n",
       "2  998969850F  2014-01-04 12:50         154     186  27.0     0.0          10\n",
       "3  998969850F  2014-01-05 17:45         213     186  45.0     0.0          10\n",
       "4  998969850F  2014-01-07 05:35          67     186   6.0     0.0          10"
      ]
     },
     "execution_count": 3,
     "metadata": {},
     "output_type": "execute_result"
    }
   ],
   "source": [
    "herepoint = pd.read_csv('data/MOW_Point_Speed_5Min_2014.csv', encoding='utf-8')\n",
    "herepoint.head()"
   ]
  },
  {
   "cell_type": "code",
   "execution_count": 4,
   "metadata": {
    "collapsed": false
   },
   "outputs": [
    {
     "data": {
      "text/plain": [
       "55.79948631030294"
      ]
     },
     "execution_count": 4,
     "metadata": {},
     "output_type": "execute_result"
    }
   ],
   "source": [
    "herepoint['MEAN'].mean()"
   ]
  },
  {
   "cell_type": "code",
   "execution_count": 5,
   "metadata": {
    "collapsed": false
   },
   "outputs": [
    {
     "data": {
      "text/plain": [
       "55.407253254036526"
      ]
     },
     "execution_count": 5,
     "metadata": {},
     "output_type": "execute_result"
    }
   ],
   "source": [
    "herepath['MEAN'].mean()"
   ]
  },
  {
   "cell_type": "code",
   "execution_count": 15,
   "metadata": {
    "collapsed": false
   },
   "outputs": [
    {
     "data": {
      "text/html": [
       "<div>\n",
       "<table border=\"1\" class=\"dataframe\">\n",
       "  <thead>\n",
       "    <tr style=\"text-align: right;\">\n",
       "      <th></th>\n",
       "      <th>LINK_DIR</th>\n",
       "      <th>DATE_TIME</th>\n",
       "      <th>EPOCH_5MIN</th>\n",
       "      <th>LENGTH</th>\n",
       "      <th>MEAN</th>\n",
       "      <th>STDDEV</th>\n",
       "      <th>CONFIDENCE</th>\n",
       "    </tr>\n",
       "  </thead>\n",
       "  <tbody>\n",
       "    <tr>\n",
       "      <th>0</th>\n",
       "      <td>998969850F</td>\n",
       "      <td>2014-01-01 13:55</td>\n",
       "      <td>167</td>\n",
       "      <td>186</td>\n",
       "      <td>61.0</td>\n",
       "      <td>0.0</td>\n",
       "      <td>10</td>\n",
       "    </tr>\n",
       "    <tr>\n",
       "      <th>1</th>\n",
       "      <td>998969850F</td>\n",
       "      <td>2014-01-02 11:05</td>\n",
       "      <td>133</td>\n",
       "      <td>186</td>\n",
       "      <td>60.0</td>\n",
       "      <td>0.0</td>\n",
       "      <td>10</td>\n",
       "    </tr>\n",
       "    <tr>\n",
       "      <th>2</th>\n",
       "      <td>998969850F</td>\n",
       "      <td>2014-01-02 13:20</td>\n",
       "      <td>160</td>\n",
       "      <td>186</td>\n",
       "      <td>61.0</td>\n",
       "      <td>0.0</td>\n",
       "      <td>10</td>\n",
       "    </tr>\n",
       "    <tr>\n",
       "      <th>3</th>\n",
       "      <td>998969850F</td>\n",
       "      <td>2014-01-02 14:30</td>\n",
       "      <td>174</td>\n",
       "      <td>186</td>\n",
       "      <td>52.0</td>\n",
       "      <td>0.0</td>\n",
       "      <td>10</td>\n",
       "    </tr>\n",
       "    <tr>\n",
       "      <th>4</th>\n",
       "      <td>998969850F</td>\n",
       "      <td>2014-01-03 09:05</td>\n",
       "      <td>109</td>\n",
       "      <td>186</td>\n",
       "      <td>57.0</td>\n",
       "      <td>0.0</td>\n",
       "      <td>10</td>\n",
       "    </tr>\n",
       "  </tbody>\n",
       "</table>\n",
       "</div>"
      ],
      "text/plain": [
       "     LINK_DIR         DATE_TIME  EPOCH_5MIN  LENGTH  MEAN  STDDEV  CONFIDENCE\n",
       "0  998969850F  2014-01-01 13:55         167     186  61.0     0.0          10\n",
       "1  998969850F  2014-01-02 11:05         133     186  60.0     0.0          10\n",
       "2  998969850F  2014-01-02 13:20         160     186  61.0     0.0          10\n",
       "3  998969850F  2014-01-02 14:30         174     186  52.0     0.0          10\n",
       "4  998969850F  2014-01-03 09:05         109     186  57.0     0.0          10"
      ]
     },
     "execution_count": 15,
     "metadata": {},
     "output_type": "execute_result"
    }
   ],
   "source": [
    "hereslink = herepath[herepath['LINK_DIR']=='998969850F']\n",
    "hereslink.head()"
   ]
  },
  {
   "cell_type": "code",
   "execution_count": 16,
   "metadata": {
    "collapsed": false
   },
   "outputs": [
    {
     "name": "stderr",
     "output_type": "stream",
     "text": [
      "C:\\Users\\jdbr223\\AppData\\Local\\Continuum\\Anaconda3\\lib\\site-packages\\ipykernel\\__main__.py:1: SettingWithCopyWarning: \n",
      "A value is trying to be set on a copy of a slice from a DataFrame.\n",
      "Try using .loc[row_indexer,col_indexer] = value instead\n",
      "\n",
      "See the caveats in the documentation: http://pandas.pydata.org/pandas-docs/stable/indexing.html#indexing-view-versus-copy\n",
      "  if __name__ == '__main__':\n"
     ]
    },
    {
     "data": {
      "text/html": [
       "<div>\n",
       "<table border=\"1\" class=\"dataframe\">\n",
       "  <thead>\n",
       "    <tr style=\"text-align: right;\">\n",
       "      <th></th>\n",
       "      <th>LINK_DIR</th>\n",
       "      <th>DATE_TIME</th>\n",
       "      <th>EPOCH_5MIN</th>\n",
       "      <th>LENGTH</th>\n",
       "      <th>MEAN</th>\n",
       "      <th>STDDEV</th>\n",
       "      <th>CONFIDENCE</th>\n",
       "      <th>date</th>\n",
       "    </tr>\n",
       "  </thead>\n",
       "  <tbody>\n",
       "    <tr>\n",
       "      <th>0</th>\n",
       "      <td>998969850F</td>\n",
       "      <td>2014-01-01 13:55</td>\n",
       "      <td>167</td>\n",
       "      <td>186</td>\n",
       "      <td>61.0</td>\n",
       "      <td>0.0</td>\n",
       "      <td>10</td>\n",
       "      <td>2014-01-01</td>\n",
       "    </tr>\n",
       "    <tr>\n",
       "      <th>1</th>\n",
       "      <td>998969850F</td>\n",
       "      <td>2014-01-02 11:05</td>\n",
       "      <td>133</td>\n",
       "      <td>186</td>\n",
       "      <td>60.0</td>\n",
       "      <td>0.0</td>\n",
       "      <td>10</td>\n",
       "      <td>2014-01-02</td>\n",
       "    </tr>\n",
       "    <tr>\n",
       "      <th>2</th>\n",
       "      <td>998969850F</td>\n",
       "      <td>2014-01-02 13:20</td>\n",
       "      <td>160</td>\n",
       "      <td>186</td>\n",
       "      <td>61.0</td>\n",
       "      <td>0.0</td>\n",
       "      <td>10</td>\n",
       "      <td>2014-01-02</td>\n",
       "    </tr>\n",
       "    <tr>\n",
       "      <th>3</th>\n",
       "      <td>998969850F</td>\n",
       "      <td>2014-01-02 14:30</td>\n",
       "      <td>174</td>\n",
       "      <td>186</td>\n",
       "      <td>52.0</td>\n",
       "      <td>0.0</td>\n",
       "      <td>10</td>\n",
       "      <td>2014-01-02</td>\n",
       "    </tr>\n",
       "    <tr>\n",
       "      <th>4</th>\n",
       "      <td>998969850F</td>\n",
       "      <td>2014-01-03 09:05</td>\n",
       "      <td>109</td>\n",
       "      <td>186</td>\n",
       "      <td>57.0</td>\n",
       "      <td>0.0</td>\n",
       "      <td>10</td>\n",
       "      <td>2014-01-03</td>\n",
       "    </tr>\n",
       "  </tbody>\n",
       "</table>\n",
       "</div>"
      ],
      "text/plain": [
       "     LINK_DIR         DATE_TIME  EPOCH_5MIN  LENGTH  MEAN  STDDEV  CONFIDENCE  \\\n",
       "0  998969850F  2014-01-01 13:55         167     186  61.0     0.0          10   \n",
       "1  998969850F  2014-01-02 11:05         133     186  60.0     0.0          10   \n",
       "2  998969850F  2014-01-02 13:20         160     186  61.0     0.0          10   \n",
       "3  998969850F  2014-01-02 14:30         174     186  52.0     0.0          10   \n",
       "4  998969850F  2014-01-03 09:05         109     186  57.0     0.0          10   \n",
       "\n",
       "         date  \n",
       "0  2014-01-01  \n",
       "1  2014-01-02  \n",
       "2  2014-01-02  \n",
       "3  2014-01-02  \n",
       "4  2014-01-03  "
      ]
     },
     "execution_count": 16,
     "metadata": {},
     "output_type": "execute_result"
    }
   ],
   "source": [
    "hereslink['date'] = hereslink['DATE_TIME'].str.split(' ').str[0]\n",
    "hereslink[:5]"
   ]
  },
  {
   "cell_type": "code",
   "execution_count": 17,
   "metadata": {
    "collapsed": false
   },
   "outputs": [
    {
     "name": "stderr",
     "output_type": "stream",
     "text": [
      "C:\\Users\\jdbr223\\AppData\\Local\\Continuum\\Anaconda3\\lib\\site-packages\\ipykernel\\__main__.py:1: SettingWithCopyWarning: \n",
      "A value is trying to be set on a copy of a slice from a DataFrame.\n",
      "Try using .loc[row_indexer,col_indexer] = value instead\n",
      "\n",
      "See the caveats in the documentation: http://pandas.pydata.org/pandas-docs/stable/indexing.html#indexing-view-versus-copy\n",
      "  if __name__ == '__main__':\n"
     ]
    },
    {
     "data": {
      "text/html": [
       "<div>\n",
       "<table border=\"1\" class=\"dataframe\">\n",
       "  <thead>\n",
       "    <tr style=\"text-align: right;\">\n",
       "      <th></th>\n",
       "      <th>LINK_DIR</th>\n",
       "      <th>DATE_TIME</th>\n",
       "      <th>EPOCH_5MIN</th>\n",
       "      <th>LENGTH</th>\n",
       "      <th>MEAN</th>\n",
       "      <th>STDDEV</th>\n",
       "      <th>CONFIDENCE</th>\n",
       "      <th>date</th>\n",
       "      <th>time</th>\n",
       "    </tr>\n",
       "  </thead>\n",
       "  <tbody>\n",
       "    <tr>\n",
       "      <th>0</th>\n",
       "      <td>998969850F</td>\n",
       "      <td>2014-01-01 13:55</td>\n",
       "      <td>167</td>\n",
       "      <td>186</td>\n",
       "      <td>61.0</td>\n",
       "      <td>0.0</td>\n",
       "      <td>10</td>\n",
       "      <td>2014-01-01</td>\n",
       "      <td>13:55</td>\n",
       "    </tr>\n",
       "    <tr>\n",
       "      <th>1</th>\n",
       "      <td>998969850F</td>\n",
       "      <td>2014-01-02 11:05</td>\n",
       "      <td>133</td>\n",
       "      <td>186</td>\n",
       "      <td>60.0</td>\n",
       "      <td>0.0</td>\n",
       "      <td>10</td>\n",
       "      <td>2014-01-02</td>\n",
       "      <td>11:05</td>\n",
       "    </tr>\n",
       "    <tr>\n",
       "      <th>2</th>\n",
       "      <td>998969850F</td>\n",
       "      <td>2014-01-02 13:20</td>\n",
       "      <td>160</td>\n",
       "      <td>186</td>\n",
       "      <td>61.0</td>\n",
       "      <td>0.0</td>\n",
       "      <td>10</td>\n",
       "      <td>2014-01-02</td>\n",
       "      <td>13:20</td>\n",
       "    </tr>\n",
       "    <tr>\n",
       "      <th>3</th>\n",
       "      <td>998969850F</td>\n",
       "      <td>2014-01-02 14:30</td>\n",
       "      <td>174</td>\n",
       "      <td>186</td>\n",
       "      <td>52.0</td>\n",
       "      <td>0.0</td>\n",
       "      <td>10</td>\n",
       "      <td>2014-01-02</td>\n",
       "      <td>14:30</td>\n",
       "    </tr>\n",
       "    <tr>\n",
       "      <th>4</th>\n",
       "      <td>998969850F</td>\n",
       "      <td>2014-01-03 09:05</td>\n",
       "      <td>109</td>\n",
       "      <td>186</td>\n",
       "      <td>57.0</td>\n",
       "      <td>0.0</td>\n",
       "      <td>10</td>\n",
       "      <td>2014-01-03</td>\n",
       "      <td>09:05</td>\n",
       "    </tr>\n",
       "  </tbody>\n",
       "</table>\n",
       "</div>"
      ],
      "text/plain": [
       "     LINK_DIR         DATE_TIME  EPOCH_5MIN  LENGTH  MEAN  STDDEV  CONFIDENCE  \\\n",
       "0  998969850F  2014-01-01 13:55         167     186  61.0     0.0          10   \n",
       "1  998969850F  2014-01-02 11:05         133     186  60.0     0.0          10   \n",
       "2  998969850F  2014-01-02 13:20         160     186  61.0     0.0          10   \n",
       "3  998969850F  2014-01-02 14:30         174     186  52.0     0.0          10   \n",
       "4  998969850F  2014-01-03 09:05         109     186  57.0     0.0          10   \n",
       "\n",
       "         date   time  \n",
       "0  2014-01-01  13:55  \n",
       "1  2014-01-02  11:05  \n",
       "2  2014-01-02  13:20  \n",
       "3  2014-01-02  14:30  \n",
       "4  2014-01-03  09:05  "
      ]
     },
     "execution_count": 17,
     "metadata": {},
     "output_type": "execute_result"
    }
   ],
   "source": [
    "hereslink['time'] = hereslink['DATE_TIME'].str.split(' ').str[1]\n",
    "hereslink[:5]"
   ]
  },
  {
   "cell_type": "code",
   "execution_count": 20,
   "metadata": {
    "collapsed": true
   },
   "outputs": [],
   "source": [
    "datetime.datetime.strptime?"
   ]
  },
  {
   "cell_type": "code",
   "execution_count": null,
   "metadata": {
    "collapsed": true
   },
   "outputs": [],
   "source": [
    "#I want to filter by weekday, so I want to take the dates and Identify what day of the week they fall on.\n",
    "#Then, I want to use the Epoch data to filter by time (easier to do if you know what epoch corresponds to what time).\n",
    "#Finally, I want to run means on the dataframe after filtering data.\n",
    "#Of course, the next step will be automation and the flexibility in picking the data I want."
   ]
  },
  {
   "cell_type": "code",
   "execution_count": 46,
   "metadata": {
    "collapsed": false
   },
   "outputs": [
    {
     "ename": "TypeError",
     "evalue": "cannot convert the series to <class 'int'>",
     "output_type": "error",
     "traceback": [
      "\u001b[0;31m---------------------------------------------------------------------------\u001b[0m",
      "\u001b[0;31mTypeError\u001b[0m                                 Traceback (most recent call last)",
      "\u001b[0;32m<ipython-input-46-38abf99590f1>\u001b[0m in \u001b[0;36m<module>\u001b[0;34m()\u001b[0m\n\u001b[0;32m----> 1\u001b[0;31m \u001b[0mhereslink\u001b[0m\u001b[1;33m[\u001b[0m\u001b[1;34m'DATE_TIME'\u001b[0m\u001b[1;33m]\u001b[0m \u001b[1;33m=\u001b[0m \u001b[0mpd\u001b[0m\u001b[1;33m.\u001b[0m\u001b[0mdatetime\u001b[0m\u001b[1;33m(\u001b[0m\u001b[0mhereslink\u001b[0m\u001b[1;33m[\u001b[0m\u001b[1;34m'DATE_TIME'\u001b[0m\u001b[1;33m]\u001b[0m\u001b[1;33m)\u001b[0m\u001b[1;33m\u001b[0m\u001b[0m\n\u001b[0m",
      "\u001b[0;32mC:\\Users\\jdbr223\\AppData\\Local\\Continuum\\Anaconda3\\lib\\site-packages\\pandas\\core\\series.py\u001b[0m in \u001b[0;36mwrapper\u001b[0;34m(self)\u001b[0m\n\u001b[1;32m     76\u001b[0m             \u001b[1;32mreturn\u001b[0m \u001b[0mconverter\u001b[0m\u001b[1;33m(\u001b[0m\u001b[0mself\u001b[0m\u001b[1;33m.\u001b[0m\u001b[0miloc\u001b[0m\u001b[1;33m[\u001b[0m\u001b[1;36m0\u001b[0m\u001b[1;33m]\u001b[0m\u001b[1;33m)\u001b[0m\u001b[1;33m\u001b[0m\u001b[0m\n\u001b[1;32m     77\u001b[0m         raise TypeError(\"cannot convert the series to \"\n\u001b[0;32m---> 78\u001b[0;31m                         \"{0}\".format(str(converter)))\n\u001b[0m\u001b[1;32m     79\u001b[0m \u001b[1;33m\u001b[0m\u001b[0m\n\u001b[1;32m     80\u001b[0m     \u001b[1;32mreturn\u001b[0m \u001b[0mwrapper\u001b[0m\u001b[1;33m\u001b[0m\u001b[0m\n",
      "\u001b[0;31mTypeError\u001b[0m: cannot convert the series to <class 'int'>"
     ]
    }
   ],
   "source": [
    "hereslink['DATE_TIME'] = pd.datetime(hereslink['DATE_TIME'])"
   ]
  },
  {
   "cell_type": "code",
   "execution_count": 35,
   "metadata": {
    "collapsed": false
   },
   "outputs": [
    {
     "name": "stdout",
     "output_type": "stream",
     "text": [
      "Object `pd.index.weekday` not found.\n"
     ]
    }
   ],
   "source": []
  },
  {
   "cell_type": "code",
   "execution_count": null,
   "metadata": {
    "collapsed": true
   },
   "outputs": [],
   "source": []
  }
 ],
 "metadata": {
  "anaconda-cloud": {},
  "kernelspec": {
   "display_name": "Python [conda root]",
   "language": "python",
   "name": "conda-root-py"
  },
  "language_info": {
   "codemirror_mode": {
    "name": "ipython",
    "version": 3
   },
   "file_extension": ".py",
   "mimetype": "text/x-python",
   "name": "python",
   "nbconvert_exporter": "python",
   "pygments_lexer": "ipython3",
   "version": "3.5.2"
  }
 },
 "nbformat": 4,
 "nbformat_minor": 1
}
